{
  "nbformat": 4,
  "nbformat_minor": 0,
  "metadata": {
    "colab": {
      "provenance": []
    },
    "kernelspec": {
      "name": "python3",
      "display_name": "Python 3"
    },
    "language_info": {
      "name": "python"
    }
  },
  "cells": [
    {
      "cell_type": "code",
      "execution_count": 1,
      "metadata": {
        "colab": {
          "base_uri": "https://localhost:8080/"
        },
        "id": "rYEjfzdw9u2r",
        "outputId": "ec62d2ff-342d-4b29-f492-9b71a38dc149"
      },
      "outputs": [
        {
          "output_type": "stream",
          "name": "stdout",
          "text": [
            "Requirement already satisfied: pyspark in /usr/local/lib/python3.11/dist-packages (3.5.5)\n",
            "Requirement already satisfied: py4j==0.10.9.7 in /usr/local/lib/python3.11/dist-packages (from pyspark) (0.10.9.7)\n"
          ]
        }
      ],
      "source": [
        "! pip install pyspark"
      ]
    },
    {
      "cell_type": "code",
      "source": [
        "import pyspark\n",
        "from pyspark.sql import SparkSession\n",
        "from pyspark.sql.functions import col\n",
        "from pyspark.ml.feature import VectorAssembler, MinMaxScaler, PCA\n",
        "from pyspark.ml.clustering import KMeans\n",
        "from pyspark.ml.classification import DecisionTreeClassifier\n",
        "from pyspark.ml.evaluation import ClusteringEvaluator"
      ],
      "metadata": {
        "id": "xz0Z-Ypk93cY"
      },
      "execution_count": 3,
      "outputs": []
    },
    {
      "cell_type": "code",
      "source": [
        "# conectado ao drive através da interface gráfica\n",
        "'''\n",
        "from google.colab import drive\n",
        "drive.mount('/content/drive')\n",
        "'''"
      ],
      "metadata": {
        "id": "Gdqb2EMZ-gqH"
      },
      "execution_count": null,
      "outputs": []
    },
    {
      "cell_type": "code",
      "source": [
        "spark = SparkSession.builder.getOrCreate()"
      ],
      "metadata": {
        "id": "1kASmo4O-lru"
      },
      "execution_count": 4,
      "outputs": []
    },
    {
      "cell_type": "code",
      "source": [
        "pagamentos_pedido_preprocessados = spark.read.option('header', 'true').parquet('/content/drive/MyDrive/Colab Notebooks/colab_ebac/spark_data/output/pagamentos_pedido_preprocessados_parquet')\n",
        "join_itens_pedido = spark.read.option('header', 'true').parquet('/content/drive/MyDrive/Colab Notebooks/colab_ebac/spark_data/output/join_itens_pedido_parquet')\n",
        "produtos_preprocessados = spark.read.option('header', 'true').parquet('/content/drive/MyDrive/Colab Notebooks/colab_ebac/spark_data/output/produtos_preprocessados_parquet')\n",
        "avaliacoes_pedido = spark.read.option('header', 'true').csv('/content/drive/MyDrive/Colab Notebooks/colab_ebac/spark_data/avaliacoes_pedido.csv')\n",
        "pedidos = spark.read.option('header', 'true').csv('/content/drive/MyDrive/Colab Notebooks/colab_ebac/spark_data/pedidos.csv')"
      ],
      "metadata": {
        "id": "iNWYwm3y-qbA"
      },
      "execution_count": 5,
      "outputs": []
    },
    {
      "cell_type": "code",
      "source": [
        "pagamentos_pedido_preprocessados.show(n=5, truncate=False)\n",
        "join_itens_pedido.show(n=5, truncate=False)\n",
        "produtos_preprocessados.show(n=5, truncate=False)\n",
        "avaliacoes_pedido.show(n=5, truncate=False)\n",
        "pedidos.show(n=5, truncate=False)"
      ],
      "metadata": {
        "colab": {
          "base_uri": "https://localhost:8080/"
        },
        "id": "7fg13eqp_nUG",
        "outputId": "4615ccfe-f335-4000-a02c-0bfb9be41b74"
      },
      "execution_count": 6,
      "outputs": [
        {
          "output_type": "stream",
          "name": "stdout",
          "text": [
            "+--------------------------------+-------------------+--------------+------------------+---------------+---------------------------+------------------------------+\n",
            "|id_pedido                       |sequencia_pagamento|tipo_pagamento|parcelas_pagamento|valor_pagamento|valor_pagamento_normalizado|parcelas_pagamento_normalizado|\n",
            "+--------------------------------+-------------------+--------------+------------------+---------------+---------------------------+------------------------------+\n",
            "|b81ef226f3fe1789b1e8b2acac839d17|1                  |credit_card   |8                 |99.33          |0.007269424652080491       |0.3333333333333333            |\n",
            "|a9810da82917af2d9aefd1278f1dcfa0|1                  |credit_card   |1                 |24.39          |0.0017849719849415402      |0.041666666666666664          |\n",
            "|25e8ea4e93396b6fa0d3dd708e76c1bd|1                  |credit_card   |1                 |65.71          |0.004808958963940492       |0.041666666666666664          |\n",
            "|ba78997921bbcdc1373bb41e913ab953|1                  |credit_card   |8                 |107.78         |0.00788783438036077        |0.3333333333333333            |\n",
            "|42fdf880ba16b47b59251dd489d4441a|1                  |credit_card   |2                 |128.45         |0.00940055971569253        |0.08333333333333333           |\n",
            "+--------------------------------+-------------------+--------------+------------------+---------------+---------------------------+------------------------------+\n",
            "only showing top 5 rows\n",
            "\n",
            "+--------------------------------+--------------------------------+--------------+--------------------------------+-------------------+-----+-----------+--------------------------------+-------------+-------------------+---------------------+-------------------------+--------------------+---------------------+---------------------+--------------------+-------------------------+------------------------+--------------+----------------------+-----------------+------------------+\n",
            "|id_produto                      |id_pedido                       |item_id_pedido|id_vendedor                     |data_limite_envio  |preco|valor_frete|id_cliente                      |status_pedido|data_compra_pedido |data_aprovacao_pedido|data_envio_transportadora|data_entrega_cliente|data_estimada_entrega|categoria_produto    |tamanho_nome_produto|tamanho_descricao_produto|quantidade_fotos_produto|peso_produto_g|comprimento_produto_cm|altura_produto_cm|largura_produto_cm|\n",
            "+--------------------------------+--------------------------------+--------------+--------------------------------+-------------------+-----+-----------+--------------------------------+-------------+-------------------+---------------------+-------------------------+--------------------+---------------------+---------------------+--------------------+-------------------------+------------------------+--------------+----------------------+-----------------+------------------+\n",
            "|4244733e06e7ecb4970a6e2683c13e61|00010242fe8c5a6d1ba2dd792cb16214|1             |48436dade18ac8b2bce089ec2a041202|2017-09-19 09:45:35|58.9 |13.29      |3ce436f183e68e07877b285a838db11a|delivered    |2017-09-13 08:59:02|2017-09-13 09:45:35  |2017-09-19 18:34:16      |2017-09-20 23:43:48 |2017-09-29 00:00:00  |cool_stuff           |58                  |598                      |4                       |650           |28                    |9                |14                |\n",
            "|ef92defde845ab8450f9d70c526ef70f|00048cc3ae777c65dbb7d2a0634bc1ea|1             |6426d21aca402a131fc0a5d0960a3c90|2017-05-23 03:55:27|21.9 |12.69      |816cbea969fe5b689b39cfc97a506742|delivered    |2017-05-15 21:42:34|2017-05-17 03:55:27  |2017-05-17 11:05:55      |2017-05-22 13:44:35 |2017-06-06 00:00:00  |utilidades_domesticas|36                  |558                      |1                       |450           |24                    |8                |15                |\n",
            "|557d850972a7d6f792fd18ae1400d9b6|000576fe39319847cbb9d288c5617fa6|1             |5996cddab893a4652a15592fb58ab8db|2018-07-10 12:30:45|810.0|70.75      |9ed5e522dd9dd85b4af4a077526d8117|delivered    |2018-07-04 12:08:27|2018-07-05 16:35:48  |2018-07-05 12:15:00      |2018-07-09 14:04:07 |2018-07-25 00:00:00  |ferramentas_jardim   |39                  |1310                     |3                       |13805         |35                    |75               |45                |\n",
            "|d63c1011f49d98b976c352955b1c4bea|00061f2a7bc09da83e415a52dc8a4af1|1             |cc419e0650a3c5ba77189a1882b7556a|2018-03-29 22:28:09|59.99|8.88       |c6fc061d86fab1e2b2eac259bac71a49|delivered    |2018-03-24 22:16:10|2018-03-24 22:28:09  |2018-03-27 05:26:55      |2018-03-29 00:04:19 |2018-04-09 00:00:00  |beleza_saude         |57                  |614                      |1                       |950           |35                    |25               |20                |\n",
            "|3f27ac8e699df3d300ec4a5d8c5cf0b2|0009c9a17f916a706d71784483a5d643|1             |fcb5ace8bcc92f75707dc0f01a27d269|2018-05-02 09:31:53|639.0|11.34      |8a250edc40ebc5c3940ebc940f16a7eb|delivered    |2018-04-25 09:10:41|2018-04-25 09:33:19  |2018-04-27 15:14:00      |2018-04-30 17:54:25 |2018-05-09 00:00:00  |consoles_games       |37                  |1172                     |2                       |200           |16                    |5                |12                |\n",
            "+--------------------------------+--------------------------------+--------------+--------------------------------+-------------------+-----+-----------+--------------------------------+-------------+-------------------+---------------------+-------------------------+--------------------+---------------------+---------------------+--------------------+-------------------------+------------------------+--------------+----------------------+-----------------+------------------+\n",
            "only showing top 5 rows\n",
            "\n",
            "+--------------------------------+---------------------+--------------------+-------------------------+------------------------+--------------+----------------------+-----------------+------------------+-----------------------+-----------------------------------------------------------------------------------+--------------------------------------------+\n",
            "|id_produto                      |categoria_produto    |tamanho_nome_produto|tamanho_descricao_produto|quantidade_fotos_produto|peso_produto_g|comprimento_produto_cm|altura_produto_cm|largura_produto_cm|caracteristicas        |caracteristicas_normalizado                                                        |caracteristicas_pca                         |\n",
            "+--------------------------------+---------------------+--------------------+-------------------------+------------------------+--------------+----------------------+-----------------+------------------+-----------------------+-----------------------------------------------------------------------------------+--------------------------------------------+\n",
            "|1e9e8ef04dbcff4541ed26657ea517e5|perfumaria           |40                  |287                      |1                       |225           |16                    |10               |14                |[225.0,16.0,10.0,14.0] |[0.005565862708719852,0.09183673469387754,0.07766990291262135,0.07142857142857142] |[-0.1267539801998911,0.01663638259260585]   |\n",
            "|3aa071139cb16b67ca9e5dea641aaa2f|artes                |44                  |276                      |1                       |1000          |30                    |18               |20                |[1000.0,30.0,18.0,20.0]|[0.024737167594310452,0.2346938775510204,0.1553398058252427,0.125]                 |[-0.29066995013837094,0.010367016695515346] |\n",
            "|96bd76ec8810374ed1b65e291975717f|esporte_lazer        |46                  |250                      |1                       |154           |18                    |9                |15                |[154.0,18.0,9.0,15.0]  |[0.00380952380952381,0.11224489795918366,0.06796116504854369,0.08035714285714285]  |[-0.14167470711539495,-0.002201179756719532]|\n",
            "|cef67bcfe19066a932b7673e239eb23d|bebes                |27                  |261                      |1                       |371           |26                    |4                |26                |[371.0,26.0,4.0,26.0]  |[0.009177489177489178,0.19387755102040816,0.019417475728155338,0.17857142857142855]|[-0.22697992368662537,-0.08083405304231105] |\n",
            "|9dc1a7de274444849c219cff195d0b71|utilidades_domesticas|37                  |402                      |4                       |625           |20                    |17               |13                |[625.0,20.0,17.0,13.0] |[0.015460729746444033,0.13265306122448978,0.14563106796116504,0.0625]              |[-0.18185992350302008,0.05242086099854486]  |\n",
            "+--------------------------------+---------------------+--------------------+-------------------------+------------------------+--------------+----------------------+-----------------+------------------+-----------------------+-----------------------------------------------------------------------------------+--------------------------------------------+\n",
            "only showing top 5 rows\n",
            "\n",
            "+--------------------------------+--------------------------------+--------------+-----------------+----------------------------------------------------------------------------------------------------+----------------------+-----------------------+\n",
            "|id_avaliacao                    |id_pedido                       |nota_avaliacao|titulo_comentario|mensagem_comentario                                                                                 |data_criacao_avaliacao|data_resposta_avaliacao|\n",
            "+--------------------------------+--------------------------------+--------------+-----------------+----------------------------------------------------------------------------------------------------+----------------------+-----------------------+\n",
            "|7bc2406110b926393aa56f80a40eba40|73fc7af87114b39712e6da79b0a377eb|4             |NULL             |NULL                                                                                                |2018-01-18 00:00:00   |2018-01-18 21:46:59    |\n",
            "|80e641a11e56f04c1ad469d5645fdfde|a548910a1c6147796b98fdf73dbeba33|5             |NULL             |NULL                                                                                                |2018-03-10 00:00:00   |2018-03-11 03:05:13    |\n",
            "|228ce5500dc1d8e020d8d1322874b6f0|f9e4b658b201a9f2ecdecbb34bed034b|5             |NULL             |NULL                                                                                                |2018-02-17 00:00:00   |2018-02-18 14:36:24    |\n",
            "|e64fb393e7b32834bb789ff8bb30750e|658677c97b385a9be170737859d3511b|5             |NULL             |Recebi bem antes do prazo estipulado.                                                               |2017-04-21 00:00:00   |2017-04-21 22:02:06    |\n",
            "|f7c4243c7fe1938f181bec41a392bdeb|8e6bfb81e283fa7e4f11123a3fb894f1|5             |NULL             |Parabéns lojas lannister adorei comprar pela Internet seguro e prático Parabéns a todos feliz Páscoa|2018-03-01 00:00:00   |2018-03-02 10:26:53    |\n",
            "+--------------------------------+--------------------------------+--------------+-----------------+----------------------------------------------------------------------------------------------------+----------------------+-----------------------+\n",
            "only showing top 5 rows\n",
            "\n",
            "+--------------------------------+--------------------------------+-------------+------------------------+------------------------+-------------------------+------------------------+------------------------+\n",
            "|id_pedido                       |id_cliente                      |status_pedido|data_compra_pedido      |data_aprovacao_pedido   |data_envio_transportadora|data_entrega_cliente    |data_estimada_entrega   |\n",
            "+--------------------------------+--------------------------------+-------------+------------------------+------------------------+-------------------------+------------------------+------------------------+\n",
            "|e481f51cbdc54678b7cc49136f2d6af7|9ef432eb6251297304e76186b10a928d|delivered    |2017-10-02T10:56:33.000Z|2017-10-02T11:07:15.000Z|2017-10-04T19:55:00.000Z |2017-10-10T21:25:13.000Z|2017-10-18T00:00:00.000Z|\n",
            "|53cdb2fc8bc7dce0b6741e2150273451|b0830fb4747a6c6d20dea0b8c802d7ef|delivered    |2018-07-24T20:41:37.000Z|2018-07-26T03:24:27.000Z|2018-07-26T14:31:00.000Z |2018-08-07T15:27:45.000Z|2018-08-13T00:00:00.000Z|\n",
            "|47770eb9100c2d0c44946d9cf07ec65d|41ce2a54c0b03bf3443c3d931a367089|delivered    |2018-08-08T08:38:49.000Z|2018-08-08T08:55:23.000Z|2018-08-08T13:50:00.000Z |2018-08-17T18:06:29.000Z|2018-09-04T00:00:00.000Z|\n",
            "|949d5b44dbf5de918fe9c16f97b45f8a|f88197465ea7920adcdbec7375364d82|delivered    |2017-11-18T19:28:06.000Z|2017-11-18T19:45:59.000Z|2017-11-22T13:39:59.000Z |2017-12-02T00:28:42.000Z|2017-12-15T00:00:00.000Z|\n",
            "|ad21c59c0840e6cb83a9ceb5573f8159|8ab97904e6daea8866dbdbc4fb7aad2c|delivered    |2018-02-13T21:18:39.000Z|2018-02-13T22:20:29.000Z|2018-02-14T19:46:34.000Z |2018-02-16T18:17:02.000Z|2018-02-26T00:00:00.000Z|\n",
            "+--------------------------------+--------------------------------+-------------+------------------------+------------------------+-------------------------+------------------------+------------------------+\n",
            "only showing top 5 rows\n",
            "\n"
          ]
        }
      ]
    },
    {
      "cell_type": "code",
      "source": [
        "itens_pedido_df = join_itens_pedido.na.drop()\n",
        "\n",
        "montar_vetor = VectorAssembler(\n",
        "    inputCols=['peso_produto_g', 'comprimento_produto_cm', 'altura_produto_cm', 'largura_produto_cm'],\n",
        "    outputCol='caracteristicas'\n",
        ")\n",
        "\n",
        "itens_pedido_df = montar_vetor.transform(itens_pedido_df)\n",
        "\n",
        "itens_pedido_df.show(n=5, truncate=False)"
      ],
      "metadata": {
        "colab": {
          "base_uri": "https://localhost:8080/"
        },
        "id": "yoaFXBUT_8zd",
        "outputId": "2757ec15-7604-495d-c1d3-794fa70803eb"
      },
      "execution_count": 7,
      "outputs": [
        {
          "output_type": "stream",
          "name": "stdout",
          "text": [
            "+--------------------------------+--------------------------------+--------------+--------------------------------+-------------------+-----+-----------+--------------------------------+-------------+-------------------+---------------------+-------------------------+--------------------+---------------------+---------------------+--------------------+-------------------------+------------------------+--------------+----------------------+-----------------+------------------+------------------------+\n",
            "|id_produto                      |id_pedido                       |item_id_pedido|id_vendedor                     |data_limite_envio  |preco|valor_frete|id_cliente                      |status_pedido|data_compra_pedido |data_aprovacao_pedido|data_envio_transportadora|data_entrega_cliente|data_estimada_entrega|categoria_produto    |tamanho_nome_produto|tamanho_descricao_produto|quantidade_fotos_produto|peso_produto_g|comprimento_produto_cm|altura_produto_cm|largura_produto_cm|caracteristicas         |\n",
            "+--------------------------------+--------------------------------+--------------+--------------------------------+-------------------+-----+-----------+--------------------------------+-------------+-------------------+---------------------+-------------------------+--------------------+---------------------+---------------------+--------------------+-------------------------+------------------------+--------------+----------------------+-----------------+------------------+------------------------+\n",
            "|4244733e06e7ecb4970a6e2683c13e61|00010242fe8c5a6d1ba2dd792cb16214|1             |48436dade18ac8b2bce089ec2a041202|2017-09-19 09:45:35|58.9 |13.29      |3ce436f183e68e07877b285a838db11a|delivered    |2017-09-13 08:59:02|2017-09-13 09:45:35  |2017-09-19 18:34:16      |2017-09-20 23:43:48 |2017-09-29 00:00:00  |cool_stuff           |58                  |598                      |4                       |650           |28                    |9                |14                |[650.0,28.0,9.0,14.0]   |\n",
            "|ef92defde845ab8450f9d70c526ef70f|00048cc3ae777c65dbb7d2a0634bc1ea|1             |6426d21aca402a131fc0a5d0960a3c90|2017-05-23 03:55:27|21.9 |12.69      |816cbea969fe5b689b39cfc97a506742|delivered    |2017-05-15 21:42:34|2017-05-17 03:55:27  |2017-05-17 11:05:55      |2017-05-22 13:44:35 |2017-06-06 00:00:00  |utilidades_domesticas|36                  |558                      |1                       |450           |24                    |8                |15                |[450.0,24.0,8.0,15.0]   |\n",
            "|557d850972a7d6f792fd18ae1400d9b6|000576fe39319847cbb9d288c5617fa6|1             |5996cddab893a4652a15592fb58ab8db|2018-07-10 12:30:45|810.0|70.75      |9ed5e522dd9dd85b4af4a077526d8117|delivered    |2018-07-04 12:08:27|2018-07-05 16:35:48  |2018-07-05 12:15:00      |2018-07-09 14:04:07 |2018-07-25 00:00:00  |ferramentas_jardim   |39                  |1310                     |3                       |13805         |35                    |75               |45                |[13805.0,35.0,75.0,45.0]|\n",
            "|d63c1011f49d98b976c352955b1c4bea|00061f2a7bc09da83e415a52dc8a4af1|1             |cc419e0650a3c5ba77189a1882b7556a|2018-03-29 22:28:09|59.99|8.88       |c6fc061d86fab1e2b2eac259bac71a49|delivered    |2018-03-24 22:16:10|2018-03-24 22:28:09  |2018-03-27 05:26:55      |2018-03-29 00:04:19 |2018-04-09 00:00:00  |beleza_saude         |57                  |614                      |1                       |950           |35                    |25               |20                |[950.0,35.0,25.0,20.0]  |\n",
            "|3f27ac8e699df3d300ec4a5d8c5cf0b2|0009c9a17f916a706d71784483a5d643|1             |fcb5ace8bcc92f75707dc0f01a27d269|2018-05-02 09:31:53|639.0|11.34      |8a250edc40ebc5c3940ebc940f16a7eb|delivered    |2018-04-25 09:10:41|2018-04-25 09:33:19  |2018-04-27 15:14:00      |2018-04-30 17:54:25 |2018-05-09 00:00:00  |consoles_games       |37                  |1172                     |2                       |200           |16                    |5                |12                |[200.0,16.0,5.0,12.0]   |\n",
            "+--------------------------------+--------------------------------+--------------+--------------------------------+-------------------+-----+-----------+--------------------------------+-------------+-------------------+---------------------+-------------------------+--------------------+---------------------+---------------------+--------------------+-------------------------+------------------------+--------------+----------------------+-----------------+------------------+------------------------+\n",
            "only showing top 5 rows\n",
            "\n"
          ]
        }
      ]
    },
    {
      "cell_type": "code",
      "source": [
        "kmeans = KMeans(featuresCol='caracteristicas', k=3)\n",
        "modelo_kmeans = kmeans.fit(itens_pedido_df)"
      ],
      "metadata": {
        "id": "G3QJz8dKAuL1"
      },
      "execution_count": 8,
      "outputs": []
    },
    {
      "cell_type": "code",
      "source": [
        "predicao = modelo_kmeans.transform(itens_pedido_df)\n",
        "predicao.select('id_pedido', 'prediction').show(n=5, truncate=False)"
      ],
      "metadata": {
        "colab": {
          "base_uri": "https://localhost:8080/"
        },
        "id": "gJdZl0biBUfQ",
        "outputId": "daf5e5a7-4aab-4b0b-eaa5-aa4f0bec2b6d"
      },
      "execution_count": 9,
      "outputs": [
        {
          "output_type": "stream",
          "name": "stdout",
          "text": [
            "+--------------------------------+----------+\n",
            "|id_pedido                       |prediction|\n",
            "+--------------------------------+----------+\n",
            "|00010242fe8c5a6d1ba2dd792cb16214|0         |\n",
            "|00048cc3ae777c65dbb7d2a0634bc1ea|0         |\n",
            "|000576fe39319847cbb9d288c5617fa6|1         |\n",
            "|00061f2a7bc09da83e415a52dc8a4af1|0         |\n",
            "|0009c9a17f916a706d71784483a5d643|0         |\n",
            "+--------------------------------+----------+\n",
            "only showing top 5 rows\n",
            "\n"
          ]
        }
      ]
    },
    {
      "cell_type": "code",
      "source": [
        "evaluator = ClusteringEvaluator(featuresCol='caracteristicas', predictionCol='prediction', metricName='silhouette')\n",
        "silhouette = evaluator.evaluate(predicao)\n",
        "print(f'Silhouette Score: {silhouette}')"
      ],
      "metadata": {
        "colab": {
          "base_uri": "https://localhost:8080/"
        },
        "id": "SAHA1ht6B_1c",
        "outputId": "471b0f64-a902-4a02-9913-5435e50837ad"
      },
      "execution_count": 10,
      "outputs": [
        {
          "output_type": "stream",
          "name": "stdout",
          "text": [
            "Silhouette Score: 0.91844438474722\n"
          ]
        }
      ]
    },
    {
      "cell_type": "code",
      "source": [
        "# predição com os dados normalizados:\n",
        "scaler = MinMaxScaler(inputCol='caracteristicas', outputCol='caracteristicas_normalizado')\n",
        "modelo_scaler = scaler.fit(itens_pedido_df)\n",
        "itens_pedido_normalizado_df = modelo_scaler.transform(itens_pedido_df)\n",
        "\n",
        "kmeans = KMeans(featuresCol='caracteristicas_normalizado', k=3)\n",
        "modelo_kmeans = kmeans.fit(itens_pedido_normalizado_df)\n",
        "\n",
        "predicao_normalizada = modelo_kmeans.transform(itens_pedido_normalizado_df)\n",
        "predicao_normalizada.select('id_pedido', 'prediction').show(n=5, truncate=False)\n",
        "\n",
        "evaluator = ClusteringEvaluator(featuresCol='caracteristicas_normalizado', predictionCol='prediction', metricName='silhouette')\n",
        "silhouette = evaluator.evaluate(predicao_normalizada)\n",
        "print(f'Silhouette Score: {silhouette}')"
      ],
      "metadata": {
        "colab": {
          "base_uri": "https://localhost:8080/"
        },
        "id": "NIG-5AxeCf7r",
        "outputId": "7e3572f9-e09f-45cc-a8bb-8c66c1226759"
      },
      "execution_count": 13,
      "outputs": [
        {
          "output_type": "stream",
          "name": "stdout",
          "text": [
            "+--------------------------------+----------+\n",
            "|id_pedido                       |prediction|\n",
            "+--------------------------------+----------+\n",
            "|00010242fe8c5a6d1ba2dd792cb16214|0         |\n",
            "|00048cc3ae777c65dbb7d2a0634bc1ea|0         |\n",
            "|000576fe39319847cbb9d288c5617fa6|2         |\n",
            "|00061f2a7bc09da83e415a52dc8a4af1|0         |\n",
            "|0009c9a17f916a706d71784483a5d643|0         |\n",
            "+--------------------------------+----------+\n",
            "only showing top 5 rows\n",
            "\n",
            "Silhouette Score: 0.634664688301955\n"
          ]
        }
      ]
    },
    {
      "cell_type": "code",
      "source": [
        "spark.stop()"
      ],
      "metadata": {
        "id": "EQkJLL0tErsR"
      },
      "execution_count": 14,
      "outputs": []
    }
  ]
}