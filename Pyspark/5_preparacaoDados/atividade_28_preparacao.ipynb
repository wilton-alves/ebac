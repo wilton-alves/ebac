{
  "nbformat": 4,
  "nbformat_minor": 0,
  "metadata": {
    "colab": {
      "provenance": []
    },
    "kernelspec": {
      "name": "python3",
      "display_name": "Python 3"
    },
    "language_info": {
      "name": "python"
    }
  },
  "cells": [
    {
      "cell_type": "code",
      "source": [
        "! pip install pyspark"
      ],
      "metadata": {
        "colab": {
          "base_uri": "https://localhost:8080/"
        },
        "id": "OeAAvT_8JJm1",
        "outputId": "56126801-b1d3-4e1c-8f12-89f5872a455e"
      },
      "execution_count": 1,
      "outputs": [
        {
          "output_type": "stream",
          "name": "stdout",
          "text": [
            "Requirement already satisfied: pyspark in /usr/local/lib/python3.11/dist-packages (3.5.5)\n",
            "Requirement already satisfied: py4j==0.10.9.7 in /usr/local/lib/python3.11/dist-packages (from pyspark) (0.10.9.7)\n"
          ]
        }
      ]
    },
    {
      "cell_type": "code",
      "source": [
        "import pyspark\n",
        "from pyspark.sql import SparkSession\n",
        "from pyspark.sql.functions import col, date_format\n",
        "from pyspark.ml.feature import StringIndexer, VectorAssembler, MinMaxScaler, PCA\n",
        "from pyspark.ml.regression import LinearRegression\n",
        "from pyspark.ml.evaluation import RegressionEvaluator"
      ],
      "metadata": {
        "id": "eSIqmjRPJTyN"
      },
      "execution_count": 28,
      "outputs": []
    },
    {
      "cell_type": "code",
      "source": [
        "spark = SparkSession.builder.getOrCreate()"
      ],
      "metadata": {
        "id": "496SIuASJaWU"
      },
      "execution_count": 29,
      "outputs": []
    },
    {
      "cell_type": "code",
      "source": [
        "from google.colab import drive\n",
        "drive.mount('/content/drive')"
      ],
      "metadata": {
        "id": "4dWJIUlvIyOB"
      },
      "execution_count": null,
      "outputs": []
    },
    {
      "cell_type": "code",
      "source": [
        "# Leia o arquivo ‘videos-tratados.snappy.parquet' no dataframe 'df_video'\n",
        "df_video = spark.read.option('header', 'true').option('inferSchema', 'true').parquet('/content/drive/MyDrive/Colab Notebooks/colab_ebac/m28_spark_data/videos-comments-tratados.snappy.parquet')\n",
        "\n",
        "df_video.show(n=5, truncate=False)"
      ],
      "metadata": {
        "colab": {
          "base_uri": "https://localhost:8080/"
        },
        "id": "M3QnCF73Ji4I",
        "outputId": "2254c79e-c646-4c95-a54e-496e3b8ebf0a"
      },
      "execution_count": 40,
      "outputs": [
        {
          "output_type": "stream",
          "name": "stdout",
          "text": [
            "+-----------+--------------------------------------------------------------------------------------------------+------------+-------+-----+--------+------+-----------+----+---------------------------------------------------------------------------------------------------------------------------------------------------------------------------------------------------------------------------------------------------------------------------------------------------------------------------------------------------------------------------------------------------------------------------------------------------------------------------+---------+-------------+\n",
            "|Video ID   |Title                                                                                             |Published At|Keyword|Likes|Comments|Views |Interaction|Year|Comment                                                                                                                                                                                                                                                                                                                                                                                                                                                                    |Sentiment|Likes Comment|\n",
            "+-----------+--------------------------------------------------------------------------------------------------+------------+-------+-----+--------+------+-----------+----+---------------------------------------------------------------------------------------------------------------------------------------------------------------------------------------------------------------------------------------------------------------------------------------------------------------------------------------------------------------------------------------------------------------------------------------------------------------------------+---------+-------------+\n",
            "|wAZZ-UWGVHI|Apple Pay Is Killing the Physical Wallet After Only Eight Years | Tech News Briefing Podcast | WSJ|2022-08-23  |tech   |3407 |672     |135612|139691     |2022|Let's not forget that Apple Pay in 2014 required a brand new iPhone in order to use it.  A significant portion of Apple's user base wasn't able to use it even if they wanted to.  As each successive iPhone incorporated the technology and older iPhones were replaced the number of people who could use the technology increased.                                                                                                                                      |1        |95           |\n",
            "|wAZZ-UWGVHI|Apple Pay Is Killing the Physical Wallet After Only Eight Years | Tech News Briefing Podcast | WSJ|2022-08-23  |tech   |3407 |672     |135612|139691     |2022|Here in NZ 50% of retailers don’t even have contactless credit card machines like pay-wave which support Apple Pay. They don’t like the high fees that come with these.                                                                                                                                                                                                                                                                                                    |0        |19           |\n",
            "|wAZZ-UWGVHI|Apple Pay Is Killing the Physical Wallet After Only Eight Years | Tech News Briefing Podcast | WSJ|2022-08-23  |tech   |3407 |672     |135612|139691     |2022|I will forever acknowledge this channel with the help of your lessons and ideas explanations, Now It's quite helpful while you'll just sit at your comfort and monitor your account Growth.                                                                                                                                                                                                                                                                                |2        |161          |\n",
            "|wAZZ-UWGVHI|Apple Pay Is Killing the Physical Wallet After Only Eight Years | Tech News Briefing Podcast | WSJ|2022-08-23  |tech   |3407 |672     |135612|139691     |2022|Whenever I go to a place that doesn’t take Apple Pay (doesn’t happen too often), it’s such a drag. Between ‘contactless Covid’ habits and my getting the Apple Card, I’ve gotten so used to Apple Pay that I get seriously annoyed when a store doesn’t take it. It feels like a shock, it’s crazy how quickly it took over my shopping routine! I’ve officially been brainwashed by Apple because now it feels so inconvenient to even carry a physical card in my pocket.|0        |8            |\n",
            "|wAZZ-UWGVHI|Apple Pay Is Killing the Physical Wallet After Only Eight Years | Tech News Briefing Podcast | WSJ|2022-08-23  |tech   |3407 |672     |135612|139691     |2022|Apple Pay is so convenient, secure, and easy to use. I used it while at the Korean and Japanese airports, no need for physical credit cards.                                                                                                                                                                                                                                                                                                                               |2        |34           |\n",
            "+-----------+--------------------------------------------------------------------------------------------------+------------+-------+-----+--------+------+-----------+----+---------------------------------------------------------------------------------------------------------------------------------------------------------------------------------------------------------------------------------------------------------------------------------------------------------------------------------------------------------------------------------------------------------------------------------------------------------------------------+---------+-------------+\n",
            "only showing top 5 rows\n",
            "\n"
          ]
        }
      ]
    },
    {
      "cell_type": "code",
      "source": [
        "# Adicione a coluna 'Month' com o valor do mês da coluna \"Published At\"\n",
        "df_video = df_video.withColumn('Month', date_format(col('Published At'), 'MM'))\n",
        "df_video.show()"
      ],
      "metadata": {
        "colab": {
          "base_uri": "https://localhost:8080/"
        },
        "id": "9cbnwb_sJNuM",
        "outputId": "2b50c97c-9f7a-4585-df41-c76c60cd04fd"
      },
      "execution_count": 41,
      "outputs": [
        {
          "output_type": "stream",
          "name": "stdout",
          "text": [
            "+-----------+--------------------+------------+-------+-----+--------+-------+-----------+----+--------------------+---------+-------------+-----+\n",
            "|   Video ID|               Title|Published At|Keyword|Likes|Comments|  Views|Interaction|Year|             Comment|Sentiment|Likes Comment|Month|\n",
            "+-----------+--------------------+------------+-------+-----+--------+-------+-----------+----+--------------------+---------+-------------+-----+\n",
            "|wAZZ-UWGVHI|Apple Pay Is Kill...|  2022-08-23|   tech| 3407|     672| 135612|     139691|2022|Let's not forget ...|        1|           95|   08|\n",
            "|wAZZ-UWGVHI|Apple Pay Is Kill...|  2022-08-23|   tech| 3407|     672| 135612|     139691|2022|Here in NZ 50% of...|        0|           19|   08|\n",
            "|wAZZ-UWGVHI|Apple Pay Is Kill...|  2022-08-23|   tech| 3407|     672| 135612|     139691|2022|I will forever ac...|        2|          161|   08|\n",
            "|wAZZ-UWGVHI|Apple Pay Is Kill...|  2022-08-23|   tech| 3407|     672| 135612|     139691|2022|Whenever I go to ...|        0|            8|   08|\n",
            "|wAZZ-UWGVHI|Apple Pay Is Kill...|  2022-08-23|   tech| 3407|     672| 135612|     139691|2022|Apple Pay is so c...|        2|           34|   08|\n",
            "|wAZZ-UWGVHI|Apple Pay Is Kill...|  2022-08-23|   tech| 3407|     672| 135612|     139691|2022|We’ve been houndi...|        1|            8|   08|\n",
            "|wAZZ-UWGVHI|Apple Pay Is Kill...|  2022-08-23|   tech| 3407|     672| 135612|     139691|2022|We only got Apple...|        2|           29|   08|\n",
            "|wAZZ-UWGVHI|Apple Pay Is Kill...|  2022-08-23|   tech| 3407|     672| 135612|     139691|2022|For now, I need b...|        1|            7|   08|\n",
            "|wAZZ-UWGVHI|Apple Pay Is Kill...|  2022-08-23|   tech| 3407|     672| 135612|     139691|2022|In the United Sta...|        2|            2|   08|\n",
            "|wAZZ-UWGVHI|Apple Pay Is Kill...|  2022-08-23|   tech| 3407|     672| 135612|     139691|2022|In Cambodia, we h...|        1|           28|   08|\n",
            "|b3x28s61q3c|The most EXPENSIV...|  2022-08-24|   tech|76779|    4306|1758063|    1839148|2022|Wow, you really w...|        2|         1344|   08|\n",
            "|b3x28s61q3c|The most EXPENSIV...|  2022-08-24|   tech|76779|    4306|1758063|    1839148|2022|The lab is the mo...|        2|          198|   08|\n",
            "|b3x28s61q3c|The most EXPENSIV...|  2022-08-24|   tech|76779|    4306|1758063|    1839148|2022|Linus, I'm an eng...|        2|          365|   08|\n",
            "|b3x28s61q3c|The most EXPENSIV...|  2022-08-24|   tech|76779|    4306|1758063|    1839148|2022|There used to be ...|        2|          211|   08|\n",
            "|b3x28s61q3c|The most EXPENSIV...|  2022-08-24|   tech|76779|    4306|1758063|    1839148|2022|Holy crap. I was ...|        0|          821|   08|\n",
            "|b3x28s61q3c|The most EXPENSIV...|  2022-08-24|   tech|76779|    4306|1758063|    1839148|2022|I love the direct...|        2|          150|   08|\n",
            "|b3x28s61q3c|The most EXPENSIV...|  2022-08-24|   tech|76779|    4306|1758063|    1839148|2022|I am more excited...|        2|           49|   08|\n",
            "|b3x28s61q3c|The most EXPENSIV...|  2022-08-24|   tech|76779|    4306|1758063|    1839148|2022|I adore the worki...|        2|           19|   08|\n",
            "|b3x28s61q3c|The most EXPENSIV...|  2022-08-24|   tech|76779|    4306|1758063|    1839148|2022|LMGs growth is ho...|     NULL|         NULL|   08|\n",
            "|b3x28s61q3c|The most EXPENSIV...|  2022-08-24|   tech|76779|    4306|1758063|    1839148|2022|I love all the pe...|        2|         2808|   08|\n",
            "+-----------+--------------------+------------+-------+-----+--------+-------+-----------+----+--------------------+---------+-------------+-----+\n",
            "only showing top 20 rows\n",
            "\n"
          ]
        }
      ]
    },
    {
      "cell_type": "code",
      "source": [
        "# Adicione a coluna \"Keyword Index\" com a transformação da coluna 'keyword' para valores numéricos\n",
        "indexador = StringIndexer(inputCol='Keyword', outputCol='Keyword Index')\n",
        "modelo_indexer = indexador.fit(df_video)\n",
        "df_video = modelo_indexer.transform(df_video)\n",
        "df_video.show()"
      ],
      "metadata": {
        "colab": {
          "base_uri": "https://localhost:8080/"
        },
        "id": "cyPlqGfQLxR7",
        "outputId": "ba3a4994-d137-4a47-a77f-53acc90a68c8"
      },
      "execution_count": 42,
      "outputs": [
        {
          "output_type": "stream",
          "name": "stdout",
          "text": [
            "+-----------+--------------------+------------+-------+-----+--------+-------+-----------+----+--------------------+---------+-------------+-----+-------------+\n",
            "|   Video ID|               Title|Published At|Keyword|Likes|Comments|  Views|Interaction|Year|             Comment|Sentiment|Likes Comment|Month|Keyword Index|\n",
            "+-----------+--------------------+------------+-------+-----+--------+-------+-----------+----+--------------------+---------+-------------+-----+-------------+\n",
            "|wAZZ-UWGVHI|Apple Pay Is Kill...|  2022-08-23|   tech| 3407|     672| 135612|     139691|2022|Let's not forget ...|        1|           95|   08|         17.0|\n",
            "|wAZZ-UWGVHI|Apple Pay Is Kill...|  2022-08-23|   tech| 3407|     672| 135612|     139691|2022|Here in NZ 50% of...|        0|           19|   08|         17.0|\n",
            "|wAZZ-UWGVHI|Apple Pay Is Kill...|  2022-08-23|   tech| 3407|     672| 135612|     139691|2022|I will forever ac...|        2|          161|   08|         17.0|\n",
            "|wAZZ-UWGVHI|Apple Pay Is Kill...|  2022-08-23|   tech| 3407|     672| 135612|     139691|2022|Whenever I go to ...|        0|            8|   08|         17.0|\n",
            "|wAZZ-UWGVHI|Apple Pay Is Kill...|  2022-08-23|   tech| 3407|     672| 135612|     139691|2022|Apple Pay is so c...|        2|           34|   08|         17.0|\n",
            "|wAZZ-UWGVHI|Apple Pay Is Kill...|  2022-08-23|   tech| 3407|     672| 135612|     139691|2022|We’ve been houndi...|        1|            8|   08|         17.0|\n",
            "|wAZZ-UWGVHI|Apple Pay Is Kill...|  2022-08-23|   tech| 3407|     672| 135612|     139691|2022|We only got Apple...|        2|           29|   08|         17.0|\n",
            "|wAZZ-UWGVHI|Apple Pay Is Kill...|  2022-08-23|   tech| 3407|     672| 135612|     139691|2022|For now, I need b...|        1|            7|   08|         17.0|\n",
            "|wAZZ-UWGVHI|Apple Pay Is Kill...|  2022-08-23|   tech| 3407|     672| 135612|     139691|2022|In the United Sta...|        2|            2|   08|         17.0|\n",
            "|wAZZ-UWGVHI|Apple Pay Is Kill...|  2022-08-23|   tech| 3407|     672| 135612|     139691|2022|In Cambodia, we h...|        1|           28|   08|         17.0|\n",
            "|b3x28s61q3c|The most EXPENSIV...|  2022-08-24|   tech|76779|    4306|1758063|    1839148|2022|Wow, you really w...|        2|         1344|   08|         17.0|\n",
            "|b3x28s61q3c|The most EXPENSIV...|  2022-08-24|   tech|76779|    4306|1758063|    1839148|2022|The lab is the mo...|        2|          198|   08|         17.0|\n",
            "|b3x28s61q3c|The most EXPENSIV...|  2022-08-24|   tech|76779|    4306|1758063|    1839148|2022|Linus, I'm an eng...|        2|          365|   08|         17.0|\n",
            "|b3x28s61q3c|The most EXPENSIV...|  2022-08-24|   tech|76779|    4306|1758063|    1839148|2022|There used to be ...|        2|          211|   08|         17.0|\n",
            "|b3x28s61q3c|The most EXPENSIV...|  2022-08-24|   tech|76779|    4306|1758063|    1839148|2022|Holy crap. I was ...|        0|          821|   08|         17.0|\n",
            "|b3x28s61q3c|The most EXPENSIV...|  2022-08-24|   tech|76779|    4306|1758063|    1839148|2022|I love the direct...|        2|          150|   08|         17.0|\n",
            "|b3x28s61q3c|The most EXPENSIV...|  2022-08-24|   tech|76779|    4306|1758063|    1839148|2022|I am more excited...|        2|           49|   08|         17.0|\n",
            "|b3x28s61q3c|The most EXPENSIV...|  2022-08-24|   tech|76779|    4306|1758063|    1839148|2022|I adore the worki...|        2|           19|   08|         17.0|\n",
            "|b3x28s61q3c|The most EXPENSIV...|  2022-08-24|   tech|76779|    4306|1758063|    1839148|2022|LMGs growth is ho...|     NULL|         NULL|   08|         17.0|\n",
            "|b3x28s61q3c|The most EXPENSIV...|  2022-08-24|   tech|76779|    4306|1758063|    1839148|2022|I love all the pe...|        2|         2808|   08|         17.0|\n",
            "+-----------+--------------------+------------+-------+-----+--------+-------+-----------+----+--------------------+---------+-------------+-----+-------------+\n",
            "only showing top 20 rows\n",
            "\n"
          ]
        }
      ]
    },
    {
      "cell_type": "code",
      "source": [
        "# Crie um vetor chamado \"Features\" com os campos: \"Likes\", \"Views\", \"Year\", \"Month\", \"Keyword Index\" e transforme\n",
        "# o dataframe df_video com o VectorAssembler, lembrando que o vetor só aceita campos do tipo numérico\n",
        "\n",
        "# convConvertendo as colunas Year e Month para número\n",
        "df_video = df_video.withColumn('Year', col('Year').cast('int'))\n",
        "df_video = df_video.withColumn('Month', col('Month').cast('int'))\n",
        "\n",
        "# Montando o vetor\n",
        "montar_vetor = VectorAssembler(\n",
        "    inputCols=['Likes', 'Views', 'Year', 'Month', 'Keyword Index'],\n",
        "    outputCol='Features',\n",
        "    handleInvalid='skip'\n",
        ")\n",
        "\n",
        "# Aplicando as transformações\n",
        "df_video = montar_vetor.transform(df_video)\n",
        "df_video.show(truncate=False)"
      ],
      "metadata": {
        "colab": {
          "base_uri": "https://localhost:8080/"
        },
        "id": "-nMwNsywNeuD",
        "outputId": "5c5ff824-a933-4d7a-e4f9-3608254b53dc"
      },
      "execution_count": 43,
      "outputs": [
        {
          "output_type": "stream",
          "name": "stdout",
          "text": [
            "+-----------+--------------------------------------------------------------------------------------------------+------------+-------+-----+--------+-------+-----------+----+---------------------------------------------------------------------------------------------------------------------------------------------------------------------------------------------------------------------------------------------------------------------------------------------------------------------------------------------------------------------------------------------------------------------------------------------------------------------------+---------+-------------+-----+-------------+-----------------------------------+\n",
            "|Video ID   |Title                                                                                             |Published At|Keyword|Likes|Comments|Views  |Interaction|Year|Comment                                                                                                                                                                                                                                                                                                                                                                                                                                                                    |Sentiment|Likes Comment|Month|Keyword Index|Features                           |\n",
            "+-----------+--------------------------------------------------------------------------------------------------+------------+-------+-----+--------+-------+-----------+----+---------------------------------------------------------------------------------------------------------------------------------------------------------------------------------------------------------------------------------------------------------------------------------------------------------------------------------------------------------------------------------------------------------------------------------------------------------------------------+---------+-------------+-----+-------------+-----------------------------------+\n",
            "|wAZZ-UWGVHI|Apple Pay Is Killing the Physical Wallet After Only Eight Years | Tech News Briefing Podcast | WSJ|2022-08-23  |tech   |3407 |672     |135612 |139691     |2022|Let's not forget that Apple Pay in 2014 required a brand new iPhone in order to use it.  A significant portion of Apple's user base wasn't able to use it even if they wanted to.  As each successive iPhone incorporated the technology and older iPhones were replaced the number of people who could use the technology increased.                                                                                                                                      |1        |95           |8    |17.0         |[3407.0,135612.0,2022.0,8.0,17.0]  |\n",
            "|wAZZ-UWGVHI|Apple Pay Is Killing the Physical Wallet After Only Eight Years | Tech News Briefing Podcast | WSJ|2022-08-23  |tech   |3407 |672     |135612 |139691     |2022|Here in NZ 50% of retailers don’t even have contactless credit card machines like pay-wave which support Apple Pay. They don’t like the high fees that come with these.                                                                                                                                                                                                                                                                                                    |0        |19           |8    |17.0         |[3407.0,135612.0,2022.0,8.0,17.0]  |\n",
            "|wAZZ-UWGVHI|Apple Pay Is Killing the Physical Wallet After Only Eight Years | Tech News Briefing Podcast | WSJ|2022-08-23  |tech   |3407 |672     |135612 |139691     |2022|I will forever acknowledge this channel with the help of your lessons and ideas explanations, Now It's quite helpful while you'll just sit at your comfort and monitor your account Growth.                                                                                                                                                                                                                                                                                |2        |161          |8    |17.0         |[3407.0,135612.0,2022.0,8.0,17.0]  |\n",
            "|wAZZ-UWGVHI|Apple Pay Is Killing the Physical Wallet After Only Eight Years | Tech News Briefing Podcast | WSJ|2022-08-23  |tech   |3407 |672     |135612 |139691     |2022|Whenever I go to a place that doesn’t take Apple Pay (doesn’t happen too often), it’s such a drag. Between ‘contactless Covid’ habits and my getting the Apple Card, I’ve gotten so used to Apple Pay that I get seriously annoyed when a store doesn’t take it. It feels like a shock, it’s crazy how quickly it took over my shopping routine! I’ve officially been brainwashed by Apple because now it feels so inconvenient to even carry a physical card in my pocket.|0        |8            |8    |17.0         |[3407.0,135612.0,2022.0,8.0,17.0]  |\n",
            "|wAZZ-UWGVHI|Apple Pay Is Killing the Physical Wallet After Only Eight Years | Tech News Briefing Podcast | WSJ|2022-08-23  |tech   |3407 |672     |135612 |139691     |2022|Apple Pay is so convenient, secure, and easy to use. I used it while at the Korean and Japanese airports, no need for physical credit cards.                                                                                                                                                                                                                                                                                                                               |2        |34           |8    |17.0         |[3407.0,135612.0,2022.0,8.0,17.0]  |\n",
            "|wAZZ-UWGVHI|Apple Pay Is Killing the Physical Wallet After Only Eight Years | Tech News Briefing Podcast | WSJ|2022-08-23  |tech   |3407 |672     |135612 |139691     |2022|We’ve been hounding my bank to adopt Apple pay. I understand why they don’t want to do it with the extra fees, but its just so easy and quick at the checkout.                                                                                                                                                                                                                                                                                                             |1        |8            |8    |17.0         |[3407.0,135612.0,2022.0,8.0,17.0]  |\n",
            "|wAZZ-UWGVHI|Apple Pay Is Killing the Physical Wallet After Only Eight Years | Tech News Briefing Podcast | WSJ|2022-08-23  |tech   |3407 |672     |135612 |139691     |2022|We only got Apple Pay in South Africa in 2020/2021 and it’s widely accepted.                                                                                                                                                                                                                                                                                                                                                                                               |2        |29           |8    |17.0         |[3407.0,135612.0,2022.0,8.0,17.0]  |\n",
            "|wAZZ-UWGVHI|Apple Pay Is Killing the Physical Wallet After Only Eight Years | Tech News Briefing Podcast | WSJ|2022-08-23  |tech   |3407 |672     |135612 |139691     |2022|For now, I need both Apple Pay and the physical credit card.                                                                                                                                                                                                                                                                                                                                                                                                               |1        |7            |8    |17.0         |[3407.0,135612.0,2022.0,8.0,17.0]  |\n",
            "|wAZZ-UWGVHI|Apple Pay Is Killing the Physical Wallet After Only Eight Years | Tech News Briefing Podcast | WSJ|2022-08-23  |tech   |3407 |672     |135612 |139691     |2022|In the United States, we have an abundance of retailers that accept Apple Pay, but it's still good to carry the physical card with you, being there are still a large quantity of places that do NOT accept Apple Pay.                                                                                                                                                                                                                                                     |2        |2            |8    |17.0         |[3407.0,135612.0,2022.0,8.0,17.0]  |\n",
            "|wAZZ-UWGVHI|Apple Pay Is Killing the Physical Wallet After Only Eight Years | Tech News Briefing Podcast | WSJ|2022-08-23  |tech   |3407 |672     |135612 |139691     |2022|In Cambodia, we have a universal QR code system, we scan and send money back and forth, all banks take no profit from merchant, they receive 100% of the payment. A lot of stores and supermarkets start abandon POS machine all together.                                                                                                                                                                                                                                 |1        |28           |8    |17.0         |[3407.0,135612.0,2022.0,8.0,17.0]  |\n",
            "|b3x28s61q3c|The most EXPENSIVE thing I own.                                                                   |2022-08-24  |tech   |76779|4306    |1758063|1839148    |2022|Wow, you really went to town on the PSU test rack. That's a serious bit of kit. Very flexible, good choices. Wouldn't surprise me if Choma start offering this bespoke rack to the PSU makers. They all watch your videos, so they'll want to make sure it passes on this exact same rack. You can really push the industry here. Well done. Open source the test interface hardware and software.                                                                         |2        |1344         |8    |17.0         |[76779.0,1758063.0,2022.0,8.0,17.0]|\n",
            "|b3x28s61q3c|The most EXPENSIVE thing I own.                                                                   |2022-08-24  |tech   |76779|4306    |1758063|1839148    |2022|The lab is the most exciting thing in IT I've seen for a while. This is reallly going to shake up how the qualiity of even basic components are manufactured.                                                                                                                                                                                                                                                                                                              |2        |198          |8    |17.0         |[76779.0,1758063.0,2022.0,8.0,17.0]|\n",
            "|b3x28s61q3c|The most EXPENSIVE thing I own.                                                                   |2022-08-24  |tech   |76779|4306    |1758063|1839148    |2022|Linus, I'm an engineer and love the LMG content across all the channels.  Very much looking forward to more lab content and hope your engineering team will get more on camera time and hosting roles.                                                                                                                                                                                                                                                                     |2        |365          |8    |17.0         |[76779.0,1758063.0,2022.0,8.0,17.0]|\n",
            "|b3x28s61q3c|The most EXPENSIVE thing I own.                                                                   |2022-08-24  |tech   |76779|4306    |1758063|1839148    |2022|There used to be a time where Linus was the smartest guy in the room, this video clearly shows that the team he has built are experts in their respective fields and make Linus look like a child. Kudos to Linus and LMG, you've grown beyond what I imagined. All the best!                                                                                                                                                                                              |2        |211          |8    |17.0         |[76779.0,1758063.0,2022.0,8.0,17.0]|\n",
            "|b3x28s61q3c|The most EXPENSIVE thing I own.                                                                   |2022-08-24  |tech   |76779|4306    |1758063|1839148    |2022|Holy crap. I was looking at Chroma systems back when I was designing power supplies. Looks like you guys went all out! Re the multimeter: Most oscilloscopes are terrible for making accurate voltage measurements (8-10 bit ADCs). They are just for looking at the waveforms.                                                                                                                                                                                            |0        |821          |8    |17.0         |[76779.0,1758063.0,2022.0,8.0,17.0]|\n",
            "|b3x28s61q3c|The most EXPENSIVE thing I own.                                                                   |2022-08-24  |tech   |76779|4306    |1758063|1839148    |2022|I love the direction this channel is going. Most tech channels, even the best trusted ones are going to review products based on their own experience or at most some things they can measure with their pc, but you're really going to mathematically demonstrate if a product is a quality one and why it is, love it                                                                                                                                                    |2        |150          |8    |17.0         |[76779.0,1758063.0,2022.0,8.0,17.0]|\n",
            "|b3x28s61q3c|The most EXPENSIVE thing I own.                                                                   |2022-08-24  |tech   |76779|4306    |1758063|1839148    |2022|I am more excited for the LTT Lab than I have been for a lot of content for a while now. As everyone seems to be saying, it's exciting to see how enthusiastic this new crew is to get things running.                                                                                                                                                                                                                                                                     |2        |49           |8    |17.0         |[76779.0,1758063.0,2022.0,8.0,17.0]|\n",
            "|b3x28s61q3c|The most EXPENSIVE thing I own.                                                                   |2022-08-24  |tech   |76779|4306    |1758063|1839148    |2022|I adore the working relationship Linus has with his team. 99% of employees walk on eggshells around their boss and I wish it could be more like this.                                                                                                                                                                                                                                                                                                                      |2        |19           |8    |17.0         |[76779.0,1758063.0,2022.0,8.0,17.0]|\n",
            "|b3x28s61q3c|The most EXPENSIVE thing I own.                                                                   |2022-08-24  |tech   |76779|4306    |1758063|1839148    |2022|LMGs growth is honestly something to truly aspire for, this IS the content we want to watch.                                                                                                                                                                                                                                                                                                                                                                               |NULL     |NULL         |8    |17.0         |[76779.0,1758063.0,2022.0,8.0,17.0]|\n",
            "|b3x28s61q3c|The most EXPENSIVE thing I own.                                                                   |2022-08-24  |tech   |76779|4306    |1758063|1839148    |2022|I love all the people LTT has added for labs. Clearly they're knowledgeable and passionate about tech! Labs is gonna be killer. Love it!                                                                                                                                                                                                                                                                                                                                   |2        |2808         |8    |17.0         |[76779.0,1758063.0,2022.0,8.0,17.0]|\n",
            "+-----------+--------------------------------------------------------------------------------------------------+------------+-------+-----+--------+-------+-----------+----+---------------------------------------------------------------------------------------------------------------------------------------------------------------------------------------------------------------------------------------------------------------------------------------------------------------------------------------------------------------------------------------------------------------------------------------------------------------------------+---------+-------------+-----+-------------+-----------------------------------+\n",
            "only showing top 20 rows\n",
            "\n"
          ]
        }
      ]
    },
    {
      "cell_type": "code",
      "source": [
        "# Adicione a coluna \"Features Normal\" com os dados normalizados da coluna Features, lembrando que para normalizar a coluna não pode conter valores nulos\n",
        "scaler = MinMaxScaler(inputCol='Features', outputCol='Features Normal')\n",
        "modelo_scaler = scaler.fit(df_video)\n",
        "df_video = modelo_scaler.transform(df_video)\n",
        "df_video.show(truncate=False)"
      ],
      "metadata": {
        "colab": {
          "base_uri": "https://localhost:8080/"
        },
        "id": "GzTZ3nKKPqE4",
        "outputId": "338db57a-a354-4e34-afa6-3c2dd3cb2417"
      },
      "execution_count": 44,
      "outputs": [
        {
          "output_type": "stream",
          "name": "stdout",
          "text": [
            "+-----------+--------------------------------------------------------------------------------------------------+------------+-------+-----+--------+-------+-----------+----+---------------------------------------------------------------------------------------------------------------------------------------------------------------------------------------------------------------------------------------------------------------------------------------------------------------------------------------------------------------------------------------------------------------------------------------------------------------------------+---------+-------------+-----+-------------+-----------------------------------+-------------------------------------------------------------------------------------+\n",
            "|Video ID   |Title                                                                                             |Published At|Keyword|Likes|Comments|Views  |Interaction|Year|Comment                                                                                                                                                                                                                                                                                                                                                                                                                                                                    |Sentiment|Likes Comment|Month|Keyword Index|Features                           |Features Normal                                                                      |\n",
            "+-----------+--------------------------------------------------------------------------------------------------+------------+-------+-----+--------+-------+-----------+----+---------------------------------------------------------------------------------------------------------------------------------------------------------------------------------------------------------------------------------------------------------------------------------------------------------------------------------------------------------------------------------------------------------------------------------------------------------------------------+---------+-------------+-----+-------------+-----------------------------------+-------------------------------------------------------------------------------------+\n",
            "|wAZZ-UWGVHI|Apple Pay Is Killing the Physical Wallet After Only Eight Years | Tech News Briefing Podcast | WSJ|2022-08-23  |tech   |3407 |672     |135612 |139691     |2022|Let's not forget that Apple Pay in 2014 required a brand new iPhone in order to use it.  A significant portion of Apple's user base wasn't able to use it even if they wanted to.  As each successive iPhone incorporated the technology and older iPhones were replaced the number of people who could use the technology increased.                                                                                                                                      |1        |95           |8    |17.0         |[3407.0,135612.0,2022.0,8.0,17.0]  |[2.072291978642988E-4,6.31492585237833E-5,1.0,0.6363636363636364,0.42500000000000004]|\n",
            "|wAZZ-UWGVHI|Apple Pay Is Killing the Physical Wallet After Only Eight Years | Tech News Briefing Podcast | WSJ|2022-08-23  |tech   |3407 |672     |135612 |139691     |2022|Here in NZ 50% of retailers don’t even have contactless credit card machines like pay-wave which support Apple Pay. They don’t like the high fees that come with these.                                                                                                                                                                                                                                                                                                    |0        |19           |8    |17.0         |[3407.0,135612.0,2022.0,8.0,17.0]  |[2.072291978642988E-4,6.31492585237833E-5,1.0,0.6363636363636364,0.42500000000000004]|\n",
            "|wAZZ-UWGVHI|Apple Pay Is Killing the Physical Wallet After Only Eight Years | Tech News Briefing Podcast | WSJ|2022-08-23  |tech   |3407 |672     |135612 |139691     |2022|I will forever acknowledge this channel with the help of your lessons and ideas explanations, Now It's quite helpful while you'll just sit at your comfort and monitor your account Growth.                                                                                                                                                                                                                                                                                |2        |161          |8    |17.0         |[3407.0,135612.0,2022.0,8.0,17.0]  |[2.072291978642988E-4,6.31492585237833E-5,1.0,0.6363636363636364,0.42500000000000004]|\n",
            "|wAZZ-UWGVHI|Apple Pay Is Killing the Physical Wallet After Only Eight Years | Tech News Briefing Podcast | WSJ|2022-08-23  |tech   |3407 |672     |135612 |139691     |2022|Whenever I go to a place that doesn’t take Apple Pay (doesn’t happen too often), it’s such a drag. Between ‘contactless Covid’ habits and my getting the Apple Card, I’ve gotten so used to Apple Pay that I get seriously annoyed when a store doesn’t take it. It feels like a shock, it’s crazy how quickly it took over my shopping routine! I’ve officially been brainwashed by Apple because now it feels so inconvenient to even carry a physical card in my pocket.|0        |8            |8    |17.0         |[3407.0,135612.0,2022.0,8.0,17.0]  |[2.072291978642988E-4,6.31492585237833E-5,1.0,0.6363636363636364,0.42500000000000004]|\n",
            "|wAZZ-UWGVHI|Apple Pay Is Killing the Physical Wallet After Only Eight Years | Tech News Briefing Podcast | WSJ|2022-08-23  |tech   |3407 |672     |135612 |139691     |2022|Apple Pay is so convenient, secure, and easy to use. I used it while at the Korean and Japanese airports, no need for physical credit cards.                                                                                                                                                                                                                                                                                                                               |2        |34           |8    |17.0         |[3407.0,135612.0,2022.0,8.0,17.0]  |[2.072291978642988E-4,6.31492585237833E-5,1.0,0.6363636363636364,0.42500000000000004]|\n",
            "|wAZZ-UWGVHI|Apple Pay Is Killing the Physical Wallet After Only Eight Years | Tech News Briefing Podcast | WSJ|2022-08-23  |tech   |3407 |672     |135612 |139691     |2022|We’ve been hounding my bank to adopt Apple pay. I understand why they don’t want to do it with the extra fees, but its just so easy and quick at the checkout.                                                                                                                                                                                                                                                                                                             |1        |8            |8    |17.0         |[3407.0,135612.0,2022.0,8.0,17.0]  |[2.072291978642988E-4,6.31492585237833E-5,1.0,0.6363636363636364,0.42500000000000004]|\n",
            "|wAZZ-UWGVHI|Apple Pay Is Killing the Physical Wallet After Only Eight Years | Tech News Briefing Podcast | WSJ|2022-08-23  |tech   |3407 |672     |135612 |139691     |2022|We only got Apple Pay in South Africa in 2020/2021 and it’s widely accepted.                                                                                                                                                                                                                                                                                                                                                                                               |2        |29           |8    |17.0         |[3407.0,135612.0,2022.0,8.0,17.0]  |[2.072291978642988E-4,6.31492585237833E-5,1.0,0.6363636363636364,0.42500000000000004]|\n",
            "|wAZZ-UWGVHI|Apple Pay Is Killing the Physical Wallet After Only Eight Years | Tech News Briefing Podcast | WSJ|2022-08-23  |tech   |3407 |672     |135612 |139691     |2022|For now, I need both Apple Pay and the physical credit card.                                                                                                                                                                                                                                                                                                                                                                                                               |1        |7            |8    |17.0         |[3407.0,135612.0,2022.0,8.0,17.0]  |[2.072291978642988E-4,6.31492585237833E-5,1.0,0.6363636363636364,0.42500000000000004]|\n",
            "|wAZZ-UWGVHI|Apple Pay Is Killing the Physical Wallet After Only Eight Years | Tech News Briefing Podcast | WSJ|2022-08-23  |tech   |3407 |672     |135612 |139691     |2022|In the United States, we have an abundance of retailers that accept Apple Pay, but it's still good to carry the physical card with you, being there are still a large quantity of places that do NOT accept Apple Pay.                                                                                                                                                                                                                                                     |2        |2            |8    |17.0         |[3407.0,135612.0,2022.0,8.0,17.0]  |[2.072291978642988E-4,6.31492585237833E-5,1.0,0.6363636363636364,0.42500000000000004]|\n",
            "|wAZZ-UWGVHI|Apple Pay Is Killing the Physical Wallet After Only Eight Years | Tech News Briefing Podcast | WSJ|2022-08-23  |tech   |3407 |672     |135612 |139691     |2022|In Cambodia, we have a universal QR code system, we scan and send money back and forth, all banks take no profit from merchant, they receive 100% of the payment. A lot of stores and supermarkets start abandon POS machine all together.                                                                                                                                                                                                                                 |1        |28           |8    |17.0         |[3407.0,135612.0,2022.0,8.0,17.0]  |[2.072291978642988E-4,6.31492585237833E-5,1.0,0.6363636363636364,0.42500000000000004]|\n",
            "|b3x28s61q3c|The most EXPENSIVE thing I own.                                                                   |2022-08-24  |tech   |76779|4306    |1758063|1839148    |2022|Wow, you really went to town on the PSU test rack. That's a serious bit of kit. Very flexible, good choices. Wouldn't surprise me if Choma start offering this bespoke rack to the PSU makers. They all watch your videos, so they'll want to make sure it passes on this exact same rack. You can really push the industry here. Well done. Open source the test interface hardware and software.                                                                         |2        |1344         |8    |17.0         |[76779.0,1758063.0,2022.0,8.0,17.0]|[0.00466873762089814,8.186618801293251E-4,1.0,0.6363636363636364,0.42500000000000004]|\n",
            "|b3x28s61q3c|The most EXPENSIVE thing I own.                                                                   |2022-08-24  |tech   |76779|4306    |1758063|1839148    |2022|The lab is the most exciting thing in IT I've seen for a while. This is reallly going to shake up how the qualiity of even basic components are manufactured.                                                                                                                                                                                                                                                                                                              |2        |198          |8    |17.0         |[76779.0,1758063.0,2022.0,8.0,17.0]|[0.00466873762089814,8.186618801293251E-4,1.0,0.6363636363636364,0.42500000000000004]|\n",
            "|b3x28s61q3c|The most EXPENSIVE thing I own.                                                                   |2022-08-24  |tech   |76779|4306    |1758063|1839148    |2022|Linus, I'm an engineer and love the LMG content across all the channels.  Very much looking forward to more lab content and hope your engineering team will get more on camera time and hosting roles.                                                                                                                                                                                                                                                                     |2        |365          |8    |17.0         |[76779.0,1758063.0,2022.0,8.0,17.0]|[0.00466873762089814,8.186618801293251E-4,1.0,0.6363636363636364,0.42500000000000004]|\n",
            "|b3x28s61q3c|The most EXPENSIVE thing I own.                                                                   |2022-08-24  |tech   |76779|4306    |1758063|1839148    |2022|There used to be a time where Linus was the smartest guy in the room, this video clearly shows that the team he has built are experts in their respective fields and make Linus look like a child. Kudos to Linus and LMG, you've grown beyond what I imagined. All the best!                                                                                                                                                                                              |2        |211          |8    |17.0         |[76779.0,1758063.0,2022.0,8.0,17.0]|[0.00466873762089814,8.186618801293251E-4,1.0,0.6363636363636364,0.42500000000000004]|\n",
            "|b3x28s61q3c|The most EXPENSIVE thing I own.                                                                   |2022-08-24  |tech   |76779|4306    |1758063|1839148    |2022|Holy crap. I was looking at Chroma systems back when I was designing power supplies. Looks like you guys went all out! Re the multimeter: Most oscilloscopes are terrible for making accurate voltage measurements (8-10 bit ADCs). They are just for looking at the waveforms.                                                                                                                                                                                            |0        |821          |8    |17.0         |[76779.0,1758063.0,2022.0,8.0,17.0]|[0.00466873762089814,8.186618801293251E-4,1.0,0.6363636363636364,0.42500000000000004]|\n",
            "|b3x28s61q3c|The most EXPENSIVE thing I own.                                                                   |2022-08-24  |tech   |76779|4306    |1758063|1839148    |2022|I love the direction this channel is going. Most tech channels, even the best trusted ones are going to review products based on their own experience or at most some things they can measure with their pc, but you're really going to mathematically demonstrate if a product is a quality one and why it is, love it                                                                                                                                                    |2        |150          |8    |17.0         |[76779.0,1758063.0,2022.0,8.0,17.0]|[0.00466873762089814,8.186618801293251E-4,1.0,0.6363636363636364,0.42500000000000004]|\n",
            "|b3x28s61q3c|The most EXPENSIVE thing I own.                                                                   |2022-08-24  |tech   |76779|4306    |1758063|1839148    |2022|I am more excited for the LTT Lab than I have been for a lot of content for a while now. As everyone seems to be saying, it's exciting to see how enthusiastic this new crew is to get things running.                                                                                                                                                                                                                                                                     |2        |49           |8    |17.0         |[76779.0,1758063.0,2022.0,8.0,17.0]|[0.00466873762089814,8.186618801293251E-4,1.0,0.6363636363636364,0.42500000000000004]|\n",
            "|b3x28s61q3c|The most EXPENSIVE thing I own.                                                                   |2022-08-24  |tech   |76779|4306    |1758063|1839148    |2022|I adore the working relationship Linus has with his team. 99% of employees walk on eggshells around their boss and I wish it could be more like this.                                                                                                                                                                                                                                                                                                                      |2        |19           |8    |17.0         |[76779.0,1758063.0,2022.0,8.0,17.0]|[0.00466873762089814,8.186618801293251E-4,1.0,0.6363636363636364,0.42500000000000004]|\n",
            "|b3x28s61q3c|The most EXPENSIVE thing I own.                                                                   |2022-08-24  |tech   |76779|4306    |1758063|1839148    |2022|LMGs growth is honestly something to truly aspire for, this IS the content we want to watch.                                                                                                                                                                                                                                                                                                                                                                               |NULL     |NULL         |8    |17.0         |[76779.0,1758063.0,2022.0,8.0,17.0]|[0.00466873762089814,8.186618801293251E-4,1.0,0.6363636363636364,0.42500000000000004]|\n",
            "|b3x28s61q3c|The most EXPENSIVE thing I own.                                                                   |2022-08-24  |tech   |76779|4306    |1758063|1839148    |2022|I love all the people LTT has added for labs. Clearly they're knowledgeable and passionate about tech! Labs is gonna be killer. Love it!                                                                                                                                                                                                                                                                                                                                   |2        |2808         |8    |17.0         |[76779.0,1758063.0,2022.0,8.0,17.0]|[0.00466873762089814,8.186618801293251E-4,1.0,0.6363636363636364,0.42500000000000004]|\n",
            "+-----------+--------------------------------------------------------------------------------------------------+------------+-------+-----+--------+-------+-----------+----+---------------------------------------------------------------------------------------------------------------------------------------------------------------------------------------------------------------------------------------------------------------------------------------------------------------------------------------------------------------------------------------------------------------------------------------------------------------------------+---------+-------------+-----+-------------+-----------------------------------+-------------------------------------------------------------------------------------+\n",
            "only showing top 20 rows\n",
            "\n"
          ]
        }
      ]
    },
    {
      "cell_type": "code",
      "source": [
        "# Adicione a coluna \"Features PCA\" com a redução de 5 características para 1, utilizando o modelo PCA\n",
        "pca = PCA(k=1, inputCol='Features Normal', outputCol='Features PCA')\n",
        "modelo_pca = pca.fit(df_video)\n",
        "df_video = modelo_pca.transform(df_video)\n",
        "df_video.select('Features Normal', 'Features PCA').show(truncate=False)"
      ],
      "metadata": {
        "colab": {
          "base_uri": "https://localhost:8080/"
        },
        "id": "EZ39HZnKRd5N",
        "outputId": "0c88263f-3bcd-485f-cbba-8ab93cb3c952"
      },
      "execution_count": 45,
      "outputs": [
        {
          "output_type": "stream",
          "name": "stdout",
          "text": [
            "+-------------------------------------------------------------------------------------+--------------------+\n",
            "|Features Normal                                                                      |Features PCA        |\n",
            "+-------------------------------------------------------------------------------------+--------------------+\n",
            "|[2.072291978642988E-4,6.31492585237833E-5,1.0,0.6363636363636364,0.42500000000000004]|[0.4548135019714761]|\n",
            "|[2.072291978642988E-4,6.31492585237833E-5,1.0,0.6363636363636364,0.42500000000000004]|[0.4548135019714761]|\n",
            "|[2.072291978642988E-4,6.31492585237833E-5,1.0,0.6363636363636364,0.42500000000000004]|[0.4548135019714761]|\n",
            "|[2.072291978642988E-4,6.31492585237833E-5,1.0,0.6363636363636364,0.42500000000000004]|[0.4548135019714761]|\n",
            "|[2.072291978642988E-4,6.31492585237833E-5,1.0,0.6363636363636364,0.42500000000000004]|[0.4548135019714761]|\n",
            "|[2.072291978642988E-4,6.31492585237833E-5,1.0,0.6363636363636364,0.42500000000000004]|[0.4548135019714761]|\n",
            "|[2.072291978642988E-4,6.31492585237833E-5,1.0,0.6363636363636364,0.42500000000000004]|[0.4548135019714761]|\n",
            "|[2.072291978642988E-4,6.31492585237833E-5,1.0,0.6363636363636364,0.42500000000000004]|[0.4548135019714761]|\n",
            "|[2.072291978642988E-4,6.31492585237833E-5,1.0,0.6363636363636364,0.42500000000000004]|[0.4548135019714761]|\n",
            "|[2.072291978642988E-4,6.31492585237833E-5,1.0,0.6363636363636364,0.42500000000000004]|[0.4548135019714761]|\n",
            "|[0.00466873762089814,8.186618801293251E-4,1.0,0.6363636363636364,0.42500000000000004]|[0.4547846174364626]|\n",
            "|[0.00466873762089814,8.186618801293251E-4,1.0,0.6363636363636364,0.42500000000000004]|[0.4547846174364626]|\n",
            "|[0.00466873762089814,8.186618801293251E-4,1.0,0.6363636363636364,0.42500000000000004]|[0.4547846174364626]|\n",
            "|[0.00466873762089814,8.186618801293251E-4,1.0,0.6363636363636364,0.42500000000000004]|[0.4547846174364626]|\n",
            "|[0.00466873762089814,8.186618801293251E-4,1.0,0.6363636363636364,0.42500000000000004]|[0.4547846174364626]|\n",
            "|[0.00466873762089814,8.186618801293251E-4,1.0,0.6363636363636364,0.42500000000000004]|[0.4547846174364626]|\n",
            "|[0.00466873762089814,8.186618801293251E-4,1.0,0.6363636363636364,0.42500000000000004]|[0.4547846174364626]|\n",
            "|[0.00466873762089814,8.186618801293251E-4,1.0,0.6363636363636364,0.42500000000000004]|[0.4547846174364626]|\n",
            "|[0.00466873762089814,8.186618801293251E-4,1.0,0.6363636363636364,0.42500000000000004]|[0.4547846174364626]|\n",
            "|[0.00466873762089814,8.186618801293251E-4,1.0,0.6363636363636364,0.42500000000000004]|[0.4547846174364626]|\n",
            "+-------------------------------------------------------------------------------------+--------------------+\n",
            "only showing top 20 rows\n",
            "\n"
          ]
        }
      ]
    },
    {
      "cell_type": "code",
      "source": [
        "# Separe o dataframe df_video em 2 conjuntos: 80% para treinamento e 20% para teste\n",
        "df_train, df_test = df_video.randomSplit([0.8, 0.2], seed=42)"
      ],
      "metadata": {
        "id": "EgQrPds_RlV9"
      },
      "execution_count": 46,
      "outputs": []
    },
    {
      "cell_type": "code",
      "source": [
        "# Crie um modelo de regressão linear para estimar o valor do campo \"Comments\", utilizando a \"Features Normal\" e avalie o modelo\n",
        "regressao_linear = LinearRegression(featuresCol='Features Normal', labelCol='Comments')\n",
        "modelo_lr = regressao_linear.fit(df_train)\n",
        "\n",
        "avaliar_test = modelo_lr.evaluate(df_test)\n",
        "print(f'R2: {avaliar_test.r2}')\n",
        "print(f'RMSE: {avaliar_test.rootMeanSquaredError}')"
      ],
      "metadata": {
        "colab": {
          "base_uri": "https://localhost:8080/"
        },
        "id": "xRAT3ol9RlsU",
        "outputId": "0194ed06-e3c1-4a14-d3f5-538c95b9849c"
      },
      "execution_count": 47,
      "outputs": [
        {
          "output_type": "stream",
          "name": "stdout",
          "text": [
            "R2: 0.6602413154888491\n",
            "RMSE: 25370.3336201662\n"
          ]
        }
      ]
    },
    {
      "cell_type": "code",
      "source": [
        "# Salve o dataframe df_video como 'videos-preparados-parquet' no formato parquet\n",
        "df_video.write.mode('overwrite').option('header', 'true').parquet('/content/drive/MyDrive/Colab Notebooks/colab_ebac/m28_spark_data/output/videos-preparados-parquet')\n",
        "spark.read.option('header', 'true').parquet('/content/drive/MyDrive/Colab Notebooks/colab_ebac/m28_spark_data/output/videos-preparados-parquet').show()"
      ],
      "metadata": {
        "colab": {
          "base_uri": "https://localhost:8080/"
        },
        "id": "JWw1EBVbRl9c",
        "outputId": "a1625230-2763-44ae-98c2-d679e1938d03"
      },
      "execution_count": 48,
      "outputs": [
        {
          "output_type": "stream",
          "name": "stdout",
          "text": [
            "+-----------+--------------------+------------+-------+-----+--------+-------+-----------+----+--------------------+---------+-------------+-----+-------------+--------------------+--------------------+--------------------+\n",
            "|   Video ID|               Title|Published At|Keyword|Likes|Comments|  Views|Interaction|Year|             Comment|Sentiment|Likes Comment|Month|Keyword Index|            Features|     Features Normal|        Features PCA|\n",
            "+-----------+--------------------+------------+-------+-----+--------+-------+-----------+----+--------------------+---------+-------------+-----+-------------+--------------------+--------------------+--------------------+\n",
            "|wAZZ-UWGVHI|Apple Pay Is Kill...|  2022-08-23|   tech| 3407|     672| 135612|     139691|2022|Let's not forget ...|        1|           95|    8|         17.0|[3407.0,135612.0,...|[2.07229197864298...|[0.4548135019714761]|\n",
            "|wAZZ-UWGVHI|Apple Pay Is Kill...|  2022-08-23|   tech| 3407|     672| 135612|     139691|2022|Here in NZ 50% of...|        0|           19|    8|         17.0|[3407.0,135612.0,...|[2.07229197864298...|[0.4548135019714761]|\n",
            "|wAZZ-UWGVHI|Apple Pay Is Kill...|  2022-08-23|   tech| 3407|     672| 135612|     139691|2022|I will forever ac...|        2|          161|    8|         17.0|[3407.0,135612.0,...|[2.07229197864298...|[0.4548135019714761]|\n",
            "|wAZZ-UWGVHI|Apple Pay Is Kill...|  2022-08-23|   tech| 3407|     672| 135612|     139691|2022|Whenever I go to ...|        0|            8|    8|         17.0|[3407.0,135612.0,...|[2.07229197864298...|[0.4548135019714761]|\n",
            "|wAZZ-UWGVHI|Apple Pay Is Kill...|  2022-08-23|   tech| 3407|     672| 135612|     139691|2022|Apple Pay is so c...|        2|           34|    8|         17.0|[3407.0,135612.0,...|[2.07229197864298...|[0.4548135019714761]|\n",
            "|wAZZ-UWGVHI|Apple Pay Is Kill...|  2022-08-23|   tech| 3407|     672| 135612|     139691|2022|We’ve been houndi...|        1|            8|    8|         17.0|[3407.0,135612.0,...|[2.07229197864298...|[0.4548135019714761]|\n",
            "|wAZZ-UWGVHI|Apple Pay Is Kill...|  2022-08-23|   tech| 3407|     672| 135612|     139691|2022|We only got Apple...|        2|           29|    8|         17.0|[3407.0,135612.0,...|[2.07229197864298...|[0.4548135019714761]|\n",
            "|wAZZ-UWGVHI|Apple Pay Is Kill...|  2022-08-23|   tech| 3407|     672| 135612|     139691|2022|For now, I need b...|        1|            7|    8|         17.0|[3407.0,135612.0,...|[2.07229197864298...|[0.4548135019714761]|\n",
            "|wAZZ-UWGVHI|Apple Pay Is Kill...|  2022-08-23|   tech| 3407|     672| 135612|     139691|2022|In the United Sta...|        2|            2|    8|         17.0|[3407.0,135612.0,...|[2.07229197864298...|[0.4548135019714761]|\n",
            "|wAZZ-UWGVHI|Apple Pay Is Kill...|  2022-08-23|   tech| 3407|     672| 135612|     139691|2022|In Cambodia, we h...|        1|           28|    8|         17.0|[3407.0,135612.0,...|[2.07229197864298...|[0.4548135019714761]|\n",
            "|b3x28s61q3c|The most EXPENSIV...|  2022-08-24|   tech|76779|    4306|1758063|    1839148|2022|Wow, you really w...|        2|         1344|    8|         17.0|[76779.0,1758063....|[0.00466873762089...|[0.4547846174364626]|\n",
            "|b3x28s61q3c|The most EXPENSIV...|  2022-08-24|   tech|76779|    4306|1758063|    1839148|2022|The lab is the mo...|        2|          198|    8|         17.0|[76779.0,1758063....|[0.00466873762089...|[0.4547846174364626]|\n",
            "|b3x28s61q3c|The most EXPENSIV...|  2022-08-24|   tech|76779|    4306|1758063|    1839148|2022|Linus, I'm an eng...|        2|          365|    8|         17.0|[76779.0,1758063....|[0.00466873762089...|[0.4547846174364626]|\n",
            "|b3x28s61q3c|The most EXPENSIV...|  2022-08-24|   tech|76779|    4306|1758063|    1839148|2022|There used to be ...|        2|          211|    8|         17.0|[76779.0,1758063....|[0.00466873762089...|[0.4547846174364626]|\n",
            "|b3x28s61q3c|The most EXPENSIV...|  2022-08-24|   tech|76779|    4306|1758063|    1839148|2022|Holy crap. I was ...|        0|          821|    8|         17.0|[76779.0,1758063....|[0.00466873762089...|[0.4547846174364626]|\n",
            "|b3x28s61q3c|The most EXPENSIV...|  2022-08-24|   tech|76779|    4306|1758063|    1839148|2022|I love the direct...|        2|          150|    8|         17.0|[76779.0,1758063....|[0.00466873762089...|[0.4547846174364626]|\n",
            "|b3x28s61q3c|The most EXPENSIV...|  2022-08-24|   tech|76779|    4306|1758063|    1839148|2022|I am more excited...|        2|           49|    8|         17.0|[76779.0,1758063....|[0.00466873762089...|[0.4547846174364626]|\n",
            "|b3x28s61q3c|The most EXPENSIV...|  2022-08-24|   tech|76779|    4306|1758063|    1839148|2022|I adore the worki...|        2|           19|    8|         17.0|[76779.0,1758063....|[0.00466873762089...|[0.4547846174364626]|\n",
            "|b3x28s61q3c|The most EXPENSIV...|  2022-08-24|   tech|76779|    4306|1758063|    1839148|2022|LMGs growth is ho...|     NULL|         NULL|    8|         17.0|[76779.0,1758063....|[0.00466873762089...|[0.4547846174364626]|\n",
            "|b3x28s61q3c|The most EXPENSIV...|  2022-08-24|   tech|76779|    4306|1758063|    1839148|2022|I love all the pe...|        2|         2808|    8|         17.0|[76779.0,1758063....|[0.00466873762089...|[0.4547846174364626]|\n",
            "+-----------+--------------------+------------+-------+-----+--------+-------+-----------+----+--------------------+---------+-------------+-----+-------------+--------------------+--------------------+--------------------+\n",
            "only showing top 20 rows\n",
            "\n"
          ]
        }
      ]
    },
    {
      "cell_type": "code",
      "source": [
        "spark.stop()"
      ],
      "metadata": {
        "id": "4oBqgyaVXo2H"
      },
      "execution_count": 49,
      "outputs": []
    }
  ]
}