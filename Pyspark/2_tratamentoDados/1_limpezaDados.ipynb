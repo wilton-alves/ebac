{
  "cells": [
    {
      "cell_type": "code",
      "execution_count": null,
      "metadata": {
        "colab": {
          "base_uri": "https://localhost:8080/"
        },
        "id": "K8kjWAseCb8o",
        "outputId": "32a7d32f-ee7e-46ff-9193-82a182298bb6"
      },
      "outputs": [
        {
          "name": "stdout",
          "output_type": "stream",
          "text": [
            "Requirement already satisfied: pyspark in /usr/local/lib/python3.11/dist-packages (3.5.4)\n",
            "Requirement already satisfied: py4j==0.10.9.7 in /usr/local/lib/python3.11/dist-packages (from pyspark) (0.10.9.7)\n"
          ]
        }
      ],
      "source": [
        "! pip install pyspark"
      ]
    },
    {
      "cell_type": "code",
      "execution_count": 8,
      "metadata": {
        "id": "1afv68tiGK0C"
      },
      "outputs": [],
      "source": [
        "import pyspark\n",
        "from pyspark.sql import SparkSession"
      ]
    },
    {
      "cell_type": "code",
      "execution_count": 9,
      "metadata": {
        "id": "YYF8vpfyGMuw"
      },
      "outputs": [],
      "source": [
        "spark = SparkSession.builder.getOrCreate()"
      ]
    },
    {
      "cell_type": "code",
      "execution_count": 13,
      "metadata": {
        "id": "hb_chrNKJuT2"
      },
      "outputs": [],
      "source": [
        "produtos = spark.read.csv('/content/drive/MyDrive/Colab Notebooks/colab_ebac/spark_data/produtos.csv', header=True, inferSchema=True)\n",
        "vendedores = spark.read.csv('/content/drive/MyDrive/Colab Notebooks/colab_ebac/spark_data/vendedores.csv', header=True, inferSchema=True)\n",
        "clientes = spark.read.csv('/content/drive/MyDrive/Colab Notebooks/colab_ebac/spark_data/clientes.csv', header=True, inferSchema=True)\n",
        "itens_pedido = spark.read.csv('/content/drive/MyDrive/Colab Notebooks/colab_ebac/spark_data/itens_pedido.csv', header=True, inferSchema=True)\n",
        "pagamentos_pedido = spark.read.csv('/content/drive/MyDrive/Colab Notebooks/colab_ebac/spark_data/pagamentos_pedido.csv', header=True, inferSchema=True)\n",
        "avaliacoes_pedido = spark.read.csv('/content/drive/MyDrive/Colab Notebooks/colab_ebac/spark_data/avaliacoes_pedido.csv', header=True, inferSchema=True)\n",
        "pedidos = spark.read.csv('/content/drive/MyDrive/Colab Notebooks/colab_ebac/spark_data/pedidos.csv', header=True, inferSchema=True)"
      ]
    },
    {
      "cell_type": "code",
      "execution_count": 14,
      "metadata": {
        "colab": {
          "base_uri": "https://localhost:8080/"
        },
        "id": "nKPhvoVrLSfj",
        "outputId": "69e47388-6a05-4a59-83b4-3112b323e5a9"
      },
      "outputs": [
        {
          "name": "stdout",
          "output_type": "stream",
          "text": [
            "+--------------------------------+---------------------+--------------------+-------------------------+------------------------+--------------+----------------------+-----------------+------------------+\n",
            "|id_produto                      |categoria_produto    |tamanho_nome_produto|tamanho_descricao_produto|quantidade_fotos_produto|peso_produto_g|comprimento_produto_cm|altura_produto_cm|largura_produto_cm|\n",
            "+--------------------------------+---------------------+--------------------+-------------------------+------------------------+--------------+----------------------+-----------------+------------------+\n",
            "|1e9e8ef04dbcff4541ed26657ea517e5|perfumaria           |40                  |287                      |1                       |225           |16                    |10               |14                |\n",
            "|3aa071139cb16b67ca9e5dea641aaa2f|artes                |44                  |276                      |1                       |1000          |30                    |18               |20                |\n",
            "|96bd76ec8810374ed1b65e291975717f|esporte_lazer        |46                  |250                      |1                       |154           |18                    |9                |15                |\n",
            "|cef67bcfe19066a932b7673e239eb23d|bebes                |27                  |261                      |1                       |371           |26                    |4                |26                |\n",
            "|9dc1a7de274444849c219cff195d0b71|utilidades_domesticas|37                  |402                      |4                       |625           |20                    |17               |13                |\n",
            "+--------------------------------+---------------------+--------------------+-------------------------+------------------------+--------------+----------------------+-----------------+------------------+\n",
            "only showing top 5 rows\n",
            "\n",
            "Dataframe Produtos: \n",
            " None\n",
            "+--------------------+------------+-----------------+---------------+\n",
            "|         id_vendedor|cep_vendedor|  cidade_vendedor|estado_vendedor|\n",
            "+--------------------+------------+-----------------+---------------+\n",
            "|3442f8959a84dea7e...|       13023|         campinas|             SP|\n",
            "|d1b65fc7debc3361e...|       13844|       mogi guacu|             SP|\n",
            "|ce3ad9de960102d06...|       20031|   rio de janeiro|             RJ|\n",
            "|c0f3eea2e14555b6f...|        4195|        sao paulo|             SP|\n",
            "|51a04a8a6bdcb23de...|       12914|braganca paulista|             SP|\n",
            "+--------------------+------------+-----------------+---------------+\n",
            "only showing top 5 rows\n",
            "\n",
            "Dataframe Vendedores: \n",
            " None\n",
            "+--------------------+--------------------+-----------+--------------------+--------------+\n",
            "|          id_cliente|    id_unico_cliente|cep_cliente|      cidade_cliente|estado_cliente|\n",
            "+--------------------+--------------------+-----------+--------------------+--------------+\n",
            "|06b8999e2fba1a1fb...|861eff4711a542e4b...|      14409|              franca|            SP|\n",
            "|18955e83d337fd6b2...|290c77bc529b7ac93...|       9790|sao bernardo do c...|            SP|\n",
            "|4e7b3e00288586ebd...|060e732b5b29e8181...|       1151|           sao paulo|            SP|\n",
            "|b2b6027bc5c5109e5...|259dac757896d24d7...|       8775|     mogi das cruzes|            SP|\n",
            "|4f2d8ab171c80ec83...|345ecd01c38d18a90...|      13056|            campinas|            SP|\n",
            "+--------------------+--------------------+-----------+--------------------+--------------+\n",
            "only showing top 5 rows\n",
            "\n",
            "Dataframe Clientes: \n",
            " None\n",
            "+--------------------+--------------+--------------------+--------------------+-------------------+-----+-----------+\n",
            "|           id_pedido|item_id_pedido|          id_produto|         id_vendedor|  data_limite_envio|preco|valor_frete|\n",
            "+--------------------+--------------+--------------------+--------------------+-------------------+-----+-----------+\n",
            "|00010242fe8c5a6d1...|             1|4244733e06e7ecb49...|48436dade18ac8b2b...|2017-09-19 09:45:35| 58.9|      13.29|\n",
            "|00018f77f2f0320c5...|             1|e5f2d52b802189ee6...|dd7ddc04e1b6c2c61...|2017-05-03 11:05:13|239.9|      19.93|\n",
            "|000229ec398224ef6...|             1|c777355d18b72b67a...|5b51032eddd242adc...|2018-01-18 14:48:30|199.0|      17.87|\n",
            "|00024acbcdf0a6daa...|             1|7634da152a4610f15...|9d7a1d34a50524090...|2018-08-15 10:10:18|12.99|      12.79|\n",
            "|00042b26cf59d7ce6...|             1|ac6c3623068f30de0...|df560393f3a51e745...|2017-02-13 13:57:51|199.9|      18.14|\n",
            "+--------------------+--------------+--------------------+--------------------+-------------------+-----+-----------+\n",
            "only showing top 5 rows\n",
            "\n",
            "Dataframe Itens Pedido: \n",
            " None\n",
            "+--------------------+-------------------+--------------+------------------+---------------+\n",
            "|           id_pedido|sequencia_pagamento|tipo_pagamento|parcelas_pagamento|valor_pagamento|\n",
            "+--------------------+-------------------+--------------+------------------+---------------+\n",
            "|b81ef226f3fe1789b...|                  1|   credit_card|                 8|          99.33|\n",
            "|a9810da82917af2d9...|                  1|   credit_card|                 1|          24.39|\n",
            "|25e8ea4e93396b6fa...|                  1|   credit_card|                 1|          65.71|\n",
            "|ba78997921bbcdc13...|                  1|   credit_card|                 8|         107.78|\n",
            "|42fdf880ba16b47b5...|                  1|   credit_card|                 2|         128.45|\n",
            "+--------------------+-------------------+--------------+------------------+---------------+\n",
            "only showing top 5 rows\n",
            "\n",
            "Dataframe Pagamentos Pedido: \n",
            " None\n",
            "+--------------------+--------------------+--------------+-----------------+--------------------+----------------------+-----------------------+\n",
            "|        id_avaliacao|           id_pedido|nota_avaliacao|titulo_comentario| mensagem_comentario|data_criacao_avaliacao|data_resposta_avaliacao|\n",
            "+--------------------+--------------------+--------------+-----------------+--------------------+----------------------+-----------------------+\n",
            "|7bc2406110b926393...|73fc7af87114b3971...|             4|             NULL|                NULL|   2018-01-18 00:00:00|    2018-01-18 21:46:59|\n",
            "|80e641a11e56f04c1...|a548910a1c6147796...|             5|             NULL|                NULL|   2018-03-10 00:00:00|    2018-03-11 03:05:13|\n",
            "|228ce5500dc1d8e02...|f9e4b658b201a9f2e...|             5|             NULL|                NULL|   2018-02-17 00:00:00|    2018-02-18 14:36:24|\n",
            "|e64fb393e7b32834b...|658677c97b385a9be...|             5|             NULL|Recebi bem antes ...|   2017-04-21 00:00:00|    2017-04-21 22:02:06|\n",
            "|f7c4243c7fe1938f1...|8e6bfb81e283fa7e4...|             5|             NULL|Parabéns lojas la...|   2018-03-01 00:00:00|    2018-03-02 10:26:53|\n",
            "+--------------------+--------------------+--------------+-----------------+--------------------+----------------------+-----------------------+\n",
            "only showing top 5 rows\n",
            "\n",
            "Dataframe Avaliacoes Pedido: \n",
            " None\n",
            "+--------------------+--------------------+-------------+-------------------+---------------------+-------------------------+--------------------+---------------------+\n",
            "|           id_pedido|          id_cliente|status_pedido| data_compra_pedido|data_aprovacao_pedido|data_envio_transportadora|data_entrega_cliente|data_estimada_entrega|\n",
            "+--------------------+--------------------+-------------+-------------------+---------------------+-------------------------+--------------------+---------------------+\n",
            "|e481f51cbdc54678b...|9ef432eb625129730...|    delivered|2017-10-02 10:56:33|  2017-10-02 11:07:15|      2017-10-04 19:55:00| 2017-10-10 21:25:13|  2017-10-18 00:00:00|\n",
            "|53cdb2fc8bc7dce0b...|b0830fb4747a6c6d2...|    delivered|2018-07-24 20:41:37|  2018-07-26 03:24:27|      2018-07-26 14:31:00| 2018-08-07 15:27:45|  2018-08-13 00:00:00|\n",
            "|47770eb9100c2d0c4...|41ce2a54c0b03bf34...|    delivered|2018-08-08 08:38:49|  2018-08-08 08:55:23|      2018-08-08 13:50:00| 2018-08-17 18:06:29|  2018-09-04 00:00:00|\n",
            "|949d5b44dbf5de918...|f88197465ea7920ad...|    delivered|2017-11-18 19:28:06|  2017-11-18 19:45:59|      2017-11-22 13:39:59| 2017-12-02 00:28:42|  2017-12-15 00:00:00|\n",
            "|ad21c59c0840e6cb8...|8ab97904e6daea886...|    delivered|2018-02-13 21:18:39|  2018-02-13 22:20:29|      2018-02-14 19:46:34| 2018-02-16 18:17:02|  2018-02-26 00:00:00|\n",
            "+--------------------+--------------------+-------------+-------------------+---------------------+-------------------------+--------------------+---------------------+\n",
            "only showing top 5 rows\n",
            "\n",
            "Dataframe Pedidos: \n",
            " None\n"
          ]
        }
      ],
      "source": [
        "print(\"Dataframe Produtos: \\n\", produtos.show(n=5, truncate=False))\n",
        "print(\"Dataframe Vendedores: \\n\", vendedores.show(5))\n",
        "print(\"Dataframe Clientes: \\n\", clientes.show(5))\n",
        "print(\"Dataframe Itens Pedido: \\n\", itens_pedido.show(5))\n",
        "print(\"Dataframe Pagamentos Pedido: \\n\", pagamentos_pedido.show(5))\n",
        "print(\"Dataframe Avaliacoes Pedido: \\n\", avaliacoes_pedido.show(5))\n",
        "print(\"Dataframe Pedidos: \\n\", pedidos.show(5))"
      ]
    },
    {
      "cell_type": "code",
      "execution_count": 15,
      "metadata": {
        "colab": {
          "base_uri": "https://localhost:8080/"
        },
        "id": "sJAkv8XPMjTF",
        "outputId": "0de3e6ab-8c06-4466-e9df-eca0584db2e5"
      },
      "outputs": [
        {
          "name": "stdout",
          "output_type": "stream",
          "text": [
            "+--------------------+\n",
            "|          id_cliente|\n",
            "+--------------------+\n",
            "|06b8999e2fba1a1fb...|\n",
            "+--------------------+\n",
            "only showing top 1 row\n",
            "\n",
            "+--------------------+\n",
            "|          id_cliente|\n",
            "+--------------------+\n",
            "|06b8999e2fba1a1fb...|\n",
            "+--------------------+\n",
            "only showing top 1 row\n",
            "\n",
            "+--------------------+\n",
            "|          id_cliente|\n",
            "+--------------------+\n",
            "|06b8999e2fba1a1fb...|\n",
            "+--------------------+\n",
            "only showing top 1 row\n",
            "\n",
            "+--------------------+\n",
            "|          id_cliente|\n",
            "+--------------------+\n",
            "|06b8999e2fba1a1fb...|\n",
            "+--------------------+\n",
            "only showing top 1 row\n",
            "\n"
          ]
        }
      ],
      "source": [
        "# Acessando colunas\n",
        "from pyspark.sql.functions import col\n",
        "\n",
        "clientes.select('id_cliente').show(1)\n",
        "clientes.select(col('id_cliente')).show(1)\n",
        "clientes.select(clientes['id_cliente']).show(1)\n",
        "clientes.select(clientes.id_cliente).show(1)"
      ]
    },
    {
      "cell_type": "code",
      "execution_count": 18,
      "metadata": {
        "colab": {
          "base_uri": "https://localhost:8080/"
        },
        "id": "Z2FqtubyQztp",
        "outputId": "f6a5d9e9-84a4-4c9d-9e90-ee11f700b292"
      },
      "outputs": [
        {
          "data": {
            "text/plain": [
              "610"
            ]
          },
          "execution_count": 18,
          "metadata": {},
          "output_type": "execute_result"
        }
      ],
      "source": [
        "produtos_tratar_categ_nulos = produtos.na.fill({'categoria_produto': 'Não especificado'})\n",
        "produtos_tratar_categ_nulos.filter(col('categoria_produto')=='Não especificado').count()"
      ]
    },
    {
      "cell_type": "code",
      "execution_count": 20,
      "metadata": {
        "colab": {
          "base_uri": "https://localhost:8080/"
        },
        "id": "SF51n2JWp7_Q",
        "outputId": "bd520d87-f45a-4eb2-ca00-1ef81894638e"
      },
      "outputs": [
        {
          "name": "stdout",
          "output_type": "stream",
          "text": [
            "Total de pedidos:  99441\n",
            "Total de pedidos únicos:  99441\n",
            "Total de pedidos únicos após remoção de nulos:  96461\n",
            "Total de pedidos únicos após limpeza de ids nulos:  99441\n"
          ]
        }
      ],
      "source": [
        "print('Total de pedidos: ', pedidos.count())\n",
        "\n",
        "pedidos_unicos = pedidos.dropDuplicates()\n",
        "print('Total de pedidos únicos: ', pedidos_unicos.count())\n",
        "\n",
        "pedidos_remocao_nulos = pedidos_unicos.na.drop()\n",
        "print('Total de pedidos únicos após remoção de nulos: ', pedidos_remocao_nulos.count())\n",
        "\n",
        "pedidos_remocao_nulos_id = pedidos_unicos.na.drop(subset=['id_cliente', 'id_pedido'])\n",
        "print('Total de pedidos únicos após limpeza de ids nulos: ', pedidos_remocao_nulos_id.count())"
      ]
    },
    {
      "cell_type": "code",
      "execution_count": 23,
      "metadata": {
        "id": "9bikIw88sOBe"
      },
      "outputs": [],
      "source": [
        "colunas = ['peso_produto_g', 'comprimento_produto_cm', 'altura_produto_cm', 'largura_produto_cm']\n",
        "\n",
        "for c in colunas:\n",
        "  produtos = produtos.na.fill({c: 0})"
      ]
    },
    {
      "cell_type": "code",
      "execution_count": 24,
      "metadata": {
        "id": "1pfK6OsJs-B_"
      },
      "outputs": [],
      "source": [
        "produtos.write.mode('overwrite').option('header', 'true').csv('/content/drive/MyDrive/Colab Notebooks/colab_ebac/spark_data/output/produtos_tratada_csv')"
      ]
    },
    {
      "cell_type": "code",
      "execution_count": 25,
      "metadata": {
        "colab": {
          "base_uri": "https://localhost:8080/"
        },
        "id": "wHtf-lmjtYGl",
        "outputId": "9dd6df9e-c4a9-437f-b87b-8c976bdd5483"
      },
      "outputs": [
        {
          "name": "stdout",
          "output_type": "stream",
          "text": [
            "+--------------------+--------------------+--------------------+-------------------------+------------------------+--------------+----------------------+-----------------+------------------+\n",
            "|          id_produto|   categoria_produto|tamanho_nome_produto|tamanho_descricao_produto|quantidade_fotos_produto|peso_produto_g|comprimento_produto_cm|altura_produto_cm|largura_produto_cm|\n",
            "+--------------------+--------------------+--------------------+-------------------------+------------------------+--------------+----------------------+-----------------+------------------+\n",
            "|1e9e8ef04dbcff454...|          perfumaria|                  40|                      287|                       1|           225|                    16|               10|                14|\n",
            "|3aa071139cb16b67c...|               artes|                  44|                      276|                       1|          1000|                    30|               18|                20|\n",
            "|96bd76ec8810374ed...|       esporte_lazer|                  46|                      250|                       1|           154|                    18|                9|                15|\n",
            "|cef67bcfe19066a93...|               bebes|                  27|                      261|                       1|           371|                    26|                4|                26|\n",
            "|9dc1a7de274444849...|utilidades_domest...|                  37|                      402|                       4|           625|                    20|               17|                13|\n",
            "|41d3672d4792049fa...|instrumentos_musi...|                  60|                      745|                       1|           200|                    38|                5|                11|\n",
            "|732bd381ad09e530f...|          cool_stuff|                  56|                     1272|                       4|         18350|                    70|               24|                44|\n",
            "|2548af3e6e77a690c...|    moveis_decoracao|                  56|                      184|                       2|           900|                    40|                8|                40|\n",
            "|37cc742be07708b53...|    eletrodomesticos|                  57|                      163|                       1|           400|                    27|               13|                17|\n",
            "|8c92109888e8cdf9d...|          brinquedos|                  36|                     1156|                       1|           600|                    17|               10|                12|\n",
            "|14aa47b7fe5c25522...|     cama_mesa_banho|                  54|                      630|                       1|          1100|                    16|               10|                16|\n",
            "|03b63c5fc16691530...|               bebes|                  49|                      728|                       4|          7150|                    50|               19|                45|\n",
            "|cf55509ea8edaaac1...|instrumentos_musi...|                  43|                     1827|                       3|           250|                    17|                7|                17|\n",
            "|7bb6f29c2be577161...|    moveis_decoracao|                  51|                     2083|                       2|           600|                    68|               11|                13|\n",
            "|eb31436580a610f20...|construcao_ferram...|                  59|                     1602|                       4|           200|                    17|                7|                17|\n",
            "|3bb7f144022e67327...|       esporte_lazer|                  22|                     3021|                       1|           800|                    16|                2|                11|\n",
            "|6a2fb4dd53d2cdb88...|          perfumaria|                  39|                      346|                       2|           400|                    27|                5|                20|\n",
            "|a1b71017a84f92fd8...|informatica_acess...|                  59|                      636|                       1|           900|                    40|               15|                20|\n",
            "|a0736b92e52f6cead...|    moveis_decoracao|                  56|                      296|                       2|          1700|                   100|                7|                15|\n",
            "|f53103a77d9cf245e...|     cama_mesa_banho|                  52|                      206|                       1|           500|                    16|               10|                16|\n",
            "+--------------------+--------------------+--------------------+-------------------------+------------------------+--------------+----------------------+-----------------+------------------+\n",
            "only showing top 20 rows\n",
            "\n"
          ]
        }
      ],
      "source": [
        "spark.read.option('header', 'true').csv('/content/drive/MyDrive/Colab Notebooks/colab_ebac/spark_data/output/produtos_tratada_csv').show()"
      ]
    },
    {
      "cell_type": "code",
      "execution_count": 26,
      "metadata": {
        "id": "E9bqJsKavgwz"
      },
      "outputs": [],
      "source": [
        "spark.stop()"
      ]
    }
  ],
  "metadata": {
    "colab": {
      "provenance": []
    },
    "kernelspec": {
      "display_name": "Python 3",
      "name": "python3"
    },
    "language_info": {
      "name": "python"
    }
  },
  "nbformat": 4,
  "nbformat_minor": 0
}
