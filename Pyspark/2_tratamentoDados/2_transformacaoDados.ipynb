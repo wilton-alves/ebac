{
  "nbformat": 4,
  "nbformat_minor": 0,
  "metadata": {
    "colab": {
      "provenance": []
    },
    "kernelspec": {
      "name": "python3",
      "display_name": "Python 3"
    },
    "language_info": {
      "name": "python"
    }
  },
  "cells": [
    {
      "cell_type": "code",
      "execution_count": 1,
      "metadata": {
        "colab": {
          "base_uri": "https://localhost:8080/"
        },
        "id": "EpFty8Nihzxj",
        "outputId": "61d0fafe-674b-447d-a71a-0a2cb784d8c1"
      },
      "outputs": [
        {
          "output_type": "stream",
          "name": "stdout",
          "text": [
            "Requirement already satisfied: pyspark in /usr/local/lib/python3.11/dist-packages (3.5.4)\n",
            "Requirement already satisfied: py4j==0.10.9.7 in /usr/local/lib/python3.11/dist-packages (from pyspark) (0.10.9.7)\n"
          ]
        }
      ],
      "source": [
        "!pip install pyspark"
      ]
    },
    {
      "cell_type": "code",
      "source": [
        "import pyspark\n",
        "from pyspark.sql import SparkSession\n",
        "from pyspark.sql.functions import col, upper"
      ],
      "metadata": {
        "id": "3QFD8KlbiHgD"
      },
      "execution_count": 2,
      "outputs": []
    },
    {
      "cell_type": "code",
      "source": [
        "spark = SparkSession.builder.getOrCreate()"
      ],
      "metadata": {
        "id": "xsydnEgsiWIC"
      },
      "execution_count": 3,
      "outputs": []
    },
    {
      "cell_type": "code",
      "source": [
        "from google.colab import drive\n",
        "drive.mount('/content/drive')"
      ],
      "metadata": {
        "colab": {
          "base_uri": "https://localhost:8080/"
        },
        "id": "nSDLapqRib6D",
        "outputId": "6eb10e58-d365-4222-a1ba-19fa3eba7dc5"
      },
      "execution_count": 4,
      "outputs": [
        {
          "output_type": "stream",
          "name": "stdout",
          "text": [
            "Drive already mounted at /content/drive; to attempt to forcibly remount, call drive.mount(\"/content/drive\", force_remount=True).\n"
          ]
        }
      ]
    },
    {
      "cell_type": "code",
      "source": [
        "vendedores = spark.read.csv('drive/MyDrive/Colab Notebooks/colab_ebac/spark_data/vendedores.csv', inferSchema=True, header=True)\n",
        "itens_pedido = spark.read.csv('drive/MyDrive/Colab Notebooks/colab_ebac/spark_data/itens_pedido.csv', inferSchema=True, header=True)"
      ],
      "metadata": {
        "id": "8_h0sHHciyYF"
      },
      "execution_count": 9,
      "outputs": []
    },
    {
      "cell_type": "code",
      "source": [
        "vendedores.show()\n",
        "vendedores.printSchema()"
      ],
      "metadata": {
        "colab": {
          "base_uri": "https://localhost:8080/"
        },
        "id": "zyusRc35j6aV",
        "outputId": "8f02a484-3112-4104-a712-099a279f1459"
      },
      "execution_count": 10,
      "outputs": [
        {
          "output_type": "stream",
          "name": "stdout",
          "text": [
            "+--------------------+------------+-----------------+---------------+\n",
            "|         id_vendedor|cep_vendedor|  cidade_vendedor|estado_vendedor|\n",
            "+--------------------+------------+-----------------+---------------+\n",
            "|3442f8959a84dea7e...|       13023|         campinas|             SP|\n",
            "|d1b65fc7debc3361e...|       13844|       mogi guacu|             SP|\n",
            "|ce3ad9de960102d06...|       20031|   rio de janeiro|             RJ|\n",
            "|c0f3eea2e14555b6f...|        4195|        sao paulo|             SP|\n",
            "|51a04a8a6bdcb23de...|       12914|braganca paulista|             SP|\n",
            "|c240c4061717ac180...|       20920|   rio de janeiro|             RJ|\n",
            "|e49c26c3edfa46d22...|       55325|           brejao|             PE|\n",
            "|1b938a7ec6ac5061a...|       16304|        penapolis|             SP|\n",
            "|768a86e36ad6aae3d...|        1529|        sao paulo|             SP|\n",
            "|ccc4bbb5f32a6ab2b...|       80310|         curitiba|             PR|\n",
            "|8cb7c5ddf41f4d506...|       75110|         anapolis|             GO|\n",
            "|a7a9b880c49781da6...|       13530|        itirapina|             SP|\n",
            "|8bd0f31cf0a614c65...|        1222|        sao paulo|             SP|\n",
            "|05a48cc8859962767...|        5372|        sao paulo|             SP|\n",
            "|7b8e8ec35bad4b0ef...|       88705|          tubarao|             SC|\n",
            "|1444c08e64d55fb3c...|       42738| lauro de freitas|             BA|\n",
            "|166e8f1381e096519...|       88780|         imbituba|             SC|\n",
            "|e38db885400cd35c7...|       70740|         brasilia|             DF|\n",
            "|d2e753bb80b7d4faa...|       45810|     porto seguro|             BA|\n",
            "|f9ec7093df3a7b346...|        5138|        sao paulo|             SP|\n",
            "+--------------------+------------+-----------------+---------------+\n",
            "only showing top 20 rows\n",
            "\n",
            "root\n",
            " |-- id_vendedor: string (nullable = true)\n",
            " |-- cep_vendedor: integer (nullable = true)\n",
            " |-- cidade_vendedor: string (nullable = true)\n",
            " |-- estado_vendedor: string (nullable = true)\n",
            "\n"
          ]
        }
      ]
    },
    {
      "cell_type": "code",
      "source": [
        "vendedores_tratados_df = vendedores.withColumn('cep_vendedor', vendedores.cep_vendedor.cast('string'))\n",
        "\n",
        "vendedores_tratados_df = vendedores_tratados_df.withColumn('cidade_vendedor_tratado', upper(vendedores['cidade_vendedor']))\n",
        "\n",
        "vendedores_tratados_df.show()\n",
        "vendedores_tratados_df.printSchema()"
      ],
      "metadata": {
        "colab": {
          "base_uri": "https://localhost:8080/"
        },
        "id": "w2tzTrUXkBZJ",
        "outputId": "497158de-84c8-4298-c4b6-ae57b80940b8"
      },
      "execution_count": 11,
      "outputs": [
        {
          "output_type": "stream",
          "name": "stdout",
          "text": [
            "+--------------------+------------+-----------------+---------------+-----------------------+\n",
            "|         id_vendedor|cep_vendedor|  cidade_vendedor|estado_vendedor|cidade_vendedor_tratado|\n",
            "+--------------------+------------+-----------------+---------------+-----------------------+\n",
            "|3442f8959a84dea7e...|       13023|         campinas|             SP|               CAMPINAS|\n",
            "|d1b65fc7debc3361e...|       13844|       mogi guacu|             SP|             MOGI GUACU|\n",
            "|ce3ad9de960102d06...|       20031|   rio de janeiro|             RJ|         RIO DE JANEIRO|\n",
            "|c0f3eea2e14555b6f...|        4195|        sao paulo|             SP|              SAO PAULO|\n",
            "|51a04a8a6bdcb23de...|       12914|braganca paulista|             SP|      BRAGANCA PAULISTA|\n",
            "|c240c4061717ac180...|       20920|   rio de janeiro|             RJ|         RIO DE JANEIRO|\n",
            "|e49c26c3edfa46d22...|       55325|           brejao|             PE|                 BREJAO|\n",
            "|1b938a7ec6ac5061a...|       16304|        penapolis|             SP|              PENAPOLIS|\n",
            "|768a86e36ad6aae3d...|        1529|        sao paulo|             SP|              SAO PAULO|\n",
            "|ccc4bbb5f32a6ab2b...|       80310|         curitiba|             PR|               CURITIBA|\n",
            "|8cb7c5ddf41f4d506...|       75110|         anapolis|             GO|               ANAPOLIS|\n",
            "|a7a9b880c49781da6...|       13530|        itirapina|             SP|              ITIRAPINA|\n",
            "|8bd0f31cf0a614c65...|        1222|        sao paulo|             SP|              SAO PAULO|\n",
            "|05a48cc8859962767...|        5372|        sao paulo|             SP|              SAO PAULO|\n",
            "|7b8e8ec35bad4b0ef...|       88705|          tubarao|             SC|                TUBARAO|\n",
            "|1444c08e64d55fb3c...|       42738| lauro de freitas|             BA|       LAURO DE FREITAS|\n",
            "|166e8f1381e096519...|       88780|         imbituba|             SC|               IMBITUBA|\n",
            "|e38db885400cd35c7...|       70740|         brasilia|             DF|               BRASILIA|\n",
            "|d2e753bb80b7d4faa...|       45810|     porto seguro|             BA|           PORTO SEGURO|\n",
            "|f9ec7093df3a7b346...|        5138|        sao paulo|             SP|              SAO PAULO|\n",
            "+--------------------+------------+-----------------+---------------+-----------------------+\n",
            "only showing top 20 rows\n",
            "\n",
            "root\n",
            " |-- id_vendedor: string (nullable = true)\n",
            " |-- cep_vendedor: string (nullable = true)\n",
            " |-- cidade_vendedor: string (nullable = true)\n",
            " |-- estado_vendedor: string (nullable = true)\n",
            " |-- cidade_vendedor_tratado: string (nullable = true)\n",
            "\n"
          ]
        }
      ]
    },
    {
      "cell_type": "code",
      "source": [
        "itens_pedido.show()\n",
        "itens_pedido.printSchema()"
      ],
      "metadata": {
        "colab": {
          "base_uri": "https://localhost:8080/"
        },
        "id": "MWGT6_FPk-io",
        "outputId": "f5349422-a84c-41bc-961e-0422738e4e04"
      },
      "execution_count": 12,
      "outputs": [
        {
          "output_type": "stream",
          "name": "stdout",
          "text": [
            "+--------------------+--------------+--------------------+--------------------+-------------------+------+-----------+\n",
            "|           id_pedido|item_id_pedido|          id_produto|         id_vendedor|  data_limite_envio| preco|valor_frete|\n",
            "+--------------------+--------------+--------------------+--------------------+-------------------+------+-----------+\n",
            "|00010242fe8c5a6d1...|             1|4244733e06e7ecb49...|48436dade18ac8b2b...|2017-09-19 09:45:35|  58.9|      13.29|\n",
            "|00018f77f2f0320c5...|             1|e5f2d52b802189ee6...|dd7ddc04e1b6c2c61...|2017-05-03 11:05:13| 239.9|      19.93|\n",
            "|000229ec398224ef6...|             1|c777355d18b72b67a...|5b51032eddd242adc...|2018-01-18 14:48:30| 199.0|      17.87|\n",
            "|00024acbcdf0a6daa...|             1|7634da152a4610f15...|9d7a1d34a50524090...|2018-08-15 10:10:18| 12.99|      12.79|\n",
            "|00042b26cf59d7ce6...|             1|ac6c3623068f30de0...|df560393f3a51e745...|2017-02-13 13:57:51| 199.9|      18.14|\n",
            "|00048cc3ae777c65d...|             1|ef92defde845ab845...|6426d21aca402a131...|2017-05-23 03:55:27|  21.9|      12.69|\n",
            "|00054e8431b9d7675...|             1|8d4f2bb7e93e6710a...|7040e82f899a04d1b...|2017-12-14 12:10:31|  19.9|      11.85|\n",
            "|000576fe39319847c...|             1|557d850972a7d6f79...|5996cddab893a4652...|2018-07-10 12:30:45| 810.0|      70.75|\n",
            "|0005a1a1728c9d785...|             1|310ae3c140ff94b03...|a416b6a846a117243...|2018-03-26 18:31:29|145.95|      11.65|\n",
            "|0005f50442cb953dc...|             1|4535b0e1091c278df...|ba143b05f0110f0dc...|2018-07-06 14:10:56| 53.99|       11.4|\n",
            "|00061f2a7bc09da83...|             1|d63c1011f49d98b97...|cc419e0650a3c5ba7...|2018-03-29 22:28:09| 59.99|       8.88|\n",
            "|00063b381e2406b52...|             1|f177554ea93259a5b...|8602a61d680a10a82...|2018-07-31 17:30:39|  45.0|      12.98|\n",
            "|0006ec9db01a64e59...|             1|99a4788cb24856965...|4a3ca9315b744ce9f...|2018-07-26 17:24:20|  74.0|      23.32|\n",
            "|0008288aa423d2a3f...|             1|368c6c730842d7801...|1f50f920176fa81da...|2018-02-21 02:55:52|  49.9|      13.37|\n",
            "|0008288aa423d2a3f...|             2|368c6c730842d7801...|1f50f920176fa81da...|2018-02-21 02:55:52|  49.9|      13.37|\n",
            "|0009792311464db53...|             1|8cab8abac59158715...|530ec6109d11eaaf8...|2018-08-17 12:15:10|  99.9|      27.65|\n",
            "|0009c9a17f916a706...|             1|3f27ac8e699df3d30...|fcb5ace8bcc92f757...|2018-05-02 09:31:53| 639.0|      11.34|\n",
            "|000aed2e25dbad2f9...|             1|4fa33915031a8cde0...|fe2032dab1a61af87...|2018-05-16 20:57:03| 144.0|       8.77|\n",
            "|000c3e6612759851c...|             1|b50c950aba0dcead2...|218d46b86c1881d02...|2017-08-21 03:33:13|  99.0|      13.71|\n",
            "|000e562887b1f2006...|             1|5ed9eaf534f6936b5...|8cbac7e12637ed9cf...|2018-02-28 12:08:37|  25.0|      16.11|\n",
            "+--------------------+--------------+--------------------+--------------------+-------------------+------+-----------+\n",
            "only showing top 20 rows\n",
            "\n",
            "root\n",
            " |-- id_pedido: string (nullable = true)\n",
            " |-- item_id_pedido: integer (nullable = true)\n",
            " |-- id_produto: string (nullable = true)\n",
            " |-- id_vendedor: string (nullable = true)\n",
            " |-- data_limite_envio: timestamp (nullable = true)\n",
            " |-- preco: double (nullable = true)\n",
            " |-- valor_frete: double (nullable = true)\n",
            "\n"
          ]
        }
      ]
    },
    {
      "cell_type": "code",
      "source": [
        "itens_pedido_tratados_df = itens_pedido.\\\n",
        "    withColumn('preco', col('preco').cast('float')).\\\n",
        "    withColumn('valor_frete', col('valor_frete').cast('float')).\\\n",
        "    withColumnRenamed('valor_frete', 'frete').\\\n",
        "    withColumn('valor_total', col('preco') + col('frete'))\n",
        "\n",
        "itens_pedido_tratados_df.show()\n",
        "itens_pedido_tratados_df.printSchema()"
      ],
      "metadata": {
        "colab": {
          "base_uri": "https://localhost:8080/"
        },
        "id": "4FYgsrB_lMZI",
        "outputId": "9dea9f65-d88a-4b73-f5bd-184467a823d3"
      },
      "execution_count": 13,
      "outputs": [
        {
          "output_type": "stream",
          "name": "stdout",
          "text": [
            "+--------------------+--------------+--------------------+--------------------+-------------------+------+-----+-----------+\n",
            "|           id_pedido|item_id_pedido|          id_produto|         id_vendedor|  data_limite_envio| preco|frete|valor_total|\n",
            "+--------------------+--------------+--------------------+--------------------+-------------------+------+-----+-----------+\n",
            "|00010242fe8c5a6d1...|             1|4244733e06e7ecb49...|48436dade18ac8b2b...|2017-09-19 09:45:35|  58.9|13.29|      72.19|\n",
            "|00018f77f2f0320c5...|             1|e5f2d52b802189ee6...|dd7ddc04e1b6c2c61...|2017-05-03 11:05:13| 239.9|19.93|     259.83|\n",
            "|000229ec398224ef6...|             1|c777355d18b72b67a...|5b51032eddd242adc...|2018-01-18 14:48:30| 199.0|17.87|     216.87|\n",
            "|00024acbcdf0a6daa...|             1|7634da152a4610f15...|9d7a1d34a50524090...|2018-08-15 10:10:18| 12.99|12.79|  25.779999|\n",
            "|00042b26cf59d7ce6...|             1|ac6c3623068f30de0...|df560393f3a51e745...|2017-02-13 13:57:51| 199.9|18.14|     218.04|\n",
            "|00048cc3ae777c65d...|             1|ef92defde845ab845...|6426d21aca402a131...|2017-05-23 03:55:27|  21.9|12.69|      34.59|\n",
            "|00054e8431b9d7675...|             1|8d4f2bb7e93e6710a...|7040e82f899a04d1b...|2017-12-14 12:10:31|  19.9|11.85|      31.75|\n",
            "|000576fe39319847c...|             1|557d850972a7d6f79...|5996cddab893a4652...|2018-07-10 12:30:45| 810.0|70.75|     880.75|\n",
            "|0005a1a1728c9d785...|             1|310ae3c140ff94b03...|a416b6a846a117243...|2018-03-26 18:31:29|145.95|11.65|  157.59999|\n",
            "|0005f50442cb953dc...|             1|4535b0e1091c278df...|ba143b05f0110f0dc...|2018-07-06 14:10:56| 53.99| 11.4|      65.39|\n",
            "|00061f2a7bc09da83...|             1|d63c1011f49d98b97...|cc419e0650a3c5ba7...|2018-03-29 22:28:09| 59.99| 8.88|      68.87|\n",
            "|00063b381e2406b52...|             1|f177554ea93259a5b...|8602a61d680a10a82...|2018-07-31 17:30:39|  45.0|12.98|      57.98|\n",
            "|0006ec9db01a64e59...|             1|99a4788cb24856965...|4a3ca9315b744ce9f...|2018-07-26 17:24:20|  74.0|23.32|      97.32|\n",
            "|0008288aa423d2a3f...|             1|368c6c730842d7801...|1f50f920176fa81da...|2018-02-21 02:55:52|  49.9|13.37|      63.27|\n",
            "|0008288aa423d2a3f...|             2|368c6c730842d7801...|1f50f920176fa81da...|2018-02-21 02:55:52|  49.9|13.37|      63.27|\n",
            "|0009792311464db53...|             1|8cab8abac59158715...|530ec6109d11eaaf8...|2018-08-17 12:15:10|  99.9|27.65|     127.55|\n",
            "|0009c9a17f916a706...|             1|3f27ac8e699df3d30...|fcb5ace8bcc92f757...|2018-05-02 09:31:53| 639.0|11.34|     650.34|\n",
            "|000aed2e25dbad2f9...|             1|4fa33915031a8cde0...|fe2032dab1a61af87...|2018-05-16 20:57:03| 144.0| 8.77|     152.77|\n",
            "|000c3e6612759851c...|             1|b50c950aba0dcead2...|218d46b86c1881d02...|2017-08-21 03:33:13|  99.0|13.71|     112.71|\n",
            "|000e562887b1f2006...|             1|5ed9eaf534f6936b5...|8cbac7e12637ed9cf...|2018-02-28 12:08:37|  25.0|16.11|      41.11|\n",
            "+--------------------+--------------+--------------------+--------------------+-------------------+------+-----+-----------+\n",
            "only showing top 20 rows\n",
            "\n",
            "root\n",
            " |-- id_pedido: string (nullable = true)\n",
            " |-- item_id_pedido: integer (nullable = true)\n",
            " |-- id_produto: string (nullable = true)\n",
            " |-- id_vendedor: string (nullable = true)\n",
            " |-- data_limite_envio: timestamp (nullable = true)\n",
            " |-- preco: float (nullable = true)\n",
            " |-- frete: float (nullable = true)\n",
            " |-- valor_total: float (nullable = true)\n",
            "\n"
          ]
        }
      ]
    },
    {
      "cell_type": "code",
      "source": [
        "from pyspark.sql.functions import to_date, date_format\n",
        "\n",
        "itens_pedido_data_df = itens_pedido_tratados_df.withColumn('data', to_date(col('data_limite_envio')))\n",
        "\n",
        "itens_pedido_data_df = itens_pedido_data_df.withColumn('data_br', date_format(col('data_limite_envio'), 'dd/MM/yyyy'))\n",
        "itens_pedido_data_df = itens_pedido_data_df.withColumn('hora', date_format(col('data_limite_envio'), 'HH:mm:ss'))\n",
        "\n",
        "itens_pedido_data_df.show()\n",
        "itens_pedido_data_df.printSchema()"
      ],
      "metadata": {
        "colab": {
          "base_uri": "https://localhost:8080/"
        },
        "id": "2EAEuUKCmioG",
        "outputId": "fa222087-4aa2-4daf-a558-ac144fd9fb47"
      },
      "execution_count": 14,
      "outputs": [
        {
          "output_type": "stream",
          "name": "stdout",
          "text": [
            "+--------------------+--------------+--------------------+--------------------+-------------------+------+-----+-----------+----------+----------+--------+\n",
            "|           id_pedido|item_id_pedido|          id_produto|         id_vendedor|  data_limite_envio| preco|frete|valor_total|      data|   data_br|    hora|\n",
            "+--------------------+--------------+--------------------+--------------------+-------------------+------+-----+-----------+----------+----------+--------+\n",
            "|00010242fe8c5a6d1...|             1|4244733e06e7ecb49...|48436dade18ac8b2b...|2017-09-19 09:45:35|  58.9|13.29|      72.19|2017-09-19|19/09/2017|09:45:35|\n",
            "|00018f77f2f0320c5...|             1|e5f2d52b802189ee6...|dd7ddc04e1b6c2c61...|2017-05-03 11:05:13| 239.9|19.93|     259.83|2017-05-03|03/05/2017|11:05:13|\n",
            "|000229ec398224ef6...|             1|c777355d18b72b67a...|5b51032eddd242adc...|2018-01-18 14:48:30| 199.0|17.87|     216.87|2018-01-18|18/01/2018|14:48:30|\n",
            "|00024acbcdf0a6daa...|             1|7634da152a4610f15...|9d7a1d34a50524090...|2018-08-15 10:10:18| 12.99|12.79|  25.779999|2018-08-15|15/08/2018|10:10:18|\n",
            "|00042b26cf59d7ce6...|             1|ac6c3623068f30de0...|df560393f3a51e745...|2017-02-13 13:57:51| 199.9|18.14|     218.04|2017-02-13|13/02/2017|13:57:51|\n",
            "|00048cc3ae777c65d...|             1|ef92defde845ab845...|6426d21aca402a131...|2017-05-23 03:55:27|  21.9|12.69|      34.59|2017-05-23|23/05/2017|03:55:27|\n",
            "|00054e8431b9d7675...|             1|8d4f2bb7e93e6710a...|7040e82f899a04d1b...|2017-12-14 12:10:31|  19.9|11.85|      31.75|2017-12-14|14/12/2017|12:10:31|\n",
            "|000576fe39319847c...|             1|557d850972a7d6f79...|5996cddab893a4652...|2018-07-10 12:30:45| 810.0|70.75|     880.75|2018-07-10|10/07/2018|12:30:45|\n",
            "|0005a1a1728c9d785...|             1|310ae3c140ff94b03...|a416b6a846a117243...|2018-03-26 18:31:29|145.95|11.65|  157.59999|2018-03-26|26/03/2018|18:31:29|\n",
            "|0005f50442cb953dc...|             1|4535b0e1091c278df...|ba143b05f0110f0dc...|2018-07-06 14:10:56| 53.99| 11.4|      65.39|2018-07-06|06/07/2018|14:10:56|\n",
            "|00061f2a7bc09da83...|             1|d63c1011f49d98b97...|cc419e0650a3c5ba7...|2018-03-29 22:28:09| 59.99| 8.88|      68.87|2018-03-29|29/03/2018|22:28:09|\n",
            "|00063b381e2406b52...|             1|f177554ea93259a5b...|8602a61d680a10a82...|2018-07-31 17:30:39|  45.0|12.98|      57.98|2018-07-31|31/07/2018|17:30:39|\n",
            "|0006ec9db01a64e59...|             1|99a4788cb24856965...|4a3ca9315b744ce9f...|2018-07-26 17:24:20|  74.0|23.32|      97.32|2018-07-26|26/07/2018|17:24:20|\n",
            "|0008288aa423d2a3f...|             1|368c6c730842d7801...|1f50f920176fa81da...|2018-02-21 02:55:52|  49.9|13.37|      63.27|2018-02-21|21/02/2018|02:55:52|\n",
            "|0008288aa423d2a3f...|             2|368c6c730842d7801...|1f50f920176fa81da...|2018-02-21 02:55:52|  49.9|13.37|      63.27|2018-02-21|21/02/2018|02:55:52|\n",
            "|0009792311464db53...|             1|8cab8abac59158715...|530ec6109d11eaaf8...|2018-08-17 12:15:10|  99.9|27.65|     127.55|2018-08-17|17/08/2018|12:15:10|\n",
            "|0009c9a17f916a706...|             1|3f27ac8e699df3d30...|fcb5ace8bcc92f757...|2018-05-02 09:31:53| 639.0|11.34|     650.34|2018-05-02|02/05/2018|09:31:53|\n",
            "|000aed2e25dbad2f9...|             1|4fa33915031a8cde0...|fe2032dab1a61af87...|2018-05-16 20:57:03| 144.0| 8.77|     152.77|2018-05-16|16/05/2018|20:57:03|\n",
            "|000c3e6612759851c...|             1|b50c950aba0dcead2...|218d46b86c1881d02...|2017-08-21 03:33:13|  99.0|13.71|     112.71|2017-08-21|21/08/2017|03:33:13|\n",
            "|000e562887b1f2006...|             1|5ed9eaf534f6936b5...|8cbac7e12637ed9cf...|2018-02-28 12:08:37|  25.0|16.11|      41.11|2018-02-28|28/02/2018|12:08:37|\n",
            "+--------------------+--------------+--------------------+--------------------+-------------------+------+-----+-----------+----------+----------+--------+\n",
            "only showing top 20 rows\n",
            "\n",
            "root\n",
            " |-- id_pedido: string (nullable = true)\n",
            " |-- item_id_pedido: integer (nullable = true)\n",
            " |-- id_produto: string (nullable = true)\n",
            " |-- id_vendedor: string (nullable = true)\n",
            " |-- data_limite_envio: timestamp (nullable = true)\n",
            " |-- preco: float (nullable = true)\n",
            " |-- frete: float (nullable = true)\n",
            " |-- valor_total: float (nullable = true)\n",
            " |-- data: date (nullable = true)\n",
            " |-- data_br: string (nullable = true)\n",
            " |-- hora: string (nullable = true)\n",
            "\n"
          ]
        }
      ]
    },
    {
      "cell_type": "code",
      "source": [
        "from pyspark.sql.functions import unix_timestamp, from_unixtime\n",
        "\n",
        "itens_pedido_data_reverso_df = itens_pedido_data_df.withColumn('timestamp', unix_timestamp(col('data_br'), 'dd/MM/yyyy'))\n",
        "\n",
        "itens_pedido_data_reverso_df = itens_pedido_data_reverso_df.withColumn('data_formatada', from_unixtime('timestamp', 'yyyy-MM-dd')).withColumn('data_formatada', col('data_formatada').cast('date'))\n",
        "\n",
        "itens_pedido_data_reverso_df.show()\n",
        "itens_pedido_data_reverso_df.printSchema()"
      ],
      "metadata": {
        "colab": {
          "base_uri": "https://localhost:8080/"
        },
        "id": "7fP37UZnod0V",
        "outputId": "84b7dc6c-e0f7-450b-8ba1-5740efc114bf"
      },
      "execution_count": 16,
      "outputs": [
        {
          "output_type": "stream",
          "name": "stdout",
          "text": [
            "+--------------------+--------------+--------------------+--------------------+-------------------+------+-----+-----------+----------+----------+--------+----------+--------------+\n",
            "|           id_pedido|item_id_pedido|          id_produto|         id_vendedor|  data_limite_envio| preco|frete|valor_total|      data|   data_br|    hora| timestamp|data_formatada|\n",
            "+--------------------+--------------+--------------------+--------------------+-------------------+------+-----+-----------+----------+----------+--------+----------+--------------+\n",
            "|00010242fe8c5a6d1...|             1|4244733e06e7ecb49...|48436dade18ac8b2b...|2017-09-19 09:45:35|  58.9|13.29|      72.19|2017-09-19|19/09/2017|09:45:35|1505779200|    2017-09-19|\n",
            "|00018f77f2f0320c5...|             1|e5f2d52b802189ee6...|dd7ddc04e1b6c2c61...|2017-05-03 11:05:13| 239.9|19.93|     259.83|2017-05-03|03/05/2017|11:05:13|1493769600|    2017-05-03|\n",
            "|000229ec398224ef6...|             1|c777355d18b72b67a...|5b51032eddd242adc...|2018-01-18 14:48:30| 199.0|17.87|     216.87|2018-01-18|18/01/2018|14:48:30|1516233600|    2018-01-18|\n",
            "|00024acbcdf0a6daa...|             1|7634da152a4610f15...|9d7a1d34a50524090...|2018-08-15 10:10:18| 12.99|12.79|  25.779999|2018-08-15|15/08/2018|10:10:18|1534291200|    2018-08-15|\n",
            "|00042b26cf59d7ce6...|             1|ac6c3623068f30de0...|df560393f3a51e745...|2017-02-13 13:57:51| 199.9|18.14|     218.04|2017-02-13|13/02/2017|13:57:51|1486944000|    2017-02-13|\n",
            "|00048cc3ae777c65d...|             1|ef92defde845ab845...|6426d21aca402a131...|2017-05-23 03:55:27|  21.9|12.69|      34.59|2017-05-23|23/05/2017|03:55:27|1495497600|    2017-05-23|\n",
            "|00054e8431b9d7675...|             1|8d4f2bb7e93e6710a...|7040e82f899a04d1b...|2017-12-14 12:10:31|  19.9|11.85|      31.75|2017-12-14|14/12/2017|12:10:31|1513209600|    2017-12-14|\n",
            "|000576fe39319847c...|             1|557d850972a7d6f79...|5996cddab893a4652...|2018-07-10 12:30:45| 810.0|70.75|     880.75|2018-07-10|10/07/2018|12:30:45|1531180800|    2018-07-10|\n",
            "|0005a1a1728c9d785...|             1|310ae3c140ff94b03...|a416b6a846a117243...|2018-03-26 18:31:29|145.95|11.65|  157.59999|2018-03-26|26/03/2018|18:31:29|1522022400|    2018-03-26|\n",
            "|0005f50442cb953dc...|             1|4535b0e1091c278df...|ba143b05f0110f0dc...|2018-07-06 14:10:56| 53.99| 11.4|      65.39|2018-07-06|06/07/2018|14:10:56|1530835200|    2018-07-06|\n",
            "|00061f2a7bc09da83...|             1|d63c1011f49d98b97...|cc419e0650a3c5ba7...|2018-03-29 22:28:09| 59.99| 8.88|      68.87|2018-03-29|29/03/2018|22:28:09|1522281600|    2018-03-29|\n",
            "|00063b381e2406b52...|             1|f177554ea93259a5b...|8602a61d680a10a82...|2018-07-31 17:30:39|  45.0|12.98|      57.98|2018-07-31|31/07/2018|17:30:39|1532995200|    2018-07-31|\n",
            "|0006ec9db01a64e59...|             1|99a4788cb24856965...|4a3ca9315b744ce9f...|2018-07-26 17:24:20|  74.0|23.32|      97.32|2018-07-26|26/07/2018|17:24:20|1532563200|    2018-07-26|\n",
            "|0008288aa423d2a3f...|             1|368c6c730842d7801...|1f50f920176fa81da...|2018-02-21 02:55:52|  49.9|13.37|      63.27|2018-02-21|21/02/2018|02:55:52|1519171200|    2018-02-21|\n",
            "|0008288aa423d2a3f...|             2|368c6c730842d7801...|1f50f920176fa81da...|2018-02-21 02:55:52|  49.9|13.37|      63.27|2018-02-21|21/02/2018|02:55:52|1519171200|    2018-02-21|\n",
            "|0009792311464db53...|             1|8cab8abac59158715...|530ec6109d11eaaf8...|2018-08-17 12:15:10|  99.9|27.65|     127.55|2018-08-17|17/08/2018|12:15:10|1534464000|    2018-08-17|\n",
            "|0009c9a17f916a706...|             1|3f27ac8e699df3d30...|fcb5ace8bcc92f757...|2018-05-02 09:31:53| 639.0|11.34|     650.34|2018-05-02|02/05/2018|09:31:53|1525219200|    2018-05-02|\n",
            "|000aed2e25dbad2f9...|             1|4fa33915031a8cde0...|fe2032dab1a61af87...|2018-05-16 20:57:03| 144.0| 8.77|     152.77|2018-05-16|16/05/2018|20:57:03|1526428800|    2018-05-16|\n",
            "|000c3e6612759851c...|             1|b50c950aba0dcead2...|218d46b86c1881d02...|2017-08-21 03:33:13|  99.0|13.71|     112.71|2017-08-21|21/08/2017|03:33:13|1503273600|    2017-08-21|\n",
            "|000e562887b1f2006...|             1|5ed9eaf534f6936b5...|8cbac7e12637ed9cf...|2018-02-28 12:08:37|  25.0|16.11|      41.11|2018-02-28|28/02/2018|12:08:37|1519776000|    2018-02-28|\n",
            "+--------------------+--------------+--------------------+--------------------+-------------------+------+-----+-----------+----------+----------+--------+----------+--------------+\n",
            "only showing top 20 rows\n",
            "\n",
            "root\n",
            " |-- id_pedido: string (nullable = true)\n",
            " |-- item_id_pedido: integer (nullable = true)\n",
            " |-- id_produto: string (nullable = true)\n",
            " |-- id_vendedor: string (nullable = true)\n",
            " |-- data_limite_envio: timestamp (nullable = true)\n",
            " |-- preco: float (nullable = true)\n",
            " |-- frete: float (nullable = true)\n",
            " |-- valor_total: float (nullable = true)\n",
            " |-- data: date (nullable = true)\n",
            " |-- data_br: string (nullable = true)\n",
            " |-- hora: string (nullable = true)\n",
            " |-- timestamp: long (nullable = true)\n",
            " |-- data_formatada: date (nullable = true)\n",
            "\n"
          ]
        }
      ]
    },
    {
      "cell_type": "code",
      "source": [
        "itens_pedido_data_df.write.mode('overwrite').option('header', 'true').csv('/drive/MyDrive/Colab Notebooks/colab_ebac/spark_data/output/itens_pedido_tratada_csv')"
      ],
      "metadata": {
        "id": "1QLTWtpZrhja"
      },
      "execution_count": 17,
      "outputs": []
    },
    {
      "cell_type": "code",
      "source": [
        "spark.read.option('header', 'true').csv('/drive/MyDrive/Colab Notebooks/colab_ebac/spark_data/output/itens_pedido_tratada_csv').show()"
      ],
      "metadata": {
        "colab": {
          "base_uri": "https://localhost:8080/"
        },
        "id": "ae0WV4DZsNi6",
        "outputId": "75b655e6-d700-420a-9ba8-a6b3a290e83e"
      },
      "execution_count": 19,
      "outputs": [
        {
          "output_type": "stream",
          "name": "stdout",
          "text": [
            "+--------------------+--------------+--------------------+--------------------+--------------------+------+-----+-----------+----------+----------+--------+\n",
            "|           id_pedido|item_id_pedido|          id_produto|         id_vendedor|   data_limite_envio| preco|frete|valor_total|      data|   data_br|    hora|\n",
            "+--------------------+--------------+--------------------+--------------------+--------------------+------+-----+-----------+----------+----------+--------+\n",
            "|00010242fe8c5a6d1...|             1|4244733e06e7ecb49...|48436dade18ac8b2b...|2017-09-19T09:45:...|  58.9|13.29|      72.19|2017-09-19|19/09/2017|09:45:35|\n",
            "|00018f77f2f0320c5...|             1|e5f2d52b802189ee6...|dd7ddc04e1b6c2c61...|2017-05-03T11:05:...| 239.9|19.93|     259.83|2017-05-03|03/05/2017|11:05:13|\n",
            "|000229ec398224ef6...|             1|c777355d18b72b67a...|5b51032eddd242adc...|2018-01-18T14:48:...| 199.0|17.87|     216.87|2018-01-18|18/01/2018|14:48:30|\n",
            "|00024acbcdf0a6daa...|             1|7634da152a4610f15...|9d7a1d34a50524090...|2018-08-15T10:10:...| 12.99|12.79|  25.779999|2018-08-15|15/08/2018|10:10:18|\n",
            "|00042b26cf59d7ce6...|             1|ac6c3623068f30de0...|df560393f3a51e745...|2017-02-13T13:57:...| 199.9|18.14|     218.04|2017-02-13|13/02/2017|13:57:51|\n",
            "|00048cc3ae777c65d...|             1|ef92defde845ab845...|6426d21aca402a131...|2017-05-23T03:55:...|  21.9|12.69|      34.59|2017-05-23|23/05/2017|03:55:27|\n",
            "|00054e8431b9d7675...|             1|8d4f2bb7e93e6710a...|7040e82f899a04d1b...|2017-12-14T12:10:...|  19.9|11.85|      31.75|2017-12-14|14/12/2017|12:10:31|\n",
            "|000576fe39319847c...|             1|557d850972a7d6f79...|5996cddab893a4652...|2018-07-10T12:30:...| 810.0|70.75|     880.75|2018-07-10|10/07/2018|12:30:45|\n",
            "|0005a1a1728c9d785...|             1|310ae3c140ff94b03...|a416b6a846a117243...|2018-03-26T18:31:...|145.95|11.65|  157.59999|2018-03-26|26/03/2018|18:31:29|\n",
            "|0005f50442cb953dc...|             1|4535b0e1091c278df...|ba143b05f0110f0dc...|2018-07-06T14:10:...| 53.99| 11.4|      65.39|2018-07-06|06/07/2018|14:10:56|\n",
            "|00061f2a7bc09da83...|             1|d63c1011f49d98b97...|cc419e0650a3c5ba7...|2018-03-29T22:28:...| 59.99| 8.88|      68.87|2018-03-29|29/03/2018|22:28:09|\n",
            "|00063b381e2406b52...|             1|f177554ea93259a5b...|8602a61d680a10a82...|2018-07-31T17:30:...|  45.0|12.98|      57.98|2018-07-31|31/07/2018|17:30:39|\n",
            "|0006ec9db01a64e59...|             1|99a4788cb24856965...|4a3ca9315b744ce9f...|2018-07-26T17:24:...|  74.0|23.32|      97.32|2018-07-26|26/07/2018|17:24:20|\n",
            "|0008288aa423d2a3f...|             1|368c6c730842d7801...|1f50f920176fa81da...|2018-02-21T02:55:...|  49.9|13.37|      63.27|2018-02-21|21/02/2018|02:55:52|\n",
            "|0008288aa423d2a3f...|             2|368c6c730842d7801...|1f50f920176fa81da...|2018-02-21T02:55:...|  49.9|13.37|      63.27|2018-02-21|21/02/2018|02:55:52|\n",
            "|0009792311464db53...|             1|8cab8abac59158715...|530ec6109d11eaaf8...|2018-08-17T12:15:...|  99.9|27.65|     127.55|2018-08-17|17/08/2018|12:15:10|\n",
            "|0009c9a17f916a706...|             1|3f27ac8e699df3d30...|fcb5ace8bcc92f757...|2018-05-02T09:31:...| 639.0|11.34|     650.34|2018-05-02|02/05/2018|09:31:53|\n",
            "|000aed2e25dbad2f9...|             1|4fa33915031a8cde0...|fe2032dab1a61af87...|2018-05-16T20:57:...| 144.0| 8.77|     152.77|2018-05-16|16/05/2018|20:57:03|\n",
            "|000c3e6612759851c...|             1|b50c950aba0dcead2...|218d46b86c1881d02...|2017-08-21T03:33:...|  99.0|13.71|     112.71|2017-08-21|21/08/2017|03:33:13|\n",
            "|000e562887b1f2006...|             1|5ed9eaf534f6936b5...|8cbac7e12637ed9cf...|2018-02-28T12:08:...|  25.0|16.11|      41.11|2018-02-28|28/02/2018|12:08:37|\n",
            "+--------------------+--------------+--------------------+--------------------+--------------------+------+-----+-----------+----------+----------+--------+\n",
            "only showing top 20 rows\n",
            "\n"
          ]
        }
      ]
    },
    {
      "cell_type": "code",
      "source": [
        "spark.stop()"
      ],
      "metadata": {
        "id": "SjJZfawNsjfJ"
      },
      "execution_count": 20,
      "outputs": []
    }
  ]
}