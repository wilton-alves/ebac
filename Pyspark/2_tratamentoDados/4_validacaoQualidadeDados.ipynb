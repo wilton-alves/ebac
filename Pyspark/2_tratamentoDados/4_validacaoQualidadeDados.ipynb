{
  "cells": [
    {
      "cell_type": "code",
      "execution_count": null,
      "metadata": {
        "colab": {
          "base_uri": "https://localhost:8080/"
        },
        "id": "hEcl3EwNIJ1s",
        "outputId": "124c1033-485d-4c60-ee13-38249eddfee2"
      },
      "outputs": [
        {
          "name": "stdout",
          "output_type": "stream",
          "text": [
            "Requirement already satisfied: pyspark in /usr/local/lib/python3.11/dist-packages (3.5.4)\n",
            "Requirement already satisfied: py4j==0.10.9.7 in /usr/local/lib/python3.11/dist-packages (from pyspark) (0.10.9.7)\n"
          ]
        }
      ],
      "source": [
        "! pip install pyspark"
      ]
    },
    {
      "cell_type": "code",
      "execution_count": 20,
      "metadata": {
        "id": "fLge9JoCIPhk"
      },
      "outputs": [],
      "source": [
        "import pyspark\n",
        "import pandas as pd\n",
        "from pyspark.sql import SparkSession\n",
        "from pyspark.sql.functions import col, count, when, regexp_extract"
      ]
    },
    {
      "cell_type": "code",
      "execution_count": null,
      "metadata": {
        "id": "zqnhtBUMIuUU"
      },
      "outputs": [],
      "source": [
        "# Conexão com o Google Drive realizada pela interface gráfica"
      ]
    },
    {
      "cell_type": "code",
      "execution_count": 21,
      "metadata": {
        "id": "PuHvWMQ4I2us"
      },
      "outputs": [],
      "source": [
        "spark = SparkSession.builder.getOrCreate()"
      ]
    },
    {
      "cell_type": "code",
      "execution_count": 22,
      "metadata": {
        "id": "0KjqvTLTI8lx"
      },
      "outputs": [],
      "source": [
        "produtos = spark.read.csv('drive/MyDrive/Colab Notebooks/colab_ebac/spark_data/produtos.csv', inferSchema=True, header=True)\n",
        "clientes = spark.read.csv('drive/MyDrive/Colab Notebooks/colab_ebac/spark_data/clientes.csv', inferSchema=True, header=True)\n",
        "itens_pedido = spark.read.csv('drive/MyDrive/Colab Notebooks/colab_ebac/spark_data/itens_pedido.csv', inferSchema=True, header=True)\n",
        "pedidos = spark.read.csv('drive/MyDrive/Colab Notebooks/colab_ebac/spark_data/pedidos.csv', inferSchema=True, header=True)"
      ]
    },
    {
      "cell_type": "code",
      "execution_count": 23,
      "metadata": {
        "colab": {
          "base_uri": "https://localhost:8080/"
        },
        "id": "kIRTcUj_JC1E",
        "outputId": "a32e6074-749e-402d-f5fd-efe814053f3f"
      },
      "outputs": [
        {
          "name": "stdout",
          "output_type": "stream",
          "text": [
            "+--------------------+--------------------+------+------------+\n",
            "|           id_pedido|          id_produto| preco|preco_valido|\n",
            "+--------------------+--------------------+------+------------+\n",
            "|00010242fe8c5a6d1...|4244733e06e7ecb49...|  58.9|      Válido|\n",
            "|00018f77f2f0320c5...|e5f2d52b802189ee6...| 239.9|      Válido|\n",
            "|000229ec398224ef6...|c777355d18b72b67a...| 199.0|      Válido|\n",
            "|00024acbcdf0a6daa...|7634da152a4610f15...| 12.99|      Válido|\n",
            "|00042b26cf59d7ce6...|ac6c3623068f30de0...| 199.9|      Válido|\n",
            "|00048cc3ae777c65d...|ef92defde845ab845...|  21.9|      Válido|\n",
            "|00054e8431b9d7675...|8d4f2bb7e93e6710a...|  19.9|      Válido|\n",
            "|000576fe39319847c...|557d850972a7d6f79...| 810.0|      Válido|\n",
            "|0005a1a1728c9d785...|310ae3c140ff94b03...|145.95|      Válido|\n",
            "|0005f50442cb953dc...|4535b0e1091c278df...| 53.99|      Válido|\n",
            "|00061f2a7bc09da83...|d63c1011f49d98b97...| 59.99|      Válido|\n",
            "|00063b381e2406b52...|f177554ea93259a5b...|  45.0|      Válido|\n",
            "|0006ec9db01a64e59...|99a4788cb24856965...|  74.0|      Válido|\n",
            "|0008288aa423d2a3f...|368c6c730842d7801...|  49.9|      Válido|\n",
            "|0008288aa423d2a3f...|368c6c730842d7801...|  49.9|      Válido|\n",
            "|0009792311464db53...|8cab8abac59158715...|  99.9|      Válido|\n",
            "|0009c9a17f916a706...|3f27ac8e699df3d30...| 639.0|      Válido|\n",
            "|000aed2e25dbad2f9...|4fa33915031a8cde0...| 144.0|      Válido|\n",
            "|000c3e6612759851c...|b50c950aba0dcead2...|  99.0|      Válido|\n",
            "|000e562887b1f2006...|5ed9eaf534f6936b5...|  25.0|      Válido|\n",
            "+--------------------+--------------------+------+------------+\n",
            "only showing top 20 rows\n",
            "\n",
            "+---------+--------------+----------+-----------+-----------------+-----+-----------+------------+\n",
            "|id_pedido|item_id_pedido|id_produto|id_vendedor|data_limite_envio|preco|valor_frete|preco_valido|\n",
            "+---------+--------------+----------+-----------+-----------------+-----+-----------+------------+\n",
            "+---------+--------------+----------+-----------+-----------------+-----+-----------+------------+\n",
            "\n"
          ]
        }
      ],
      "source": [
        "# Verificar se a tabela itens_pedido possui entradas com preço inválido\n",
        "itens_pedido = itens_pedido.withColumn('preco_valido', when(col('preco') > 0, 'Válido').otherwise('Inválido'))\n",
        "\n",
        "itens_pedido.select('id_pedido','id_produto', 'preco', 'preco_valido').show()\n",
        "itens_pedido.filter(col('preco_valido') == 'Inválido').show()"
      ]
    },
    {
      "cell_type": "code",
      "execution_count": 24,
      "metadata": {
        "colab": {
          "base_uri": "https://localhost:8080/"
        },
        "id": "WbYivElfKi-K",
        "outputId": "80ff6d42-be8b-4858-a075-0c5ff317073f"
      },
      "outputs": [
        {
          "name": "stdout",
          "output_type": "stream",
          "text": [
            "+--------------------+-------------+-------------+\n",
            "|           id_pedido|status_pedido|status_valido|\n",
            "+--------------------+-------------+-------------+\n",
            "|e481f51cbdc54678b...|    delivered|       Válido|\n",
            "|53cdb2fc8bc7dce0b...|    delivered|       Válido|\n",
            "|47770eb9100c2d0c4...|    delivered|       Válido|\n",
            "|949d5b44dbf5de918...|    delivered|       Válido|\n",
            "|ad21c59c0840e6cb8...|    delivered|       Válido|\n",
            "|a4591c265e18cb1dc...|    delivered|       Válido|\n",
            "|136cce7faa42fdb2c...|     invoiced|       Válido|\n",
            "|6514b8ad8028c9f2c...|    delivered|       Válido|\n",
            "|76c6e866289321a7c...|    delivered|       Válido|\n",
            "|e69bfb5eb88e0ed6a...|    delivered|       Válido|\n",
            "|e6ce16cb79ec1d90b...|    delivered|       Válido|\n",
            "|34513ce0c4fab462a...|    delivered|       Válido|\n",
            "|82566a660a982b15f...|    delivered|       Válido|\n",
            "|5ff96c15d0b717ac6...|    delivered|       Válido|\n",
            "|432aaf21d85167c2c...|    delivered|       Válido|\n",
            "|dcb36b511fcac050b...|    delivered|       Válido|\n",
            "|403b97836b0c04a62...|    delivered|       Válido|\n",
            "|116f0b09343b49556...|    delivered|       Válido|\n",
            "|85ce859fd6dc634de...|    delivered|       Válido|\n",
            "|83018ec114eee8641...|    delivered|       Válido|\n",
            "+--------------------+-------------+-------------+\n",
            "only showing top 20 rows\n",
            "\n",
            "+--------------------+--------------------+-------------+-------------------+---------------------+-------------------------+--------------------+---------------------+-------------+\n",
            "|           id_pedido|          id_cliente|status_pedido| data_compra_pedido|data_aprovacao_pedido|data_envio_transportadora|data_entrega_cliente|data_estimada_entrega|status_valido|\n",
            "+--------------------+--------------------+-------------+-------------------+---------------------+-------------------------+--------------------+---------------------+-------------+\n",
            "|8e24261a7e58791d1...|64a254d30eed42cd0...|  unavailable|2017-11-16 15:09:28|  2017-11-16 15:26:57|                     NULL|                NULL|  2017-12-05 00:00:00|     Inválido|\n",
            "|c272bcd21c287498b...|9582c5bbecc65eb56...|  unavailable|2018-01-31 11:31:37|  2018-01-31 14:23:50|                     NULL|                NULL|  2018-02-16 00:00:00|     Inválido|\n",
            "|37553832a3a89c9b2...|7607cd563696c27ed...|  unavailable|2017-08-14 17:38:02|  2017-08-17 00:15:18|                     NULL|                NULL|  2017-09-05 00:00:00|     Inválido|\n",
            "|d57e15fb07fd180f0...|470b93b3f1cde8555...|  unavailable|2018-01-08 19:39:03|  2018-01-09 07:26:08|                     NULL|                NULL|  2018-02-06 00:00:00|     Inválido|\n",
            "|2f634e2cebf8c0283...|7353b0fb8e8d9675e...|  unavailable|2017-09-27 20:55:33|  2017-09-28 01:32:50|                     NULL|                NULL|  2017-10-27 00:00:00|     Inválido|\n",
            "|ee0db22a8e742b752...|aae50600d30bf2efe...|  unavailable|2017-08-24 11:04:41|  2017-08-24 11:15:11|                     NULL|                NULL|  2017-09-18 00:00:00|     Inválido|\n",
            "|6ad57aecbae806a7e...|d31dbd02ac052d662...|  unavailable|2017-11-30 07:48:24|  2017-11-30 08:14:42|                     NULL|                NULL|  2017-12-29 00:00:00|     Inválido|\n",
            "|9f3458f0433d4cfa4...|99ebfafde8b9e58fd...|  unavailable|2017-07-18 23:36:55|  2017-07-18 23:50:17|                     NULL|                NULL|  2017-08-09 00:00:00|     Inválido|\n",
            "|f0df036e9be21fc23...|1fa16395beca89233...|  unavailable|2017-02-24 23:39:21|  2017-02-24 23:45:14|                     NULL|                NULL|  2017-04-07 00:00:00|     Inválido|\n",
            "|86f0bcd9b426a2c10...|dd24965dd5aa551df...|  unavailable|2017-03-08 15:13:03|  2017-03-08 15:13:03|                     NULL|                NULL|  2017-03-29 00:00:00|     Inválido|\n",
            "|98fe01bc254b759c1...|30f3b26a06e5a6768...|  unavailable|2017-10-17 18:34:56|  2017-10-18 18:37:08|                     NULL|                NULL|  2017-11-24 00:00:00|     Inválido|\n",
            "|f56dc9034c3962e36...|5c4795c07c0bd317a...|  unavailable|2017-08-10 22:20:51|  2017-08-12 02:09:15|                     NULL|                NULL|  2017-09-14 00:00:00|     Inválido|\n",
            "|0130f0f71fb0e831d...|e56f6dff7b8ac9813...|  unavailable|2017-05-12 10:17:23|  2017-05-13 03:10:13|                     NULL|                NULL|  2017-05-22 00:00:00|     Inválido|\n",
            "|84b8ba39037606b7b...|7c2bf05f6902368e5...|  unavailable|2018-06-27 19:51:02|  2018-06-27 20:11:41|                     NULL|                NULL|  2018-07-12 00:00:00|     Inválido|\n",
            "|2f30c0b1905c65a8f...|e963d0e4f815dcd28...|  unavailable|2017-12-08 09:32:48|  2017-12-09 13:30:49|                     NULL|                NULL|  2018-01-03 00:00:00|     Inválido|\n",
            "|534a0fbe91a806a1d...|d17ae8582d302dbd4...|  unavailable|2018-01-22 02:45:40|  2018-01-23 03:36:43|                     NULL|                NULL|  2018-02-06 00:00:00|     Inválido|\n",
            "|5965bbd72c3ca0d96...|3dd8536c33d454b9a...|  unavailable|2017-01-30 10:29:25|  2017-01-30 11:31:31|                     NULL|                NULL|  2017-03-08 00:00:00|     Inválido|\n",
            "|b07abc8b9acaf00e7...|15308b044c9608fc8...|  unavailable|2017-03-09 17:45:04|  2017-03-09 17:45:04|                     NULL|                NULL|  2017-03-28 00:00:00|     Inválido|\n",
            "|1ff6183537eb3a189...|52ac1d5c2063338b5...|  unavailable|2018-01-02 17:31:02|  2018-01-04 11:57:21|                     NULL|                NULL|  2018-01-31 00:00:00|     Inválido|\n",
            "|2411e5019928e883d...|92ac70cce9e5ac1bb...|  unavailable|2017-09-17 12:15:07|  2017-09-17 12:25:09|                     NULL|                NULL|  2017-10-05 00:00:00|     Inválido|\n",
            "+--------------------+--------------------+-------------+-------------------+---------------------+-------------------------+--------------------+---------------------+-------------+\n",
            "only showing top 20 rows\n",
            "\n"
          ]
        }
      ],
      "source": [
        "# verificar se a tabela pedidos contém entradas com status inválido\n",
        "status_permitidos = ['created', 'approved', 'delivered', 'shipped', 'canceled', 'invoiced', 'processing']\n",
        "\n",
        "pedidos = pedidos.withColumn('status_valido', when(col('status_pedido').isin(status_permitidos), 'Válido').otherwise('Inválido'))\n",
        "\n",
        "pedidos.select('id_pedido', 'status_pedido', 'status_valido').show()\n",
        "\n",
        "pedidos.filter(col('status_valido') == 'Inválido').show()"
      ]
    },
    {
      "cell_type": "code",
      "execution_count": 25,
      "metadata": {
        "colab": {
          "base_uri": "https://localhost:8080/"
        },
        "id": "UayNZfWuMwh4",
        "outputId": "0b3a4360-2242-4905-e6e5-d810f0985b28"
      },
      "outputs": [
        {
          "name": "stdout",
          "output_type": "stream",
          "text": [
            "+----------+\n",
            "|id_cliente|\n",
            "+----------+\n",
            "|     99441|\n",
            "+----------+\n",
            "\n",
            "+----------------+\n",
            "|id_unico_cliente|\n",
            "+----------------+\n",
            "|           99441|\n",
            "+----------------+\n",
            "\n",
            "+-----------+\n",
            "|cep_cliente|\n",
            "+-----------+\n",
            "|      99441|\n",
            "+-----------+\n",
            "\n",
            "+--------------+\n",
            "|cidade_cliente|\n",
            "+--------------+\n",
            "|         99441|\n",
            "+--------------+\n",
            "\n",
            "+--------------+\n",
            "|estado_cliente|\n",
            "+--------------+\n",
            "|         99441|\n",
            "+--------------+\n",
            "\n",
            "+----------+\n",
            "|id_cliente|\n",
            "+----------+\n",
            "|         0|\n",
            "+----------+\n",
            "\n",
            "+----------------+\n",
            "|id_unico_cliente|\n",
            "+----------------+\n",
            "|               0|\n",
            "+----------------+\n",
            "\n",
            "+-----------+\n",
            "|cep_cliente|\n",
            "+-----------+\n",
            "|          0|\n",
            "+-----------+\n",
            "\n",
            "+--------------+\n",
            "|cidade_cliente|\n",
            "+--------------+\n",
            "|             0|\n",
            "+--------------+\n",
            "\n",
            "+--------------+\n",
            "|estado_cliente|\n",
            "+--------------+\n",
            "|             0|\n",
            "+--------------+\n",
            "\n"
          ]
        }
      ],
      "source": [
        "for coluna in clientes.columns:\n",
        "  clientes.select(count(col(coluna)).alias(coluna)).show()\n",
        "\n",
        "# Verificar a quatidade de valores nulos na tabela clientes\n",
        "for coluna in clientes.columns:\n",
        "  clientes.select(count(when(col(coluna).isNull(), coluna)).alias(coluna)).show()"
      ]
    },
    {
      "cell_type": "code",
      "execution_count": 26,
      "metadata": {
        "colab": {
          "base_uri": "https://localhost:8080/"
        },
        "id": "sK8UEtclN7gf",
        "outputId": "a0e3b514-b5c4-4b72-98e9-fa49c634a04c"
      },
      "outputs": [
        {
          "name": "stdout",
          "output_type": "stream",
          "text": [
            "+---------+----------+-------------+------------------+---------------------+-------------------------+--------------------+---------------------+-------------+\n",
            "|id_pedido|id_cliente|status_pedido|data_compra_pedido|data_aprovacao_pedido|data_envio_transportadora|data_entrega_cliente|data_estimada_entrega|status_valido|\n",
            "+---------+----------+-------------+------------------+---------------------+-------------------------+--------------------+---------------------+-------------+\n",
            "|        0|         0|            0|                 0|                  160|                     1783|                2965|                    0|            0|\n",
            "+---------+----------+-------------+------------------+---------------------+-------------------------+--------------------+---------------------+-------------+\n",
            "\n"
          ]
        }
      ],
      "source": [
        "# outra forma de verificar os nulos (com o for inline)\n",
        "n_nulls_pedidos_df = pedidos.select([count(when(col(c).isNull(), c)).alias(c) for c in pedidos.columns])\n",
        "n_nulls_pedidos_df.show()"
      ]
    },
    {
      "cell_type": "code",
      "execution_count": 27,
      "metadata": {
        "colab": {
          "base_uri": "https://localhost:8080/"
        },
        "id": "qodhOZ01PBo-",
        "outputId": "509a795a-09fc-4c75-c991-87f6c1eed0c5"
      },
      "outputs": [
        {
          "name": "stdout",
          "output_type": "stream",
          "text": [
            "+---------+----------+\n",
            "|id_pedido|id_cliente|\n",
            "+---------+----------+\n",
            "+---------+----------+\n",
            "\n"
          ]
        }
      ],
      "source": [
        "# Verificar se existem pedidos com id de cliente inexistente com join\n",
        "pedidos_integridade_df = pedidos.join(clientes, pedidos.id_cliente == clientes.id_cliente, 'left_anti')\n",
        "pedidos_integridade_df.select('id_pedido', 'id_cliente').show()"
      ]
    },
    {
      "cell_type": "code",
      "execution_count": 28,
      "metadata": {
        "colab": {
          "base_uri": "https://localhost:8080/"
        },
        "id": "qRmw_bZTgthX",
        "outputId": "47e7de50-4fe2-4d7e-c47c-3fa366fc7198"
      },
      "outputs": [
        {
          "name": "stdout",
          "output_type": "stream",
          "text": [
            "+---------+----------+\n",
            "|id_pedido|id_produto|\n",
            "+---------+----------+\n",
            "+---------+----------+\n",
            "\n"
          ]
        }
      ],
      "source": [
        "itens_integridade_df = itens_pedido.join(produtos, itens_pedido.id_produto == produtos.id_produto, 'left_anti')\n",
        "itens_integridade_df.select('id_pedido', 'id_produto').show()"
      ]
    },
    {
      "cell_type": "code",
      "execution_count": 29,
      "metadata": {
        "colab": {
          "base_uri": "https://localhost:8080/"
        },
        "id": "iuWMs5xUg-wV",
        "outputId": "c1117f3b-3e42-4cc7-8d5a-48b038206bb8"
      },
      "outputs": [
        {
          "name": "stdout",
          "output_type": "stream",
          "text": [
            "+--------------------+-----------+----------+\n",
            "|          id_cliente|cep_cliente|cep_valido|\n",
            "+--------------------+-----------+----------+\n",
            "|06b8999e2fba1a1fb...|      14409|  Inválido|\n",
            "|18955e83d337fd6b2...|       9790|  Inválido|\n",
            "|4e7b3e00288586ebd...|       1151|  Inválido|\n",
            "|b2b6027bc5c5109e5...|       8775|  Inválido|\n",
            "|4f2d8ab171c80ec83...|      13056|  Inválido|\n",
            "|879864dab9bc30475...|      89254|  Inválido|\n",
            "|fd826e7cf63160e53...|       4534|  Inválido|\n",
            "|5e274e7a0c3809e14...|      35182|  Inválido|\n",
            "|5adf08e34b2e99398...|      81560|  Inválido|\n",
            "|4b7139f34592b3a31...|      30575|  Inválido|\n",
            "|9fb35e4ed6f0a14a4...|      39400|  Inválido|\n",
            "|5aa9e4fdd4dfd2095...|      20231|  Inválido|\n",
            "|b2d1536598b73a9ab...|      18682|  Inválido|\n",
            "|eabebad39a88bb6f5...|       5704|  Inválido|\n",
            "|1f1c7bf1c9b041b29...|      95110|  Inválido|\n",
            "|206f3129c0e4d7d0b...|      13412|  Inválido|\n",
            "|a7c125a0a07b75146...|      22750|  Inválido|\n",
            "|c5c61596a3b6bd0ce...|       7124|  Inválido|\n",
            "|9b8ce803689b3562d...|       5416|  Inválido|\n",
            "|49d0ea0986edde72d...|      68485|  Inválido|\n",
            "+--------------------+-----------+----------+\n",
            "only showing top 20 rows\n",
            "\n"
          ]
        }
      ],
      "source": [
        "clientes_validacao_df = clientes.withColumn('cep_valido', when(col('cep_cliente').rlike(r'^d{5}$'), 'Válido').otherwise('Inválido'))  # https://regexr.com/\n",
        "clientes_validacao_df.select('id_cliente', 'cep_cliente', 'cep_valido').show()"
      ]
    },
    {
      "cell_type": "code",
      "execution_count": 32,
      "metadata": {
        "colab": {
          "base_uri": "https://localhost:8080/"
        },
        "id": "BDGSwEy9i_vD",
        "outputId": "8086d0b1-0e5a-44a2-c98a-65f1ddb95243"
      },
      "outputs": [
        {
          "name": "stdout",
          "output_type": "stream",
          "text": [
            "+--------------------+-----------------+\n",
            "|          id_produto|id_produto_valido|\n",
            "+--------------------+-----------------+\n",
            "|1e9e8ef04dbcff454...|           Válido|\n",
            "|3aa071139cb16b67c...|           Válido|\n",
            "|96bd76ec8810374ed...|           Válido|\n",
            "|cef67bcfe19066a93...|           Válido|\n",
            "|9dc1a7de274444849...|           Válido|\n",
            "|41d3672d4792049fa...|           Válido|\n",
            "|732bd381ad09e530f...|           Válido|\n",
            "|2548af3e6e77a690c...|           Válido|\n",
            "|37cc742be07708b53...|           Válido|\n",
            "|8c92109888e8cdf9d...|           Válido|\n",
            "|14aa47b7fe5c25522...|           Válido|\n",
            "|03b63c5fc16691530...|           Válido|\n",
            "|cf55509ea8edaaac1...|           Válido|\n",
            "|7bb6f29c2be577161...|           Válido|\n",
            "|eb31436580a610f20...|           Válido|\n",
            "|3bb7f144022e67327...|           Válido|\n",
            "|6a2fb4dd53d2cdb88...|           Válido|\n",
            "|a1b71017a84f92fd8...|           Válido|\n",
            "|a0736b92e52f6cead...|           Válido|\n",
            "|f53103a77d9cf245e...|           Válido|\n",
            "+--------------------+-----------------+\n",
            "only showing top 20 rows\n",
            "\n"
          ]
        }
      ],
      "source": [
        "produtos_validacao_df = produtos.withColumn('id_produto_valido', when(col('id_produto').rlike(r'^[a-f0-9]{32}$'), 'Válido').otherwise('inválido'))\n",
        "produtos_validacao_df.select('id_produto', 'id_produto_valido').show()"
      ]
    },
    {
      "cell_type": "code",
      "execution_count": 33,
      "metadata": {
        "id": "aa01sor0lEqj"
      },
      "outputs": [],
      "source": [
        "if 'email_cliente' in clientes.columns:\n",
        "  clientes_verifica_email_df = clientes.withColumn('email_valido', when(col('email_cliente').contains('@'), 'Válido').otherwise('Inválido'))\n",
        "  clientes_verifica_email_df.select('id_cliente', 'email_cliente', 'email_valido').show()"
      ]
    },
    {
      "cell_type": "code",
      "execution_count": 34,
      "metadata": {
        "id": "wVFzNJFxqnlc"
      },
      "outputs": [],
      "source": [
        "spark.stop()"
      ]
    }
  ],
  "metadata": {
    "colab": {
      "provenance": []
    },
    "kernelspec": {
      "display_name": "Python 3",
      "name": "python3"
    },
    "language_info": {
      "name": "python"
    }
  },
  "nbformat": 4,
  "nbformat_minor": 0
}
