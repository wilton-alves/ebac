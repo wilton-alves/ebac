{
  "nbformat": 4,
  "nbformat_minor": 0,
  "metadata": {
    "colab": {
      "provenance": []
    },
    "kernelspec": {
      "name": "python3",
      "display_name": "Python 3"
    },
    "language_info": {
      "name": "python"
    }
  },
  "cells": [
    {
      "cell_type": "code",
      "execution_count": null,
      "metadata": {
        "id": "XStPzdOa-ocO"
      },
      "outputs": [],
      "source": [
        "! pip install pyspark"
      ]
    },
    {
      "cell_type": "code",
      "source": [
        "import pyspark\n",
        "from pyspark.sql import SparkSession\n",
        "from pyspark.sql.functions import col, when, count"
      ],
      "metadata": {
        "id": "-u9GBPtI-zRa"
      },
      "execution_count": 14,
      "outputs": []
    },
    {
      "cell_type": "code",
      "source": [
        "spark = SparkSession.builder.appName('Atividade Módulo 27').getOrCreate()"
      ],
      "metadata": {
        "id": "QnPHEI3u-5tB"
      },
      "execution_count": 3,
      "outputs": []
    },
    {
      "cell_type": "code",
      "source": [
        "from google.colab import drive\n",
        "drive.mount('/content/drive')"
      ],
      "metadata": {
        "id": "FRuontAaAXUx"
      },
      "execution_count": null,
      "outputs": []
    },
    {
      "cell_type": "code",
      "source": [
        "# 1. Leia o arquivo ‘videos-stats.csv' no dataframe 'df_video' com cabeçalho e inferindo o esquema\n",
        "\n",
        "df_video = spark.read.csv('drive/MyDrive/Colab Notebooks/colab_ebac/m27_spark_data/videos-stats.csv', header=True, inferSchema=True)\n",
        "df_video.show(5)\n",
        "df_video.printSchema()"
      ],
      "metadata": {
        "colab": {
          "base_uri": "https://localhost:8080/"
        },
        "id": "F2cFRbg6AbSD",
        "outputId": "1237d726-7081-40cf-ea4e-16de5ee730cc"
      },
      "execution_count": 25,
      "outputs": [
        {
          "output_type": "stream",
          "name": "stdout",
          "text": [
            "+---+--------------------+-----------+------------+-------+-------+--------+---------+\n",
            "|_c0|               Title|   Video ID|Published At|Keyword|  Likes|Comments|    Views|\n",
            "+---+--------------------+-----------+------------+-------+-------+--------+---------+\n",
            "|  0|Apple Pay Is Kill...|wAZZ-UWGVHI|  2022-08-23|   tech| 3407.0|   672.0| 135612.0|\n",
            "|  1|The most EXPENSIV...|b3x28s61q3c|  2022-08-24|   tech|76779.0|  4306.0|1758063.0|\n",
            "|  2|My New House Gami...|4mgePWWCAmA|  2022-08-23|   tech|63825.0|  3338.0|1564007.0|\n",
            "|  3|Petrol Vs Liquid ...|kXiYSI7H2b0|  2022-08-23|   tech|71566.0|  1426.0| 922918.0|\n",
            "|  4|Best Back to Scho...|ErMwWXQxHp0|  2022-08-08|   tech|96513.0|  5155.0|1855644.0|\n",
            "+---+--------------------+-----------+------------+-------+-------+--------+---------+\n",
            "only showing top 5 rows\n",
            "\n",
            "root\n",
            " |-- _c0: integer (nullable = true)\n",
            " |-- Title: string (nullable = true)\n",
            " |-- Video ID: string (nullable = true)\n",
            " |-- Published At: date (nullable = true)\n",
            " |-- Keyword: string (nullable = true)\n",
            " |-- Likes: double (nullable = true)\n",
            " |-- Comments: double (nullable = true)\n",
            " |-- Views: double (nullable = true)\n",
            "\n"
          ]
        }
      ]
    },
    {
      "cell_type": "code",
      "source": [
        "# 2. Altere os valores nulos dos campos 'Likes', 'Comments' e 'Views' para o valor 0\n",
        "\n",
        "# Verificando a quantidade de nulos nas colunas do DataFrame\n",
        "df_video.select([count(when(col(c).isNull(), c)).alias(c) for c in df_video.columns]).show()\n",
        "\n",
        "# Substituindo os nulos por 0 nas colunas indicadas\n",
        "colunas = ['Likes', 'Comments', 'Views']\n",
        "df_video = df_video.fillna(value=0, subset=colunas)\n",
        "df_video.show(5)\n",
        "\n",
        "# verificando se restaram valores nulos\n",
        "df_video.select([count(when(col(c).isNull(), c)).alias(c) for c in df_video.columns]).show()\n"
      ],
      "metadata": {
        "colab": {
          "base_uri": "https://localhost:8080/"
        },
        "id": "7BcR9RBwBxeJ",
        "outputId": "d7338a6e-8b34-449b-ad43-45353c56f825"
      },
      "execution_count": 26,
      "outputs": [
        {
          "output_type": "stream",
          "name": "stdout",
          "text": [
            "+---+-----+--------+------------+-------+-----+--------+-----+\n",
            "|_c0|Title|Video ID|Published At|Keyword|Likes|Comments|Views|\n",
            "+---+-----+--------+------------+-------+-----+--------+-----+\n",
            "|  0|    0|       0|           0|      0|    2|       2|    2|\n",
            "+---+-----+--------+------------+-------+-----+--------+-----+\n",
            "\n",
            "+---+--------------------+-----------+------------+-------+-------+--------+---------+\n",
            "|_c0|               Title|   Video ID|Published At|Keyword|  Likes|Comments|    Views|\n",
            "+---+--------------------+-----------+------------+-------+-------+--------+---------+\n",
            "|  0|Apple Pay Is Kill...|wAZZ-UWGVHI|  2022-08-23|   tech| 3407.0|   672.0| 135612.0|\n",
            "|  1|The most EXPENSIV...|b3x28s61q3c|  2022-08-24|   tech|76779.0|  4306.0|1758063.0|\n",
            "|  2|My New House Gami...|4mgePWWCAmA|  2022-08-23|   tech|63825.0|  3338.0|1564007.0|\n",
            "|  3|Petrol Vs Liquid ...|kXiYSI7H2b0|  2022-08-23|   tech|71566.0|  1426.0| 922918.0|\n",
            "|  4|Best Back to Scho...|ErMwWXQxHp0|  2022-08-08|   tech|96513.0|  5155.0|1855644.0|\n",
            "+---+--------------------+-----------+------------+-------+-------+--------+---------+\n",
            "only showing top 5 rows\n",
            "\n",
            "+---+-----+--------+------------+-------+-----+--------+-----+\n",
            "|_c0|Title|Video ID|Published At|Keyword|Likes|Comments|Views|\n",
            "+---+-----+--------+------------+-------+-----+--------+-----+\n",
            "|  0|    0|       0|           0|      0|    0|       0|    0|\n",
            "+---+-----+--------+------------+-------+-----+--------+-----+\n",
            "\n"
          ]
        }
      ]
    },
    {
      "cell_type": "code",
      "source": [
        "# 3. Leia o arquivo ‘comments.csv' no dataframe 'df_comentario' com cabeçalho e inferindo o esquema\n",
        "df_comentario = spark.read.csv('drive/MyDrive/Colab Notebooks/colab_ebac/m27_spark_data/comments.csv', header=True, inferSchema=True)\n",
        "df_comentario.show(5)"
      ],
      "metadata": {
        "colab": {
          "base_uri": "https://localhost:8080/"
        },
        "id": "m11rplJuGZ3K",
        "outputId": "1e40ca89-42a2-4548-c849-a18c30472d30"
      },
      "execution_count": 27,
      "outputs": [
        {
          "output_type": "stream",
          "name": "stdout",
          "text": [
            "+---+-----------+--------------------+-----+---------+\n",
            "|_c0|   Video ID|             Comment|Likes|Sentiment|\n",
            "+---+-----------+--------------------+-----+---------+\n",
            "|  0|wAZZ-UWGVHI|Let's not forget ...| 95.0|      1.0|\n",
            "|  1|wAZZ-UWGVHI|Here in NZ 50% of...| 19.0|      0.0|\n",
            "|  2|wAZZ-UWGVHI|I will forever ac...|161.0|      2.0|\n",
            "|  3|wAZZ-UWGVHI|Whenever I go to ...|  8.0|      0.0|\n",
            "|  4|wAZZ-UWGVHI|Apple Pay is so c...| 34.0|      2.0|\n",
            "+---+-----------+--------------------+-----+---------+\n",
            "only showing top 5 rows\n",
            "\n"
          ]
        }
      ]
    },
    {
      "cell_type": "code",
      "source": [
        "# 4. Calcule a quantidade de registros do df_video e df_comentario\n",
        "print('Qtd registros df_video: ', df_video.count())\n",
        "print('Qtd registros df_comentario: ', df_comentario.count())"
      ],
      "metadata": {
        "colab": {
          "base_uri": "https://localhost:8080/"
        },
        "id": "Qp6AOYBmG15V",
        "outputId": "c08e304f-852f-4426-d098-c83cf47ba242"
      },
      "execution_count": 36,
      "outputs": [
        {
          "output_type": "stream",
          "name": "stdout",
          "text": [
            "Qtd registros df_video:  1881\n",
            "Qtd registros df_comentario:  30036\n"
          ]
        }
      ]
    },
    {
      "cell_type": "code",
      "source": [
        "# 5. Remova os registros do df_video e df_comentario quem possuem o campo 'Video ID' nulos e calcule novamente a quantidade de registros\n",
        "df_video = df_video.dropna(subset='Video ID')\n",
        "df_comentario = df_comentario.dropna(subset='Video ID')\n",
        "\n",
        "print('Qtd registros df_video: ', df_video.count())\n",
        "print('Qtd registros df_comentario: ', df_comentario.count())"
      ],
      "metadata": {
        "colab": {
          "base_uri": "https://localhost:8080/"
        },
        "id": "o_5gAIXrG9WB",
        "outputId": "ae96b630-9d16-40e3-91e3-c8b93db21c67"
      },
      "execution_count": 37,
      "outputs": [
        {
          "output_type": "stream",
          "name": "stdout",
          "text": [
            "Qtd registros df_video:  1881\n",
            "Qtd registros df_comentario:  22555\n"
          ]
        }
      ]
    },
    {
      "cell_type": "code",
      "source": [
        "# 6. Remova os registros apenas do df_video quem possuem o campo 'Video ID' duplicados\n",
        "df_video = df_video.dropDuplicates(['Video ID'])\n",
        "print('Qtd registros df_video: ', df_video.count())"
      ],
      "metadata": {
        "colab": {
          "base_uri": "https://localhost:8080/"
        },
        "id": "FQVMi9hOG9li",
        "outputId": "296f40d0-6a88-4ec3-d0d8-c9e1c742ab95"
      },
      "execution_count": 38,
      "outputs": [
        {
          "output_type": "stream",
          "name": "stdout",
          "text": [
            "Qtd registros df_video:  1869\n"
          ]
        }
      ]
    },
    {
      "cell_type": "code",
      "source": [
        "# 7. Converta os campos Likes, Comments e Views para 'int' no dataframe df_video\n",
        "colunas = ['Likes', 'Comments', 'Views']\n",
        "for coluna in colunas:\n",
        "  df_video = df_video.withColumn(coluna, col(coluna).cast('int'))\n",
        "\n",
        "df_video.printSchema()"
      ],
      "metadata": {
        "colab": {
          "base_uri": "https://localhost:8080/"
        },
        "id": "aYxzeY1RG9xq",
        "outputId": "8a9c57c8-af21-4f48-8404-61235f926a86"
      },
      "execution_count": 39,
      "outputs": [
        {
          "output_type": "stream",
          "name": "stdout",
          "text": [
            "root\n",
            " |-- _c0: integer (nullable = true)\n",
            " |-- Title: string (nullable = true)\n",
            " |-- Video ID: string (nullable = true)\n",
            " |-- Published At: date (nullable = true)\n",
            " |-- Keyword: string (nullable = true)\n",
            " |-- Likes: integer (nullable = true)\n",
            " |-- Comments: integer (nullable = true)\n",
            " |-- Views: integer (nullable = true)\n",
            "\n"
          ]
        }
      ]
    },
    {
      "cell_type": "code",
      "source": [
        "# 8. Converta os campos Likes e Sentiment para 'int' no dataframe df_comentario, além disso, altere o nome do campo Likes para 'Likes Comment'\n",
        "df_comentario.printSchema()\n",
        "df_comentario.show(5)\n",
        "\n",
        "df_comentario = df_comentario.withColumn('Likes', col('Likes').cast('int')).withColumn('Sentiment', col('Likes').cast('int'))\n",
        "df_comentario = df_comentario.withColumnRenamed('Likes', 'Likes Comment')\n",
        "df_comentario.printSchema()"
      ],
      "metadata": {
        "colab": {
          "base_uri": "https://localhost:8080/"
        },
        "id": "jwhJ2nNKG99i",
        "outputId": "2203c4d2-2842-4853-9d66-d2de5fe3d0b6"
      },
      "execution_count": 44,
      "outputs": [
        {
          "output_type": "stream",
          "name": "stdout",
          "text": [
            "root\n",
            " |-- _c0: string (nullable = true)\n",
            " |-- Video ID: string (nullable = true)\n",
            " |-- Comment: string (nullable = true)\n",
            " |-- Likes: string (nullable = true)\n",
            " |-- Sentiment: string (nullable = true)\n",
            "\n",
            "+---+-----------+--------------------+-----+---------+\n",
            "|_c0|   Video ID|             Comment|Likes|Sentiment|\n",
            "+---+-----------+--------------------+-----+---------+\n",
            "|  0|wAZZ-UWGVHI|Let's not forget ...| 95.0|      1.0|\n",
            "|  1|wAZZ-UWGVHI|Here in NZ 50% of...| 19.0|      0.0|\n",
            "|  2|wAZZ-UWGVHI|I will forever ac...|161.0|      2.0|\n",
            "|  3|wAZZ-UWGVHI|Whenever I go to ...|  8.0|      0.0|\n",
            "|  4|wAZZ-UWGVHI|Apple Pay is so c...| 34.0|      2.0|\n",
            "+---+-----------+--------------------+-----+---------+\n",
            "only showing top 5 rows\n",
            "\n",
            "root\n",
            " |-- _c0: string (nullable = true)\n",
            " |-- Video ID: string (nullable = true)\n",
            " |-- Comment: string (nullable = true)\n",
            " |-- Likes Comment: integer (nullable = true)\n",
            " |-- Sentiment: integer (nullable = true)\n",
            "\n"
          ]
        }
      ]
    },
    {
      "cell_type": "code",
      "source": [
        "# 9. Crie o campo 'Interaction' no dataframe df_video, com a soma dos campos Likes, Comments e Views\n",
        "df_video = df_video.withColumn('Interaction', col('Likes') + col('Comments') + col('Views'))\n",
        "df_video.show(5)"
      ],
      "metadata": {
        "colab": {
          "base_uri": "https://localhost:8080/"
        },
        "id": "MJgexZ67G-Hq",
        "outputId": "efb2847f-0c93-4c1b-b444-2add452ddad1"
      },
      "execution_count": 45,
      "outputs": [
        {
          "output_type": "stream",
          "name": "stdout",
          "text": [
            "+----+--------------------+-----------+------------+-------+------+--------+--------+-----------+\n",
            "| _c0|               Title|   Video ID|Published At|Keyword| Likes|Comments|   Views|Interaction|\n",
            "+----+--------------------+-----------+------------+-------+------+--------+--------+-----------+\n",
            "| 986|ASMR MUKBANG DOUB...|--ZI0dSbbNU|  2020-04-18|mukbang|378858|   18860|17975269|   18372987|\n",
            "|  71|Deadly car bomb d...|--hxd1CrOqg|  2022-08-22|   news|  6379|    4853|  808787|     820019|\n",
            "|  48|How Biden&#39;s s...|--ixiTypG8g|  2022-08-24|   news|  1029|    2347|   97434|     100810|\n",
            "| 993|Celebrating My 40...|-64r1hcxtV4|  2022-05-30|mukbang| 45628|   17264| 5283664|    5346556|\n",
            "|1456|Physics Review - ...|-6IgkG5yZfo|  2017-01-02|physics| 10959|     525|  844015|     855499|\n",
            "+----+--------------------+-----------+------------+-------+------+--------+--------+-----------+\n",
            "only showing top 5 rows\n",
            "\n"
          ]
        }
      ]
    },
    {
      "cell_type": "code",
      "source": [
        "# 10. Converta os campos 'Published At' para 'date' no dataframe df_video\n",
        "from pyspark.sql.functions import to_date, date_format\n",
        "df_video = df_video.withColumn('Published At', to_date(col('Published At')))"
      ],
      "metadata": {
        "id": "7dLyEXBwG-Rh"
      },
      "execution_count": 46,
      "outputs": []
    },
    {
      "cell_type": "code",
      "source": [
        "# 11. Crie o campo 'Year' no dataframe df_video, extraindo apenas o ano do campo 'Published At'\n",
        "df_video = df_video.withColumn('Year', date_format(col('Published At'), 'yyyy'))\n",
        "df_video.show(5)"
      ],
      "metadata": {
        "colab": {
          "base_uri": "https://localhost:8080/"
        },
        "id": "4dq0IZldG-ap",
        "outputId": "9aa1ee6b-24a7-4f81-fa80-c617f1746198"
      },
      "execution_count": 47,
      "outputs": [
        {
          "output_type": "stream",
          "name": "stdout",
          "text": [
            "+----+--------------------+-----------+------------+-------+------+--------+--------+-----------+----+\n",
            "| _c0|               Title|   Video ID|Published At|Keyword| Likes|Comments|   Views|Interaction|Year|\n",
            "+----+--------------------+-----------+------------+-------+------+--------+--------+-----------+----+\n",
            "| 986|ASMR MUKBANG DOUB...|--ZI0dSbbNU|  2020-04-18|mukbang|378858|   18860|17975269|   18372987|2020|\n",
            "|  71|Deadly car bomb d...|--hxd1CrOqg|  2022-08-22|   news|  6379|    4853|  808787|     820019|2022|\n",
            "|  48|How Biden&#39;s s...|--ixiTypG8g|  2022-08-24|   news|  1029|    2347|   97434|     100810|2022|\n",
            "| 993|Celebrating My 40...|-64r1hcxtV4|  2022-05-30|mukbang| 45628|   17264| 5283664|    5346556|2022|\n",
            "|1456|Physics Review - ...|-6IgkG5yZfo|  2017-01-02|physics| 10959|     525|  844015|     855499|2017|\n",
            "+----+--------------------+-----------+------------+-------+------+--------+--------+-----------+----+\n",
            "only showing top 5 rows\n",
            "\n"
          ]
        }
      ]
    },
    {
      "cell_type": "code",
      "source": [
        "# 12. Mescle os dados df_comentario no dataframe df_video em relação ao campo Video ID e crie o dataframe df_join_video_comments\n",
        "df_join_video_comments = df_video.join(df_comentario, 'Video ID')\n",
        "df_join_video_comments.show(5)"
      ],
      "metadata": {
        "colab": {
          "base_uri": "https://localhost:8080/"
        },
        "id": "C8JrjjsNG-ji",
        "outputId": "32f9aff8-1a85-4996-fa88-afc70bf857e2"
      },
      "execution_count": 48,
      "outputs": [
        {
          "output_type": "stream",
          "name": "stdout",
          "text": [
            "+-----------+---+--------------------+------------+-------+-----+--------+------+-----------+----+---+--------------------+-------------+---------+\n",
            "|   Video ID|_c0|               Title|Published At|Keyword|Likes|Comments| Views|Interaction|Year|_c0|             Comment|Likes Comment|Sentiment|\n",
            "+-----------+---+--------------------+------------+-------+-----+--------+------+-----------+----+---+--------------------+-------------+---------+\n",
            "|wAZZ-UWGVHI|  0|Apple Pay Is Kill...|  2022-08-23|   tech| 3407|     672|135612|     139691|2022|  0|Let's not forget ...|           95|       95|\n",
            "|wAZZ-UWGVHI|  0|Apple Pay Is Kill...|  2022-08-23|   tech| 3407|     672|135612|     139691|2022|  1|Here in NZ 50% of...|           19|       19|\n",
            "|wAZZ-UWGVHI|  0|Apple Pay Is Kill...|  2022-08-23|   tech| 3407|     672|135612|     139691|2022|  2|I will forever ac...|          161|      161|\n",
            "|wAZZ-UWGVHI|  0|Apple Pay Is Kill...|  2022-08-23|   tech| 3407|     672|135612|     139691|2022|  3|Whenever I go to ...|            8|        8|\n",
            "|wAZZ-UWGVHI|  0|Apple Pay Is Kill...|  2022-08-23|   tech| 3407|     672|135612|     139691|2022|  4|Apple Pay is so c...|           34|       34|\n",
            "+-----------+---+--------------------+------------+-------+-----+--------+------+-----------+----+---+--------------------+-------------+---------+\n",
            "only showing top 5 rows\n",
            "\n"
          ]
        }
      ]
    },
    {
      "cell_type": "code",
      "source": [
        "# 13. Leia o arquivo ‘USvideos.csv' no dataframe 'df_us_videos' com cabeçalho e inferindo o esquema\n",
        "df_us_videos = spark.read.csv('drive/MyDrive/Colab Notebooks/colab_ebac/m27_spark_data/USvideos.csv', header=True, inferSchema=True)\n",
        "df_us_videos.show(5)"
      ],
      "metadata": {
        "colab": {
          "base_uri": "https://localhost:8080/"
        },
        "id": "Kqkf4DHfG-7B",
        "outputId": "27c01238-0376-4245-836f-8b0d2fd0a0d5"
      },
      "execution_count": 49,
      "outputs": [
        {
          "output_type": "stream",
          "name": "stdout",
          "text": [
            "+-----------+-------------+--------------------+--------------------+-----------+--------------------+--------------------+-------+------+--------+-------------+--------------------+-----------------+----------------+----------------------+--------------------+\n",
            "|   video_id|trending_date|               title|       channel_title|category_id|        publish_time|                tags|  views| likes|dislikes|comment_count|      thumbnail_link|comments_disabled|ratings_disabled|video_error_or_removed|         description|\n",
            "+-----------+-------------+--------------------+--------------------+-----------+--------------------+--------------------+-------+------+--------+-------------+--------------------+-----------------+----------------+----------------------+--------------------+\n",
            "|2kyS6SvSYSE|     17.14.11|WE WANT TO TALK A...|        CaseyNeistat|         22|2017-11-13T17:13:...|     SHANtell martin| 748374| 57527|    2966|        15954|https://i.ytimg.c...|            False|           False|                 False|SHANTELL'S CHANNE...|\n",
            "|1ZAPwfrtAFY|     17.14.11|The Trump Preside...|     LastWeekTonight|         24|2017-11-13T07:30:...|\"last week tonigh...|2418783| 97185|    6146|        12703|https://i.ytimg.c...|            False|           False|                 False|One year after th...|\n",
            "|5qpjK5DgCt4|     17.14.11|Racist Superman |...|        Rudy Mancuso|         23|2017-11-12T19:05:...|\"racist superman\"...|3191434|146033|    5339|         8181|https://i.ytimg.c...|            False|           False|                 False|WATCH MY PREVIOUS...|\n",
            "|puqaWrEC7tY|     17.14.11|Nickelback Lyrics...|Good Mythical Mor...|         24|2017-11-13T11:00:...|\"rhett and link\"|...| 343168| 10172|     666|         2146|https://i.ytimg.c...|            False|           False|                 False|Today we find out...|\n",
            "|d380meD0W0M|     17.14.11|I Dare You: GOING...|            nigahiga|         24|2017-11-12T18:01:...|\"ryan\"|\"higa\"|\"hi...|2095731|132235|    1989|        17518|https://i.ytimg.c...|            False|           False|                 False|I know it's been ...|\n",
            "+-----------+-------------+--------------------+--------------------+-----------+--------------------+--------------------+-------+------+--------+-------------+--------------------+-----------------+----------------+----------------------+--------------------+\n",
            "only showing top 5 rows\n",
            "\n"
          ]
        }
      ]
    },
    {
      "cell_type": "code",
      "source": [
        "# 14. Mescle os dados df_us_videos no dataframe df_video em relação ao campo Title e crie e visualize o dataframe df_join_video_usvideos\n",
        "df_join_video_usvideos = df_video.join(df_us_videos, 'Title')\n",
        "df_join_video_usvideos.show(5)"
      ],
      "metadata": {
        "colab": {
          "base_uri": "https://localhost:8080/"
        },
        "id": "_R6UOLv2G_Hh",
        "outputId": "c7541fc1-10bc-440f-82d2-69329a31ee6e"
      },
      "execution_count": 50,
      "outputs": [
        {
          "output_type": "stream",
          "name": "stdout",
          "text": [
            "+--------------------+---+-----------+------------+-------+------+--------+---------+-----------+----+-----------+-------------+-------------+-----------+--------------------+--------------------+--------+------+--------+-------------+--------------------+-----------------+----------------+----------------------+--------------------+\n",
            "|               Title|_c0|   Video ID|Published At|Keyword| Likes|Comments|    Views|Interaction|Year|   video_id|trending_date|channel_title|category_id|        publish_time|                tags|   views| likes|dislikes|comment_count|      thumbnail_link|comments_disabled|ratings_disabled|video_error_or_removed|         description|\n",
            "+--------------------+---+-----------+------------+-------+------+--------+---------+-----------+----+-----------+-------------+-------------+-----------+--------------------+--------------------+--------+------+--------+-------------+--------------------+-----------------+----------------+----------------------+--------------------+\n",
            "|All Sports Golf B...|157|-RmUADCWI4A|  2017-12-04| sports|867074|   43024|106014469|  106924567|2017|-RmUADCWI4A|     17.06.12| Dude Perfect|         17|2017-12-04T22:57:...|\"dude perfect\"|\"d...| 8643326|299731|    5168|        23303|https://i.ytimg.c...|            False|           False|                 False|Golf + every othe...|\n",
            "|All Sports Golf B...|157|-RmUADCWI4A|  2017-12-04| sports|867074|   43024|106014469|  106924567|2017|-RmUADCWI4A|     17.07.12| Dude Perfect|         17|2017-12-04T22:57:...|\"dude perfect\"|\"d...| 9828746|316976|    5797|        23221|https://i.ytimg.c...|            False|           False|                 False|Golf + every othe...|\n",
            "|All Sports Golf B...|157|-RmUADCWI4A|  2017-12-04| sports|867074|   43024|106014469|  106924567|2017|-RmUADCWI4A|     17.08.12| Dude Perfect|         17|2017-12-04T22:57:...|\"dude perfect\"|\"d...|10558591|325479|    6104|        24107|https://i.ytimg.c...|            False|           False|                 False|Golf + every othe...|\n",
            "|All Sports Golf B...|157|-RmUADCWI4A|  2017-12-04| sports|867074|   43024|106014469|  106924567|2017|-RmUADCWI4A|     17.09.12| Dude Perfect|         17|2017-12-04T22:57:...|\"dude perfect\"|\"d...|11319116|334495|    6430|        25199|https://i.ytimg.c...|            False|           False|                 False|Golf + every othe...|\n",
            "|All Sports Golf B...|157|-RmUADCWI4A|  2017-12-04| sports|867074|   43024|106014469|  106924567|2017|-RmUADCWI4A|     17.10.12| Dude Perfect|         17|2017-12-04T22:57:...|\"dude perfect\"|\"d...|12305961|342825|    6898|        25905|https://i.ytimg.c...|            False|           False|                 False|Golf + every othe...|\n",
            "+--------------------+---+-----------+------------+-------+------+--------+---------+-----------+----+-----------+-------------+-------------+-----------+--------------------+--------------------+--------+------+--------+-------------+--------------------+-----------------+----------------+----------------------+--------------------+\n",
            "only showing top 5 rows\n",
            "\n"
          ]
        }
      ]
    },
    {
      "cell_type": "code",
      "source": [
        "# 15. Verifique a quantidade de campos nulos em todos os campos do dataframe df_video\n",
        "df_video.select([count(when(col(c).isNull(), c)).alias(c) for c in df_video.columns]).show()"
      ],
      "metadata": {
        "colab": {
          "base_uri": "https://localhost:8080/"
        },
        "id": "jhGp4DydG_RB",
        "outputId": "66083832-611d-4f9c-a6a9-3e947993e819"
      },
      "execution_count": 52,
      "outputs": [
        {
          "output_type": "stream",
          "name": "stdout",
          "text": [
            "+---+-----+--------+------------+-------+-----+--------+-----+-----------+----+\n",
            "|_c0|Title|Video ID|Published At|Keyword|Likes|Comments|Views|Interaction|Year|\n",
            "+---+-----+--------+------------+-------+-----+--------+-----+-----------+----+\n",
            "|  0|    0|       0|           0|      0|    0|       0|    0|          0|   0|\n",
            "+---+-----+--------+------------+-------+-----+--------+-----+-----------+----+\n",
            "\n"
          ]
        }
      ]
    },
    {
      "cell_type": "code",
      "source": [
        "# 16. Remova a coluna '_c0' e salve o dataframe df_video como 'videos-tratados-parquet' no formato parquet e adicione o cabeçalho nos dados\n",
        "df_video = df_video.drop('_c0')\n",
        "df_video.write.mode('overwrite').option('header', 'true').parquet('output/videos-tratados-parquet')\n",
        "spark.read.option('header', 'true').parquet('output/videos-tratados-parquet').show(5)"
      ],
      "metadata": {
        "colab": {
          "base_uri": "https://localhost:8080/"
        },
        "id": "TmAcTftAG_aZ",
        "outputId": "a4c2dc90-ae8b-4a31-8095-678898ce262b"
      },
      "execution_count": 53,
      "outputs": [
        {
          "output_type": "stream",
          "name": "stdout",
          "text": [
            "+--------------------+-----------+------------+-------+------+--------+--------+-----------+----+\n",
            "|               Title|   Video ID|Published At|Keyword| Likes|Comments|   Views|Interaction|Year|\n",
            "+--------------------+-----------+------------+-------+------+--------+--------+-----------+----+\n",
            "|ASMR MUKBANG DOUB...|--ZI0dSbbNU|  2020-04-18|mukbang|378858|   18860|17975269|   18372987|2020|\n",
            "|Deadly car bomb d...|--hxd1CrOqg|  2022-08-22|   news|  6379|    4853|  808787|     820019|2022|\n",
            "|How Biden&#39;s s...|--ixiTypG8g|  2022-08-24|   news|  1029|    2347|   97434|     100810|2022|\n",
            "|Celebrating My 40...|-64r1hcxtV4|  2022-05-30|mukbang| 45628|   17264| 5283664|    5346556|2022|\n",
            "|Physics Review - ...|-6IgkG5yZfo|  2017-01-02|physics| 10959|     525|  844015|     855499|2017|\n",
            "+--------------------+-----------+------------+-------+------+--------+--------+-----------+----+\n",
            "only showing top 5 rows\n",
            "\n"
          ]
        }
      ]
    },
    {
      "cell_type": "code",
      "source": [
        "# 17. Remova a coluna '_c0' e salve o dataframe df_join_video_comments como 'videos-comments-tratados-parquet' no formato parquet e adicione o cabeçalho nos dados\n",
        "df_join_video_comments = df_join_video_comments.drop('_c0')\n",
        "df_join_video_comments.write.mode('overwrite').option('header', 'true').parquet('output/videos-comments-tratados-parquet')\n",
        "spark.read.option('header', 'true').parquet('output/videos-comments-tratados-parquet').show(5)"
      ],
      "metadata": {
        "colab": {
          "base_uri": "https://localhost:8080/"
        },
        "id": "DGkHnHxqG_kK",
        "outputId": "15af6bec-51ba-44fd-9d10-d69e76974c9b"
      },
      "execution_count": 54,
      "outputs": [
        {
          "output_type": "stream",
          "name": "stdout",
          "text": [
            "+-----------+--------------------+------------+-------+-----+--------+------+-----------+----+--------------------+-------------+---------+\n",
            "|   Video ID|               Title|Published At|Keyword|Likes|Comments| Views|Interaction|Year|             Comment|Likes Comment|Sentiment|\n",
            "+-----------+--------------------+------------+-------+-----+--------+------+-----------+----+--------------------+-------------+---------+\n",
            "|wAZZ-UWGVHI|Apple Pay Is Kill...|  2022-08-23|   tech| 3407|     672|135612|     139691|2022|Let's not forget ...|           95|       95|\n",
            "|wAZZ-UWGVHI|Apple Pay Is Kill...|  2022-08-23|   tech| 3407|     672|135612|     139691|2022|Here in NZ 50% of...|           19|       19|\n",
            "|wAZZ-UWGVHI|Apple Pay Is Kill...|  2022-08-23|   tech| 3407|     672|135612|     139691|2022|I will forever ac...|          161|      161|\n",
            "|wAZZ-UWGVHI|Apple Pay Is Kill...|  2022-08-23|   tech| 3407|     672|135612|     139691|2022|Whenever I go to ...|            8|        8|\n",
            "|wAZZ-UWGVHI|Apple Pay Is Kill...|  2022-08-23|   tech| 3407|     672|135612|     139691|2022|Apple Pay is so c...|           34|       34|\n",
            "+-----------+--------------------+------------+-------+-----+--------+------+-----------+----+--------------------+-------------+---------+\n",
            "only showing top 5 rows\n",
            "\n"
          ]
        }
      ]
    }
  ]
}