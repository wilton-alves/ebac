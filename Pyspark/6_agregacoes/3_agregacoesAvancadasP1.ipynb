{
  "nbformat": 4,
  "nbformat_minor": 0,
  "metadata": {
    "colab": {
      "provenance": []
    },
    "kernelspec": {
      "name": "python3",
      "display_name": "Python 3"
    },
    "language_info": {
      "name": "python"
    }
  },
  "cells": [
    {
      "cell_type": "code",
      "execution_count": 1,
      "metadata": {
        "colab": {
          "base_uri": "https://localhost:8080/"
        },
        "id": "0WKskDxxoGAt",
        "outputId": "62421c03-7609-4a98-c8da-a19a971b89ec"
      },
      "outputs": [
        {
          "output_type": "stream",
          "name": "stdout",
          "text": [
            "Requirement already satisfied: pyspark in /usr/local/lib/python3.11/dist-packages (3.5.1)\n",
            "Requirement already satisfied: py4j==0.10.9.7 in /usr/local/lib/python3.11/dist-packages (from pyspark) (0.10.9.7)\n"
          ]
        }
      ],
      "source": [
        "! pip install pyspark"
      ]
    },
    {
      "cell_type": "code",
      "source": [
        "import pyspark\n",
        "from pyspark.sql import SparkSession\n",
        "from pyspark.sql.functions import *"
      ],
      "metadata": {
        "id": "HNyx-RL1oU1r"
      },
      "execution_count": 2,
      "outputs": []
    },
    {
      "cell_type": "code",
      "source": [
        "spark = SparkSession.builder.getOrCreate()"
      ],
      "metadata": {
        "id": "8532zPztoeWb"
      },
      "execution_count": 3,
      "outputs": []
    },
    {
      "cell_type": "code",
      "source": [
        "produtos = spark.read.csv('/content/drive/MyDrive/Colab Notebooks/colab_ebac/spark_data/produtos.csv', header=True, inferSchema=True)\n",
        "vendedores = spark.read.csv('/content/drive/MyDrive/Colab Notebooks/colab_ebac/spark_data/vendedores.csv', header=True, inferSchema=True)\n",
        "clientes = spark.read.csv('/content/drive/MyDrive/Colab Notebooks/colab_ebac/spark_data/clientes.csv', header=True, inferSchema=True)\n",
        "itens_pedido = spark.read.csv('/content/drive/MyDrive/Colab Notebooks/colab_ebac/spark_data/itens_pedido.csv', header=True, inferSchema=True)\n",
        "pagamentos_pedido = spark.read.csv('/content/drive/MyDrive/Colab Notebooks/colab_ebac/spark_data/pagamentos_pedido.csv', header=True, inferSchema=True)\n",
        "avaliacoes_pedido = spark.read.csv('/content/drive/MyDrive/Colab Notebooks/colab_ebac/spark_data/avaliacoes_pedido.csv', header=True, inferSchema=True)\n",
        "pedidos = spark.read.csv('/content/drive/MyDrive/Colab Notebooks/colab_ebac/spark_data/pedidos.csv', header=True, inferSchema=True)"
      ],
      "metadata": {
        "id": "cJbUOHrTojOU"
      },
      "execution_count": 4,
      "outputs": []
    },
    {
      "cell_type": "code",
      "source": [
        "pedidos.show(5)"
      ],
      "metadata": {
        "colab": {
          "base_uri": "https://localhost:8080/"
        },
        "id": "K3njyLn0pXxz",
        "outputId": "c9108987-737d-4008-e092-f12119170454"
      },
      "execution_count": 5,
      "outputs": [
        {
          "output_type": "stream",
          "name": "stdout",
          "text": [
            "+--------------------+--------------------+-------------+-------------------+---------------------+-------------------------+--------------------+---------------------+\n",
            "|           id_pedido|          id_cliente|status_pedido| data_compra_pedido|data_aprovacao_pedido|data_envio_transportadora|data_entrega_cliente|data_estimada_entrega|\n",
            "+--------------------+--------------------+-------------+-------------------+---------------------+-------------------------+--------------------+---------------------+\n",
            "|e481f51cbdc54678b...|9ef432eb625129730...|    delivered|2017-10-02 10:56:33|  2017-10-02 11:07:15|      2017-10-04 19:55:00| 2017-10-10 21:25:13|  2017-10-18 00:00:00|\n",
            "|53cdb2fc8bc7dce0b...|b0830fb4747a6c6d2...|    delivered|2018-07-24 20:41:37|  2018-07-26 03:24:27|      2018-07-26 14:31:00| 2018-08-07 15:27:45|  2018-08-13 00:00:00|\n",
            "|47770eb9100c2d0c4...|41ce2a54c0b03bf34...|    delivered|2018-08-08 08:38:49|  2018-08-08 08:55:23|      2018-08-08 13:50:00| 2018-08-17 18:06:29|  2018-09-04 00:00:00|\n",
            "|949d5b44dbf5de918...|f88197465ea7920ad...|    delivered|2017-11-18 19:28:06|  2017-11-18 19:45:59|      2017-11-22 13:39:59| 2017-12-02 00:28:42|  2017-12-15 00:00:00|\n",
            "|ad21c59c0840e6cb8...|8ab97904e6daea886...|    delivered|2018-02-13 21:18:39|  2018-02-13 22:20:29|      2018-02-14 19:46:34| 2018-02-16 18:17:02|  2018-02-26 00:00:00|\n",
            "+--------------------+--------------------+-------------+-------------------+---------------------+-------------------------+--------------------+---------------------+\n",
            "only showing top 5 rows\n",
            "\n"
          ]
        }
      ]
    },
    {
      "cell_type": "code",
      "source": [
        "# Mostra uma tabela com a quantidade de comrpas mês-a-mês para cada ano, ordenado por ano (desc) e mês (asc)\n",
        "pedidos.withColumn('compra_anual', year('data_compra_pedido'))\\\n",
        "    .withColumn('compra_mensal', month('data_compra_pedido'))\\\n",
        "    .groupBy('compra_anual', 'compra_mensal').count()\\\n",
        "    .orderBy(desc('compra_anual'),'compra_mensal')\\\n",
        "    .show()"
      ],
      "metadata": {
        "colab": {
          "base_uri": "https://localhost:8080/"
        },
        "id": "EttB68jdpb5q",
        "outputId": "31c446cd-480d-4cb9-d62d-1d739940cfe4"
      },
      "execution_count": 6,
      "outputs": [
        {
          "output_type": "stream",
          "name": "stdout",
          "text": [
            "+------------+-------------+-----+\n",
            "|compra_anual|compra_mensal|count|\n",
            "+------------+-------------+-----+\n",
            "|        2018|            1| 7269|\n",
            "|        2018|            2| 6728|\n",
            "|        2018|            3| 7211|\n",
            "|        2018|            4| 6939|\n",
            "|        2018|            5| 6873|\n",
            "|        2018|            6| 6167|\n",
            "|        2018|            7| 6292|\n",
            "|        2018|            8| 6512|\n",
            "|        2018|            9|   16|\n",
            "|        2018|           10|    4|\n",
            "|        2017|            1|  800|\n",
            "|        2017|            2| 1780|\n",
            "|        2017|            3| 2682|\n",
            "|        2017|            4| 2404|\n",
            "|        2017|            5| 3700|\n",
            "|        2017|            6| 3245|\n",
            "|        2017|            7| 4026|\n",
            "|        2017|            8| 4331|\n",
            "|        2017|            9| 4285|\n",
            "|        2017|           10| 4631|\n",
            "+------------+-------------+-----+\n",
            "only showing top 20 rows\n",
            "\n"
          ]
        }
      ]
    },
    {
      "cell_type": "code",
      "source": [
        "# listar a média das avaliações por produto.\n",
        "# note, a tabela de avaliações não tem o produto e a tabela de pedidos não tem a avaliação\n",
        "\n",
        "avaliacoes_pedido.show(3)\n",
        "itens_pedido.show(3)\n",
        "avaliacoes_pedido.join(itens_pedido, 'id_pedido').groupBy('id_pedido').agg(format_number(avg('nota_avaliacao'), 2).alias('media_avaliacao')).show()"
      ],
      "metadata": {
        "colab": {
          "base_uri": "https://localhost:8080/"
        },
        "id": "4aEeMdY_i843",
        "outputId": "f299a57e-c333-45be-fddf-f4f80ad90c76"
      },
      "execution_count": 7,
      "outputs": [
        {
          "output_type": "stream",
          "name": "stdout",
          "text": [
            "+--------------------+--------------------+--------------+-----------------+-------------------+----------------------+-----------------------+\n",
            "|        id_avaliacao|           id_pedido|nota_avaliacao|titulo_comentario|mensagem_comentario|data_criacao_avaliacao|data_resposta_avaliacao|\n",
            "+--------------------+--------------------+--------------+-----------------+-------------------+----------------------+-----------------------+\n",
            "|7bc2406110b926393...|73fc7af87114b3971...|             4|             NULL|               NULL|   2018-01-18 00:00:00|    2018-01-18 21:46:59|\n",
            "|80e641a11e56f04c1...|a548910a1c6147796...|             5|             NULL|               NULL|   2018-03-10 00:00:00|    2018-03-11 03:05:13|\n",
            "|228ce5500dc1d8e02...|f9e4b658b201a9f2e...|             5|             NULL|               NULL|   2018-02-17 00:00:00|    2018-02-18 14:36:24|\n",
            "+--------------------+--------------------+--------------+-----------------+-------------------+----------------------+-----------------------+\n",
            "only showing top 3 rows\n",
            "\n",
            "+--------------------+--------------+--------------------+--------------------+-------------------+-----+-----------+\n",
            "|           id_pedido|item_id_pedido|          id_produto|         id_vendedor|  data_limite_envio|preco|valor_frete|\n",
            "+--------------------+--------------+--------------------+--------------------+-------------------+-----+-----------+\n",
            "|00010242fe8c5a6d1...|             1|4244733e06e7ecb49...|48436dade18ac8b2b...|2017-09-19 09:45:35| 58.9|      13.29|\n",
            "|00018f77f2f0320c5...|             1|e5f2d52b802189ee6...|dd7ddc04e1b6c2c61...|2017-05-03 11:05:13|239.9|      19.93|\n",
            "|000229ec398224ef6...|             1|c777355d18b72b67a...|5b51032eddd242adc...|2018-01-18 14:48:30|199.0|      17.87|\n",
            "+--------------------+--------------+--------------------+--------------------+-------------------+-----+-----------+\n",
            "only showing top 3 rows\n",
            "\n",
            "+--------------------+---------------+\n",
            "|           id_pedido|media_avaliacao|\n",
            "+--------------------+---------------+\n",
            "|e239d280236cdd3c4...|           5.00|\n",
            "|d451da9b109e1786f...|           5.00|\n",
            "|0de5dbc9f32267616...|           4.00|\n",
            "|251f0a3981c4a8cb8...|           5.00|\n",
            "|f63a31c3349b87273...|           5.00|\n",
            "|800c2d74bc71b0e27...|           3.00|\n",
            "|2634d2363b155e0d1...|           5.00|\n",
            "|1c7b6d63329bdc850...|           5.00|\n",
            "|5347a7f07b3387d2d...|           3.00|\n",
            "|0bcc4cc85c24f23e2...|           5.00|\n",
            "|2c88b5879d666444b...|           5.00|\n",
            "|48e6590a35c4212b1...|           4.00|\n",
            "|a9f77c0325604197d...|           5.00|\n",
            "|fcb5deccd553af305...|           4.00|\n",
            "|0d4a43cf7b7994e0a...|           5.00|\n",
            "|a684a880595e155b0...|           1.00|\n",
            "|d43547ebdfd7f5f70...|           3.00|\n",
            "|fc79d61f2a305370f...|           5.00|\n",
            "|478e0f644b5e774c5...|           1.00|\n",
            "|c349154248a3236a0...|           1.00|\n",
            "+--------------------+---------------+\n",
            "only showing top 20 rows\n",
            "\n"
          ]
        }
      ]
    },
    {
      "cell_type": "code",
      "source": [
        "# Convertendo timestamp para long (segundos)\n",
        "pedidos_long = pedidos.withColumn('data_compra_pedido', col('data_compra_pedido').cast('long'))\n",
        "pedidos_long = pedidos_long.withColumn('data_aprovacao_pedido', col('data_aprovacao_pedido').cast('long'))\n",
        "\n",
        "# Convertendo em horas\n",
        "pedidos_horas = pedidos_long.withColumn('diferenca_horas', (col('data_aprovacao_pedido') - col('data_compra_pedido')) / 3600)\n",
        "\n",
        "pedidos_horas.select('data_compra_pedido', 'data_aprovacao_pedido', format_number(col('diferenca_horas'), 2).alias('diferenca_horas')).show()"
      ],
      "metadata": {
        "colab": {
          "base_uri": "https://localhost:8080/"
        },
        "id": "jwJDktbAwcmD",
        "outputId": "28a2ce47-8c77-43a3-fbae-9a59fef83e9e"
      },
      "execution_count": null,
      "outputs": [
        {
          "output_type": "stream",
          "name": "stdout",
          "text": [
            "+------------------+---------------------+---------------+\n",
            "|data_compra_pedido|data_aprovacao_pedido|diferenca_horas|\n",
            "+------------------+---------------------+---------------+\n",
            "|        1506941793|           1506942435|           0.18|\n",
            "|        1532464897|           1532575467|          30.71|\n",
            "|        1533717529|           1533718523|           0.28|\n",
            "|        1511033286|           1511034359|           0.30|\n",
            "|        1518556719|           1518560429|           1.03|\n",
            "|        1499637425|           1499638213|           0.22|\n",
            "|        1491913328|           1492089917|          49.05|\n",
            "|        1494940230|           1494940931|           0.19|\n",
            "|        1485196149|           1485312647|          32.36|\n",
            "|        1501329302|           1501329932|           0.17|\n",
            "|        1494963670|           1494964218|           0.15|\n",
            "|        1499975891|           1499976608|           0.20|\n",
            "|        1528365979|           1528513992|          41.11|\n",
            "|        1532540650|           1532541314|           0.18|\n",
            "|        1519913668|           1519917047|           0.94|\n",
            "|        1528398192|           1528846262|         124.46|\n",
            "|        1514919643|           1514920144|           0.14|\n",
            "|        1514331691|           1514332222|           0.15|\n",
            "|        1511222621|           1511223262|           0.18|\n",
            "|        1509033266|           1509034094|           0.23|\n",
            "+------------------+---------------------+---------------+\n",
            "only showing top 20 rows\n",
            "\n"
          ]
        }
      ]
    },
    {
      "cell_type": "code",
      "source": [
        "# Qual foi o tempo médio de aprovação dos pedidos (em horas)?\n",
        "\n",
        "pedidos.withColumn(\n",
        "    'tempo_aprovacao', col('data_aprovacao_pedido').cast('long') - col('data_compra_pedido').cast('long')\n",
        ").groupBy().agg(\n",
        "    (avg('tempo_aprovacao') / 3600).alias('tempo_medio_aprovacao_horas')\n",
        ").show()"
      ],
      "metadata": {
        "colab": {
          "base_uri": "https://localhost:8080/"
        },
        "id": "dG_eA4lqtvon",
        "outputId": "f12d1380-ff74-4af5-e5ff-617f27fb2dcc"
      },
      "execution_count": 8,
      "outputs": [
        {
          "output_type": "stream",
          "name": "stdout",
          "text": [
            "+---------------------------+\n",
            "|tempo_medio_aprovacao_horas|\n",
            "+---------------------------+\n",
            "|         10.419094301919692|\n",
            "+---------------------------+\n",
            "\n"
          ]
        }
      ]
    },
    {
      "cell_type": "code",
      "source": [
        "# Calcular a quantidade de entregas realizadas antes do prazo previsto\n",
        "\n",
        "pedidos.select('data_entrega_cliente', 'data_aprovacao_pedido').show()\n",
        "\n",
        "pedidos_antecipados = pedidos.withColumn(\n",
        "    'entrega_antecipada',\n",
        "    when(col('data_entrega_cliente') < col('data_estimada_entrega'), 1).otherwise(0)\n",
        ").groupBy().agg(\n",
        "    count(when(col('entrega_antecipada') ==1, True)).alias('total_entregas_antecipadas')\n",
        ")\n",
        "\n",
        "pedidos_antecipados.show()"
      ],
      "metadata": {
        "colab": {
          "base_uri": "https://localhost:8080/"
        },
        "id": "c3Lq48_jurIp",
        "outputId": "eb4311ff-7f0c-45bf-f63a-33f37f9345d6"
      },
      "execution_count": 9,
      "outputs": [
        {
          "output_type": "stream",
          "name": "stdout",
          "text": [
            "+--------------------+---------------------+\n",
            "|data_entrega_cliente|data_aprovacao_pedido|\n",
            "+--------------------+---------------------+\n",
            "| 2017-10-10 21:25:13|  2017-10-02 11:07:15|\n",
            "| 2018-08-07 15:27:45|  2018-07-26 03:24:27|\n",
            "| 2018-08-17 18:06:29|  2018-08-08 08:55:23|\n",
            "| 2017-12-02 00:28:42|  2017-11-18 19:45:59|\n",
            "| 2018-02-16 18:17:02|  2018-02-13 22:20:29|\n",
            "| 2017-07-26 10:57:55|  2017-07-09 22:10:13|\n",
            "|                NULL|  2017-04-13 13:25:17|\n",
            "| 2017-05-26 12:55:51|  2017-05-16 13:22:11|\n",
            "| 2017-02-02 14:08:10|  2017-01-25 02:50:47|\n",
            "| 2017-08-16 17:14:30|  2017-07-29 12:05:32|\n",
            "| 2017-05-29 11:18:31|  2017-05-16 19:50:18|\n",
            "| 2017-07-19 14:04:48|  2017-07-13 20:10:08|\n",
            "| 2018-06-19 12:05:52|  2018-06-09 03:13:12|\n",
            "| 2018-07-30 15:52:25|  2018-07-25 17:55:14|\n",
            "| 2018-03-12 23:36:26|  2018-03-01 15:10:47|\n",
            "| 2018-06-21 15:34:32|  2018-06-12 23:31:02|\n",
            "| 2018-01-20 01:38:59|  2018-01-02 19:09:04|\n",
            "| 2018-01-08 22:36:36|  2017-12-26 23:50:22|\n",
            "| 2017-11-27 18:28:00|  2017-11-21 00:14:22|\n",
            "| 2017-11-08 22:22:00|  2017-10-26 16:08:14|\n",
            "+--------------------+---------------------+\n",
            "only showing top 20 rows\n",
            "\n",
            "+--------------------------+\n",
            "|total_entregas_antecipadas|\n",
            "+--------------------------+\n",
            "|                     88649|\n",
            "+--------------------------+\n",
            "\n"
          ]
        }
      ]
    },
    {
      "cell_type": "code",
      "source": [
        "# Calcular o tempo médio de envio (em dias) para cada status do pedido\n",
        "\n",
        "pedidos.select('data_entrega_cliente', 'data_aprovacao_pedido').show(5)\n",
        "\n",
        "tempo_medio_envio_status = pedidos.withColumn(\n",
        "    'tempo_envio',\n",
        "    col('data_entrega_cliente').cast('long') - col('data_aprovacao_pedido').cast('long')\n",
        ").groupBy('status_pedido').agg(\n",
        "    format_number((avg('tempo_envio') / 86400), 2).alias('tempo_medio_envio_dias')\n",
        ")\n",
        "\n",
        "tempo_medio_envio_status.show()"
      ],
      "metadata": {
        "colab": {
          "base_uri": "https://localhost:8080/"
        },
        "id": "y19i0h2nwMFz",
        "outputId": "22d61f1c-a6a5-4e35-d7aa-42149bc498e2"
      },
      "execution_count": 10,
      "outputs": [
        {
          "output_type": "stream",
          "name": "stdout",
          "text": [
            "+--------------------+---------------------+\n",
            "|data_entrega_cliente|data_aprovacao_pedido|\n",
            "+--------------------+---------------------+\n",
            "| 2017-10-10 21:25:13|  2017-10-02 11:07:15|\n",
            "| 2018-08-07 15:27:45|  2018-07-26 03:24:27|\n",
            "| 2018-08-17 18:06:29|  2018-08-08 08:55:23|\n",
            "| 2017-12-02 00:28:42|  2017-11-18 19:45:59|\n",
            "| 2018-02-16 18:17:02|  2018-02-13 22:20:29|\n",
            "+--------------------+---------------------+\n",
            "only showing top 5 rows\n",
            "\n",
            "+-------------+----------------------+\n",
            "|status_pedido|tempo_medio_envio_dias|\n",
            "+-------------+----------------------+\n",
            "|      shipped|                  NULL|\n",
            "|     canceled|                 19.91|\n",
            "|     approved|                  NULL|\n",
            "|     invoiced|                  NULL|\n",
            "|      created|                  NULL|\n",
            "|    delivered|                 12.13|\n",
            "|  unavailable|                  NULL|\n",
            "|   processing|                  NULL|\n",
            "+-------------+----------------------+\n",
            "\n"
          ]
        }
      ]
    },
    {
      "cell_type": "code",
      "source": [
        "# Relacionar o total dos valores das vendas por estado do cliente\n",
        "# note que a tabela de pagamentos não guarda relação com a tabela de clientes\n",
        "\n",
        "pagamentos_pedido.show(3)\n",
        "itens_pedido.show(3)\n",
        "pedidos.show(3)\n",
        "clientes.show(5)"
      ],
      "metadata": {
        "colab": {
          "base_uri": "https://localhost:8080/"
        },
        "id": "WYoIid_lx1SO",
        "outputId": "915707f1-77e1-43b8-b8ab-ef843223329f"
      },
      "execution_count": 13,
      "outputs": [
        {
          "output_type": "stream",
          "name": "stdout",
          "text": [
            "+--------------------+-------------------+--------------+------------------+---------------+\n",
            "|           id_pedido|sequencia_pagamento|tipo_pagamento|parcelas_pagamento|valor_pagamento|\n",
            "+--------------------+-------------------+--------------+------------------+---------------+\n",
            "|b81ef226f3fe1789b...|                  1|   credit_card|                 8|          99.33|\n",
            "|a9810da82917af2d9...|                  1|   credit_card|                 1|          24.39|\n",
            "|25e8ea4e93396b6fa...|                  1|   credit_card|                 1|          65.71|\n",
            "+--------------------+-------------------+--------------+------------------+---------------+\n",
            "only showing top 3 rows\n",
            "\n",
            "+--------------------+--------------+--------------------+--------------------+-------------------+-----+-----------+\n",
            "|           id_pedido|item_id_pedido|          id_produto|         id_vendedor|  data_limite_envio|preco|valor_frete|\n",
            "+--------------------+--------------+--------------------+--------------------+-------------------+-----+-----------+\n",
            "|00010242fe8c5a6d1...|             1|4244733e06e7ecb49...|48436dade18ac8b2b...|2017-09-19 09:45:35| 58.9|      13.29|\n",
            "|00018f77f2f0320c5...|             1|e5f2d52b802189ee6...|dd7ddc04e1b6c2c61...|2017-05-03 11:05:13|239.9|      19.93|\n",
            "|000229ec398224ef6...|             1|c777355d18b72b67a...|5b51032eddd242adc...|2018-01-18 14:48:30|199.0|      17.87|\n",
            "+--------------------+--------------+--------------------+--------------------+-------------------+-----+-----------+\n",
            "only showing top 3 rows\n",
            "\n",
            "+--------------------+--------------------+-------------+-------------------+---------------------+-------------------------+--------------------+---------------------+\n",
            "|           id_pedido|          id_cliente|status_pedido| data_compra_pedido|data_aprovacao_pedido|data_envio_transportadora|data_entrega_cliente|data_estimada_entrega|\n",
            "+--------------------+--------------------+-------------+-------------------+---------------------+-------------------------+--------------------+---------------------+\n",
            "|e481f51cbdc54678b...|9ef432eb625129730...|    delivered|2017-10-02 10:56:33|  2017-10-02 11:07:15|      2017-10-04 19:55:00| 2017-10-10 21:25:13|  2017-10-18 00:00:00|\n",
            "|53cdb2fc8bc7dce0b...|b0830fb4747a6c6d2...|    delivered|2018-07-24 20:41:37|  2018-07-26 03:24:27|      2018-07-26 14:31:00| 2018-08-07 15:27:45|  2018-08-13 00:00:00|\n",
            "|47770eb9100c2d0c4...|41ce2a54c0b03bf34...|    delivered|2018-08-08 08:38:49|  2018-08-08 08:55:23|      2018-08-08 13:50:00| 2018-08-17 18:06:29|  2018-09-04 00:00:00|\n",
            "+--------------------+--------------------+-------------+-------------------+---------------------+-------------------------+--------------------+---------------------+\n",
            "only showing top 3 rows\n",
            "\n",
            "+--------------------+--------------------+-----------+--------------------+--------------+\n",
            "|          id_cliente|    id_unico_cliente|cep_cliente|      cidade_cliente|estado_cliente|\n",
            "+--------------------+--------------------+-----------+--------------------+--------------+\n",
            "|06b8999e2fba1a1fb...|861eff4711a542e4b...|      14409|              franca|            SP|\n",
            "|18955e83d337fd6b2...|290c77bc529b7ac93...|       9790|sao bernardo do c...|            SP|\n",
            "|4e7b3e00288586ebd...|060e732b5b29e8181...|       1151|           sao paulo|            SP|\n",
            "|b2b6027bc5c5109e5...|259dac757896d24d7...|       8775|     mogi das cruzes|            SP|\n",
            "|4f2d8ab171c80ec83...|345ecd01c38d18a90...|      13056|            campinas|            SP|\n",
            "+--------------------+--------------------+-----------+--------------------+--------------+\n",
            "only showing top 5 rows\n",
            "\n"
          ]
        }
      ]
    },
    {
      "cell_type": "code",
      "source": [
        "# será necessário realizar um join entre as tabelas de pagamento, pedidos e clientes\n",
        "\n",
        "vendas_pedidos_join = pagamentos_pedido.join(itens_pedido, 'id_pedido').join(pedidos, 'id_pedido').join(clientes, 'id_cliente')\n",
        "\n",
        "vendas_por_estado = vendas_pedidos_join.groupBy('estado_cliente').agg(sum('valor_pagamento').alias('total_vendas'))\n",
        "\n",
        "vendas_por_estado.show()"
      ],
      "metadata": {
        "colab": {
          "base_uri": "https://localhost:8080/"
        },
        "id": "fS2P4fSu3N3G",
        "outputId": "e63f9d85-2a71-41ff-98a5-66018ce4a320"
      },
      "execution_count": 12,
      "outputs": [
        {
          "output_type": "stream",
          "name": "stdout",
          "text": [
            "+--------------+------------------+\n",
            "|estado_cliente|      total_vendas|\n",
            "+--------------+------------------+\n",
            "|            SC| 786343.7099999998|\n",
            "|            RO|           65886.0|\n",
            "|            PI|136779.95999999996|\n",
            "|            AM|34753.299999999996|\n",
            "|            RR|          12462.21|\n",
            "|            GO|513879.00000000035|\n",
            "|            TO|          72281.17|\n",
            "|            MT|256804.61999999994|\n",
            "|            SP| 7597209.659999931|\n",
            "|            ES| 405805.3400000009|\n",
            "|            PB| 180984.1899999999|\n",
            "|            RS|1147277.0000000023|\n",
            "|            MS|164337.27999999997|\n",
            "|            AL|         111284.42|\n",
            "|            MG|2326151.6399999885|\n",
            "|            PA|261788.34999999992|\n",
            "|            BA| 797410.3600000021|\n",
            "|            SE| 88437.50999999998|\n",
            "|            PE|376377.26999999967|\n",
            "|            CE| 343847.8300000001|\n",
            "+--------------+------------------+\n",
            "only showing top 20 rows\n",
            "\n"
          ]
        }
      ]
    },
    {
      "cell_type": "code",
      "source": [
        "vendas_por_estado_por_tipo_pagamento = vendas_pedidos_join.groupBy(\n",
        "    'estado_cliente', 'tipo_pagamento')\\\n",
        "    .agg(sum('valor_pagamento').alias('total_vendas'))\\\n",
        "    .orderBy(col('estado_cliente'), desc('total_vendas'))\n",
        "\n",
        "vendas_por_estado_por_tipo_pagamento = vendas_por_estado_por_tipo_pagamento.withColumn(\n",
        "    'total_vendas', format_number(col('total_vendas'),2))\n",
        "\n",
        "vendas_por_estado_por_tipo_pagamento.show()"
      ],
      "metadata": {
        "colab": {
          "base_uri": "https://localhost:8080/"
        },
        "id": "qfNJV2C050Yp",
        "outputId": "bb16ac82-a2c2-4639-f983-e408af303fae"
      },
      "execution_count": 14,
      "outputs": [
        {
          "output_type": "stream",
          "name": "stdout",
          "text": [
            "+--------------+--------------+------------+\n",
            "|estado_cliente|tipo_pagamento|total_vendas|\n",
            "+--------------+--------------+------------+\n",
            "|            AC|   credit_card|   19,929.65|\n",
            "|            AC|        boleto|    3,908.46|\n",
            "|            AC|       voucher|      797.13|\n",
            "|            AC|    debit_card|      349.62|\n",
            "|            AL|   credit_card|   91,964.27|\n",
            "|            AL|        boleto|   16,388.24|\n",
            "|            AL|       voucher|    1,705.79|\n",
            "|            AL|    debit_card|    1,226.12|\n",
            "|            AM|   credit_card|   26,751.24|\n",
            "|            AM|        boleto|    7,639.22|\n",
            "|            AM|       voucher|      210.82|\n",
            "|            AM|    debit_card|      152.02|\n",
            "|            AP|   credit_card|   16,471.08|\n",
            "|            AP|        boleto|    4,934.20|\n",
            "|            AP|       voucher|      237.42|\n",
            "|            BA|   credit_card|  641,001.97|\n",
            "|            BA|        boleto|  132,269.38|\n",
            "|            BA|       voucher|   17,106.15|\n",
            "|            BA|    debit_card|    7,032.86|\n",
            "|            CE|   credit_card|  286,032.01|\n",
            "+--------------+--------------+------------+\n",
            "only showing top 20 rows\n",
            "\n"
          ]
        }
      ]
    },
    {
      "cell_type": "code",
      "source": [
        "produtos_categoria_nulos = produtos.groupBy('categoria_produto').agg(\n",
        "    count(when(col('tamanho_descricao_produto').isNull(), True)).alias('qtd_produtos_nulos'))\n",
        "\n",
        "produtos_categoria_nulos.show()\n",
        "\n",
        "produtos_categoria_nao_nulos = produtos.groupBy('categoria_produto').agg(\n",
        "    count(when(col('tamanho_descricao_produto').isNotNull(), True)).alias('qtd_produtos_nao_nulos'))\n",
        "\n",
        "produtos_categoria_nao_nulos.show()"
      ],
      "metadata": {
        "colab": {
          "base_uri": "https://localhost:8080/"
        },
        "id": "0QXimYky7GP4",
        "outputId": "c0338371-a566-4f8f-a4cd-4e0165275287"
      },
      "execution_count": 15,
      "outputs": [
        {
          "output_type": "stream",
          "name": "stdout",
          "text": [
            "+--------------------+------------------+\n",
            "|   categoria_produto|qtd_produtos_nulos|\n",
            "+--------------------+------------------+\n",
            "|                 pcs|                 0|\n",
            "|               bebes|                 0|\n",
            "|               artes|                 0|\n",
            "|           cine_foto|                 0|\n",
            "|    moveis_decoracao|                 0|\n",
            "|            pc_gamer|                 0|\n",
            "|construcao_ferram...|                 0|\n",
            "|tablets_impressao...|                 0|\n",
            "|fashion_roupa_mas...|                 0|\n",
            "|   artigos_de_festas|                 0|\n",
            "|    artigos_de_natal|                 0|\n",
            "|          la_cuisine|                 0|\n",
            "|              flores|                 0|\n",
            "|     livros_tecnicos|                 0|\n",
            "|                NULL|               610|\n",
            "|      telefonia_fixa|                 0|\n",
            "|construcao_ferram...|                 0|\n",
            "|          cool_stuff|                 0|\n",
            "|    eletrodomesticos|                 0|\n",
            "|   livros_importados|                 0|\n",
            "+--------------------+------------------+\n",
            "only showing top 20 rows\n",
            "\n",
            "+--------------------+----------------------+\n",
            "|   categoria_produto|qtd_produtos_nao_nulos|\n",
            "+--------------------+----------------------+\n",
            "|                 pcs|                    30|\n",
            "|               bebes|                   919|\n",
            "|               artes|                    55|\n",
            "|           cine_foto|                    28|\n",
            "|    moveis_decoracao|                  2657|\n",
            "|            pc_gamer|                     3|\n",
            "|construcao_ferram...|                   400|\n",
            "|tablets_impressao...|                     9|\n",
            "|fashion_roupa_mas...|                    95|\n",
            "|   artigos_de_festas|                    26|\n",
            "|    artigos_de_natal|                    65|\n",
            "|          la_cuisine|                    10|\n",
            "|              flores|                    14|\n",
            "|     livros_tecnicos|                   123|\n",
            "|                NULL|                     0|\n",
            "|      telefonia_fixa|                   116|\n",
            "|construcao_ferram...|                    91|\n",
            "|          cool_stuff|                   789|\n",
            "|    eletrodomesticos|                   370|\n",
            "|   livros_importados|                    31|\n",
            "+--------------------+----------------------+\n",
            "only showing top 20 rows\n",
            "\n"
          ]
        }
      ]
    }
  ]
}