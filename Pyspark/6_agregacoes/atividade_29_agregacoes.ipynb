{
  "nbformat": 4,
  "nbformat_minor": 0,
  "metadata": {
    "colab": {
      "provenance": []
    },
    "kernelspec": {
      "name": "python3",
      "display_name": "Python 3"
    },
    "language_info": {
      "name": "python"
    }
  },
  "cells": [
    {
      "cell_type": "code",
      "execution_count": 1,
      "metadata": {
        "colab": {
          "base_uri": "https://localhost:8080/"
        },
        "id": "TR_6y5XxsBDi",
        "outputId": "9ec05bcf-a668-4eb7-9355-d13598585363"
      },
      "outputs": [
        {
          "output_type": "stream",
          "name": "stdout",
          "text": [
            "Requirement already satisfied: pyspark in /usr/local/lib/python3.11/dist-packages (3.5.1)\n",
            "Requirement already satisfied: py4j==0.10.9.7 in /usr/local/lib/python3.11/dist-packages (from pyspark) (0.10.9.7)\n"
          ]
        }
      ],
      "source": [
        "!pip install pyspark"
      ]
    },
    {
      "cell_type": "code",
      "source": [
        "import pyspark\n",
        "from pyspark.sql import SparkSession\n",
        "from pyspark.sql.functions import *\n",
        "from pyspark.sql.window import Window"
      ],
      "metadata": {
        "id": "Vf5SmRQusfSw"
      },
      "execution_count": 2,
      "outputs": []
    },
    {
      "cell_type": "code",
      "source": [
        "spark = SparkSession.builder.getOrCreate()"
      ],
      "metadata": {
        "id": "GzGK2slisqG-"
      },
      "execution_count": 3,
      "outputs": []
    },
    {
      "cell_type": "code",
      "source": [
        "# 1. Leia o arquivo 'videos-preparados.snappy.parquet' no dataframe 'df_video'\n",
        "df_video = spark.read.parquet('drive/MyDrive/Colab Notebooks/colab_ebac/m29_spark_data/videos-preparados.snappy.parquet')\n",
        "df_video.show(5)"
      ],
      "metadata": {
        "colab": {
          "base_uri": "https://localhost:8080/"
        },
        "id": "3lOrfDFRsuJA",
        "outputId": "1e18f643-1c23-4e31-9845-47e6f9cfdeb2"
      },
      "execution_count": 4,
      "outputs": [
        {
          "output_type": "stream",
          "name": "stdout",
          "text": [
            "+--------------------+-----------+------------+-------+------+--------+--------+-----------+----+-----+-------------+--------------------+--------------------+--------------------+\n",
            "|               Title|   Video ID|Published At|Keyword| Likes|Comments|   Views|Interaction|Year|Month|Keyword Index|        Features PCA|     Features Normal|            Features|\n",
            "+--------------------+-----------+------------+-------+------+--------+--------+-----------+----+-----+-------------+--------------------+--------------------+--------------------+\n",
            "|ASMR MUKBANG DOUB...|--ZI0dSbbNU|  2020-04-18|mukbang|378858|   18860|17975269|   18372987|2020|    4|         30.0|[0.6985786560867407]|[0.02303716158264...|[378858.0,1.79752...|\n",
            "|Deadly car bomb d...|--hxd1CrOqg|  2022-08-22|   news|  6379|    4853|  808787|     820019|2022|    8|         37.0|[0.8936407990235931]|[3.87946679100418...|[6379.0,808787.0,...|\n",
            "|How Biden&#39;s s...|--ixiTypG8g|  2022-08-24|   news|  1029|    2347|   97434|     100810|2022|    8|         37.0| [0.893639694263814]|[6.26308901995973...|[1029.0,97434.0,2...|\n",
            "|Celebrating My 40...|-64r1hcxtV4|  2022-05-30|mukbang| 45628|   17264| 5283664|    5346556|2022|    5|         30.0|[0.6958642903220559]|[0.00277454843584...|[45628.0,5283664....|\n",
            "|Physics Review - ...|-6IgkG5yZfo|  2017-01-02|physics| 10959|     525|  844015|     855499|2017|    1|          7.0|[0.11987693683949...|[6.66441317075327...|[10959.0,844015.0...|\n",
            "+--------------------+-----------+------------+-------+------+--------+--------+-----------+----+-----+-------------+--------------------+--------------------+--------------------+\n",
            "only showing top 5 rows\n",
            "\n"
          ]
        }
      ]
    },
    {
      "cell_type": "code",
      "source": [
        "# 2. Calcule a quantidade de registros para cada valor único da coluna \"Keyword\"\n",
        "df_video.groupBy('Keyword').agg(\n",
        "    count_distinct('Video ID').alias('Contagem_unicos')\n",
        "    ).orderBy(desc('Contagem_unicos')).show()"
      ],
      "metadata": {
        "id": "Tivvi7Ues0Ng",
        "colab": {
          "base_uri": "https://localhost:8080/"
        },
        "outputId": "a51afb22-46f9-4fa1-98e4-eecf9987e27d"
      },
      "execution_count": 15,
      "outputs": [
        {
          "output_type": "stream",
          "name": "stdout",
          "text": [
            "+----------------+---------------+\n",
            "|         Keyword|Contagem_unicos|\n",
            "+----------------+---------------+\n",
            "|             cnn|             50|\n",
            "|       interview|             50|\n",
            "|          crypto|             50|\n",
            "|    data science|             50|\n",
            "|        trolling|             50|\n",
            "|        tutorial|             50|\n",
            "|          marvel|             50|\n",
            "|game development|             50|\n",
            "|         mrbeast|             50|\n",
            "|         physics|             50|\n",
            "|             sat|             49|\n",
            "|         history|             49|\n",
            "|           cubes|             49|\n",
            "|        reaction|             49|\n",
            "|          sports|             49|\n",
            "|            asmr|             49|\n",
            "|computer science|             48|\n",
            "|            food|             48|\n",
            "|          how-to|             48|\n",
            "|machine learning|             48|\n",
            "+----------------+---------------+\n",
            "only showing top 20 rows\n",
            "\n"
          ]
        }
      ]
    },
    {
      "cell_type": "code",
      "source": [
        "# 3. Calcule a média da coluna \"Interaction\" para cada valor único da coluna 'Keyword'\n",
        "df_video.groupBy('Keyword').agg(\n",
        "    format_number(avg('Interaction'), 0).alias('Media_interaction')\n",
        ").show()"
      ],
      "metadata": {
        "id": "awGHxIlls0nX",
        "colab": {
          "base_uri": "https://localhost:8080/"
        },
        "outputId": "03302c17-13ec-4942-9cef-9c0493dde700"
      },
      "execution_count": 27,
      "outputs": [
        {
          "output_type": "stream",
          "name": "stdout",
          "text": [
            "+----------------+-----------------+\n",
            "|         Keyword|Media_interaction|\n",
            "+----------------+-----------------+\n",
            "|computer science|        1,226,793|\n",
            "|            lofi|        4,167,086|\n",
            "|         finance|          708,543|\n",
            "|             cnn|          570,651|\n",
            "|           apple|       10,873,628|\n",
            "|            news|          251,689|\n",
            "|         mukbang|       11,053,630|\n",
            "|       education|        2,750,839|\n",
            "|       interview|        3,044,867|\n",
            "|          crypto|          413,676|\n",
            "|   mathchemistry|        3,427,343|\n",
            "|            food|        5,352,944|\n",
            "|    data science|          562,465|\n",
            "|        trolling|        1,484,585|\n",
            "|        tutorial|        6,936,688|\n",
            "|      literature|          881,726|\n",
            "|             sat|        1,098,927|\n",
            "|         history|       15,652,693|\n",
            "|           cubes|       15,043,961|\n",
            "|           music|       29,691,370|\n",
            "+----------------+-----------------+\n",
            "only showing top 20 rows\n",
            "\n"
          ]
        }
      ]
    },
    {
      "cell_type": "code",
      "source": [
        "# 4. Calcule o valor máximo da coluna \"Interaction\" para cada valor único da coluna 'Keyword' e nomeie de 'Rank Interactions',\n",
        "# em seguida ordene pela nova coluna em ordem decrescente\n",
        "\n",
        "df_video.groupBy('Keyword').agg(\n",
        "    max('Interaction').alias('Rank Interactions')\n",
        ").orderBy(desc('Rank Interactions')).show()"
      ],
      "metadata": {
        "id": "f5SbQEAos0-S",
        "colab": {
          "base_uri": "https://localhost:8080/"
        },
        "outputId": "05ee816d-529b-4ac3-c78a-085d36d3d5c9"
      },
      "execution_count": 26,
      "outputs": [
        {
          "output_type": "stream",
          "name": "stdout",
          "text": [
            "+--------+-----------------+\n",
            "| Keyword|Rank Interactions|\n",
            "+--------+-----------------+\n",
            "| animals|       1593623628|\n",
            "|   music|        922551152|\n",
            "|     bed|        532691631|\n",
            "| history|        440187490|\n",
            "|   apple|        429916936|\n",
            "| mrbeast|        300397699|\n",
            "|  google|        239385460|\n",
            "|business|        210025196|\n",
            "|   cubes|        170925917|\n",
            "|  sports|        106924567|\n",
            "| mukbang|         87433858|\n",
            "|    lofi|         86445177|\n",
            "|tutorial|         69616442|\n",
            "|  movies|         65253870|\n",
            "|  marvel|         56247330|\n",
            "|  how-to|         53053975|\n",
            "|    food|         48754479|\n",
            "| physics|         43463298|\n",
            "|    asmr|         34411125|\n",
            "|nintendo|         32268486|\n",
            "+--------+-----------------+\n",
            "only showing top 20 rows\n",
            "\n"
          ]
        }
      ]
    },
    {
      "cell_type": "code",
      "source": [
        "# 5. Calcule a média e a variância da coluna 'Views' para cada valor único da coluna 'Keyword'\n",
        "df_video.groupBy('Keyword').agg(\n",
        "    format_number(avg('Views'), 0).alias('Media_views'),\n",
        "    format_number(variance('Views'), 0).alias('Variancia_views')\n",
        ").show()"
      ],
      "metadata": {
        "id": "XpTYVnfts1Q3",
        "colab": {
          "base_uri": "https://localhost:8080/"
        },
        "outputId": "6b4bab0c-5ea5-4ecf-ffe3-09f4376bd3c5"
      },
      "execution_count": 32,
      "outputs": [
        {
          "output_type": "stream",
          "name": "stdout",
          "text": [
            "+----------------+-----------+--------------------+\n",
            "|         Keyword|Media_views|     Variancia_views|\n",
            "+----------------+-----------+--------------------+\n",
            "|computer science|  1,191,959|   2,812,198,681,651|\n",
            "|            lofi|  4,089,363| 184,620,964,147,668|\n",
            "|         finance|    694,223|   3,304,483,175,097|\n",
            "|             cnn|    554,240|     156,342,361,847|\n",
            "|           apple| 10,746,930|4,299,927,977,442...|\n",
            "|            news|    247,492|     106,751,257,667|\n",
            "|         mukbang| 10,904,772| 558,607,323,897,318|\n",
            "|       education|  2,684,433|  18,335,722,493,392|\n",
            "|       interview|  2,966,112|  18,192,209,960,343|\n",
            "|          crypto|    404,608|   3,513,691,634,369|\n",
            "|   mathchemistry|  3,328,125|  24,914,670,652,568|\n",
            "|            food|  5,252,406|  73,263,741,281,548|\n",
            "|    data science|    544,772|     547,933,652,535|\n",
            "|        trolling|  1,420,141|   6,932,651,793,973|\n",
            "|        tutorial|  6,761,032| 136,962,659,686,446|\n",
            "|      literature|    863,021|     938,052,188,421|\n",
            "|             sat|  1,065,869|   8,285,094,966,049|\n",
            "|         history| 15,353,156|4,253,204,661,918...|\n",
            "|           cubes| 14,735,344| 851,175,657,190,326|\n",
            "|           music| 29,364,893|19,247,971,071,87...|\n",
            "+----------------+-----------+--------------------+\n",
            "only showing top 20 rows\n",
            "\n"
          ]
        }
      ]
    },
    {
      "cell_type": "code",
      "source": [
        "# 6. Calcule a média, o valor mínimo e o valor máximo de 'Views' para cada valor único da coluna 'Keyword', sem casas decimais\n",
        "df_video.groupBy('Keyword').agg(\n",
        "    format_number(avg('Views'), 0).alias('Media_views'),\n",
        "    format_number(min('Views'), 0).alias('Min_views'),\n",
        "    format_number(max('Views'), 0).alias('Max_views'),\n",
        ").show()"
      ],
      "metadata": {
        "id": "XnqI82E4s1kP",
        "colab": {
          "base_uri": "https://localhost:8080/"
        },
        "outputId": "da4e71a7-9cbb-48be-edcb-7c6c9026b2b9"
      },
      "execution_count": 34,
      "outputs": [
        {
          "output_type": "stream",
          "name": "stdout",
          "text": [
            "+----------------+-----------+---------+-----------+\n",
            "|         Keyword|Media_views|Min_views|  Max_views|\n",
            "+----------------+-----------+---------+-----------+\n",
            "|computer science|  1,191,959|   16,115|  7,004,107|\n",
            "|            lofi|  4,089,363|    6,817| 84,747,957|\n",
            "|         finance|    694,223|    1,195|  9,450,554|\n",
            "|             cnn|    554,240|   51,269|  1,889,320|\n",
            "|           apple| 10,746,930|    1,954|425,478,119|\n",
            "|            news|    247,492|   10,642|  1,465,011|\n",
            "|         mukbang| 10,904,772|    3,618| 86,169,225|\n",
            "|       education|  2,684,433|    6,611| 17,103,736|\n",
            "|       interview|  2,966,112|    2,587| 22,529,756|\n",
            "|          crypto|    404,608|    1,599| 11,805,668|\n",
            "|   mathchemistry|  3,328,125|       25| 18,496,859|\n",
            "|            food|  5,252,406|   47,430| 48,018,833|\n",
            "|    data science|    544,772|      911|  3,069,097|\n",
            "|        trolling|  1,420,141|    5,388| 14,286,302|\n",
            "|        tutorial|  6,761,032|   19,323| 68,512,549|\n",
            "|      literature|    863,021|    2,847|  4,231,789|\n",
            "|             sat|  1,065,869|    7,163| 18,116,954|\n",
            "|         history| 15,353,156|    6,640|434,352,213|\n",
            "|           cubes| 14,735,344|   10,146|168,546,247|\n",
            "|           music| 29,364,893|    2,944|915,457,091|\n",
            "+----------------+-----------+---------+-----------+\n",
            "only showing top 20 rows\n",
            "\n"
          ]
        }
      ]
    },
    {
      "cell_type": "code",
      "source": [
        "# 7. Mostre o primeiro e o último 'Published At' para cada valor único da coluna 'Keyword'\n",
        "df_video.groupBy('Keyword').agg(\n",
        "    min('Published At').alias('Primeiro_published'),\n",
        "    max('Published At').alias('Ultimo_published')\n",
        ").show()"
      ],
      "metadata": {
        "id": "VBLp1_JQs13G",
        "colab": {
          "base_uri": "https://localhost:8080/"
        },
        "outputId": "c9f3d9ab-78c5-47cc-f5a0-db03a5692515"
      },
      "execution_count": 35,
      "outputs": [
        {
          "output_type": "stream",
          "name": "stdout",
          "text": [
            "+----------------+------------------+----------------+\n",
            "|         Keyword|Primeiro_published|Ultimo_published|\n",
            "+----------------+------------------+----------------+\n",
            "|computer science|        2009-08-20|      2022-08-12|\n",
            "|            lofi|        2019-12-08|      2022-08-24|\n",
            "|         finance|        2012-11-27|      2022-08-24|\n",
            "|             cnn|        2022-07-14|      2022-08-24|\n",
            "|           apple|        2016-11-02|      2022-08-24|\n",
            "|            news|        2022-08-18|      2022-08-24|\n",
            "|         mukbang|        2020-02-29|      2022-08-24|\n",
            "|       education|        2008-07-25|      2022-08-24|\n",
            "|       interview|        2016-01-05|      2022-08-24|\n",
            "|          crypto|        2022-03-11|      2022-08-24|\n",
            "|   mathchemistry|        2013-04-15|      2022-05-03|\n",
            "|            food|        2017-05-31|      2022-08-24|\n",
            "|    data science|        2018-06-23|      2022-08-24|\n",
            "|        trolling|        2020-06-14|      2022-08-24|\n",
            "|        tutorial|        2017-02-01|      2022-08-23|\n",
            "|      literature|        2010-05-18|      2022-03-01|\n",
            "|             sat|        2011-10-07|      2022-08-24|\n",
            "|         history|        2016-01-26|      2022-08-24|\n",
            "|           cubes|        2009-02-24|      2022-08-24|\n",
            "|           music|        2020-03-19|      2022-08-24|\n",
            "+----------------+------------------+----------------+\n",
            "only showing top 20 rows\n",
            "\n"
          ]
        }
      ]
    },
    {
      "cell_type": "code",
      "source": [
        "# 8. Conte todos os 'title' de forma normal e todos os únicos e verifique se há diferença\n",
        "count_title = df_video.select('title').count()\n",
        "count_title_unico = df_video.select('title').distinct().count()\n",
        "print(f'QTD title: {count_title}')\n",
        "print(f'QTD title unico: {count_title_unico}')"
      ],
      "metadata": {
        "id": "cujR3l_ts2XI",
        "colab": {
          "base_uri": "https://localhost:8080/"
        },
        "outputId": "8616c206-aa39-496b-f568-2ecc21aa87b2"
      },
      "execution_count": 37,
      "outputs": [
        {
          "output_type": "stream",
          "name": "stdout",
          "text": [
            "QTD title: 1869\n",
            "QTD title unico: 1854\n"
          ]
        }
      ]
    },
    {
      "cell_type": "code",
      "source": [
        "# 9. Mostre a quantidade de registros ordenados por ano em ordem ascendente\n",
        "df_video.groupBy(year('Published At').alias('Ano')).count().orderBy('Ano').show()\n"
      ],
      "metadata": {
        "id": "rj-fSC3us2wO",
        "colab": {
          "base_uri": "https://localhost:8080/"
        },
        "outputId": "04e5ef89-d26b-412a-d521-e467b3de5284"
      },
      "execution_count": 38,
      "outputs": [
        {
          "output_type": "stream",
          "name": "stdout",
          "text": [
            "+----+-----+\n",
            "| Ano|count|\n",
            "+----+-----+\n",
            "|2007|    2|\n",
            "|2008|    1|\n",
            "|2009|    9|\n",
            "|2010|    6|\n",
            "|2011|    4|\n",
            "|2012|   12|\n",
            "|2013|    6|\n",
            "|2014|   10|\n",
            "|2015|   15|\n",
            "|2016|   34|\n",
            "|2017|   47|\n",
            "|2018|   57|\n",
            "|2019|   86|\n",
            "|2020|  158|\n",
            "|2021|  229|\n",
            "|2022| 1193|\n",
            "+----+-----+\n",
            "\n"
          ]
        }
      ]
    },
    {
      "cell_type": "code",
      "source": [
        "# 10. Mostre a quantidade de registros ordenados por ano e mês em ordem ascendente\n",
        "df_video.groupBy(year('Published At').alias('Ano'), month('Published At').alias('Mes'))\\\n",
        "    .count().orderBy('Ano', 'Mes').show()"
      ],
      "metadata": {
        "id": "TA9c_FVHtTzw",
        "colab": {
          "base_uri": "https://localhost:8080/"
        },
        "outputId": "7c526f96-a45d-406b-e914-e46c16387dd9"
      },
      "execution_count": 40,
      "outputs": [
        {
          "output_type": "stream",
          "name": "stdout",
          "text": [
            "+----+---+-----+\n",
            "| Ano|Mes|count|\n",
            "+----+---+-----+\n",
            "|2007|  7|    1|\n",
            "|2007| 12|    1|\n",
            "|2008|  7|    1|\n",
            "|2009|  2|    2|\n",
            "|2009|  6|    2|\n",
            "|2009|  7|    1|\n",
            "|2009|  8|    1|\n",
            "|2009| 10|    1|\n",
            "|2009| 12|    2|\n",
            "|2010|  3|    1|\n",
            "|2010|  5|    2|\n",
            "|2010|  6|    1|\n",
            "|2010|  9|    1|\n",
            "|2010| 10|    1|\n",
            "|2011|  2|    1|\n",
            "|2011|  5|    1|\n",
            "|2011|  9|    1|\n",
            "|2011| 10|    1|\n",
            "|2012|  1|    1|\n",
            "|2012|  2|    3|\n",
            "+----+---+-----+\n",
            "only showing top 20 rows\n",
            "\n"
          ]
        }
      ]
    },
    {
      "cell_type": "code",
      "source": [
        "# 11. Calcule a média acumulativa de ‘Likes’ para cada ‘Keyword’ ao longo dos anos.\n",
        "\n",
        "janela_acumulativa = Window.partitionBy('Keyword').orderBy('Ano').rowsBetween(Window.unboundedPreceding, Window.currentRow)\n",
        "\n",
        "df_likes_med_acum = df_video.withColumn('Ano', year('Published At'))\n",
        "\n",
        "df_likes_med_acum = df_likes_med_acum.withColumn(\n",
        "    'Med_Likes_acumulado',\n",
        "    avg('Likes').over(janela_acumulativa))\n",
        "\n",
        "df_likes_med_acum.groupBy('Keyword', 'Ano').agg(\n",
        "    avg('Med_Likes_acumulado').alias('Med_Likes_acumulado')\n",
        ").show()"
      ],
      "metadata": {
        "id": "1UaVAtmutXJV",
        "colab": {
          "base_uri": "https://localhost:8080/"
        },
        "outputId": "9110e7b0-0236-4e21-a58a-dd237272dd4a"
      },
      "execution_count": 48,
      "outputs": [
        {
          "output_type": "stream",
          "name": "stdout",
          "text": [
            "+-------+----+-------------------+\n",
            "|Keyword| Ano|Med_Likes_acumulado|\n",
            "+-------+----+-------------------+\n",
            "|animals|2009|          1357197.0|\n",
            "|animals|2010|           650321.0|\n",
            "|animals|2013|         3197276.75|\n",
            "|animals|2014| 3010213.1166666667|\n",
            "|animals|2019| 2950868.5714285714|\n",
            "|animals|2020|  1880639.258017754|\n",
            "|animals|2021|  1388437.658048009|\n",
            "|animals|2022|  923691.7527111218|\n",
            "|  apple|2016|          4144389.0|\n",
            "|  apple|2021|          2091325.0|\n",
            "|  apple|2022|  305566.5841958186|\n",
            "|   asmr|2020|           148120.0|\n",
            "|   asmr|2021|  339133.0833333333|\n",
            "|   asmr|2022|  79013.54289805984|\n",
            "|    bed|2007|          416104.75|\n",
            "|    bed|2009|  710739.8944444446|\n",
            "|    bed|2010|           573747.5|\n",
            "|    bed|2011|  582662.7767857143|\n",
            "|    bed|2017|  520252.3087179487|\n",
            "|    bed|2018|  478807.3155112044|\n",
            "+-------+----+-------------------+\n",
            "only showing top 20 rows\n",
            "\n"
          ]
        }
      ]
    }
  ]
}