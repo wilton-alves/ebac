{
  "nbformat": 4,
  "nbformat_minor": 0,
  "metadata": {
    "colab": {
      "provenance": []
    },
    "kernelspec": {
      "name": "python3",
      "display_name": "Python 3"
    },
    "language_info": {
      "name": "python"
    }
  },
  "cells": [
    {
      "cell_type": "code",
      "execution_count": 1,
      "metadata": {
        "colab": {
          "base_uri": "https://localhost:8080/"
        },
        "id": "8I0-1SxZerIs",
        "outputId": "dd0030d5-e8f5-4645-c113-7a4d69ed48e6"
      },
      "outputs": [
        {
          "output_type": "stream",
          "name": "stdout",
          "text": [
            "Requirement already satisfied: pyspark in /usr/local/lib/python3.11/dist-packages (3.5.1)\n",
            "Requirement already satisfied: py4j==0.10.9.7 in /usr/local/lib/python3.11/dist-packages (from pyspark) (0.10.9.7)\n"
          ]
        }
      ],
      "source": [
        "! pip install pyspark"
      ]
    },
    {
      "cell_type": "code",
      "source": [
        "import pyspark\n",
        "from pyspark.sql import SparkSession\n",
        "from pyspark.sql.functions import *\n",
        "from pyspark.sql.window import Window"
      ],
      "metadata": {
        "id": "STc_WKXKe7bI"
      },
      "execution_count": 2,
      "outputs": []
    },
    {
      "cell_type": "code",
      "source": [
        "spark = SparkSession.builder.getOrCreate()"
      ],
      "metadata": {
        "id": "DRT54br1foJb"
      },
      "execution_count": 3,
      "outputs": []
    },
    {
      "cell_type": "code",
      "source": [
        "produtos = spark.read.csv('drive/MyDrive/Colab Notebooks/colab_ebac/spark_data/produtos.csv', header=True, inferSchema=True)\n",
        "vendedores = spark.read.csv('drive/MyDrive/Colab Notebooks/colab_ebac/spark_data/vendedores.csv', header=True, inferSchema=True)\n",
        "clientes = spark.read.csv('drive/MyDrive/Colab Notebooks/colab_ebac/spark_data/clientes.csv', header=True, inferSchema=True)\n",
        "itens_pedido = spark.read.csv('drive/MyDrive/Colab Notebooks/colab_ebac/spark_data/itens_pedido.csv', header=True, inferSchema=True)\n",
        "pagamentos_pedido = spark.read.csv('drive/MyDrive/Colab Notebooks/colab_ebac/spark_data/pagamentos_pedido.csv', header=True, inferSchema=True)\n",
        "avaliacoes_pedido = spark.read.csv('drive/MyDrive/Colab Notebooks/colab_ebac/spark_data/avaliacoes_pedido.csv', header=True, inferSchema=True)\n",
        "pedidos = spark.read.csv('drive/MyDrive/Colab Notebooks/colab_ebac/spark_data/pedidos.csv', header=True, inferSchema=True)"
      ],
      "metadata": {
        "id": "NbWzplkYfWRJ"
      },
      "execution_count": 4,
      "outputs": []
    },
    {
      "cell_type": "code",
      "source": [
        "produtos.show(5)"
      ],
      "metadata": {
        "colab": {
          "base_uri": "https://localhost:8080/"
        },
        "id": "h0J_kTR7glzk",
        "outputId": "93d3f3c5-d558-4e40-ec68-a2aa09a0b89d"
      },
      "execution_count": 5,
      "outputs": [
        {
          "output_type": "stream",
          "name": "stdout",
          "text": [
            "+--------------------+--------------------+--------------------+-------------------------+------------------------+--------------+----------------------+-----------------+------------------+\n",
            "|          id_produto|   categoria_produto|tamanho_nome_produto|tamanho_descricao_produto|quantidade_fotos_produto|peso_produto_g|comprimento_produto_cm|altura_produto_cm|largura_produto_cm|\n",
            "+--------------------+--------------------+--------------------+-------------------------+------------------------+--------------+----------------------+-----------------+------------------+\n",
            "|1e9e8ef04dbcff454...|          perfumaria|                  40|                      287|                       1|           225|                    16|               10|                14|\n",
            "|3aa071139cb16b67c...|               artes|                  44|                      276|                       1|          1000|                    30|               18|                20|\n",
            "|96bd76ec8810374ed...|       esporte_lazer|                  46|                      250|                       1|           154|                    18|                9|                15|\n",
            "|cef67bcfe19066a93...|               bebes|                  27|                      261|                       1|           371|                    26|                4|                26|\n",
            "|9dc1a7de274444849...|utilidades_domest...|                  37|                      402|                       4|           625|                    20|               17|                13|\n",
            "+--------------------+--------------------+--------------------+-------------------------+------------------------+--------------+----------------------+-----------------+------------------+\n",
            "only showing top 5 rows\n",
            "\n"
          ]
        }
      ]
    },
    {
      "cell_type": "code",
      "source": [
        "qtd_produto = produtos.groupBy('categoria_produto').agg(\n",
        "    count_distinct('id_produto').alias('contagem_unicos_exata'),\n",
        "    approx_count_distinct('id_produto').alias('contagem_unicos_aproximada'))\n",
        "\n",
        "qtd_produto.show()"
      ],
      "metadata": {
        "colab": {
          "base_uri": "https://localhost:8080/"
        },
        "id": "-FO3_aSXgsil",
        "outputId": "31f631d4-6525-4238-c453-19eb3a003c33"
      },
      "execution_count": 6,
      "outputs": [
        {
          "output_type": "stream",
          "name": "stdout",
          "text": [
            "+--------------------+---------------------+--------------------------+\n",
            "|   categoria_produto|contagem_unicos_exata|contagem_unicos_aproximada|\n",
            "+--------------------+---------------------+--------------------------+\n",
            "|                 pcs|                   30|                        30|\n",
            "|               bebes|                  919|                       873|\n",
            "|               artes|                   55|                        56|\n",
            "|           cine_foto|                   28|                        29|\n",
            "|    moveis_decoracao|                 2657|                      2715|\n",
            "|            pc_gamer|                    3|                         3|\n",
            "|tablets_impressao...|                    9|                         9|\n",
            "|construcao_ferram...|                  400|                       401|\n",
            "|fashion_roupa_mas...|                   95|                        98|\n",
            "|   artigos_de_festas|                   26|                        26|\n",
            "|    artigos_de_natal|                   65|                        65|\n",
            "|          la_cuisine|                   10|                        10|\n",
            "|              flores|                   14|                        13|\n",
            "|     livros_tecnicos|                  123|                       125|\n",
            "|                NULL|                  610|                       592|\n",
            "|      telefonia_fixa|                  116|                       118|\n",
            "|construcao_ferram...|                   91|                        92|\n",
            "|          cool_stuff|                  789|                       769|\n",
            "|    eletrodomesticos|                  370|                       367|\n",
            "|   livros_importados|                   31|                        32|\n",
            "+--------------------+---------------------+--------------------------+\n",
            "only showing top 20 rows\n",
            "\n"
          ]
        }
      ]
    },
    {
      "cell_type": "code",
      "source": [
        "pedidos_completos_df = pedidos.dropna()"
      ],
      "metadata": {
        "id": "yVAtpjFFhSdM"
      },
      "execution_count": 8,
      "outputs": []
    },
    {
      "cell_type": "code",
      "source": [
        "pedidos_completos_df.show(5)"
      ],
      "metadata": {
        "colab": {
          "base_uri": "https://localhost:8080/"
        },
        "id": "2Wmtkk0tis7O",
        "outputId": "29a8ea54-aa78-4c30-cf27-ddc1494db079"
      },
      "execution_count": 12,
      "outputs": [
        {
          "output_type": "stream",
          "name": "stdout",
          "text": [
            "+--------------------+--------------------+-------------+-------------------+---------------------+-------------------------+--------------------+---------------------+\n",
            "|           id_pedido|          id_cliente|status_pedido| data_compra_pedido|data_aprovacao_pedido|data_envio_transportadora|data_entrega_cliente|data_estimada_entrega|\n",
            "+--------------------+--------------------+-------------+-------------------+---------------------+-------------------------+--------------------+---------------------+\n",
            "|e481f51cbdc54678b...|9ef432eb625129730...|    delivered|2017-10-02 10:56:33|  2017-10-02 11:07:15|      2017-10-04 19:55:00| 2017-10-10 21:25:13|  2017-10-18 00:00:00|\n",
            "|53cdb2fc8bc7dce0b...|b0830fb4747a6c6d2...|    delivered|2018-07-24 20:41:37|  2018-07-26 03:24:27|      2018-07-26 14:31:00| 2018-08-07 15:27:45|  2018-08-13 00:00:00|\n",
            "|47770eb9100c2d0c4...|41ce2a54c0b03bf34...|    delivered|2018-08-08 08:38:49|  2018-08-08 08:55:23|      2018-08-08 13:50:00| 2018-08-17 18:06:29|  2018-09-04 00:00:00|\n",
            "|949d5b44dbf5de918...|f88197465ea7920ad...|    delivered|2017-11-18 19:28:06|  2017-11-18 19:45:59|      2017-11-22 13:39:59| 2017-12-02 00:28:42|  2017-12-15 00:00:00|\n",
            "|ad21c59c0840e6cb8...|8ab97904e6daea886...|    delivered|2018-02-13 21:18:39|  2018-02-13 22:20:29|      2018-02-14 19:46:34| 2018-02-16 18:17:02|  2018-02-26 00:00:00|\n",
            "+--------------------+--------------------+-------------+-------------------+---------------------+-------------------------+--------------------+---------------------+\n",
            "only showing top 5 rows\n",
            "\n"
          ]
        }
      ]
    },
    {
      "cell_type": "code",
      "source": [
        "pedidos_completos_df = pedidos_completos_df.withColumn(\n",
        "    'tempo_envio_dias',\n",
        "    (col('data_entrega_cliente').cast('long') - col('data_aprovacao_pedido').cast('long'))/86400)\n",
        "\n",
        "pedidos_completos_df.show(5)"
      ],
      "metadata": {
        "colab": {
          "base_uri": "https://localhost:8080/"
        },
        "id": "5EJjqW1xh2nR",
        "outputId": "b5634015-c5b7-4eba-8e16-990f2a20bf06"
      },
      "execution_count": 13,
      "outputs": [
        {
          "output_type": "stream",
          "name": "stdout",
          "text": [
            "+--------------------+--------------------+-------------+-------------------+---------------------+-------------------------+--------------------+---------------------+------------------+\n",
            "|           id_pedido|          id_cliente|status_pedido| data_compra_pedido|data_aprovacao_pedido|data_envio_transportadora|data_entrega_cliente|data_estimada_entrega|  tempo_envio_dias|\n",
            "+--------------------+--------------------+-------------+-------------------+---------------------+-------------------------+--------------------+---------------------+------------------+\n",
            "|e481f51cbdc54678b...|9ef432eb625129730...|    delivered|2017-10-02 10:56:33|  2017-10-02 11:07:15|      2017-10-04 19:55:00| 2017-10-10 21:25:13|  2017-10-18 00:00:00| 8.429143518518519|\n",
            "|53cdb2fc8bc7dce0b...|b0830fb4747a6c6d2...|    delivered|2018-07-24 20:41:37|  2018-07-26 03:24:27|      2018-07-26 14:31:00| 2018-08-07 15:27:45|  2018-08-13 00:00:00|12.502291666666666|\n",
            "|47770eb9100c2d0c4...|41ce2a54c0b03bf34...|    delivered|2018-08-08 08:38:49|  2018-08-08 08:55:23|      2018-08-08 13:50:00| 2018-08-17 18:06:29|  2018-09-04 00:00:00| 9.382708333333333|\n",
            "|949d5b44dbf5de918...|f88197465ea7920ad...|    delivered|2017-11-18 19:28:06|  2017-11-18 19:45:59|      2017-11-22 13:39:59| 2017-12-02 00:28:42|  2017-12-15 00:00:00|13.196331018518519|\n",
            "|ad21c59c0840e6cb8...|8ab97904e6daea886...|    delivered|2018-02-13 21:18:39|  2018-02-13 22:20:29|      2018-02-14 19:46:34| 2018-02-16 18:17:02|  2018-02-26 00:00:00|         2.8309375|\n",
            "+--------------------+--------------------+-------------+-------------------+---------------------+-------------------------+--------------------+---------------------+------------------+\n",
            "only showing top 5 rows\n",
            "\n"
          ]
        }
      ]
    },
    {
      "cell_type": "code",
      "source": [
        "janela_acumulativa = Window.partitionBy('status_pedido').orderBy('data_aprovacao_pedido').rowsBetween(Window.unboundedPreceding, Window.currentRow)\n",
        "\n",
        "pedidos_completos_df = pedidos_completos_df.withColumn(\n",
        "    'media_tempo_envio_cumulativa',\n",
        "    avg('tempo_envio_dias').over(janela_acumulativa))\n",
        "\n",
        "pedidos_completos_df.show(20)"
      ],
      "metadata": {
        "colab": {
          "base_uri": "https://localhost:8080/"
        },
        "id": "WxQl--C9jH6l",
        "outputId": "19495872-9521-4ce5-9d33-c3d701d3fd4d"
      },
      "execution_count": 18,
      "outputs": [
        {
          "output_type": "stream",
          "name": "stdout",
          "text": [
            "+--------------------+--------------------+-------------+-------------------+---------------------+-------------------------+--------------------+---------------------+------------------+----------------------------+\n",
            "|           id_pedido|          id_cliente|status_pedido| data_compra_pedido|data_aprovacao_pedido|data_envio_transportadora|data_entrega_cliente|data_estimada_entrega|  tempo_envio_dias|media_tempo_envio_cumulativa|\n",
            "+--------------------+--------------------+-------------+-------------------+---------------------+-------------------------+--------------------+---------------------+------------------+----------------------------+\n",
            "|65d1e226dfaeb8cdc...|70fc57eeae2926759...|     canceled|2016-10-03 21:01:41|  2016-10-04 10:18:57|      2016-10-25 12:14:28| 2016-11-08 10:58:34|  2016-11-25 00:00:00|35.027511574074076|          35.027511574074076|\n",
            "|770d331c84e5b214b...|6c57e6119369185e5...|     canceled|2016-10-07 14:52:30|  2016-10-07 15:07:10|      2016-10-11 15:07:11| 2016-10-14 15:07:11|  2016-11-29 00:00:00| 7.000011574074074|          21.013761574074074|\n",
            "|dabf2b0e35b423f94...|5cdec0bb8cbdf53ff...|     canceled|2016-10-09 00:56:52|  2016-10-09 13:36:58|      2016-10-13 13:36:59| 2016-10-16 14:36:59|  2016-11-30 00:00:00|  7.04167824074074|          16.356400462962963|\n",
            "|8beb59392e21af5eb...|bf609b5741f71697f...|     canceled|2016-10-08 20:17:50|  2016-10-09 14:34:30|      2016-10-14 22:45:26| 2016-10-19 18:47:43|  2016-11-30 00:00:00|10.175844907407408|          14.811261574074074|\n",
            "|2c45c33d2f9cb8ff8...|de4caa97afa80c8ee...|     canceled|2016-10-09 15:39:56|  2016-10-10 10:40:49|      2016-10-14 10:40:50| 2016-11-09 14:53:50|  2016-12-08 00:00:00|30.175706018518518|          17.884150462962964|\n",
            "|1950d777989f6a877...|1bccb206de9f0f25a...|     canceled|2018-02-19 19:48:52|  2018-02-19 20:56:05|      2018-02-20 19:57:13| 2018-03-21 22:03:51|  2018-03-09 00:00:00|30.047060185185185|          19.911302083333336|\n",
            "|bfbd0f9bdef843021...|86dc2ffce2dfff336...|    delivered|2016-09-15 12:16:38|  2016-09-15 12:16:38|      2016-11-07 17:11:53| 2016-11-09 07:47:38|  2016-10-04 00:00:00| 54.81319444444444|           54.81319444444444|\n",
            "|1ff217aa612f6cd7c...|b3a9bf200375f53cc...|    delivered|2016-10-04 09:16:33|  2016-10-04 09:43:32|      2016-10-21 16:33:45| 2016-10-24 16:33:45|  2016-11-24 00:00:00|20.284872685185185|           37.54903356481481|\n",
            "|cd3b8574c82b42fc8...|7812fcebfc5e8065d...|    delivered|2016-10-03 22:31:31|  2016-10-04 10:19:23|      2016-10-08 10:34:01| 2016-10-14 16:08:00|  2016-11-23 00:00:00|10.242094907407408|          28.446720679012344|\n",
            "|ed8c7b1b3eb256c70...|da0ba2a9935bca5b4...|    delivered|2016-10-04 09:59:03|  2016-10-04 10:25:46|      2016-11-11 15:29:14| 2016-11-18 08:51:07|  2016-11-24 00:00:00|44.934270833333336|           32.56860821759259|\n",
            "|d207cc272675637bf...|b8cf418e97ae79567...|    delivered|2016-10-03 22:06:03|  2016-10-04 10:28:07|      2016-10-21 14:23:37| 2016-10-31 11:07:42|  2016-11-23 00:00:00|27.027488425925927|          31.460384259259257|\n",
            "|ef1b29b591d31d57c...|dc607dc98d6a11d5d...|    delivered|2016-10-03 22:51:30|  2016-10-04 10:28:19|      2016-10-21 14:23:36| 2016-11-01 15:14:45|  2016-11-25 00:00:00|28.198912037037037|          30.916805555555555|\n",
            "|ae8a60e4b03c5a4ba...|e6f959bf384d1d53b...|    delivered|2016-10-03 22:44:10|  2016-10-04 10:28:25|      2016-10-30 14:22:04| 2016-11-03 14:04:50|  2016-12-01 00:00:00|30.150289351851853|           30.80730324074074|\n",
            "|c3d9e402b6a0fbe2a...|5720a15d022c09d26...|    delivered|2016-10-04 10:16:04|  2016-10-04 10:45:33|      2016-10-28 15:34:00| 2016-11-08 10:41:54|  2016-12-08 00:00:00| 34.99746527777778|           31.33107349537037|\n",
            "|46046adea0e222a29...|e9722ab28655e0776...|    delivered|2016-10-04 10:41:17|  2016-10-04 11:06:07|      2016-10-21 16:29:32| 2016-10-24 16:29:32|  2016-11-28 00:00:00|20.224594907407408|          30.097020318930035|\n",
            "|79ffdd52a918bbe86...|f9808148a262b51d2...|    delivered|2016-10-04 12:06:11|  2016-10-04 12:25:20|      2016-10-25 14:16:48| 2016-10-26 16:41:21|  2016-11-24 00:00:00|22.177789351851853|           29.30509722222222|\n",
            "|c4b41c36dd589e901...|4bb880cac21c7a9e1...|    delivered|2016-10-04 12:53:17|  2016-10-04 13:26:11|      2016-11-07 16:21:26| 2016-11-09 13:37:38|  2016-11-24 00:00:00| 36.00795138888889|            29.9144476010101|\n",
            "|36989eb07a0de2d3d...|aadd27185177fc7ac...|    delivered|2016-10-04 13:11:29|  2016-10-04 13:46:31|      2016-10-08 13:46:32| 2016-10-11 13:46:32|  2016-12-06 00:00:00| 7.000011574074074|          28.004911265432096|\n",
            "|3f72d2b757e725cd4...|e0de521fbb397bd7e...|    delivered|2016-10-04 13:15:46|  2016-10-04 13:47:04|      2016-10-10 16:45:50| 2016-10-17 11:25:59|  2016-11-28 00:00:00|12.902025462962962|          26.843150819088315|\n",
            "|f3f12fc90564a9b03...|3c521eac04e2dca47...|    delivered|2016-10-04 13:15:52|  2016-10-04 13:47:06|      2016-10-30 13:37:48| 2016-11-01 18:07:25|  2016-11-24 00:00:00|28.180775462962963|          26.938695436507935|\n",
            "+--------------------+--------------------+-------------+-------------------+---------------------+-------------------------+--------------------+---------------------+------------------+----------------------------+\n",
            "only showing top 20 rows\n",
            "\n"
          ]
        }
      ]
    },
    {
      "cell_type": "code",
      "source": [
        "janela_10dias = Window.partitionBy('status_pedido').orderBy('data_aprovacao_pedido').rowsBetween(-9, 0)\n",
        "\n",
        "pedidos_completos_df = pedidos_completos_df.withColumn(\n",
        "    'media_tempo_envio_cumulativa',\n",
        "    avg('tempo_envio_dias').over(janela_10dias))\n",
        "\n",
        "pedidos_completos_df.show(20)"
      ],
      "metadata": {
        "colab": {
          "base_uri": "https://localhost:8080/"
        },
        "id": "Hp5Ub8n0lDWm",
        "outputId": "e94e4a7c-5680-4aa0-83e1-9b2498ca586c"
      },
      "execution_count": 19,
      "outputs": [
        {
          "output_type": "stream",
          "name": "stdout",
          "text": [
            "+--------------------+--------------------+-------------+-------------------+---------------------+-------------------------+--------------------+---------------------+------------------+----------------------------+\n",
            "|           id_pedido|          id_cliente|status_pedido| data_compra_pedido|data_aprovacao_pedido|data_envio_transportadora|data_entrega_cliente|data_estimada_entrega|  tempo_envio_dias|media_tempo_envio_cumulativa|\n",
            "+--------------------+--------------------+-------------+-------------------+---------------------+-------------------------+--------------------+---------------------+------------------+----------------------------+\n",
            "|65d1e226dfaeb8cdc...|70fc57eeae2926759...|     canceled|2016-10-03 21:01:41|  2016-10-04 10:18:57|      2016-10-25 12:14:28| 2016-11-08 10:58:34|  2016-11-25 00:00:00|35.027511574074076|          35.027511574074076|\n",
            "|770d331c84e5b214b...|6c57e6119369185e5...|     canceled|2016-10-07 14:52:30|  2016-10-07 15:07:10|      2016-10-11 15:07:11| 2016-10-14 15:07:11|  2016-11-29 00:00:00| 7.000011574074074|          21.013761574074074|\n",
            "|dabf2b0e35b423f94...|5cdec0bb8cbdf53ff...|     canceled|2016-10-09 00:56:52|  2016-10-09 13:36:58|      2016-10-13 13:36:59| 2016-10-16 14:36:59|  2016-11-30 00:00:00|  7.04167824074074|          16.356400462962963|\n",
            "|8beb59392e21af5eb...|bf609b5741f71697f...|     canceled|2016-10-08 20:17:50|  2016-10-09 14:34:30|      2016-10-14 22:45:26| 2016-10-19 18:47:43|  2016-11-30 00:00:00|10.175844907407408|          14.811261574074074|\n",
            "|2c45c33d2f9cb8ff8...|de4caa97afa80c8ee...|     canceled|2016-10-09 15:39:56|  2016-10-10 10:40:49|      2016-10-14 10:40:50| 2016-11-09 14:53:50|  2016-12-08 00:00:00|30.175706018518518|          17.884150462962964|\n",
            "|1950d777989f6a877...|1bccb206de9f0f25a...|     canceled|2018-02-19 19:48:52|  2018-02-19 20:56:05|      2018-02-20 19:57:13| 2018-03-21 22:03:51|  2018-03-09 00:00:00|30.047060185185185|          19.911302083333336|\n",
            "|bfbd0f9bdef843021...|86dc2ffce2dfff336...|    delivered|2016-09-15 12:16:38|  2016-09-15 12:16:38|      2016-11-07 17:11:53| 2016-11-09 07:47:38|  2016-10-04 00:00:00| 54.81319444444444|           54.81319444444444|\n",
            "|1ff217aa612f6cd7c...|b3a9bf200375f53cc...|    delivered|2016-10-04 09:16:33|  2016-10-04 09:43:32|      2016-10-21 16:33:45| 2016-10-24 16:33:45|  2016-11-24 00:00:00|20.284872685185185|           37.54903356481481|\n",
            "|cd3b8574c82b42fc8...|7812fcebfc5e8065d...|    delivered|2016-10-03 22:31:31|  2016-10-04 10:19:23|      2016-10-08 10:34:01| 2016-10-14 16:08:00|  2016-11-23 00:00:00|10.242094907407408|          28.446720679012344|\n",
            "|ed8c7b1b3eb256c70...|da0ba2a9935bca5b4...|    delivered|2016-10-04 09:59:03|  2016-10-04 10:25:46|      2016-11-11 15:29:14| 2016-11-18 08:51:07|  2016-11-24 00:00:00|44.934270833333336|           32.56860821759259|\n",
            "|d207cc272675637bf...|b8cf418e97ae79567...|    delivered|2016-10-03 22:06:03|  2016-10-04 10:28:07|      2016-10-21 14:23:37| 2016-10-31 11:07:42|  2016-11-23 00:00:00|27.027488425925927|          31.460384259259257|\n",
            "|ef1b29b591d31d57c...|dc607dc98d6a11d5d...|    delivered|2016-10-03 22:51:30|  2016-10-04 10:28:19|      2016-10-21 14:23:36| 2016-11-01 15:14:45|  2016-11-25 00:00:00|28.198912037037037|          30.916805555555555|\n",
            "|ae8a60e4b03c5a4ba...|e6f959bf384d1d53b...|    delivered|2016-10-03 22:44:10|  2016-10-04 10:28:25|      2016-10-30 14:22:04| 2016-11-03 14:04:50|  2016-12-01 00:00:00|30.150289351851853|           30.80730324074074|\n",
            "|c3d9e402b6a0fbe2a...|5720a15d022c09d26...|    delivered|2016-10-04 10:16:04|  2016-10-04 10:45:33|      2016-10-28 15:34:00| 2016-11-08 10:41:54|  2016-12-08 00:00:00| 34.99746527777778|           31.33107349537037|\n",
            "|46046adea0e222a29...|e9722ab28655e0776...|    delivered|2016-10-04 10:41:17|  2016-10-04 11:06:07|      2016-10-21 16:29:32| 2016-10-24 16:29:32|  2016-11-28 00:00:00|20.224594907407408|          30.097020318930035|\n",
            "|79ffdd52a918bbe86...|f9808148a262b51d2...|    delivered|2016-10-04 12:06:11|  2016-10-04 12:25:20|      2016-10-25 14:16:48| 2016-10-26 16:41:21|  2016-11-24 00:00:00|22.177789351851853|           29.30509722222222|\n",
            "|c4b41c36dd589e901...|4bb880cac21c7a9e1...|    delivered|2016-10-04 12:53:17|  2016-10-04 13:26:11|      2016-11-07 16:21:26| 2016-11-09 13:37:38|  2016-11-24 00:00:00| 36.00795138888889|          27.424572916666666|\n",
            "|36989eb07a0de2d3d...|aadd27185177fc7ac...|    delivered|2016-10-04 13:11:29|  2016-10-04 13:46:31|      2016-10-08 13:46:32| 2016-10-11 13:46:32|  2016-12-06 00:00:00| 7.000011574074074|          26.096086805555558|\n",
            "|3f72d2b757e725cd4...|e0de521fbb397bd7e...|    delivered|2016-10-04 13:15:46|  2016-10-04 13:47:04|      2016-10-10 16:45:50| 2016-10-17 11:25:59|  2016-11-28 00:00:00|12.902025462962962|          26.362079861111113|\n",
            "|f3f12fc90564a9b03...|3c521eac04e2dca47...|    delivered|2016-10-04 13:15:52|  2016-10-04 13:47:06|      2016-10-30 13:37:48| 2016-11-01 18:07:25|  2016-11-24 00:00:00|28.180775462962963|          24.686730324074077|\n",
            "+--------------------+--------------------+-------------+-------------------+---------------------+-------------------------+--------------------+---------------------+------------------+----------------------------+\n",
            "only showing top 20 rows\n",
            "\n"
          ]
        }
      ]
    },
    {
      "cell_type": "code",
      "source": [
        "windowSpec = Window.partitionBy('status_pedido').orderBy('data_aprovacao_pedido').rowsBetween(Window.unboundedPreceding, Window.currentRow)\n",
        "\n",
        "pedidos_ordenados = pedidos.orderBy('data_aprovacao_pedido')\n",
        "pedidos_ordenados = pedidos_ordenados.dropna()\n",
        "\n",
        "print(pedidos.count())\n",
        "\n",
        "tempo_medio_cumulativo = pedidos_ordenados.withColumn(\n",
        "    'tempo_envio_dias',\n",
        "    (col('data_entrega_cliente').cast('long') - col('data_aprovacao_pedido').cast('long')) / 86400\n",
        ").withColumn(\n",
        "    'media_tempo_envio_cumulativa',\n",
        "    avg('tempo_envio_dias').over(windowSpec)\n",
        ")\n",
        "\n",
        "tempo_medio_cumulativo.select('status_pedido', 'data_aprovacao_pedido', 'media_tempo_envio_cumulativa').show()"
      ],
      "metadata": {
        "colab": {
          "base_uri": "https://localhost:8080/"
        },
        "id": "KoGXtQhzlkdC",
        "outputId": "411fa555-c440-40c8-85fb-fd0990a3d9cc"
      },
      "execution_count": 20,
      "outputs": [
        {
          "output_type": "stream",
          "name": "stdout",
          "text": [
            "99441\n",
            "+-------------+---------------------+----------------------------+\n",
            "|status_pedido|data_aprovacao_pedido|media_tempo_envio_cumulativa|\n",
            "+-------------+---------------------+----------------------------+\n",
            "|     canceled|  2016-10-04 10:18:57|          35.027511574074076|\n",
            "|     canceled|  2016-10-07 15:07:10|          21.013761574074074|\n",
            "|     canceled|  2016-10-09 13:36:58|          16.356400462962963|\n",
            "|     canceled|  2016-10-09 14:34:30|          14.811261574074074|\n",
            "|     canceled|  2016-10-10 10:40:49|          17.884150462962964|\n",
            "|     canceled|  2018-02-19 20:56:05|          19.911302083333336|\n",
            "|    delivered|  2016-09-15 12:16:38|           54.81319444444444|\n",
            "|    delivered|  2016-10-04 09:43:32|           37.54903356481481|\n",
            "|    delivered|  2016-10-04 10:19:23|          28.446720679012344|\n",
            "|    delivered|  2016-10-04 10:25:46|           32.56860821759259|\n",
            "|    delivered|  2016-10-04 10:28:07|          31.460384259259257|\n",
            "|    delivered|  2016-10-04 10:28:19|          30.916805555555555|\n",
            "|    delivered|  2016-10-04 10:28:25|           30.80730324074074|\n",
            "|    delivered|  2016-10-04 10:45:33|           31.33107349537037|\n",
            "|    delivered|  2016-10-04 11:06:07|          30.097020318930035|\n",
            "|    delivered|  2016-10-04 12:25:20|           29.30509722222222|\n",
            "|    delivered|  2016-10-04 13:26:11|            29.9144476010101|\n",
            "|    delivered|  2016-10-04 13:46:31|          28.004911265432096|\n",
            "|    delivered|  2016-10-04 13:47:04|          26.843150819088315|\n",
            "|    delivered|  2016-10-04 13:47:06|          26.938695436507935|\n",
            "+-------------+---------------------+----------------------------+\n",
            "only showing top 20 rows\n",
            "\n"
          ]
        }
      ]
    },
    {
      "cell_type": "code",
      "source": [
        "pedidos_com_mes = pedidos.withColumn('mes_compra', month('data_compra_pedido'))\n",
        "vendas_por_mes_status = pedidos_com_mes.groupBy('mes_compra').pivot('status_pedido').agg(\n",
        "    count('id_pedido').alias('total_pedidos')).orderBy('mes_compra')\n",
        "\n",
        "vendas_por_mes_status.show()"
      ],
      "metadata": {
        "colab": {
          "base_uri": "https://localhost:8080/"
        },
        "id": "W_TFByTHofOX",
        "outputId": "e530680d-f202-4958-a398-cf3f9f5c71da"
      },
      "execution_count": 21,
      "outputs": [
        {
          "output_type": "stream",
          "name": "stdout",
          "text": [
            "+----------+--------+--------+-------+---------+--------+----------+-------+-----------+\n",
            "|mes_compra|approved|canceled|created|delivered|invoiced|processing|shipped|unavailable|\n",
            "+----------+--------+--------+-------+---------+--------+----------+-------+-----------+\n",
            "|         1|    NULL|      37|   NULL|     7819|      27|        38|     90|         58|\n",
            "|         2|       1|      90|      1|     8208|      17|        38|     78|         75|\n",
            "|         3|    NULL|      59|   NULL|     9549|      26|        32|    178|         49|\n",
            "|         4|       1|      33|   NULL|     9101|      28|        18|    148|         14|\n",
            "|         5|    NULL|      53|   NULL|    10295|      40|        29|    109|         47|\n",
            "|         6|    NULL|      34|   NULL|     9234|      14|        12|     90|         28|\n",
            "|         7|    NULL|      69|   NULL|    10031|      20|        12|    116|         70|\n",
            "|         8|    NULL|     111|   NULL|    10544|      43|        18|     88|         39|\n",
            "|         9|    NULL|      37|   NULL|     4151|      17|        22|     40|         38|\n",
            "|        10|    NULL|      54|   NULL|     4743|      34|        22|     41|         65|\n",
            "|        11|    NULL|      37|      2|     7289|      35|        25|     72|         84|\n",
            "|        12|    NULL|      11|      2|     5514|      13|        35|     57|         42|\n",
            "+----------+--------+--------+-------+---------+--------+----------+-------+-----------+\n",
            "\n"
          ]
        }
      ]
    },
    {
      "cell_type": "code",
      "source": [
        "spark.stop()"
      ],
      "metadata": {
        "id": "Iw7R7OR5pkKI"
      },
      "execution_count": 22,
      "outputs": []
    }
  ]
}