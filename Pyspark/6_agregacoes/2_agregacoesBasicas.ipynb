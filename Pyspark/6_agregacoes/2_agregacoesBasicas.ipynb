{
  "nbformat": 4,
  "nbformat_minor": 0,
  "metadata": {
    "colab": {
      "provenance": []
    },
    "kernelspec": {
      "name": "python3",
      "display_name": "Python 3"
    },
    "language_info": {
      "name": "python"
    }
  },
  "cells": [
    {
      "cell_type": "code",
      "execution_count": 3,
      "metadata": {
        "colab": {
          "base_uri": "https://localhost:8080/"
        },
        "id": "_bLkw0Ywev7j",
        "outputId": "4aac8669-0ad4-4d5c-f507-a3d5dac7d50b"
      },
      "outputs": [
        {
          "output_type": "stream",
          "name": "stdout",
          "text": [
            "Requirement already satisfied: pyspark in /usr/local/lib/python3.11/dist-packages (3.5.4)\n",
            "Requirement already satisfied: py4j==0.10.9.7 in /usr/local/lib/python3.11/dist-packages (from pyspark) (0.10.9.7)\n"
          ]
        }
      ],
      "source": [
        "! pip install pyspark"
      ]
    },
    {
      "cell_type": "code",
      "source": [
        "import pyspark\n",
        "from pyspark.sql import SparkSession\n",
        "from pyspark.sql.functions import *"
      ],
      "metadata": {
        "id": "Zs_PV5Yje_nL"
      },
      "execution_count": 4,
      "outputs": []
    },
    {
      "cell_type": "code",
      "source": [
        "spark = SparkSession.builder.getOrCreate()"
      ],
      "metadata": {
        "id": "FI--sO2AfJoj"
      },
      "execution_count": 5,
      "outputs": []
    },
    {
      "cell_type": "code",
      "source": [
        "clientes = spark.read.csv('/content/drive/MyDrive/Colab Notebooks/colab_ebac/spark_data/clientes.csv', header=True, inferSchema=True)\n",
        "itens_pedido = spark.read.csv('/content/drive/MyDrive/Colab Notebooks/colab_ebac/spark_data/itens_pedido.csv', header=True, inferSchema=True)\n",
        "pagamentos_pedido = spark.read.csv('/content/drive/MyDrive/Colab Notebooks/colab_ebac/spark_data/pagamentos_pedido.csv', header=True, inferSchema=True)\n",
        "pedidos = spark.read.csv('/content/drive/MyDrive/Colab Notebooks/colab_ebac/spark_data/pedidos.csv', header=True, inferSchema=True)"
      ],
      "metadata": {
        "id": "GNjauaHqfgKM"
      },
      "execution_count": 6,
      "outputs": []
    },
    {
      "cell_type": "code",
      "source": [
        "clientes.show(5)\n",
        "itens_pedido.show(5)\n",
        "pagamentos_pedido.show(5)\n",
        "pedidos.show(5)"
      ],
      "metadata": {
        "colab": {
          "base_uri": "https://localhost:8080/"
        },
        "id": "lBCrzM2PgZbs",
        "outputId": "4b757b37-ef00-42f0-f167-7f0b58e4ffcd"
      },
      "execution_count": 7,
      "outputs": [
        {
          "output_type": "stream",
          "name": "stdout",
          "text": [
            "+--------------------+--------------------+-----------+--------------------+--------------+\n",
            "|          id_cliente|    id_unico_cliente|cep_cliente|      cidade_cliente|estado_cliente|\n",
            "+--------------------+--------------------+-----------+--------------------+--------------+\n",
            "|06b8999e2fba1a1fb...|861eff4711a542e4b...|      14409|              franca|            SP|\n",
            "|18955e83d337fd6b2...|290c77bc529b7ac93...|       9790|sao bernardo do c...|            SP|\n",
            "|4e7b3e00288586ebd...|060e732b5b29e8181...|       1151|           sao paulo|            SP|\n",
            "|b2b6027bc5c5109e5...|259dac757896d24d7...|       8775|     mogi das cruzes|            SP|\n",
            "|4f2d8ab171c80ec83...|345ecd01c38d18a90...|      13056|            campinas|            SP|\n",
            "+--------------------+--------------------+-----------+--------------------+--------------+\n",
            "only showing top 5 rows\n",
            "\n",
            "+--------------------+--------------+--------------------+--------------------+-------------------+-----+-----------+\n",
            "|           id_pedido|item_id_pedido|          id_produto|         id_vendedor|  data_limite_envio|preco|valor_frete|\n",
            "+--------------------+--------------+--------------------+--------------------+-------------------+-----+-----------+\n",
            "|00010242fe8c5a6d1...|             1|4244733e06e7ecb49...|48436dade18ac8b2b...|2017-09-19 09:45:35| 58.9|      13.29|\n",
            "|00018f77f2f0320c5...|             1|e5f2d52b802189ee6...|dd7ddc04e1b6c2c61...|2017-05-03 11:05:13|239.9|      19.93|\n",
            "|000229ec398224ef6...|             1|c777355d18b72b67a...|5b51032eddd242adc...|2018-01-18 14:48:30|199.0|      17.87|\n",
            "|00024acbcdf0a6daa...|             1|7634da152a4610f15...|9d7a1d34a50524090...|2018-08-15 10:10:18|12.99|      12.79|\n",
            "|00042b26cf59d7ce6...|             1|ac6c3623068f30de0...|df560393f3a51e745...|2017-02-13 13:57:51|199.9|      18.14|\n",
            "+--------------------+--------------+--------------------+--------------------+-------------------+-----+-----------+\n",
            "only showing top 5 rows\n",
            "\n",
            "+--------------------+-------------------+--------------+------------------+---------------+\n",
            "|           id_pedido|sequencia_pagamento|tipo_pagamento|parcelas_pagamento|valor_pagamento|\n",
            "+--------------------+-------------------+--------------+------------------+---------------+\n",
            "|b81ef226f3fe1789b...|                  1|   credit_card|                 8|          99.33|\n",
            "|a9810da82917af2d9...|                  1|   credit_card|                 1|          24.39|\n",
            "|25e8ea4e93396b6fa...|                  1|   credit_card|                 1|          65.71|\n",
            "|ba78997921bbcdc13...|                  1|   credit_card|                 8|         107.78|\n",
            "|42fdf880ba16b47b5...|                  1|   credit_card|                 2|         128.45|\n",
            "+--------------------+-------------------+--------------+------------------+---------------+\n",
            "only showing top 5 rows\n",
            "\n",
            "+--------------------+--------------------+-------------+-------------------+---------------------+-------------------------+--------------------+---------------------+\n",
            "|           id_pedido|          id_cliente|status_pedido| data_compra_pedido|data_aprovacao_pedido|data_envio_transportadora|data_entrega_cliente|data_estimada_entrega|\n",
            "+--------------------+--------------------+-------------+-------------------+---------------------+-------------------------+--------------------+---------------------+\n",
            "|e481f51cbdc54678b...|9ef432eb625129730...|    delivered|2017-10-02 10:56:33|  2017-10-02 11:07:15|      2017-10-04 19:55:00| 2017-10-10 21:25:13|  2017-10-18 00:00:00|\n",
            "|53cdb2fc8bc7dce0b...|b0830fb4747a6c6d2...|    delivered|2018-07-24 20:41:37|  2018-07-26 03:24:27|      2018-07-26 14:31:00| 2018-08-07 15:27:45|  2018-08-13 00:00:00|\n",
            "|47770eb9100c2d0c4...|41ce2a54c0b03bf34...|    delivered|2018-08-08 08:38:49|  2018-08-08 08:55:23|      2018-08-08 13:50:00| 2018-08-17 18:06:29|  2018-09-04 00:00:00|\n",
            "|949d5b44dbf5de918...|f88197465ea7920ad...|    delivered|2017-11-18 19:28:06|  2017-11-18 19:45:59|      2017-11-22 13:39:59| 2017-12-02 00:28:42|  2017-12-15 00:00:00|\n",
            "|ad21c59c0840e6cb8...|8ab97904e6daea886...|    delivered|2018-02-13 21:18:39|  2018-02-13 22:20:29|      2018-02-14 19:46:34| 2018-02-16 18:17:02|  2018-02-26 00:00:00|\n",
            "+--------------------+--------------------+-------------+-------------------+---------------------+-------------------------+--------------------+---------------------+\n",
            "only showing top 5 rows\n",
            "\n"
          ]
        }
      ]
    },
    {
      "cell_type": "code",
      "source": [
        "# quantos estados diferentes estão presentes na tabela clientes?\n",
        "clientes.agg(countDistinct(col('estado_cliente')).alias('qtd_estados_distintos')).show()"
      ],
      "metadata": {
        "colab": {
          "base_uri": "https://localhost:8080/"
        },
        "id": "6Vse2VtDgi-q",
        "outputId": "b419c101-836e-43d4-c07e-71a3c0a7f59f"
      },
      "execution_count": 8,
      "outputs": [
        {
          "output_type": "stream",
          "name": "stdout",
          "text": [
            "+---------------------+\n",
            "|qtd_estados_distintos|\n",
            "+---------------------+\n",
            "|                   27|\n",
            "+---------------------+\n",
            "\n"
          ]
        }
      ]
    },
    {
      "cell_type": "code",
      "source": [
        "# Qual é a média e a variância do valor_pagamento para cada tipo de pagamento?\n",
        "pagamentos_pedido.groupBy('tipo_pagamento').agg(\n",
        "    avg('valor_pagamento').alias('pagamento_medio'),\n",
        "    var_samp('valor_pagamento').alias('pagamento_variancia')\n",
        ").show()"
      ],
      "metadata": {
        "colab": {
          "base_uri": "https://localhost:8080/"
        },
        "id": "qMiaFUkKg_Sj",
        "outputId": "7407b6df-17d1-4ae8-dfb8-9f16121d1c4a"
      },
      "execution_count": 9,
      "outputs": [
        {
          "output_type": "stream",
          "name": "stdout",
          "text": [
            "+--------------+------------------+-------------------+\n",
            "|tipo_pagamento|   pagamento_medio|pagamento_variancia|\n",
            "+--------------+------------------+-------------------+\n",
            "|        boleto| 145.0344354023452| 45616.869821012544|\n",
            "|   not_defined|               0.0|                0.0|\n",
            "|   credit_card|163.31902063935797|  49336.98820414979|\n",
            "|       voucher| 65.70335411255421| 13344.682202516573|\n",
            "|    debit_card|142.57017004578165| 60414.395995128165|\n",
            "+--------------+------------------+-------------------+\n",
            "\n"
          ]
        }
      ]
    },
    {
      "cell_type": "code",
      "source": [
        "# Média e variância do valor dos pagamentos arredondado, agrupados por Tipo de Pagamento\n",
        "pagamentos_pedido.groupBy('tipo_pagamento').agg(\n",
        "    format_number(avg('valor_pagamento'),2).alias('pagamento_medio'),\n",
        "    format_number(var_samp('valor_pagamento'),2).alias('pagamento_variancia')\n",
        ").show()"
      ],
      "metadata": {
        "colab": {
          "base_uri": "https://localhost:8080/"
        },
        "id": "LQENNrxbhlkh",
        "outputId": "1f42727a-3eb5-4673-901c-3b52d9d284c4"
      },
      "execution_count": 10,
      "outputs": [
        {
          "output_type": "stream",
          "name": "stdout",
          "text": [
            "+--------------+---------------+-------------------+\n",
            "|tipo_pagamento|pagamento_medio|pagamento_variancia|\n",
            "+--------------+---------------+-------------------+\n",
            "|        boleto|         145.03|          45,616.87|\n",
            "|   not_defined|           0.00|               0.00|\n",
            "|   credit_card|         163.32|          49,336.99|\n",
            "|       voucher|          65.70|          13,344.68|\n",
            "|    debit_card|         142.57|          60,414.40|\n",
            "+--------------+---------------+-------------------+\n",
            "\n"
          ]
        }
      ]
    },
    {
      "cell_type": "code",
      "source": [
        "pedidos.printSchema()"
      ],
      "metadata": {
        "colab": {
          "base_uri": "https://localhost:8080/"
        },
        "id": "GgMOtX-0iTry",
        "outputId": "b0e4e457-c11c-4ca5-b93d-f37a3f3a30ff"
      },
      "execution_count": 11,
      "outputs": [
        {
          "output_type": "stream",
          "name": "stdout",
          "text": [
            "root\n",
            " |-- id_pedido: string (nullable = true)\n",
            " |-- id_cliente: string (nullable = true)\n",
            " |-- status_pedido: string (nullable = true)\n",
            " |-- data_compra_pedido: timestamp (nullable = true)\n",
            " |-- data_aprovacao_pedido: timestamp (nullable = true)\n",
            " |-- data_envio_transportadora: timestamp (nullable = true)\n",
            " |-- data_entrega_cliente: timestamp (nullable = true)\n",
            " |-- data_estimada_entrega: timestamp (nullable = true)\n",
            "\n"
          ]
        }
      ]
    },
    {
      "cell_type": "code",
      "source": [
        "# Exiba as datas do primeiro e do último pedido para cada um dos status\n",
        "pedidos_ordenados = pedidos.orderBy('data_compra_pedido')"
      ],
      "metadata": {
        "id": "ByFBNwGjjS3x"
      },
      "execution_count": 16,
      "outputs": []
    },
    {
      "cell_type": "code",
      "source": [
        "datas_compras_df = pedidos_ordenados.groupBy('status_pedido').agg(\n",
        "    first('data_compra_pedido').alias('primeiro'),\n",
        "    last('data_compra_pedido').alias('ultimo')\n",
        ")\n",
        "\n",
        "datas_compras_df.show()"
      ],
      "metadata": {
        "colab": {
          "base_uri": "https://localhost:8080/"
        },
        "id": "WCfJan3IjbuX",
        "outputId": "5ac778a2-6b8d-4975-cc41-0985e5a3bbbe"
      },
      "execution_count": 18,
      "outputs": [
        {
          "output_type": "stream",
          "name": "stdout",
          "text": [
            "+-------------+-------------------+-------------------+\n",
            "|status_pedido|           primeiro|             ultimo|\n",
            "+-------------+-------------------+-------------------+\n",
            "|      shipped|2016-09-04 21:15:19|2018-09-03 09:06:57|\n",
            "|     canceled|2016-09-05 00:15:34|2018-10-17 17:30:18|\n",
            "|     approved|2017-02-06 20:18:17|2017-04-25 01:25:34|\n",
            "|     invoiced|2016-10-04 13:02:10|2018-08-14 18:45:08|\n",
            "|      created|2017-11-06 13:12:34|2018-02-09 17:21:04|\n",
            "|    delivered|2016-09-15 12:16:38|2018-08-29 15:00:37|\n",
            "|  unavailable|2016-10-05 14:16:28|2018-08-21 12:21:00|\n",
            "|   processing|2016-10-05 22:44:13|2018-07-23 18:03:03|\n",
            "+-------------+-------------------+-------------------+\n",
            "\n"
          ]
        }
      ]
    },
    {
      "cell_type": "code",
      "source": [
        "# Exibir o número de compras por ano em ordem ascendente\n",
        "pedidos.withColumn('compra_anual', year('data_compra_pedido')).groupBy('compra_anual').count().orderBy(asc('compra_anual')).show()"
      ],
      "metadata": {
        "colab": {
          "base_uri": "https://localhost:8080/"
        },
        "id": "u-g8htxblFIG",
        "outputId": "890bef9b-76c7-4e84-b0d9-6c5fbd0f2af6"
      },
      "execution_count": 19,
      "outputs": [
        {
          "output_type": "stream",
          "name": "stdout",
          "text": [
            "+------------+-----+\n",
            "|compra_anual|count|\n",
            "+------------+-----+\n",
            "|        2016|  329|\n",
            "|        2017|45101|\n",
            "|        2018|54011|\n",
            "+------------+-----+\n",
            "\n"
          ]
        }
      ]
    },
    {
      "cell_type": "code",
      "source": [
        "# Exibir o número de compras por ano em ordem descendente\n",
        "pedidos.withColumn('compra_anual', year('data_compra_pedido')).groupBy('compra_anual').count().orderBy(desc('compra_anual')).show()"
      ],
      "metadata": {
        "colab": {
          "base_uri": "https://localhost:8080/"
        },
        "id": "m2aQMldBlb-N",
        "outputId": "62fbbead-52a4-4857-e404-871c306a6e58"
      },
      "execution_count": 20,
      "outputs": [
        {
          "output_type": "stream",
          "name": "stdout",
          "text": [
            "+------------+-----+\n",
            "|compra_anual|count|\n",
            "+------------+-----+\n",
            "|        2018|54011|\n",
            "|        2017|45101|\n",
            "|        2016|  329|\n",
            "+------------+-----+\n",
            "\n"
          ]
        }
      ]
    },
    {
      "cell_type": "code",
      "source": [
        "itens_pedido.groupBy('id_pedido').agg(\n",
        "    sum(col('preco') + col('valor_frete')),\n",
        "    sum(col('preco') + col('valor_frete')).alias('valor_total_pedido'),\n",
        "    format_number(sum(col('preco') + col('valor_frete')),2).alias('valor_total_pedido_formatado')\n",
        ").show()"
      ],
      "metadata": {
        "colab": {
          "base_uri": "https://localhost:8080/"
        },
        "id": "PBOM6kn8luQu",
        "outputId": "57be127c-fd5b-4877-a594-1c590cae2727"
      },
      "execution_count": 21,
      "outputs": [
        {
          "output_type": "stream",
          "name": "stdout",
          "text": [
            "+--------------------+--------------------------+------------------+----------------------------+\n",
            "|           id_pedido|sum((preco + valor_frete))|valor_total_pedido|valor_total_pedido_formatado|\n",
            "+--------------------+--------------------------+------------------+----------------------------+\n",
            "|014405982914c2cde...|         78.42999999999999| 78.42999999999999|                       78.43|\n",
            "|019886de8f385a39b...|                     188.4|             188.4|                      188.40|\n",
            "|01a6ad782455876aa...|                     50.09|             50.09|                       50.09|\n",
            "|01d907b3e209269e1...|        169.76000000000002|169.76000000000002|                      169.76|\n",
            "|028dc52e12ddda803...|                     61.72|             61.72|                       61.72|\n",
            "|036dd381dfb3ec75e...|                     69.14|             69.14|                       69.14|\n",
            "|03ebfa9712b7dbc70...|                     55.78|             55.78|                       55.78|\n",
            "|0420da8d50a378401...|                     74.63|             74.63|                       74.63|\n",
            "|05afef1c185862cab...|                    101.32|            101.32|                      101.32|\n",
            "|05bef443b85068505...|                     79.52|             79.52|                       79.52|\n",
            "|05d46826bd0fb605d...|                     61.36|             61.36|                       61.36|\n",
            "|06fec3f6e9e72edb6...|        137.23000000000002|137.23000000000002|                      137.23|\n",
            "|077700dcf4e3bb412...|                    215.05|            215.05|                      215.05|\n",
            "|078c2d9bb7e5905e8...|                    135.28|            135.28|                      135.28|\n",
            "|08791ec24b12af5af...|                    445.87|            445.87|                      445.87|\n",
            "|08b450b388221bfe5...|                    167.41|            167.41|                      167.41|\n",
            "|0957ed870116e596b...|                    157.99|            157.99|                      157.99|\n",
            "|09868b0eb512bfbbe...|                    129.98|            129.98|                      129.98|\n",
            "|099d60cb800db65a7...|                    324.63|            324.63|                      324.63|\n",
            "|09e90e3936db197d4...|         86.99000000000001| 86.99000000000001|                       86.99|\n",
            "+--------------------+--------------------------+------------------+----------------------------+\n",
            "only showing top 20 rows\n",
            "\n"
          ]
        }
      ]
    },
    {
      "cell_type": "code",
      "source": [
        "spark.stop()"
      ],
      "metadata": {
        "id": "AW_ox2ZAnaMl"
      },
      "execution_count": 22,
      "outputs": []
    }
  ]
}