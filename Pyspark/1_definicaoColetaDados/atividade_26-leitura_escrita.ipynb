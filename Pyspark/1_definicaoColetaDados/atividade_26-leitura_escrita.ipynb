{
  "cells": [
    {
      "cell_type": "code",
      "execution_count": null,
      "metadata": {
        "id": "Z1prPptdZMZw"
      },
      "outputs": [],
      "source": [
        "# 1. Crie o arquivo leitura-escrita.ipynb;"
      ]
    },
    {
      "cell_type": "code",
      "execution_count": null,
      "metadata": {
        "colab": {
          "base_uri": "https://localhost:8080/"
        },
        "id": "586SQQ42IzTC",
        "outputId": "019ccfc5-de43-4813-b76d-2fc3d3f625e6"
      },
      "outputs": [
        {
          "name": "stdout",
          "output_type": "stream",
          "text": [
            "Requirement already satisfied: pyspark in /usr/local/lib/python3.11/dist-packages (3.5.4)\n",
            "Requirement already satisfied: py4j==0.10.9.7 in /usr/local/lib/python3.11/dist-packages (from pyspark) (0.10.9.7)\n"
          ]
        }
      ],
      "source": [
        "! pip install pyspark"
      ]
    },
    {
      "cell_type": "code",
      "execution_count": 2,
      "metadata": {
        "id": "G5zUjLKGJWgR"
      },
      "outputs": [],
      "source": [
        "import pyspark\n",
        "from pyspark.sql import SparkSession\n",
        "from pyspark.sql.functions import *"
      ]
    },
    {
      "cell_type": "code",
      "execution_count": 37,
      "metadata": {
        "id": "YUJAmVjaJqoL"
      },
      "outputs": [],
      "source": [
        "spark = SparkSession.builder.appName(\"Tarefa 26 - EBAC\").getOrCreate()"
      ]
    },
    {
      "cell_type": "code",
      "execution_count": 48,
      "metadata": {
        "id": "WTKqkfZKKIoX"
      },
      "outputs": [],
      "source": [
        "# 2. Leia os dados do arquivo “videos-stats.csv”;\n",
        "df = spark.read.csv(\"videos-stats.csv\")"
      ]
    },
    {
      "cell_type": "code",
      "execution_count": 49,
      "metadata": {
        "colab": {
          "base_uri": "https://localhost:8080/"
        },
        "id": "7fo-OZkYKh32",
        "outputId": "b71423c8-793e-40e3-db0f-2386e2e617ae"
      },
      "outputs": [
        {
          "name": "stdout",
          "output_type": "stream",
          "text": [
            "+----+--------------------+-----------+------------+-------+--------+--------+---------+\n",
            "| _c0|                 _c1|        _c2|         _c3|    _c4|     _c5|     _c6|      _c7|\n",
            "+----+--------------------+-----------+------------+-------+--------+--------+---------+\n",
            "|NULL|               Title|   Video ID|Published At|Keyword|   Likes|Comments|    Views|\n",
            "|   0|Apple Pay Is Kill...|wAZZ-UWGVHI|  2022-08-23|   tech|  3407.0|   672.0| 135612.0|\n",
            "|   1|The most EXPENSIV...|b3x28s61q3c|  2022-08-24|   tech| 76779.0|  4306.0|1758063.0|\n",
            "|   2|My New House Gami...|4mgePWWCAmA|  2022-08-23|   tech| 63825.0|  3338.0|1564007.0|\n",
            "|   3|Petrol Vs Liquid ...|kXiYSI7H2b0|  2022-08-23|   tech| 71566.0|  1426.0| 922918.0|\n",
            "|   4|Best Back to Scho...|ErMwWXQxHp0|  2022-08-08|   tech| 96513.0|  5155.0|1855644.0|\n",
            "|   5|Brewmaster Answer...|18fwz9Itbvo|  2021-11-05|   tech| 33570.0|  1643.0| 943119.0|\n",
            "|   6|Tech Monopolies: ...|jXf04bhcjbg|  2022-06-13|   tech|135047.0|  9367.0|5937790.0|\n",
            "+----+--------------------+-----------+------------+-------+--------+--------+---------+\n",
            "only showing top 8 rows\n",
            "\n"
          ]
        }
      ],
      "source": [
        "# 3. Visualize os primeiros 8 registros do arquivo;\n",
        "df.show(8)"
      ]
    },
    {
      "cell_type": "code",
      "execution_count": 50,
      "metadata": {
        "colab": {
          "base_uri": "https://localhost:8080/"
        },
        "id": "CbHB0FQHKyvQ",
        "outputId": "f41fded6-0f25-443d-e57e-22ddd770b94b"
      },
      "outputs": [
        {
          "name": "stdout",
          "output_type": "stream",
          "text": [
            "root\n",
            " |-- _c0: string (nullable = true)\n",
            " |-- _c1: string (nullable = true)\n",
            " |-- _c2: string (nullable = true)\n",
            " |-- _c3: string (nullable = true)\n",
            " |-- _c4: string (nullable = true)\n",
            " |-- _c5: string (nullable = true)\n",
            " |-- _c6: string (nullable = true)\n",
            " |-- _c7: string (nullable = true)\n",
            "\n"
          ]
        }
      ],
      "source": [
        "# 4. Visualize o esquema do arquivo;\n",
        "df.printSchema()"
      ]
    },
    {
      "cell_type": "code",
      "execution_count": 51,
      "metadata": {
        "colab": {
          "base_uri": "https://localhost:8080/"
        },
        "id": "Re9EkyhhK-JR",
        "outputId": "0c192c61-6c2f-4854-d745-470ab4a36db0"
      },
      "outputs": [
        {
          "name": "stdout",
          "output_type": "stream",
          "text": [
            "root\n",
            " |-- _c0: integer (nullable = true)\n",
            " |-- _c1: string (nullable = true)\n",
            " |-- _c2: string (nullable = true)\n",
            " |-- _c3: string (nullable = true)\n",
            " |-- _c4: string (nullable = true)\n",
            " |-- _c5: string (nullable = true)\n",
            " |-- _c6: string (nullable = true)\n",
            " |-- _c7: string (nullable = true)\n",
            "\n"
          ]
        }
      ],
      "source": [
        "# 5. Leia novamente o arquivo inferindo o esquema e visualize o esquema novamente;\n",
        "df = spark.read.option(\"inferSchema\", \"true\").csv(\"videos-stats.csv\")\n",
        "df.printSchema()"
      ]
    },
    {
      "cell_type": "code",
      "execution_count": 66,
      "metadata": {
        "id": "-9Gi660TLl84"
      },
      "outputs": [],
      "source": [
        "# 6. Salve o arquivo como 'videos-parquet' no formato parquet e adicione o cabeçalho nos dados;\n",
        "df = spark.read.option(\"inferSchema\", \"true\").option(\"header\", \"true\").csv(\"videos-stats.csv\")\n",
        "df = df.withColumnRenamed(\"_c0\",\"Cont\")\n",
        "df.write.option(\"header\", \"true\").parquet(\"output/videos-parquet\")"
      ]
    },
    {
      "cell_type": "code",
      "execution_count": 67,
      "metadata": {
        "colab": {
          "base_uri": "https://localhost:8080/"
        },
        "id": "t3EjryaIN3Vu",
        "outputId": "35e9f7d8-d98c-40f8-eb48-e07b737cf7aa"
      },
      "outputs": [
        {
          "name": "stdout",
          "output_type": "stream",
          "text": [
            "+----+--------------------+-----------+------------+-------+--------+--------+-----------+\n",
            "|Cont|               Title|   Video ID|Published At|Keyword|   Likes|Comments|      Views|\n",
            "+----+--------------------+-----------+------------+-------+--------+--------+-----------+\n",
            "|   0|Apple Pay Is Kill...|wAZZ-UWGVHI|  2022-08-23|   tech|  3407.0|   672.0|   135612.0|\n",
            "|   1|The most EXPENSIV...|b3x28s61q3c|  2022-08-24|   tech| 76779.0|  4306.0|  1758063.0|\n",
            "|   2|My New House Gami...|4mgePWWCAmA|  2022-08-23|   tech| 63825.0|  3338.0|  1564007.0|\n",
            "|   3|Petrol Vs Liquid ...|kXiYSI7H2b0|  2022-08-23|   tech| 71566.0|  1426.0|   922918.0|\n",
            "|   4|Best Back to Scho...|ErMwWXQxHp0|  2022-08-08|   tech| 96513.0|  5155.0|  1855644.0|\n",
            "|   5|Brewmaster Answer...|18fwz9Itbvo|  2021-11-05|   tech| 33570.0|  1643.0|   943119.0|\n",
            "|   6|Tech Monopolies: ...|jXf04bhcjbg|  2022-06-13|   tech|135047.0|  9367.0|  5937790.0|\n",
            "|   7|I bought the STRA...|2TqOmtTAMRY|  2022-08-07|   tech|216935.0| 12605.0|  4782514.0|\n",
            "|   8|15 Emerging Techn...|wLlL46pYcg4|  2021-12-08|   tech| 45565.0|  2882.0|  7001236.0|\n",
            "|   9|Toxicologist Answ...|R7qsau3X6Ks|  2022-07-14|   tech| 24252.0|  1068.0|   667767.0|\n",
            "|  10|Dope Tech: The Mo...|MEiq0oCUb_8|  2022-08-15|   tech|118001.0|  4123.0|  2359142.0|\n",
            "|  11|Cool Tech Under $...|pT_9hntWj34|  2022-08-06|   tech| 20999.0|  3091.0|   413179.0|\n",
            "|  12|Cool Back to Scho...|cj4lxmHQV0o|  2022-08-13|   tech| 15322.0|   547.0|   389114.0|\n",
            "|  13|Best Tech/EDC Gif...|d-BdIo8_wpA|  2021-12-15|   tech| 17866.0|   157.0|   444953.0|\n",
            "|  14|My Massive Tech U...|eFhhW6fsAbQ|  2022-07-09|   tech| 13217.0|   442.0|   371563.0|\n",
            "|  15|Why Millennials A...|N88OE2ZCHBM|  2021-06-04|   tech| 26890.0|  4999.0|  1633059.0|\n",
            "|  16|10 Coolest Gadget...|PKATJiyz0iI|  2021-08-13|   tech|  9562.0|   199.0|   760249.0|\n",
            "|  17|17 Coolest Gadget...|qiMnSaZWf3M|  2022-07-21|   tech| 11743.0|   143.0|  1086568.0|\n",
            "|  18|Almost EVERYONE i...|4AnyhHl3_tE|  2022-08-14|   tech|146978.0| 11105.0|  3186890.0|\n",
            "|  19|I bought the THIN...|nmY2kgWYwyQ|  2022-03-25|   tech|363771.0| 13609.0|1.1422924E7|\n",
            "+----+--------------------+-----------+------------+-------+--------+--------+-----------+\n",
            "only showing top 20 rows\n",
            "\n"
          ]
        }
      ],
      "source": [
        "# 7. Leia e visualize o arquivo 'videos-parquet' com cabeçalho nos dados;\n",
        "df = spark.read.option(\"header\", \"true\").parquet(\"output/videos-parquet\")\n",
        "df.show()"
      ]
    },
    {
      "cell_type": "code",
      "execution_count": 68,
      "metadata": {
        "id": "2z2su9y_OC-n"
      },
      "outputs": [],
      "source": [
        "# 8. Salve o arquivo do exec. anterior como tabela chamada ‘tb_videos’ no banco de dados default do spark catalog;\n",
        "spark.catalog.setCurrentDatabase(\"default\")\n",
        "df.write.option(\"header\", \"true\").saveAsTable(\"tb_videos\")"
      ]
    },
    {
      "cell_type": "code",
      "execution_count": 54,
      "metadata": {
        "colab": {
          "base_uri": "https://localhost:8080/"
        },
        "id": "yM6sxdr1aP_K",
        "outputId": "c0d8149e-9bb9-4eaa-bd4e-cb9ce3a0c369"
      },
      "outputs": [
        {
          "data": {
            "text/plain": [
              "[Table(name='tb_videos', catalog='spark_catalog', namespace=['default'], description=None, tableType='MANAGED', isTemporary=False)]"
            ]
          },
          "execution_count": 54,
          "metadata": {},
          "output_type": "execute_result"
        }
      ],
      "source": [
        "# 9. Liste as tabelas do spark catalog para verificar a tabela;\n",
        "spark.catalog.listTables()"
      ]
    },
    {
      "cell_type": "code",
      "execution_count": 69,
      "metadata": {
        "colab": {
          "base_uri": "https://localhost:8080/"
        },
        "id": "3HRWrEKbaay5",
        "outputId": "2254b675-f57e-489d-b1c8-2d6ca96005d2"
      },
      "outputs": [
        {
          "name": "stdout",
          "output_type": "stream",
          "text": [
            "+----+--------------------+-----------+------------+-------+--------+--------+-----------+\n",
            "|Cont|               Title|   Video ID|Published At|Keyword|   Likes|Comments|      Views|\n",
            "+----+--------------------+-----------+------------+-------+--------+--------+-----------+\n",
            "|   0|Apple Pay Is Kill...|wAZZ-UWGVHI|  2022-08-23|   tech|  3407.0|   672.0|   135612.0|\n",
            "|   1|The most EXPENSIV...|b3x28s61q3c|  2022-08-24|   tech| 76779.0|  4306.0|  1758063.0|\n",
            "|   2|My New House Gami...|4mgePWWCAmA|  2022-08-23|   tech| 63825.0|  3338.0|  1564007.0|\n",
            "|   3|Petrol Vs Liquid ...|kXiYSI7H2b0|  2022-08-23|   tech| 71566.0|  1426.0|   922918.0|\n",
            "|   4|Best Back to Scho...|ErMwWXQxHp0|  2022-08-08|   tech| 96513.0|  5155.0|  1855644.0|\n",
            "|   5|Brewmaster Answer...|18fwz9Itbvo|  2021-11-05|   tech| 33570.0|  1643.0|   943119.0|\n",
            "|   6|Tech Monopolies: ...|jXf04bhcjbg|  2022-06-13|   tech|135047.0|  9367.0|  5937790.0|\n",
            "|   7|I bought the STRA...|2TqOmtTAMRY|  2022-08-07|   tech|216935.0| 12605.0|  4782514.0|\n",
            "|   8|15 Emerging Techn...|wLlL46pYcg4|  2021-12-08|   tech| 45565.0|  2882.0|  7001236.0|\n",
            "|   9|Toxicologist Answ...|R7qsau3X6Ks|  2022-07-14|   tech| 24252.0|  1068.0|   667767.0|\n",
            "|  10|Dope Tech: The Mo...|MEiq0oCUb_8|  2022-08-15|   tech|118001.0|  4123.0|  2359142.0|\n",
            "|  11|Cool Tech Under $...|pT_9hntWj34|  2022-08-06|   tech| 20999.0|  3091.0|   413179.0|\n",
            "|  12|Cool Back to Scho...|cj4lxmHQV0o|  2022-08-13|   tech| 15322.0|   547.0|   389114.0|\n",
            "|  13|Best Tech/EDC Gif...|d-BdIo8_wpA|  2021-12-15|   tech| 17866.0|   157.0|   444953.0|\n",
            "|  14|My Massive Tech U...|eFhhW6fsAbQ|  2022-07-09|   tech| 13217.0|   442.0|   371563.0|\n",
            "|  15|Why Millennials A...|N88OE2ZCHBM|  2021-06-04|   tech| 26890.0|  4999.0|  1633059.0|\n",
            "|  16|10 Coolest Gadget...|PKATJiyz0iI|  2021-08-13|   tech|  9562.0|   199.0|   760249.0|\n",
            "|  17|17 Coolest Gadget...|qiMnSaZWf3M|  2022-07-21|   tech| 11743.0|   143.0|  1086568.0|\n",
            "|  18|Almost EVERYONE i...|4AnyhHl3_tE|  2022-08-14|   tech|146978.0| 11105.0|  3186890.0|\n",
            "|  19|I bought the THIN...|nmY2kgWYwyQ|  2022-03-25|   tech|363771.0| 13609.0|1.1422924E7|\n",
            "+----+--------------------+-----------+------------+-------+--------+--------+-----------+\n",
            "only showing top 20 rows\n",
            "\n"
          ]
        }
      ],
      "source": [
        "# 10. Utilize o spark SQL para ler a tabela ‘tb_videos’;\n",
        "tb_videos = spark.sql(\"SELECT * FROM tb_videos\")\n",
        "tb_videos.show()"
      ]
    },
    {
      "cell_type": "code",
      "execution_count": 71,
      "metadata": {
        "colab": {
          "base_uri": "https://localhost:8080/"
        },
        "id": "O8KMyh8afAwW",
        "outputId": "01118d59-a6a1-41cf-a100-2da1c060efdf"
      },
      "outputs": [
        {
          "name": "stdout",
          "output_type": "stream",
          "text": [
            "root\n",
            " |-- _c0: string (nullable = true)\n",
            " |-- Video ID: string (nullable = true)\n",
            " |-- Comment: string (nullable = true)\n",
            " |-- Likes: string (nullable = true)\n",
            " |-- Sentiment: string (nullable = true)\n",
            "\n",
            "+--------------+-----------+--------------------+------+---------+\n",
            "|           _c0|   Video ID|             Comment| Likes|Sentiment|\n",
            "+--------------+-----------+--------------------+------+---------+\n",
            "|             0|wAZZ-UWGVHI|Let's not forget ...|  95.0|      1.0|\n",
            "|             1|wAZZ-UWGVHI|Here in NZ 50% of...|  19.0|      0.0|\n",
            "|             2|wAZZ-UWGVHI|I will forever ac...| 161.0|      2.0|\n",
            "|             3|wAZZ-UWGVHI|Whenever I go to ...|   8.0|      0.0|\n",
            "|             4|wAZZ-UWGVHI|Apple Pay is so c...|  34.0|      2.0|\n",
            "|             5|wAZZ-UWGVHI|We’ve been houndi...|   8.0|      1.0|\n",
            "|             6|wAZZ-UWGVHI|We only got Apple...|  29.0|      2.0|\n",
            "|             7|wAZZ-UWGVHI|For now, I need b...|   7.0|      1.0|\n",
            "|             8|wAZZ-UWGVHI|In the United Sta...|   2.0|      2.0|\n",
            "|             9|wAZZ-UWGVHI|In Cambodia, we h...|  28.0|      1.0|\n",
            "|            10|b3x28s61q3c|Wow, you really w...|1344.0|      2.0|\n",
            "|            11|b3x28s61q3c|The lab is the mo...| 198.0|      2.0|\n",
            "|            12|b3x28s61q3c|Linus, I'm an eng...| 365.0|      2.0|\n",
            "|            13|b3x28s61q3c|There used to be ...| 211.0|      2.0|\n",
            "|            14|b3x28s61q3c|Holy crap. I was ...| 821.0|      0.0|\n",
            "|            15|b3x28s61q3c|I love the direct...| 150.0|      2.0|\n",
            "|            16|b3x28s61q3c|I am more excited...|  49.0|      2.0|\n",
            "|            17|b3x28s61q3c|I adore the worki...|  19.0|      2.0|\n",
            "|            18|b3x28s61q3c|LMGs growth is ho...|  NULL|     NULL|\n",
            "|More technical|   in depth| engineering orie...|  17.0|      2.0|\n",
            "+--------------+-----------+--------------------+------+---------+\n",
            "only showing top 20 rows\n",
            "\n"
          ]
        }
      ],
      "source": [
        "# 11. Leia o arquivo ‘comments.csv' inferindo o esquema e visualize;\n",
        "df = spark.read.option(\"header\", \"true\").option(\"inferSchema\", \"true\").csv(\"comments.csv\")\n",
        "df.printSchema()\n",
        "df.show()"
      ]
    },
    {
      "cell_type": "code",
      "execution_count": 72,
      "metadata": {
        "id": "0nqZYYNwfJfG"
      },
      "outputs": [],
      "source": [
        "# 12. Salve o arquivo como ‘comments-parquet' no formato parquet e adicione o cabeçalho nos dados.\n",
        "df.write.option(\"header\", \"true\").parquet(\"output/comments-parquet\")"
      ]
    }
  ],
  "metadata": {
    "colab": {
      "provenance": []
    },
    "kernelspec": {
      "display_name": "Python 3",
      "name": "python3"
    },
    "language_info": {
      "name": "python"
    }
  },
  "nbformat": 4,
  "nbformat_minor": 0
}
