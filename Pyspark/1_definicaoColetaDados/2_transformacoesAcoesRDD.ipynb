{
  "nbformat": 4,
  "nbformat_minor": 0,
  "metadata": {
    "colab": {
      "provenance": []
    },
    "kernelspec": {
      "name": "python3",
      "display_name": "Python 3"
    },
    "language_info": {
      "name": "python"
    }
  },
  "cells": [
    {
      "cell_type": "markdown",
      "source": [
        "Seção Pyspark: Tratamento de dados e Big Data\n",
        "\n",
        "Módulo: Definição e Coleta de Dados\n",
        "\n",
        "Aula 3: Transformações e Ações em RDDs"
      ],
      "metadata": {
        "id": "GV_mXwUd_y6s"
      }
    },
    {
      "cell_type": "code",
      "execution_count": 1,
      "metadata": {
        "colab": {
          "base_uri": "https://localhost:8080/"
        },
        "id": "Qp0PzptN_qTw",
        "outputId": "f6f5ce69-b0d5-4996-ed2f-0968e5bf3323"
      },
      "outputs": [
        {
          "output_type": "stream",
          "name": "stdout",
          "text": [
            "Requirement already satisfied: pyspark in /usr/local/lib/python3.11/dist-packages (3.5.4)\n",
            "Requirement already satisfied: py4j==0.10.9.7 in /usr/local/lib/python3.11/dist-packages (from pyspark) (0.10.9.7)\n"
          ]
        }
      ],
      "source": [
        "! pip install pyspark"
      ]
    },
    {
      "cell_type": "code",
      "source": [
        "import pyspark\n",
        "from pyspark import SparkContext, SparkConf"
      ],
      "metadata": {
        "id": "hEeu_t9XAAEh"
      },
      "execution_count": 2,
      "outputs": []
    },
    {
      "cell_type": "code",
      "source": [
        "conf = SparkConf().setAppName(\"Leitura de Arquivo Texto\")\n",
        "sc = SparkContext(conf=conf).getOrCreate()"
      ],
      "metadata": {
        "id": "ERNuGUzsAKKJ"
      },
      "execution_count": 3,
      "outputs": []
    },
    {
      "cell_type": "code",
      "source": [
        "rdd = sc.textFile(\"sample_data/README.md\")"
      ],
      "metadata": {
        "id": "lv_l6dHeBZKg"
      },
      "execution_count": 4,
      "outputs": []
    },
    {
      "cell_type": "code",
      "source": [
        "rdd.count()"
      ],
      "metadata": {
        "colab": {
          "base_uri": "https://localhost:8080/"
        },
        "id": "DD4yof_3BZ2v",
        "outputId": "d7c69f07-6d83-456f-e63a-cb64e8663911"
      },
      "execution_count": 5,
      "outputs": [
        {
          "output_type": "execute_result",
          "data": {
            "text/plain": [
              "19"
            ]
          },
          "metadata": {},
          "execution_count": 5
        }
      ]
    },
    {
      "cell_type": "code",
      "source": [
        "rdd.take(10)"
      ],
      "metadata": {
        "colab": {
          "base_uri": "https://localhost:8080/"
        },
        "id": "9uANoLlmBdJY",
        "outputId": "3abdb340-9fa2-4ba7-fa2b-02802cbeb836"
      },
      "execution_count": 6,
      "outputs": [
        {
          "output_type": "execute_result",
          "data": {
            "text/plain": [
              "['This directory includes a few sample datasets to get you started.',\n",
              " '',\n",
              " '*   `california_housing_data*.csv` is California housing data from the 1990 US',\n",
              " '    Census; more information is available at:',\n",
              " '    https://docs.google.com/document/d/e/2PACX-1vRhYtsvc5eOR2FWNCwaBiKL6suIOrxJig8LcSBbmCbyYsayia_DvPOOBlXZ4CAlQ5nlDD8kTaIDRwrN/pub',\n",
              " '',\n",
              " '*   `mnist_*.csv` is a small sample of the',\n",
              " '    [MNIST database](https://en.wikipedia.org/wiki/MNIST_database), which is',\n",
              " '    described at: http://yann.lecun.com/exdb/mnist/',\n",
              " '']"
            ]
          },
          "metadata": {},
          "execution_count": 6
        }
      ]
    },
    {
      "cell_type": "code",
      "source": [
        "palavra = rdd.flatMap(lambda x: x.split(\" \"))\n",
        "palavra.take(5)"
      ],
      "metadata": {
        "colab": {
          "base_uri": "https://localhost:8080/"
        },
        "id": "B7MvXD_fBgWf",
        "outputId": "ef638d44-bb9a-4ba0-c723-50d702bf6be8"
      },
      "execution_count": 7,
      "outputs": [
        {
          "output_type": "execute_result",
          "data": {
            "text/plain": [
              "['This', 'directory', 'includes', 'a', 'few']"
            ]
          },
          "metadata": {},
          "execution_count": 7
        }
      ]
    },
    {
      "cell_type": "code",
      "source": [
        "palavraMinuscula = palavra.map(lambda x: x.lower())\n",
        "print('Map: ', palavraMinuscula.take(5))\n",
        "\n",
        "palavraMaiusculaFlatMap = palavra.flatMap(lambda x: x.upper())\n",
        "print('FlatMap: ', palavraMaiusculaFlatMap.take(5))"
      ],
      "metadata": {
        "colab": {
          "base_uri": "https://localhost:8080/"
        },
        "id": "QXEhslS-B6oY",
        "outputId": "a9be29fe-20f1-4c17-9740-72b9fae82bcc"
      },
      "execution_count": 8,
      "outputs": [
        {
          "output_type": "stream",
          "name": "stdout",
          "text": [
            "Map:  ['this', 'directory', 'includes', 'a', 'few']\n",
            "FlatMap:  ['T', 'H', 'I', 'S', 'D']\n"
          ]
        }
      ]
    },
    {
      "cell_type": "code",
      "source": [
        "palavraComecaT = palavraMinuscula.filter(lambda x: x.startswith('t'))\n",
        "print('Palavras que começam com a letra t: ', palavraComecaT.take(5))\n",
        "\n",
        "palavraMin2 = palavraMinuscula.filter(lambda x: len(x) > 2)\n",
        "print('Palavras com mais de 2 letras: ', palavraMin2.take(5))"
      ],
      "metadata": {
        "colab": {
          "base_uri": "https://localhost:8080/"
        },
        "id": "X13pvvOcClk_",
        "outputId": "9b365c9e-396d-4c57-e0b8-27999dc02936"
      },
      "execution_count": 11,
      "outputs": [
        {
          "output_type": "stream",
          "name": "stdout",
          "text": [
            "Palavras que começam com a letra t:  ['this', 'to', 'the', 'the', 'the']\n",
            "Palavras com mais de 2 letras:  ['this', 'directory', 'includes', 'few', 'sample']\n"
          ]
        }
      ]
    },
    {
      "cell_type": "code",
      "source": [
        "palavraChaveValor = palavraMin2.map(lambda x: (x,1))\n",
        "palavraChaveValor.take(5)"
      ],
      "metadata": {
        "colab": {
          "base_uri": "https://localhost:8080/"
        },
        "id": "DKIwR8LKFC0n",
        "outputId": "a2d30fd8-2d6e-4a4e-e65e-a4b0d1b2fa39"
      },
      "execution_count": 12,
      "outputs": [
        {
          "output_type": "execute_result",
          "data": {
            "text/plain": [
              "[('this', 1), ('directory', 1), ('includes', 1), ('few', 1), ('sample', 1)]"
            ]
          },
          "metadata": {},
          "execution_count": 12
        }
      ]
    },
    {
      "cell_type": "code",
      "source": [
        "palavraContar = palavraChaveValor.reduceByKey(lambda x,y: x+y)\n",
        "\n",
        "palavraContarOrd = palavraContar.sortByKey(ascending=-1)\n",
        "palavraContarOrd.take(20)"
      ],
      "metadata": {
        "colab": {
          "base_uri": "https://localhost:8080/"
        },
        "id": "19ug96KUF7U1",
        "outputId": "72411fe8-20f5-4268-d033-dbf802786094"
      },
      "execution_count": 14,
      "outputs": [
        {
          "output_type": "execute_result",
          "data": {
            "text/plain": [
              "[(\"'graphs\", 1),\n",
              " ('(1):', 1),\n",
              " ('(1973).', 1),\n",
              " ('17-21.', 1),\n",
              " ('1990', 1),\n",
              " ('2682899.', 1),\n",
              " (\"[anscombe's\", 1),\n",
              " ('[mnist', 1),\n",
              " ('[vega_datasets', 1),\n",
              " ('`anscombe.json`', 1),\n",
              " ('`california_housing_data*.csv`', 1),\n",
              " ('`mnist_*.csv`', 1),\n",
              " ('american', 1),\n",
              " (\"analysis'.\", 1),\n",
              " ('and', 1),\n",
              " ('anscombe,', 1),\n",
              " ('at:', 2),\n",
              " ('available', 1),\n",
              " ('california', 1),\n",
              " ('census;', 1)]"
            ]
          },
          "metadata": {},
          "execution_count": 14
        }
      ]
    },
    {
      "cell_type": "code",
      "source": [
        "palavraContar.saveAsTextFile('contar_palavras_out')"
      ],
      "metadata": {
        "id": "wppil3ZQGrTL"
      },
      "execution_count": 15,
      "outputs": []
    },
    {
      "cell_type": "code",
      "source": [
        "!ls contar_palavras_out/"
      ],
      "metadata": {
        "colab": {
          "base_uri": "https://localhost:8080/"
        },
        "id": "KpJAnp5WG3Bq",
        "outputId": "d7a2709d-51bd-4010-9414-0248cc0bb70d"
      },
      "execution_count": 16,
      "outputs": [
        {
          "output_type": "stream",
          "name": "stdout",
          "text": [
            "part-00000  part-00001\t_SUCCESS\n"
          ]
        }
      ]
    },
    {
      "cell_type": "code",
      "source": [
        "rddContarPalavras = sc.textFile('contar_palavras_out')\n",
        "rddContarPalavras.take(10)"
      ],
      "metadata": {
        "colab": {
          "base_uri": "https://localhost:8080/"
        },
        "id": "JljNYdc5G7oE",
        "outputId": "c1c9b4ac-e936-4c11-c3ac-59f07e1abc9a"
      },
      "execution_count": 17,
      "outputs": [
        {
          "output_type": "execute_result",
          "data": {
            "text/plain": [
              "[\"('directory', 1)\",\n",
              " \"('includes', 1)\",\n",
              " \"('few', 1)\",\n",
              " \"('get', 1)\",\n",
              " \"('california', 1)\",\n",
              " \"('housing', 1)\",\n",
              " \"('data', 1)\",\n",
              " \"('the', 3)\",\n",
              " \"('census;', 1)\",\n",
              " \"('at:', 2)\"]"
            ]
          },
          "metadata": {},
          "execution_count": 17
        }
      ]
    },
    {
      "cell_type": "code",
      "source": [
        "sc.stop()"
      ],
      "metadata": {
        "id": "ROV5IL5AHELC"
      },
      "execution_count": 18,
      "outputs": []
    }
  ]
}