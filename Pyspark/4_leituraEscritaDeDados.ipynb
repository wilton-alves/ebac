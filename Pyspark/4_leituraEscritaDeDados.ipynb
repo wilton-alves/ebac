{
  "nbformat": 4,
  "nbformat_minor": 0,
  "metadata": {
    "colab": {
      "provenance": []
    },
    "kernelspec": {
      "name": "python3",
      "display_name": "Python 3"
    },
    "language_info": {
      "name": "python"
    }
  },
  "cells": [
    {
      "cell_type": "markdown",
      "source": [
        "Seção Pyspark: Tratamento de dados e Big Data\n",
        "\n",
        "Módulo: Definição e Coleta de Dados\n",
        "\n",
        "Aula 6: Leitura e Escrita de Dados"
      ],
      "metadata": {
        "id": "xWlRCcuQ0-Wr"
      }
    },
    {
      "cell_type": "code",
      "execution_count": 1,
      "metadata": {
        "colab": {
          "base_uri": "https://localhost:8080/"
        },
        "id": "16E358PNwiwd",
        "outputId": "643175e0-5969-4193-d12f-a9a70b45db5e"
      },
      "outputs": [
        {
          "output_type": "stream",
          "name": "stdout",
          "text": [
            "Requirement already satisfied: pyspark in /usr/local/lib/python3.11/dist-packages (3.5.4)\n",
            "Requirement already satisfied: py4j==0.10.9.7 in /usr/local/lib/python3.11/dist-packages (from pyspark) (0.10.9.7)\n"
          ]
        }
      ],
      "source": [
        "!pip install pyspark"
      ]
    },
    {
      "cell_type": "code",
      "source": [
        "import pyspark\n",
        "from pyspark.sql import SparkSession"
      ],
      "metadata": {
        "id": "VbYFCRfD1ygX"
      },
      "execution_count": 3,
      "outputs": []
    },
    {
      "cell_type": "code",
      "source": [
        "spark = SparkSession.builder.getOrCreate()"
      ],
      "metadata": {
        "id": "x4bloxQk2FUP"
      },
      "execution_count": 4,
      "outputs": []
    },
    {
      "cell_type": "code",
      "source": [
        "df = spark.read.option('header', 'true').option('inferSchema', 'true').csv('clientes_tratados.csv')"
      ],
      "metadata": {
        "id": "BluiVCQU2M4P"
      },
      "execution_count": 5,
      "outputs": []
    },
    {
      "cell_type": "code",
      "source": [
        "df.show()"
      ],
      "metadata": {
        "colab": {
          "base_uri": "https://localhost:8080/"
        },
        "id": "aXQdWBzJ2h7W",
        "outputId": "b4462a30-8cec-429c-a590-a9bf3b32190d"
      },
      "execution_count": 6,
      "outputs": [
        {
          "output_type": "stream",
          "name": "stdout",
          "text": [
            "+-----+----------+-------------------+--------+------------------+-------------+------------+------------+----------------+\n",
            "|idade|      data|             estado| salario|    nivel_educacao|numero_filhos|estado_civil|area_atuacao|anos_experiencia|\n",
            "+-----+----------+-------------------+--------+------------------+-------------+------------+------------+----------------+\n",
            "|   56|1968-01-19|               Pará|13550.54|      Ensino Médio|            0|      Casado|  Tecnologia|              17|\n",
            "|   49|1975-01-31|Rio Grande do Norte| 3124.72|      Ensino Médio|            3|      Casado|   Indústria|               3|\n",
            "|   54|1969-08-26|       Minas Gerais|  7534.6|      Ensino Médio|            0|      Casado|  Tecnologia|              18|\n",
            "|   61|1963-03-19|              Amapá| 4067.73|Ensino Fundamental|            1|    Solteiro|    Comércio|              16|\n",
            "|   30|1993-12-09|            Alagoas| 6809.94|      Ensino Médio|            1|      Casado|  Tecnologia|               9|\n",
            "|   54|1969-06-24|               Pará| 9025.74|      Ensino Médio|            1|    Solteiro|   Indústria|              25|\n",
            "|   28|1996-03-25|          Tocantins| 9493.67|   Ensino Superior|            1|      Casado|    Comércio|               6|\n",
            "|   30|1993-06-20|          Tocantins|  4072.6|      Ensino Médio|            0|    Solteiro|    Educação|              11|\n",
            "|   24|2000-02-21|Rio Grande do Norte| 4039.96|Ensino Fundamental|            1|    Solteiro|   Indústria|               0|\n",
            "|   35|1988-08-02|           Amazonas| 3457.97|Ensino Fundamental|            1|       Viúvo|   Indústria|               3|\n",
            "|   29|1995-02-22|Rio Grande do Norte| 3913.59|      Ensino Médio|            1|      Casado|    Educação|               3|\n",
            "|   39|1984-12-08|  Rio Grande do Sul|11956.86|   Ensino Superior|            1|  Divorciado|       Saúde|              13|\n",
            "|   27|1996-11-08|          São Paulo| 4741.55|Ensino Fundamental|            2|      Casado|  Tecnologia|               5|\n",
            "|   28|1995-08-04|     Santa Catarina| 5750.38|      Ensino Médio|            1|      Casado|  Tecnologia|               1|\n",
            "|   22|2001-07-26|   Distrito Federal| 3302.26|      Ensino Médio|            1|    Solteiro|   Indústria|               2|\n",
            "|   31|1993-04-10|         Pernambuco| 6801.59|      Ensino Médio|            1|      Casado|       Saúde|               8|\n",
            "|   46|1977-07-14|   Distrito Federal| 3452.93|Ensino Fundamental|            1|  Divorciado|       Saúde|              24|\n",
            "|   62|1961-06-30|          São Paulo| 7316.91|   Ensino Superior|            2|    Solteiro|   Indústria|               8|\n",
            "|   23|2000-08-11|            Paraíba| 3076.23|      Ensino Médio|            0|      Casado|   Indústria|               5|\n",
            "|   25|1998-11-08|              Goiás|  3268.8|      Ensino Médio|            0|    Solteiro|    Educação|               6|\n",
            "+-----+----------+-------------------+--------+------------------+-------------+------------+------------+----------------+\n",
            "only showing top 20 rows\n",
            "\n"
          ]
        }
      ]
    },
    {
      "cell_type": "code",
      "source": [
        "df.write.csv('output/clientes_csv')"
      ],
      "metadata": {
        "id": "y00_0Klm2zJe"
      },
      "execution_count": null,
      "outputs": []
    },
    {
      "cell_type": "code",
      "source": [
        "df.write.mode('overwrite').option('header', 'true').csv('output/clientes_csv')"
      ],
      "metadata": {
        "id": "F95bnXzj3Kjg"
      },
      "execution_count": 7,
      "outputs": []
    },
    {
      "cell_type": "code",
      "source": [
        "df = spark.read.option('header', 'true').option('inferSchema', 'true').csv('output/clientes_csv')\n",
        "df.show()"
      ],
      "metadata": {
        "colab": {
          "base_uri": "https://localhost:8080/"
        },
        "id": "fO1oC-fr3z7O",
        "outputId": "1f5d2430-9ce4-4f77-b976-38e437a2f3c6"
      },
      "execution_count": 8,
      "outputs": [
        {
          "output_type": "stream",
          "name": "stdout",
          "text": [
            "+-----+----------+-------------------+--------+------------------+-------------+------------+------------+----------------+\n",
            "|idade|      data|             estado| salario|    nivel_educacao|numero_filhos|estado_civil|area_atuacao|anos_experiencia|\n",
            "+-----+----------+-------------------+--------+------------------+-------------+------------+------------+----------------+\n",
            "|   56|1968-01-19|               Pará|13550.54|      Ensino Médio|            0|      Casado|  Tecnologia|              17|\n",
            "|   49|1975-01-31|Rio Grande do Norte| 3124.72|      Ensino Médio|            3|      Casado|   Indústria|               3|\n",
            "|   54|1969-08-26|       Minas Gerais|  7534.6|      Ensino Médio|            0|      Casado|  Tecnologia|              18|\n",
            "|   61|1963-03-19|              Amapá| 4067.73|Ensino Fundamental|            1|    Solteiro|    Comércio|              16|\n",
            "|   30|1993-12-09|            Alagoas| 6809.94|      Ensino Médio|            1|      Casado|  Tecnologia|               9|\n",
            "|   54|1969-06-24|               Pará| 9025.74|      Ensino Médio|            1|    Solteiro|   Indústria|              25|\n",
            "|   28|1996-03-25|          Tocantins| 9493.67|   Ensino Superior|            1|      Casado|    Comércio|               6|\n",
            "|   30|1993-06-20|          Tocantins|  4072.6|      Ensino Médio|            0|    Solteiro|    Educação|              11|\n",
            "|   24|2000-02-21|Rio Grande do Norte| 4039.96|Ensino Fundamental|            1|    Solteiro|   Indústria|               0|\n",
            "|   35|1988-08-02|           Amazonas| 3457.97|Ensino Fundamental|            1|       Viúvo|   Indústria|               3|\n",
            "|   29|1995-02-22|Rio Grande do Norte| 3913.59|      Ensino Médio|            1|      Casado|    Educação|               3|\n",
            "|   39|1984-12-08|  Rio Grande do Sul|11956.86|   Ensino Superior|            1|  Divorciado|       Saúde|              13|\n",
            "|   27|1996-11-08|          São Paulo| 4741.55|Ensino Fundamental|            2|      Casado|  Tecnologia|               5|\n",
            "|   28|1995-08-04|     Santa Catarina| 5750.38|      Ensino Médio|            1|      Casado|  Tecnologia|               1|\n",
            "|   22|2001-07-26|   Distrito Federal| 3302.26|      Ensino Médio|            1|    Solteiro|   Indústria|               2|\n",
            "|   31|1993-04-10|         Pernambuco| 6801.59|      Ensino Médio|            1|      Casado|       Saúde|               8|\n",
            "|   46|1977-07-14|   Distrito Federal| 3452.93|Ensino Fundamental|            1|  Divorciado|       Saúde|              24|\n",
            "|   62|1961-06-30|          São Paulo| 7316.91|   Ensino Superior|            2|    Solteiro|   Indústria|               8|\n",
            "|   23|2000-08-11|            Paraíba| 3076.23|      Ensino Médio|            0|      Casado|   Indústria|               5|\n",
            "|   25|1998-11-08|              Goiás|  3268.8|      Ensino Médio|            0|    Solteiro|    Educação|               6|\n",
            "+-----+----------+-------------------+--------+------------------+-------------+------------+------------+----------------+\n",
            "only showing top 20 rows\n",
            "\n"
          ]
        }
      ]
    },
    {
      "cell_type": "code",
      "source": [
        "df.write.option('header', 'true').json('output/clientes_json')"
      ],
      "metadata": {
        "id": "2PMSVSlA4lcm"
      },
      "execution_count": 10,
      "outputs": []
    },
    {
      "cell_type": "code",
      "source": [
        "df = spark.read.option('header', 'true').option('inferSchema', 'true').json('output/clientes_json')\n",
        "df.show()"
      ],
      "metadata": {
        "colab": {
          "base_uri": "https://localhost:8080/"
        },
        "id": "4FyIhM_95EWT",
        "outputId": "e33a86ea-2497-455f-e254-4f74f872f00d"
      },
      "execution_count": 11,
      "outputs": [
        {
          "output_type": "stream",
          "name": "stdout",
          "text": [
            "+----------------+------------+----------+-------------------+------------+-----+------------------+-------------+--------+\n",
            "|anos_experiencia|area_atuacao|      data|             estado|estado_civil|idade|    nivel_educacao|numero_filhos| salario|\n",
            "+----------------+------------+----------+-------------------+------------+-----+------------------+-------------+--------+\n",
            "|              17|  Tecnologia|1968-01-19|               Pará|      Casado|   56|      Ensino Médio|            0|13550.54|\n",
            "|               3|   Indústria|1975-01-31|Rio Grande do Norte|      Casado|   49|      Ensino Médio|            3| 3124.72|\n",
            "|              18|  Tecnologia|1969-08-26|       Minas Gerais|      Casado|   54|      Ensino Médio|            0|  7534.6|\n",
            "|              16|    Comércio|1963-03-19|              Amapá|    Solteiro|   61|Ensino Fundamental|            1| 4067.73|\n",
            "|               9|  Tecnologia|1993-12-09|            Alagoas|      Casado|   30|      Ensino Médio|            1| 6809.94|\n",
            "|              25|   Indústria|1969-06-24|               Pará|    Solteiro|   54|      Ensino Médio|            1| 9025.74|\n",
            "|               6|    Comércio|1996-03-25|          Tocantins|      Casado|   28|   Ensino Superior|            1| 9493.67|\n",
            "|              11|    Educação|1993-06-20|          Tocantins|    Solteiro|   30|      Ensino Médio|            0|  4072.6|\n",
            "|               0|   Indústria|2000-02-21|Rio Grande do Norte|    Solteiro|   24|Ensino Fundamental|            1| 4039.96|\n",
            "|               3|   Indústria|1988-08-02|           Amazonas|       Viúvo|   35|Ensino Fundamental|            1| 3457.97|\n",
            "|               3|    Educação|1995-02-22|Rio Grande do Norte|      Casado|   29|      Ensino Médio|            1| 3913.59|\n",
            "|              13|       Saúde|1984-12-08|  Rio Grande do Sul|  Divorciado|   39|   Ensino Superior|            1|11956.86|\n",
            "|               5|  Tecnologia|1996-11-08|          São Paulo|      Casado|   27|Ensino Fundamental|            2| 4741.55|\n",
            "|               1|  Tecnologia|1995-08-04|     Santa Catarina|      Casado|   28|      Ensino Médio|            1| 5750.38|\n",
            "|               2|   Indústria|2001-07-26|   Distrito Federal|    Solteiro|   22|      Ensino Médio|            1| 3302.26|\n",
            "|               8|       Saúde|1993-04-10|         Pernambuco|      Casado|   31|      Ensino Médio|            1| 6801.59|\n",
            "|              24|       Saúde|1977-07-14|   Distrito Federal|  Divorciado|   46|Ensino Fundamental|            1| 3452.93|\n",
            "|               8|   Indústria|1961-06-30|          São Paulo|    Solteiro|   62|   Ensino Superior|            2| 7316.91|\n",
            "|               5|   Indústria|2000-08-11|            Paraíba|      Casado|   23|      Ensino Médio|            0| 3076.23|\n",
            "|               6|    Educação|1998-11-08|              Goiás|    Solteiro|   25|      Ensino Médio|            0|  3268.8|\n",
            "+----------------+------------+----------+-------------------+------------+-----+------------------+-------------+--------+\n",
            "only showing top 20 rows\n",
            "\n"
          ]
        }
      ]
    },
    {
      "cell_type": "code",
      "source": [
        "df.write.option('header', 'true').parquet('output/clientes_parquet')"
      ],
      "metadata": {
        "id": "H-4KE13L5Nu7"
      },
      "execution_count": 12,
      "outputs": []
    },
    {
      "cell_type": "code",
      "source": [
        "df = spark.read.option('header', 'true').option('inferSchema', 'true').parquet('output/clientes_parquet')\n",
        "df.show()"
      ],
      "metadata": {
        "colab": {
          "base_uri": "https://localhost:8080/"
        },
        "id": "5RcoXF4t5cnU",
        "outputId": "7e36e455-4e1e-4cc9-e48a-d056fc47c02d"
      },
      "execution_count": 13,
      "outputs": [
        {
          "output_type": "stream",
          "name": "stdout",
          "text": [
            "+----------------+------------+----------+-------------------+------------+-----+------------------+-------------+--------+\n",
            "|anos_experiencia|area_atuacao|      data|             estado|estado_civil|idade|    nivel_educacao|numero_filhos| salario|\n",
            "+----------------+------------+----------+-------------------+------------+-----+------------------+-------------+--------+\n",
            "|              17|  Tecnologia|1968-01-19|               Pará|      Casado|   56|      Ensino Médio|            0|13550.54|\n",
            "|               3|   Indústria|1975-01-31|Rio Grande do Norte|      Casado|   49|      Ensino Médio|            3| 3124.72|\n",
            "|              18|  Tecnologia|1969-08-26|       Minas Gerais|      Casado|   54|      Ensino Médio|            0|  7534.6|\n",
            "|              16|    Comércio|1963-03-19|              Amapá|    Solteiro|   61|Ensino Fundamental|            1| 4067.73|\n",
            "|               9|  Tecnologia|1993-12-09|            Alagoas|      Casado|   30|      Ensino Médio|            1| 6809.94|\n",
            "|              25|   Indústria|1969-06-24|               Pará|    Solteiro|   54|      Ensino Médio|            1| 9025.74|\n",
            "|               6|    Comércio|1996-03-25|          Tocantins|      Casado|   28|   Ensino Superior|            1| 9493.67|\n",
            "|              11|    Educação|1993-06-20|          Tocantins|    Solteiro|   30|      Ensino Médio|            0|  4072.6|\n",
            "|               0|   Indústria|2000-02-21|Rio Grande do Norte|    Solteiro|   24|Ensino Fundamental|            1| 4039.96|\n",
            "|               3|   Indústria|1988-08-02|           Amazonas|       Viúvo|   35|Ensino Fundamental|            1| 3457.97|\n",
            "|               3|    Educação|1995-02-22|Rio Grande do Norte|      Casado|   29|      Ensino Médio|            1| 3913.59|\n",
            "|              13|       Saúde|1984-12-08|  Rio Grande do Sul|  Divorciado|   39|   Ensino Superior|            1|11956.86|\n",
            "|               5|  Tecnologia|1996-11-08|          São Paulo|      Casado|   27|Ensino Fundamental|            2| 4741.55|\n",
            "|               1|  Tecnologia|1995-08-04|     Santa Catarina|      Casado|   28|      Ensino Médio|            1| 5750.38|\n",
            "|               2|   Indústria|2001-07-26|   Distrito Federal|    Solteiro|   22|      Ensino Médio|            1| 3302.26|\n",
            "|               8|       Saúde|1993-04-10|         Pernambuco|      Casado|   31|      Ensino Médio|            1| 6801.59|\n",
            "|              24|       Saúde|1977-07-14|   Distrito Federal|  Divorciado|   46|Ensino Fundamental|            1| 3452.93|\n",
            "|               8|   Indústria|1961-06-30|          São Paulo|    Solteiro|   62|   Ensino Superior|            2| 7316.91|\n",
            "|               5|   Indústria|2000-08-11|            Paraíba|      Casado|   23|      Ensino Médio|            0| 3076.23|\n",
            "|               6|    Educação|1998-11-08|              Goiás|    Solteiro|   25|      Ensino Médio|            0|  3268.8|\n",
            "+----------------+------------+----------+-------------------+------------+-----+------------------+-------------+--------+\n",
            "only showing top 20 rows\n",
            "\n"
          ]
        }
      ]
    },
    {
      "cell_type": "code",
      "source": [
        "df.write.option('header', 'true').saveAsTable('cliente')"
      ],
      "metadata": {
        "id": "YP78auZQ5fxj"
      },
      "execution_count": 14,
      "outputs": []
    },
    {
      "cell_type": "code",
      "source": [
        "df.createOrReplaceTempView('temp_cliente')"
      ],
      "metadata": {
        "id": "cPs1uLdJ5vPy"
      },
      "execution_count": 15,
      "outputs": []
    },
    {
      "cell_type": "code",
      "source": [
        "spark.catalog.listDatabases()"
      ],
      "metadata": {
        "colab": {
          "base_uri": "https://localhost:8080/"
        },
        "id": "SpuQf__t8zPg",
        "outputId": "0a8e1dd7-811c-48bc-9ce8-eb93ab3bc686"
      },
      "execution_count": 16,
      "outputs": [
        {
          "output_type": "execute_result",
          "data": {
            "text/plain": [
              "[Database(name='default', catalog='spark_catalog', description='default database', locationUri='file:/content/spark-warehouse')]"
            ]
          },
          "metadata": {},
          "execution_count": 16
        }
      ]
    },
    {
      "cell_type": "code",
      "source": [
        "spark.catalog.setCurrentDatabase('default')"
      ],
      "metadata": {
        "id": "hXEtM3zr86ep"
      },
      "execution_count": 17,
      "outputs": []
    },
    {
      "cell_type": "code",
      "source": [
        "spark.catalog.listTables()"
      ],
      "metadata": {
        "colab": {
          "base_uri": "https://localhost:8080/"
        },
        "id": "fhUSlNBZ9HEg",
        "outputId": "bc204aa4-2d3c-4043-bc47-0a21eba73706"
      },
      "execution_count": 18,
      "outputs": [
        {
          "output_type": "execute_result",
          "data": {
            "text/plain": [
              "[Table(name='cliente', catalog='spark_catalog', namespace=['default'], description=None, tableType='MANAGED', isTemporary=False),\n",
              " Table(name='temp_cliente', catalog=None, namespace=[], description=None, tableType='TEMPORARY', isTemporary=True)]"
            ]
          },
          "metadata": {},
          "execution_count": 18
        }
      ]
    },
    {
      "cell_type": "code",
      "source": [
        "tab_df = spark.sql('select * from temp_cliente')\n",
        "tab_df.show()"
      ],
      "metadata": {
        "colab": {
          "base_uri": "https://localhost:8080/"
        },
        "id": "11uRE1G29qdD",
        "outputId": "98a7e30b-fccc-4682-c094-c55f76463f89"
      },
      "execution_count": 19,
      "outputs": [
        {
          "output_type": "stream",
          "name": "stdout",
          "text": [
            "+----------------+------------+----------+-------------------+------------+-----+------------------+-------------+--------+\n",
            "|anos_experiencia|area_atuacao|      data|             estado|estado_civil|idade|    nivel_educacao|numero_filhos| salario|\n",
            "+----------------+------------+----------+-------------------+------------+-----+------------------+-------------+--------+\n",
            "|              17|  Tecnologia|1968-01-19|               Pará|      Casado|   56|      Ensino Médio|            0|13550.54|\n",
            "|               3|   Indústria|1975-01-31|Rio Grande do Norte|      Casado|   49|      Ensino Médio|            3| 3124.72|\n",
            "|              18|  Tecnologia|1969-08-26|       Minas Gerais|      Casado|   54|      Ensino Médio|            0|  7534.6|\n",
            "|              16|    Comércio|1963-03-19|              Amapá|    Solteiro|   61|Ensino Fundamental|            1| 4067.73|\n",
            "|               9|  Tecnologia|1993-12-09|            Alagoas|      Casado|   30|      Ensino Médio|            1| 6809.94|\n",
            "|              25|   Indústria|1969-06-24|               Pará|    Solteiro|   54|      Ensino Médio|            1| 9025.74|\n",
            "|               6|    Comércio|1996-03-25|          Tocantins|      Casado|   28|   Ensino Superior|            1| 9493.67|\n",
            "|              11|    Educação|1993-06-20|          Tocantins|    Solteiro|   30|      Ensino Médio|            0|  4072.6|\n",
            "|               0|   Indústria|2000-02-21|Rio Grande do Norte|    Solteiro|   24|Ensino Fundamental|            1| 4039.96|\n",
            "|               3|   Indústria|1988-08-02|           Amazonas|       Viúvo|   35|Ensino Fundamental|            1| 3457.97|\n",
            "|               3|    Educação|1995-02-22|Rio Grande do Norte|      Casado|   29|      Ensino Médio|            1| 3913.59|\n",
            "|              13|       Saúde|1984-12-08|  Rio Grande do Sul|  Divorciado|   39|   Ensino Superior|            1|11956.86|\n",
            "|               5|  Tecnologia|1996-11-08|          São Paulo|      Casado|   27|Ensino Fundamental|            2| 4741.55|\n",
            "|               1|  Tecnologia|1995-08-04|     Santa Catarina|      Casado|   28|      Ensino Médio|            1| 5750.38|\n",
            "|               2|   Indústria|2001-07-26|   Distrito Federal|    Solteiro|   22|      Ensino Médio|            1| 3302.26|\n",
            "|               8|       Saúde|1993-04-10|         Pernambuco|      Casado|   31|      Ensino Médio|            1| 6801.59|\n",
            "|              24|       Saúde|1977-07-14|   Distrito Federal|  Divorciado|   46|Ensino Fundamental|            1| 3452.93|\n",
            "|               8|   Indústria|1961-06-30|          São Paulo|    Solteiro|   62|   Ensino Superior|            2| 7316.91|\n",
            "|               5|   Indústria|2000-08-11|            Paraíba|      Casado|   23|      Ensino Médio|            0| 3076.23|\n",
            "|               6|    Educação|1998-11-08|              Goiás|    Solteiro|   25|      Ensino Médio|            0|  3268.8|\n",
            "+----------------+------------+----------+-------------------+------------+-----+------------------+-------------+--------+\n",
            "only showing top 20 rows\n",
            "\n"
          ]
        }
      ]
    },
    {
      "cell_type": "code",
      "source": [
        "spark.stop()"
      ],
      "metadata": {
        "id": "etMm6R_1992H"
      },
      "execution_count": 20,
      "outputs": []
    }
  ]
}