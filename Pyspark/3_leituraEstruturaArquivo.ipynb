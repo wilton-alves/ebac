{
  "nbformat": 4,
  "nbformat_minor": 0,
  "metadata": {
    "colab": {
      "provenance": []
    },
    "kernelspec": {
      "name": "python3",
      "display_name": "Python 3"
    },
    "language_info": {
      "name": "python"
    }
  },
  "cells": [
    {
      "cell_type": "markdown",
      "source": [
        "Seção Pyspark: Tratamento de dados e Big Data\n",
        "\n",
        "Módulo: Definição e Coleta de Dados\n",
        "\n",
        "Aula 4: Leitura de arquivo\n",
        "\n",
        "Aula 5: Estrutura de arquivo"
      ],
      "metadata": {
        "id": "rAjm31C8hrf4"
      }
    },
    {
      "cell_type": "code",
      "execution_count": 1,
      "metadata": {
        "colab": {
          "base_uri": "https://localhost:8080/"
        },
        "id": "J8V1pBJUgZUV",
        "outputId": "736672e1-5b21-45e0-96b3-ef63d32dd33b"
      },
      "outputs": [
        {
          "output_type": "stream",
          "name": "stdout",
          "text": [
            "Requirement already satisfied: pyspark in /usr/local/lib/python3.11/dist-packages (3.5.4)\n",
            "Requirement already satisfied: py4j==0.10.9.7 in /usr/local/lib/python3.11/dist-packages (from pyspark) (0.10.9.7)\n"
          ]
        }
      ],
      "source": [
        "!pip install pyspark"
      ]
    },
    {
      "cell_type": "code",
      "source": [
        "import pyspark\n",
        "from pyspark.sql import SparkSession\n",
        "from pyspark.sql.types import *\n",
        "from datetime import date"
      ],
      "metadata": {
        "id": "zNkKNpOyiDw6"
      },
      "execution_count": 2,
      "outputs": []
    },
    {
      "cell_type": "code",
      "source": [
        "spark = SparkSession.builder.getOrCreate()"
      ],
      "metadata": {
        "id": "GErV0mNpiXXr"
      },
      "execution_count": 3,
      "outputs": []
    },
    {
      "cell_type": "code",
      "source": [
        "df = spark.read.csv('clientes-v3-preparado.csv')"
      ],
      "metadata": {
        "id": "TO0SvfbPiiiD"
      },
      "execution_count": 4,
      "outputs": []
    },
    {
      "cell_type": "code",
      "source": [
        "df.take(5)"
      ],
      "metadata": {
        "collapsed": true,
        "colab": {
          "base_uri": "https://localhost:8080/"
        },
        "id": "R9cd-PU2jXrZ",
        "outputId": "5895df86-2b8a-4c19-899e-ce142871f8e5"
      },
      "execution_count": 14,
      "outputs": [
        {
          "output_type": "execute_result",
          "data": {
            "text/plain": [
              "[Row(idade=56, data=datetime.date(1968, 1, 19), estado='Pará', salario=13550.54, nivel_educacao='Ensino Médio', numero_filhos=0, estado_civil='Casado', area_atuacao='Tecnologia', anos_experiencia=17, idadeMinMaxScaler=0.5205479452054794, salarioMinMaxScaler=0.42963812321345, idadeMinMaxScaler_mm=0.0410958904109588, salarioMinMaxScaler_mm=-0.1407237535730999, idadeStandardScaler=1.0381115371612064, salarioStandardScaler=1.9490106645156835, idadeRobustScaler=0.782608695652174, salarioRobustScaler=1.7757804256328178, estado_civil_Casado=True, estado_civil_Divorciado=False, estado_civil_Solteiro=False, estado_civil_Viúvo=False, nivel_educacao_cod=2, area_atuacao_cod=4, estado_cod=15, salario_log=9.514255472986349, salario_boxcox=10.182573696106056, estado_freq=0.03812724533549658, idade_filhos_interac=0, idade_anos_experiencia_interac=952),\n",
              " Row(idade=49, data=datetime.date(1975, 1, 31), estado='Rio Grande do Norte', salario=3124.72, nivel_educacao='Ensino Médio', numero_filhos=3, estado_civil='Casado', area_atuacao='Indústria', anos_experiencia=3, idadeMinMaxScaler=0.4246575342465754, salarioMinMaxScaler=0.0622565076930883, idadeMinMaxScaler_mm=-0.1506849315068492, salarioMinMaxScaler_mm=-0.8754869846138233, idadeStandardScaler=0.5835821859249547, salarioStandardScaler=-1.0486896253861877, idadeRobustScaler=0.4782608695652174, salarioRobustScaler=-0.6964040547750312, estado_civil_Casado=True, estado_civil_Divorciado=False, estado_civil_Solteiro=False, estado_civil_Viúvo=False, nivel_educacao_cod=2, area_atuacao_cod=2, estado_cod=18, salario_log=8.047419935632497, salario_boxcox=8.522194951042593, estado_freq=0.037316027349634955, idade_filhos_interac=147, idade_anos_experiencia_interac=147),\n",
              " Row(idade=54, data=datetime.date(1969, 8, 26), estado='Minas Gerais', salario=7534.6, nivel_educacao='Ensino Médio', numero_filhos=0, estado_civil='Casado', area_atuacao='Tecnologia', anos_experiencia=18, idadeMinMaxScaler=0.4931506849315068, salarioMinMaxScaler=0.2176504084750827, idadeMinMaxScaler_mm=-0.0136986301369863, salarioMinMaxScaler_mm=-0.5646991830498346, idadeStandardScaler=0.908246008236563, salarioStandardScaler=0.2192680560654838, idadeRobustScaler=0.6956521739130435, salarioRobustScaler=0.34927263026854, estado_civil_Casado=True, estado_civil_Divorciado=False, estado_civil_Solteiro=False, estado_civil_Viúvo=False, nivel_educacao_cod=2, area_atuacao_cod=4, estado_cod=12, salario_log=8.927393736291219, salario_boxcox=9.514150188923233, estado_freq=0.03673658593116236, idade_filhos_interac=0, idade_anos_experiencia_interac=972),\n",
              " Row(idade=61, data=datetime.date(1963, 3, 19), estado='Amapá', salario=4067.73, nivel_educacao='Ensino Fundamental', numero_filhos=1, estado_civil='Solteiro', area_atuacao='Comércio', anos_experiencia=16, idadeMinMaxScaler=0.589041095890411, salarioMinMaxScaler=0.0954859838639656, idadeMinMaxScaler_mm=0.1780821917808219, salarioMinMaxScaler_mm=-0.8090280322720687, idadeStandardScaler=1.3627753594728147, salarioStandardScaler=-0.7775491922710595, idadeRobustScaler=1.0, salarioRobustScaler=-0.4727962534827198, estado_civil_Casado=False, estado_civil_Divorciado=False, estado_civil_Solteiro=True, estado_civil_Viúvo=False, nivel_educacao_cod=1, area_atuacao_cod=0, estado_cod=2, salario_log=8.311086190430204, salario_boxcox=8.818122679376248, estado_freq=0.0369683624985514, idade_filhos_interac=61, idade_anos_experiencia_interac=976),\n",
              " Row(idade=30, data=datetime.date(1993, 12, 9), estado='Alagoas', salario=6809.94, nivel_educacao='Ensino Médio', numero_filhos=1, estado_civil='Casado', area_atuacao='Tecnologia', anos_experiencia=9, idadeMinMaxScaler=0.1643835616438356, salarioMinMaxScaler=0.1921150777765874, idadeMinMaxScaler_mm=-0.6712328767123288, salarioMinMaxScaler_mm=-0.615769844446825, idadeStandardScaler=-0.650140338859157, salarioStandardScaler=0.0109090500515403, idadeRobustScaler=-0.3478260869565217, salarioRobustScaler=0.1774402750607622, estado_civil_Casado=True, estado_civil_Divorciado=False, estado_civil_Solteiro=False, estado_civil_Viúvo=False, nivel_educacao_cod=2, area_atuacao_cod=4, estado_cod=1, salario_log=8.826285421923409, salario_boxcox=9.399547899775945, estado_freq=0.03279638428554873, idade_filhos_interac=30, idade_anos_experiencia_interac=270)]"
            ]
          },
          "metadata": {},
          "execution_count": 14
        }
      ]
    },
    {
      "cell_type": "code",
      "source": [
        "df.show()"
      ],
      "metadata": {
        "colab": {
          "base_uri": "https://localhost:8080/"
        },
        "collapsed": true,
        "id": "pc-scVMejerw",
        "outputId": "6bbb7705-9526-4c25-f477-a8fd4450eba4"
      },
      "execution_count": 12,
      "outputs": [
        {
          "output_type": "stream",
          "name": "stdout",
          "text": [
            "+-----+----------+-------------------+--------+------------------+-------------+------------+------------+----------------+------------------+-------------------+--------------------+----------------------+-------------------+---------------------+-------------------+-------------------+-------------------+-----------------------+---------------------+------------------+------------------+----------------+----------+-----------------+------------------+--------------------+--------------------+------------------------------+\n",
            "|idade|      data|             estado| salario|    nivel_educacao|numero_filhos|estado_civil|area_atuacao|anos_experiencia| idadeMinMaxScaler|salarioMinMaxScaler|idadeMinMaxScaler_mm|salarioMinMaxScaler_mm|idadeStandardScaler|salarioStandardScaler|  idadeRobustScaler|salarioRobustScaler|estado_civil_Casado|estado_civil_Divorciado|estado_civil_Solteiro|estado_civil_Viúvo|nivel_educacao_cod|area_atuacao_cod|estado_cod|      salario_log|    salario_boxcox|         estado_freq|idade_filhos_interac|idade_anos_experiencia_interac|\n",
            "+-----+----------+-------------------+--------+------------------+-------------+------------+------------+----------------+------------------+-------------------+--------------------+----------------------+-------------------+---------------------+-------------------+-------------------+-------------------+-----------------------+---------------------+------------------+------------------+----------------+----------+-----------------+------------------+--------------------+--------------------+------------------------------+\n",
            "|   56|1968-01-19|               Pará|13550.54|      Ensino Médio|            0|      Casado|  Tecnologia|              17|0.5205479452054794|   0.42963812321345|  0.0410958904109588|   -0.1407237535730999| 1.0381115371612064|   1.9490106645156835|  0.782608695652174| 1.7757804256328178|               true|                  false|                false|             false|                 2|               4|        15|9.514255472986349|10.182573696106056| 0.03812724533549658|                   0|                           952|\n",
            "|   49|1975-01-31|Rio Grande do Norte| 3124.72|      Ensino Médio|            3|      Casado|   Indústria|               3|0.4246575342465754| 0.0622565076930883| -0.1506849315068492|   -0.8754869846138233| 0.5835821859249547|  -1.0486896253861877| 0.4782608695652174|-0.6964040547750312|               true|                  false|                false|             false|                 2|               2|        18|8.047419935632497| 8.522194951042593|0.037316027349634955|                 147|                           147|\n",
            "|   54|1969-08-26|       Minas Gerais|  7534.6|      Ensino Médio|            0|      Casado|  Tecnologia|              18|0.4931506849315068| 0.2176504084750827| -0.0136986301369863|   -0.5646991830498346|  0.908246008236563|   0.2192680560654838| 0.6956521739130435|   0.34927263026854|               true|                  false|                false|             false|                 2|               4|        12|8.927393736291219| 9.514150188923233| 0.03673658593116236|                   0|                           972|\n",
            "|   61|1963-03-19|              Amapá| 4067.73|Ensino Fundamental|            1|    Solteiro|    Comércio|              16| 0.589041095890411| 0.0954859838639656|  0.1780821917808219|   -0.8090280322720687| 1.3627753594728147|  -0.7775491922710595|                1.0|-0.4727962534827198|              false|                  false|                 true|             false|                 1|               0|         2|8.311086190430204| 8.818122679376248|  0.0369683624985514|                  61|                           976|\n",
            "|   30|1993-12-09|            Alagoas| 6809.94|      Ensino Médio|            1|      Casado|  Tecnologia|               9|0.1643835616438356| 0.1921150777765874| -0.6712328767123288|    -0.615769844446825| -0.650140338859157|   0.0109090500515403|-0.3478260869565217| 0.1774402750607622|               true|                  false|                false|             false|                 2|               4|         1|8.826285421923409| 9.399547899775945| 0.03279638428554873|                  30|                           270|\n",
            "|   54|1969-06-24|               Pará| 9025.74|      Ensino Médio|            1|    Solteiro|   Indústria|              25|0.4931506849315068| 0.2701947092751187| -0.0136986301369863|   -0.4596105814497625|  0.908246008236563|   0.6480104293545176| 0.6956521739130435| 0.7028537554093306|              false|                  false|                 true|             false|                 2|               2|        15| 9.10794656240191| 9.719206881450042| 0.03812724533549658|                  54|                          1350|\n",
            "|   28|1996-03-25|          Tocantins| 9493.67|   Ensino Superior|            1|      Casado|    Comércio|               6| 0.136986301369863| 0.2866834726865763|  -0.726027397260274|   -0.4266330546268473|-0.7800058677838003|   0.7825527384154627|-0.4347826086956521| 0.8138099472405003|               true|                  false|                false|             false|                 3|               0|        26|9.158485867508132| 9.776698826309591|  0.0369683624985514|                  28|                           168|\n",
            "|   30|1993-06-20|          Tocantins|  4072.6|      Ensino Médio|            0|    Solteiro|    Educação|              11|0.1643835616438356| 0.0956575913219482| -0.6712328767123288|   -0.8086848173561034| -0.650140338859157|   -0.776148937863078|-0.3478260869565217| -0.471641472523564|              false|                  false|                 true|             false|                 2|               1|        26|8.312282408363087| 8.819467774018243|  0.0369683624985514|                   0|                           330|\n",
            "|   24|2000-02-21|Rio Grande do Norte| 4039.96|Ensino Fundamental|            1|    Solteiro|   Indústria|               0|0.0821917808219178| 0.0945074337390833| -0.8356164383561644|   -0.8109851325218334| -1.039736925633087|  -0.7855338051888515|-0.6086956521739131|-0.4793811132847235|              false|                  false|                 true|             false|                 1|               2|        18|8.304237566489517| 8.810422139036602|0.037316027349634955|                  24|                             0|\n",
            "|   35|1988-08-02|           Amazonas| 3457.97|Ensino Fundamental|            1|       Viúvo|   Indústria|               3|0.2328767123287671| 0.0739994615683864| -0.5342465753424658|   -0.8520010768632271|-0.3254765165475486|  -0.9528713951069578|-0.1304347826086956|-0.6173833659375186|              false|                  false|                false|              true|                 1|               2|         3|8.148726135872671| 8.635766452700949|0.039170239888747245|                  35|                           105|\n",
            "|   29|1995-02-22|Rio Grande do Norte| 3913.59|      Ensino Médio|            1|      Casado|    Educação|               3|0.1506849315068493| 0.0900544492492966| -0.6986301369863014|   -0.8198911015014068|-0.7150731033214787|  -0.8218685381532514| -0.391304347826087|-0.5093461378860632|               true|                  false|                false|             false|                 2|               1|        18|8.272465877525745| 8.774708028875102|0.037316027349634955|                  29|                            87|\n",
            "|   39|1984-12-08|  Rio Grande do Sul|11956.86|   Ensino Superior|            1|  Divorciado|       Saúde|              13|0.2876712328767122| 0.3734805516245975| -0.4246575342465755|   -0.2530388967508049|-0.0657454586982619|    1.490785316484467| 0.0434782608695652| 1.3978848775861048|              false|                   true|                false|             false|                 3|               3|        19|9.389144081728896| 10.03960971643232|  0.0400973461583034|                  39|                           507|\n",
            "|   27|1996-11-08|          São Paulo| 4741.55|Ensino Fundamental|            2|      Casado|  Tecnologia|               5|0.1232876712328767| 0.1192298313666014| -0.7534246575342466|   -0.7615403372667972| -0.844938632246122|  -0.5838080372020406|-0.4782608695652174| -0.313019147548758|               true|                  false|                false|             false|                 1|               4|        25|8.464330244716166| 8.990623912728278|  0.0382431336191911|                  54|                           135|\n",
            "|   28|1995-08-04|     Santa Catarina| 5750.38|      Ensino Médio|            1|      Casado|  Tecnologia|               1| 0.136986301369863| 0.1547786510455721|  -0.726027397260274|   -0.6904426979088557|-0.7800058677838003|  -0.2937426050862258|-0.4347826086956521|-0.0738040192068291|               true|                  false|                false|             false|                 2|               4|        23|8.657195104996003| 9.208255727222667| 0.03523003824313362|                  28|                            28|\n",
            "|   22|2001-07-26|   Distrito Federal| 3302.26|      Ensino Médio|            1|    Solteiro|   Indústria|               2|0.0547945205479452| 0.0685126038101788| -0.8904109589041096|   -0.8629747923796423|-1.1696024545577304|  -0.9976421577079444|-0.6956521739130435|-0.6543055308554152|              false|                  false|                 true|             false|                 2|               2|         6|8.102665138611322| 8.584108647677983|  0.0363889210800788|                  22|                            44|\n",
            "|   31|1993-04-10|         Pernambuco| 6801.59|      Ensino Médio|            1|      Casado|       Saúde|               8|0.1780821917808219|  0.191820843223373| -0.6438356164383562|    -0.616358313553254|-0.5852075743968354|   0.0085082031713257|-0.3043478260869565| 0.1754603118145711|               true|                  false|                false|             false|                 2|               3|        16|8.825058700999868| 9.398158463762089| 0.03905435160505273|                  31|                           248|\n",
            "|   46|1977-07-14|   Distrito Federal| 3452.93|Ensino Fundamental|            1|  Divorciado|       Saúde|              24|0.3835616438356164| 0.0738218637063264| -0.2328767123287671|   -0.8523562725873473| 0.3887838925379897|  -0.9543205290322612| 0.3478260869565217|-0.6185784575256388|              false|                   true|                false|             false|                 1|               3|         6|8.147267992143412| 8.634130617214932|  0.0363889210800788|                  46|                          1104|\n",
            "|   62|1961-06-30|          São Paulo| 7316.91|   Ensino Superior|            2|    Solteiro|   Indústria|               8|0.6027397260273972| 0.2099795198655893|  0.2054794520547944|   -0.5800409602688212| 1.4277081239351364|   0.1566763965021362| 1.0434782608695652| 0.2976536842729266|              false|                  false|                 true|             false|                 3|               2|        25|8.898080047061327| 9.480907443500637|  0.0382431336191911|                 124|                           496|\n",
            "|   23|2000-08-11|            Paraíba| 3076.23|      Ensino Médio|            0|      Casado|   Indústria|               5|0.0684931506849315| 0.0605478330241814|  -0.863013698630137|    -0.878904333951637|-1.1046696900954087|   -1.062631788885782|-0.6521739130434783|-0.7079020688837513|               true|                  false|                false|             false|                 2|               2|        14|8.031785120659837| 8.504681663247728| 0.03766369220071851|                   0|                           115|\n",
            "|   25|1998-11-08|              Goiás|  3268.8|      Ensino Médio|            0|    Solteiro|    Educação|               6|0.0958904109589041| 0.0673335513370581| -0.8082191780821918|   -0.8653328973258836|-0.9748041611707652|  -1.0072627968231525|-0.5652173913043478|-0.6622396111209912|              false|                  false|                 true|             false|                 2|               1|         8|8.092484099941313|  8.57269505584641| 0.03905435160505273|                   0|                           150|\n",
            "+-----+----------+-------------------+--------+------------------+-------------+------------+------------+----------------+------------------+-------------------+--------------------+----------------------+-------------------+---------------------+-------------------+-------------------+-------------------+-----------------------+---------------------+------------------+------------------+----------------+----------+-----------------+------------------+--------------------+--------------------+------------------------------+\n",
            "only showing top 20 rows\n",
            "\n"
          ]
        }
      ]
    },
    {
      "cell_type": "code",
      "source": [
        "df.printSchema()"
      ],
      "metadata": {
        "colab": {
          "base_uri": "https://localhost:8080/"
        },
        "collapsed": true,
        "id": "zrSUs16sjg9i",
        "outputId": "a537c309-a84c-4415-9192-a67991229bad"
      },
      "execution_count": 13,
      "outputs": [
        {
          "output_type": "stream",
          "name": "stdout",
          "text": [
            "root\n",
            " |-- idade: integer (nullable = true)\n",
            " |-- data: date (nullable = true)\n",
            " |-- estado: string (nullable = true)\n",
            " |-- salario: double (nullable = true)\n",
            " |-- nivel_educacao: string (nullable = true)\n",
            " |-- numero_filhos: integer (nullable = true)\n",
            " |-- estado_civil: string (nullable = true)\n",
            " |-- area_atuacao: string (nullable = true)\n",
            " |-- anos_experiencia: integer (nullable = true)\n",
            " |-- idadeMinMaxScaler: double (nullable = true)\n",
            " |-- salarioMinMaxScaler: double (nullable = true)\n",
            " |-- idadeMinMaxScaler_mm: double (nullable = true)\n",
            " |-- salarioMinMaxScaler_mm: double (nullable = true)\n",
            " |-- idadeStandardScaler: double (nullable = true)\n",
            " |-- salarioStandardScaler: double (nullable = true)\n",
            " |-- idadeRobustScaler: double (nullable = true)\n",
            " |-- salarioRobustScaler: double (nullable = true)\n",
            " |-- estado_civil_Casado: boolean (nullable = true)\n",
            " |-- estado_civil_Divorciado: boolean (nullable = true)\n",
            " |-- estado_civil_Solteiro: boolean (nullable = true)\n",
            " |-- estado_civil_Viúvo: boolean (nullable = true)\n",
            " |-- nivel_educacao_cod: integer (nullable = true)\n",
            " |-- area_atuacao_cod: integer (nullable = true)\n",
            " |-- estado_cod: integer (nullable = true)\n",
            " |-- salario_log: double (nullable = true)\n",
            " |-- salario_boxcox: double (nullable = true)\n",
            " |-- estado_freq: double (nullable = true)\n",
            " |-- idade_filhos_interac: integer (nullable = true)\n",
            " |-- idade_anos_experiencia_interac: integer (nullable = true)\n",
            "\n"
          ]
        }
      ]
    },
    {
      "cell_type": "code",
      "source": [
        "df = spark.read.option('header', 'true').csv('clientes-v3-preparado.csv')"
      ],
      "metadata": {
        "id": "2eRhcfW9kFVR"
      },
      "execution_count": 8,
      "outputs": []
    },
    {
      "cell_type": "code",
      "source": [
        "df = spark.read.option('header', 'true').option('inferSchema', 'true').csv('clientes-v3-preparado.csv')"
      ],
      "metadata": {
        "id": "qslE67ZJkVM3"
      },
      "execution_count": 9,
      "outputs": []
    },
    {
      "cell_type": "code",
      "source": [
        "df = spark.read.\\\n",
        "    option('sep', ',').\\\n",
        "    option('header', 'true').\\\n",
        "    option('mode', 'DROPMALFORMED').\\\n",
        "    option('inferSchema', 'true').\\\n",
        "    csv('clientes-v3-preparado.csv')"
      ],
      "metadata": {
        "id": "IvbctPFLkYop"
      },
      "execution_count": 10,
      "outputs": []
    },
    {
      "cell_type": "code",
      "source": [
        "df = df.drop(\n",
        "    'idadeMinMaxScaler',\n",
        "    'salarioMinMaxScaler',\n",
        "    'idadeMinMaxScaler_mm',\n",
        "    'salarioMinMaxScaler_mm',\n",
        "    'idadeStandardScaler',\n",
        "    'salarioStandardScaler',\n",
        "    'idadeRobustScaler',\n",
        "    'salarioRobustScaler',\n",
        "    'estado_civil_Casado',\n",
        "    'estado_civil_Divorciado',\n",
        "    'estado_civil_Solteiro',\n",
        "    'estado_civil_Viúvo',\n",
        "    'nivel_educacao_cod',\n",
        "    'area_atuacao_cod',\n",
        "    'estado_cod',\n",
        "    'salario_log',\n",
        "    'salario_boxcox',\n",
        "    'estado_freq',\n",
        "    'idade_filhos_interac',\n",
        "    'idade_anos_experiencia_interac'\n",
        ")"
      ],
      "metadata": {
        "id": "tMKO6FFeoqrk"
      },
      "execution_count": 18,
      "outputs": []
    },
    {
      "cell_type": "code",
      "source": [
        "df.printSchema()"
      ],
      "metadata": {
        "colab": {
          "base_uri": "https://localhost:8080/"
        },
        "id": "XlEwovcRpWVC",
        "outputId": "593a0630-8c6f-40b5-b437-f2e7ffde000f"
      },
      "execution_count": 19,
      "outputs": [
        {
          "output_type": "stream",
          "name": "stdout",
          "text": [
            "root\n",
            " |-- idade: integer (nullable = true)\n",
            " |-- data: date (nullable = true)\n",
            " |-- estado: string (nullable = true)\n",
            " |-- salario: double (nullable = true)\n",
            " |-- nivel_educacao: string (nullable = true)\n",
            " |-- numero_filhos: integer (nullable = true)\n",
            " |-- estado_civil: string (nullable = true)\n",
            " |-- area_atuacao: string (nullable = true)\n",
            " |-- anos_experiencia: integer (nullable = true)\n",
            "\n"
          ]
        }
      ]
    },
    {
      "cell_type": "code",
      "source": [
        "df.show()"
      ],
      "metadata": {
        "colab": {
          "base_uri": "https://localhost:8080/"
        },
        "id": "HF6gQPOkpniT",
        "outputId": "5a7d41a0-3c28-4ea6-fb12-040ffa791600"
      },
      "execution_count": 20,
      "outputs": [
        {
          "output_type": "stream",
          "name": "stdout",
          "text": [
            "+-----+----------+-------------------+--------+------------------+-------------+------------+------------+----------------+\n",
            "|idade|      data|             estado| salario|    nivel_educacao|numero_filhos|estado_civil|area_atuacao|anos_experiencia|\n",
            "+-----+----------+-------------------+--------+------------------+-------------+------------+------------+----------------+\n",
            "|   56|1968-01-19|               Pará|13550.54|      Ensino Médio|            0|      Casado|  Tecnologia|              17|\n",
            "|   49|1975-01-31|Rio Grande do Norte| 3124.72|      Ensino Médio|            3|      Casado|   Indústria|               3|\n",
            "|   54|1969-08-26|       Minas Gerais|  7534.6|      Ensino Médio|            0|      Casado|  Tecnologia|              18|\n",
            "|   61|1963-03-19|              Amapá| 4067.73|Ensino Fundamental|            1|    Solteiro|    Comércio|              16|\n",
            "|   30|1993-12-09|            Alagoas| 6809.94|      Ensino Médio|            1|      Casado|  Tecnologia|               9|\n",
            "|   54|1969-06-24|               Pará| 9025.74|      Ensino Médio|            1|    Solteiro|   Indústria|              25|\n",
            "|   28|1996-03-25|          Tocantins| 9493.67|   Ensino Superior|            1|      Casado|    Comércio|               6|\n",
            "|   30|1993-06-20|          Tocantins|  4072.6|      Ensino Médio|            0|    Solteiro|    Educação|              11|\n",
            "|   24|2000-02-21|Rio Grande do Norte| 4039.96|Ensino Fundamental|            1|    Solteiro|   Indústria|               0|\n",
            "|   35|1988-08-02|           Amazonas| 3457.97|Ensino Fundamental|            1|       Viúvo|   Indústria|               3|\n",
            "|   29|1995-02-22|Rio Grande do Norte| 3913.59|      Ensino Médio|            1|      Casado|    Educação|               3|\n",
            "|   39|1984-12-08|  Rio Grande do Sul|11956.86|   Ensino Superior|            1|  Divorciado|       Saúde|              13|\n",
            "|   27|1996-11-08|          São Paulo| 4741.55|Ensino Fundamental|            2|      Casado|  Tecnologia|               5|\n",
            "|   28|1995-08-04|     Santa Catarina| 5750.38|      Ensino Médio|            1|      Casado|  Tecnologia|               1|\n",
            "|   22|2001-07-26|   Distrito Federal| 3302.26|      Ensino Médio|            1|    Solteiro|   Indústria|               2|\n",
            "|   31|1993-04-10|         Pernambuco| 6801.59|      Ensino Médio|            1|      Casado|       Saúde|               8|\n",
            "|   46|1977-07-14|   Distrito Federal| 3452.93|Ensino Fundamental|            1|  Divorciado|       Saúde|              24|\n",
            "|   62|1961-06-30|          São Paulo| 7316.91|   Ensino Superior|            2|    Solteiro|   Indústria|               8|\n",
            "|   23|2000-08-11|            Paraíba| 3076.23|      Ensino Médio|            0|      Casado|   Indústria|               5|\n",
            "|   25|1998-11-08|              Goiás|  3268.8|      Ensino Médio|            0|    Solteiro|    Educação|               6|\n",
            "+-----+----------+-------------------+--------+------------------+-------------+------------+------------+----------------+\n",
            "only showing top 20 rows\n",
            "\n"
          ]
        }
      ]
    },
    {
      "cell_type": "code",
      "source": [
        "df.write.csv('nova_tabela.csv')"
      ],
      "metadata": {
        "id": "vaFjUWVDswpS"
      },
      "execution_count": 26,
      "outputs": []
    },
    {
      "cell_type": "code",
      "source": [
        "lista_campos = [\n",
        "    StructField('idade', IntegerType()),\n",
        "    StructField('data', DateType()),\n",
        "    StructField('estado', StringType()),\n",
        "    StructField('salario', DoubleType()),\n",
        "    StructField('nivel_educacao', StringType()),\n",
        "    StructField('numero_filhos', IntegerType()),\n",
        "    StructField('estado_civil', StringType()),\n",
        "    StructField('area_atuacao', StringType()),\n",
        "    StructField('anos_experiencia', IntegerType())\n",
        "]\n",
        "\n",
        "schema_definido = StructType(lista_campos)"
      ],
      "metadata": {
        "id": "rxIaJ6nOpzAS"
      },
      "execution_count": 28,
      "outputs": []
    },
    {
      "cell_type": "code",
      "source": [
        "df = spark.read.option('header','true').schema(schema_definido).csv('nova_tabela.csv')"
      ],
      "metadata": {
        "id": "2gE62owUrtmF"
      },
      "execution_count": 29,
      "outputs": []
    },
    {
      "cell_type": "code",
      "source": [
        "df.show()"
      ],
      "metadata": {
        "colab": {
          "base_uri": "https://localhost:8080/"
        },
        "id": "TQ5dZIyruZAP",
        "outputId": "57f41add-991a-4d60-a8b1-4c726d5419d3"
      },
      "execution_count": 32,
      "outputs": [
        {
          "output_type": "stream",
          "name": "stdout",
          "text": [
            "+-----+----------+-------------------+--------+------------------+-------------+------------+------------+----------------+\n",
            "|idade|      data|             estado| salario|    nivel_educacao|numero_filhos|estado_civil|area_atuacao|anos_experiencia|\n",
            "+-----+----------+-------------------+--------+------------------+-------------+------------+------------+----------------+\n",
            "|   49|1975-01-31|Rio Grande do Norte| 3124.72|      Ensino Médio|            3|      Casado|   Indústria|               3|\n",
            "|   54|1969-08-26|       Minas Gerais|  7534.6|      Ensino Médio|            0|      Casado|  Tecnologia|              18|\n",
            "|   61|1963-03-19|              Amapá| 4067.73|Ensino Fundamental|            1|    Solteiro|    Comércio|              16|\n",
            "|   30|1993-12-09|            Alagoas| 6809.94|      Ensino Médio|            1|      Casado|  Tecnologia|               9|\n",
            "|   54|1969-06-24|               Pará| 9025.74|      Ensino Médio|            1|    Solteiro|   Indústria|              25|\n",
            "|   28|1996-03-25|          Tocantins| 9493.67|   Ensino Superior|            1|      Casado|    Comércio|               6|\n",
            "|   30|1993-06-20|          Tocantins|  4072.6|      Ensino Médio|            0|    Solteiro|    Educação|              11|\n",
            "|   24|2000-02-21|Rio Grande do Norte| 4039.96|Ensino Fundamental|            1|    Solteiro|   Indústria|               0|\n",
            "|   35|1988-08-02|           Amazonas| 3457.97|Ensino Fundamental|            1|       Viúvo|   Indústria|               3|\n",
            "|   29|1995-02-22|Rio Grande do Norte| 3913.59|      Ensino Médio|            1|      Casado|    Educação|               3|\n",
            "|   39|1984-12-08|  Rio Grande do Sul|11956.86|   Ensino Superior|            1|  Divorciado|       Saúde|              13|\n",
            "|   27|1996-11-08|          São Paulo| 4741.55|Ensino Fundamental|            2|      Casado|  Tecnologia|               5|\n",
            "|   28|1995-08-04|     Santa Catarina| 5750.38|      Ensino Médio|            1|      Casado|  Tecnologia|               1|\n",
            "|   22|2001-07-26|   Distrito Federal| 3302.26|      Ensino Médio|            1|    Solteiro|   Indústria|               2|\n",
            "|   31|1993-04-10|         Pernambuco| 6801.59|      Ensino Médio|            1|      Casado|       Saúde|               8|\n",
            "|   46|1977-07-14|   Distrito Federal| 3452.93|Ensino Fundamental|            1|  Divorciado|       Saúde|              24|\n",
            "|   62|1961-06-30|          São Paulo| 7316.91|   Ensino Superior|            2|    Solteiro|   Indústria|               8|\n",
            "|   23|2000-08-11|            Paraíba| 3076.23|      Ensino Médio|            0|      Casado|   Indústria|               5|\n",
            "|   25|1998-11-08|              Goiás|  3268.8|      Ensino Médio|            0|    Solteiro|    Educação|               6|\n",
            "|   49|1974-10-19|              Bahia|10181.14|   Ensino Superior|            1|      Casado|    Comércio|              23|\n",
            "+-----+----------+-------------------+--------+------------------+-------------+------------+------------+----------------+\n",
            "only showing top 20 rows\n",
            "\n"
          ]
        }
      ]
    },
    {
      "cell_type": "code",
      "source": [
        "spark.stop()"
      ],
      "metadata": {
        "id": "coFO5sJQvOBn"
      },
      "execution_count": 33,
      "outputs": []
    }
  ]
}