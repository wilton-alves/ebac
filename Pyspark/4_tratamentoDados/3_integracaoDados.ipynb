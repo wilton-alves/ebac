{
  "cells": [
    {
      "cell_type": "code",
      "execution_count": null,
      "metadata": {
        "colab": {
          "base_uri": "https://localhost:8080/"
        },
        "id": "1Y0h9tqn8hLN",
        "outputId": "d3599481-bc37-4926-c277-69cfcc3430f6"
      },
      "outputs": [
        {
          "name": "stdout",
          "output_type": "stream",
          "text": [
            "Requirement already satisfied: pyspark in /usr/local/lib/python3.11/dist-packages (3.5.4)\n",
            "Requirement already satisfied: py4j==0.10.9.7 in /usr/local/lib/python3.11/dist-packages (from pyspark) (0.10.9.7)\n"
          ]
        }
      ],
      "source": [
        "! pip install pyspark"
      ]
    },
    {
      "cell_type": "code",
      "execution_count": 3,
      "metadata": {
        "id": "y-uik8e1895w"
      },
      "outputs": [],
      "source": [
        "import pyspark\n",
        "from pyspark.sql import SparkSession\n",
        "from pyspark.sql.functions import col, concat, lit"
      ]
    },
    {
      "cell_type": "code",
      "execution_count": 4,
      "metadata": {
        "id": "UUoBx95W9QTl"
      },
      "outputs": [],
      "source": [
        "spark = SparkSession.builder.getOrCreate()"
      ]
    },
    {
      "cell_type": "code",
      "execution_count": null,
      "metadata": {
        "id": "ZydxOvRQ9YfR"
      },
      "outputs": [],
      "source": [
        "# conexão com o drive realizada pela interface gráfica"
      ]
    },
    {
      "cell_type": "code",
      "execution_count": 5,
      "metadata": {
        "id": "ninG8oqW9id9"
      },
      "outputs": [],
      "source": [
        "produtos = spark.read.csv('drive/MyDrive/Colab Notebooks/colab_ebac/spark_data/produtos.csv', inferSchema=True, header=True)\n",
        "clientes = spark.read.csv('drive/MyDrive/Colab Notebooks/colab_ebac/spark_data/clientes.csv', inferSchema=True, header=True)\n",
        "itens_pedido = spark.read.csv('drive/MyDrive/Colab Notebooks/colab_ebac/spark_data/itens_pedido.csv', inferSchema=True, header=True)\n",
        "pedidos = spark.read.csv('drive/MyDrive/Colab Notebooks/colab_ebac/spark_data/pedidos.csv', inferSchema=True, header=True)"
      ]
    },
    {
      "cell_type": "code",
      "execution_count": 11,
      "metadata": {
        "colab": {
          "base_uri": "https://localhost:8080/"
        },
        "id": "jiGIVK0r-51k",
        "outputId": "70feda8e-cf2e-4d9a-c209-386ee17b709e"
      },
      "outputs": [
        {
          "name": "stdout",
          "output_type": "stream",
          "text": [
            "+--------------------+--------------------+-----------+--------------------+--------------+\n",
            "|          id_cliente|    id_unico_cliente|cep_cliente|      cidade_cliente|estado_cliente|\n",
            "+--------------------+--------------------+-----------+--------------------+--------------+\n",
            "|06b8999e2fba1a1fb...|861eff4711a542e4b...|      14409|              franca|            SP|\n",
            "|18955e83d337fd6b2...|290c77bc529b7ac93...|       9790|sao bernardo do c...|            SP|\n",
            "|4e7b3e00288586ebd...|060e732b5b29e8181...|       1151|           sao paulo|            SP|\n",
            "|b2b6027bc5c5109e5...|259dac757896d24d7...|       8775|     mogi das cruzes|            SP|\n",
            "|4f2d8ab171c80ec83...|345ecd01c38d18a90...|      13056|            campinas|            SP|\n",
            "+--------------------+--------------------+-----------+--------------------+--------------+\n",
            "only showing top 5 rows\n",
            "\n",
            "+--------------------+--------------------+-------------+-------------------+---------------------+-------------------------+--------------------+---------------------+\n",
            "|           id_pedido|          id_cliente|status_pedido| data_compra_pedido|data_aprovacao_pedido|data_envio_transportadora|data_entrega_cliente|data_estimada_entrega|\n",
            "+--------------------+--------------------+-------------+-------------------+---------------------+-------------------------+--------------------+---------------------+\n",
            "|e481f51cbdc54678b...|9ef432eb625129730...|    delivered|2017-10-02 10:56:33|  2017-10-02 11:07:15|      2017-10-04 19:55:00| 2017-10-10 21:25:13|  2017-10-18 00:00:00|\n",
            "|53cdb2fc8bc7dce0b...|b0830fb4747a6c6d2...|    delivered|2018-07-24 20:41:37|  2018-07-26 03:24:27|      2018-07-26 14:31:00| 2018-08-07 15:27:45|  2018-08-13 00:00:00|\n",
            "|47770eb9100c2d0c4...|41ce2a54c0b03bf34...|    delivered|2018-08-08 08:38:49|  2018-08-08 08:55:23|      2018-08-08 13:50:00| 2018-08-17 18:06:29|  2018-09-04 00:00:00|\n",
            "|949d5b44dbf5de918...|f88197465ea7920ad...|    delivered|2017-11-18 19:28:06|  2017-11-18 19:45:59|      2017-11-22 13:39:59| 2017-12-02 00:28:42|  2017-12-15 00:00:00|\n",
            "|ad21c59c0840e6cb8...|8ab97904e6daea886...|    delivered|2018-02-13 21:18:39|  2018-02-13 22:20:29|      2018-02-14 19:46:34| 2018-02-16 18:17:02|  2018-02-26 00:00:00|\n",
            "+--------------------+--------------------+-------------+-------------------+---------------------+-------------------------+--------------------+---------------------+\n",
            "only showing top 5 rows\n",
            "\n",
            "+--------------------+--------------------+-------------+-------------------+---------------------+-------------------------+--------------------+---------------------+--------------------+-----------+--------------------+--------------+\n",
            "|          id_cliente|           id_pedido|status_pedido| data_compra_pedido|data_aprovacao_pedido|data_envio_transportadora|data_entrega_cliente|data_estimada_entrega|    id_unico_cliente|cep_cliente|      cidade_cliente|estado_cliente|\n",
            "+--------------------+--------------------+-------------+-------------------+---------------------+-------------------------+--------------------+---------------------+--------------------+-----------+--------------------+--------------+\n",
            "|9ef432eb625129730...|e481f51cbdc54678b...|    delivered|2017-10-02 10:56:33|  2017-10-02 11:07:15|      2017-10-04 19:55:00| 2017-10-10 21:25:13|  2017-10-18 00:00:00|7c396fd4830fd0422...|       3149|           sao paulo|            SP|\n",
            "|b0830fb4747a6c6d2...|53cdb2fc8bc7dce0b...|    delivered|2018-07-24 20:41:37|  2018-07-26 03:24:27|      2018-07-26 14:31:00| 2018-08-07 15:27:45|  2018-08-13 00:00:00|af07308b275d755c9...|      47813|           barreiras|            BA|\n",
            "|41ce2a54c0b03bf34...|47770eb9100c2d0c4...|    delivered|2018-08-08 08:38:49|  2018-08-08 08:55:23|      2018-08-08 13:50:00| 2018-08-17 18:06:29|  2018-09-04 00:00:00|3a653a41f6f9fc3d2...|      75265|          vianopolis|            GO|\n",
            "|f88197465ea7920ad...|949d5b44dbf5de918...|    delivered|2017-11-18 19:28:06|  2017-11-18 19:45:59|      2017-11-22 13:39:59| 2017-12-02 00:28:42|  2017-12-15 00:00:00|7c142cf63193a1473...|      59296|sao goncalo do am...|            RN|\n",
            "|8ab97904e6daea886...|ad21c59c0840e6cb8...|    delivered|2018-02-13 21:18:39|  2018-02-13 22:20:29|      2018-02-14 19:46:34| 2018-02-16 18:17:02|  2018-02-26 00:00:00|72632f0f9dd73dfee...|       9195|         santo andre|            SP|\n",
            "+--------------------+--------------------+-------------+-------------------+---------------------+-------------------------+--------------------+---------------------+--------------------+-----------+--------------------+--------------+\n",
            "only showing top 5 rows\n",
            "\n"
          ]
        }
      ],
      "source": [
        "join_pedidos_clientes_df = pedidos.join(clientes, pedidos.id_cliente == clientes.id_cliente, 'inner')  # Se o nome da coluna for diferente entre as tabelas\n",
        "join_pedidos_clientes_df = pedidos.join(clientes, 'id_cliente')  # Se o nome da coluna for igual nas duas tabelas\n",
        "\n",
        "clientes.show(5)\n",
        "pedidos.show(5)\n",
        "join_pedidos_clientes_df.show(5)"
      ]
    },
    {
      "cell_type": "code",
      "execution_count": 12,
      "metadata": {
        "colab": {
          "base_uri": "https://localhost:8080/"
        },
        "id": "EPfgxJS7DLHy",
        "outputId": "c318ff32-b092-4778-b81e-3aba878b0c2d"
      },
      "outputs": [
        {
          "name": "stdout",
          "output_type": "stream",
          "text": [
            "+--------------------+--------------------+--------------+--------------------+-------------------+-----+-----------+--------------------+-------------+-------------------+---------------------+-------------------------+--------------------+---------------------+------------------+--------------------+-------------------------+------------------------+--------------+----------------------+-----------------+------------------+\n",
            "|          id_produto|           id_pedido|item_id_pedido|         id_vendedor|  data_limite_envio|preco|valor_frete|          id_cliente|status_pedido| data_compra_pedido|data_aprovacao_pedido|data_envio_transportadora|data_entrega_cliente|data_estimada_entrega| categoria_produto|tamanho_nome_produto|tamanho_descricao_produto|quantidade_fotos_produto|peso_produto_g|comprimento_produto_cm|altura_produto_cm|largura_produto_cm|\n",
            "+--------------------+--------------------+--------------+--------------------+-------------------+-----+-----------+--------------------+-------------+-------------------+---------------------+-------------------------+--------------------+---------------------+------------------+--------------------+-------------------------+------------------------+--------------+----------------------+-----------------+------------------+\n",
            "|e5f2d52b802189ee6...|00018f77f2f0320c5...|             1|dd7ddc04e1b6c2c61...|2017-05-03 11:05:13|239.9|      19.93|f6dd3ec061db4e398...|    delivered|2017-04-26 10:53:06|  2017-04-26 11:05:13|      2017-05-04 14:35:00| 2017-05-12 16:04:24|  2017-05-15 00:00:00|          pet_shop|                  56|                      239|                       2|         30000|                    50|               30|                40|\n",
            "|c777355d18b72b67a...|000229ec398224ef6...|             1|5b51032eddd242adc...|2018-01-18 14:48:30|199.0|      17.87|6489ae5e4333f3693...|    delivered|2018-01-14 14:33:31|  2018-01-14 14:48:30|      2018-01-16 12:36:48| 2018-01-22 13:19:16|  2018-02-05 00:00:00|  moveis_decoracao|                  59|                      695|                       2|          3050|                    33|               13|                33|\n",
            "|7634da152a4610f15...|00024acbcdf0a6daa...|             1|9d7a1d34a50524090...|2018-08-15 10:10:18|12.99|      12.79|d4eb9395c8c0431ee...|    delivered|2018-08-08 10:00:35|  2018-08-08 10:10:18|      2018-08-10 13:28:00| 2018-08-14 13:32:39|  2018-08-20 00:00:00|        perfumaria|                  42|                      480|                       1|           200|                    16|               10|                15|\n",
            "|ac6c3623068f30de0...|00042b26cf59d7ce6...|             1|df560393f3a51e745...|2017-02-13 13:57:51|199.9|      18.14|58dbd0b2d70206bf4...|    delivered|2017-02-04 13:57:51|  2017-02-04 14:10:13|      2017-02-16 09:46:09| 2017-03-01 16:42:31|  2017-03-17 00:00:00|ferramentas_jardim|                  59|                      409|                       1|          3750|                    35|               40|                30|\n",
            "|8d4f2bb7e93e6710a...|00054e8431b9d7675...|             1|7040e82f899a04d1b...|2017-12-14 12:10:31| 19.9|      11.85|32e2e6ab09e778d99...|    delivered|2017-12-10 11:53:48|  2017-12-10 12:10:31|      2017-12-12 01:07:48| 2017-12-18 22:03:38|  2018-01-04 00:00:00|         telefonia|                  52|                      815|                       1|           200|                    27|                5|                20|\n",
            "+--------------------+--------------------+--------------+--------------------+-------------------+-----+-----------+--------------------+-------------+-------------------+---------------------+-------------------------+--------------------+---------------------+------------------+--------------------+-------------------------+------------------------+--------------+----------------------+-----------------+------------------+\n",
            "only showing top 5 rows\n",
            "\n"
          ]
        }
      ],
      "source": [
        "# Join com três tabelas\n",
        "join_itens_pedido_df = itens_pedido.join(pedidos, 'id_pedido').join(produtos, 'id_produto')\n",
        "join_itens_pedido_df.show(5)"
      ]
    },
    {
      "cell_type": "code",
      "execution_count": 14,
      "metadata": {
        "colab": {
          "base_uri": "https://localhost:8080/"
        },
        "id": "BS9YMmxbD3g4",
        "outputId": "2f2ee5c2-8ced-45cf-bffd-240dcf4346a3"
      },
      "outputs": [
        {
          "name": "stdout",
          "output_type": "stream",
          "text": [
            "+--------------------+--------------------+-------------+-------------------+---------------------+-------------------------+--------------------+---------------------+--------------------+-----------+--------------+--------------+\n",
            "|          id_cliente|           id_pedido|status_pedido| data_compra_pedido|data_aprovacao_pedido|data_envio_transportadora|data_entrega_cliente|data_estimada_entrega|    id_unico_cliente|cep_cliente|cidade_cliente|estado_cliente|\n",
            "+--------------------+--------------------+-------------+-------------------+---------------------+-------------------------+--------------------+---------------------+--------------------+-----------+--------------+--------------+\n",
            "|6d6b50b66d79f8082...|1b9ecfe83cdc25925...|     canceled|2018-08-04 14:29:27|  2018-08-07 04:10:26|                     NULL|                NULL|  2018-08-14 00:00:00|8ea097b1824dbd4d1...|       5514|     sao paulo|            SP|\n",
            "|e3fe72696c4713d64...|714fb133a6730ab81...|     canceled|2018-01-26 21:34:08|  2018-01-26 21:58:39|      2018-01-29 22:33:25|                NULL|  2018-02-22 00:00:00|c4ebedb09beb89cc0...|       9961|       diadema|            SP|\n",
            "|0913cdce793684e52...|3a129877493c8189c...|     canceled|2018-01-25 13:34:24|  2018-01-25 13:50:20|      2018-01-26 21:42:18|                NULL|  2018-02-23 00:00:00|11c3d6c93dea6ce86...|      87013|       maringa|            PR|\n",
            "|3532ba38a3fd24225...|00b1cb0320190ca0d...|     canceled|2018-08-28 15:26:39|                 NULL|                     NULL|                NULL|  2018-09-12 00:00:00|4fa4365000c7090fc...|       1151|     sao paulo|            SP|\n",
            "|191984a8ba4cbb214...|ed3efbd3a87bea76c...|     canceled|2018-09-20 13:54:16|                 NULL|                     NULL|                NULL|  2018-10-17 00:00:00|08642cd329066fe11...|      33030|   santa luzia|            MG|\n",
            "+--------------------+--------------------+-------------+-------------------+---------------------+-------------------------+--------------------+---------------------+--------------------+-----------+--------------+--------------+\n",
            "only showing top 5 rows\n",
            "\n"
          ]
        }
      ],
      "source": [
        "# retonar uma tabela com todos os pedidos cancelados e clientes\n",
        "# poderíamos utilizar o SELECT mas também podemos utilizar o .filter\n",
        "join_pedidos_cancelados_df = pedidos.filter(col('status_pedido') == 'canceled').join(clientes, 'id_cliente')\n",
        "join_pedidos_cancelados_df.show(5)"
      ]
    },
    {
      "cell_type": "code",
      "execution_count": 17,
      "metadata": {
        "colab": {
          "base_uri": "https://localhost:8080/"
        },
        "id": "Ovvw9nuTEKjo",
        "outputId": "5dc1d7ae-eb98-4ca6-f2be-c94e1a220bc5"
      },
      "outputs": [
        {
          "name": "stdout",
          "output_type": "stream",
          "text": [
            "['id_pedido', 'id_cliente', 'status_pedido', 'data_compra_pedido', 'data_aprovacao_pedido', 'data_envio_transportadora', 'data_entrega_cliente', 'data_estimada_entrega', 'id_pedido_cliente']\n",
            "['id_pedido_cliente', 'id_pedido', 'id_cliente', 'status_pedido', 'data_compra_pedido', 'data_aprovacao_pedido', 'data_envio_transportadora', 'data_entrega_cliente', 'data_estimada_entrega']\n",
            "+--------------------+--------------------+--------------------+-------------+-------------------+---------------------+-------------------------+--------------------+---------------------+\n",
            "|   id_pedido_cliente|           id_pedido|          id_cliente|status_pedido| data_compra_pedido|data_aprovacao_pedido|data_envio_transportadora|data_entrega_cliente|data_estimada_entrega|\n",
            "+--------------------+--------------------+--------------------+-------------+-------------------+---------------------+-------------------------+--------------------+---------------------+\n",
            "|e481f51cbdc54678b...|e481f51cbdc54678b...|9ef432eb625129730...|    delivered|2017-10-02 10:56:33|  2017-10-02 11:07:15|      2017-10-04 19:55:00| 2017-10-10 21:25:13|  2017-10-18 00:00:00|\n",
            "|53cdb2fc8bc7dce0b...|53cdb2fc8bc7dce0b...|b0830fb4747a6c6d2...|    delivered|2018-07-24 20:41:37|  2018-07-26 03:24:27|      2018-07-26 14:31:00| 2018-08-07 15:27:45|  2018-08-13 00:00:00|\n",
            "|47770eb9100c2d0c4...|47770eb9100c2d0c4...|41ce2a54c0b03bf34...|    delivered|2018-08-08 08:38:49|  2018-08-08 08:55:23|      2018-08-08 13:50:00| 2018-08-17 18:06:29|  2018-09-04 00:00:00|\n",
            "|949d5b44dbf5de918...|949d5b44dbf5de918...|f88197465ea7920ad...|    delivered|2017-11-18 19:28:06|  2017-11-18 19:45:59|      2017-11-22 13:39:59| 2017-12-02 00:28:42|  2017-12-15 00:00:00|\n",
            "|ad21c59c0840e6cb8...|ad21c59c0840e6cb8...|8ab97904e6daea886...|    delivered|2018-02-13 21:18:39|  2018-02-13 22:20:29|      2018-02-14 19:46:34| 2018-02-16 18:17:02|  2018-02-26 00:00:00|\n",
            "+--------------------+--------------------+--------------------+-------------+-------------------+---------------------+-------------------------+--------------------+---------------------+\n",
            "only showing top 5 rows\n",
            "\n"
          ]
        }
      ],
      "source": [
        "# Criando um novo identificador com o concat\n",
        "pedidos_concat_df = pedidos.withColumn('id_pedido_cliente', concat(col('id_pedido'), lit('-'), col('id_cliente')))\n",
        "\n",
        "# A nova coluna será adicionada na última posição, então vamos trazê-la para a primeira posição\n",
        "print(pedidos_concat_df.columns)\n",
        "\n",
        "# Criando a lista das colunas na ordem desejada\n",
        "colunas = pedidos_concat_df.columns\n",
        "colunas.remove('id_pedido_cliente')\n",
        "colunas.insert(0, 'id_pedido_cliente')\n",
        "print(colunas)\n",
        "\n",
        "# Reorganizando a ordem das colunas do DataFrame\n",
        "pedidos_reorganizar_df = pedidos_concat_df.select(colunas)\n",
        "pedidos_reorganizar_df.show(5)"
      ]
    },
    {
      "cell_type": "code",
      "execution_count": 18,
      "metadata": {
        "id": "6xW5La5LG0zF"
      },
      "outputs": [],
      "source": [
        "join_itens_pedido_df.write.mode('overwrite').option('header', 'true').parquet('/drive/MyDrive/Colab Notebooks/colab_ebac/spark_data/output/join_itens_pedido_parquet')"
      ]
    },
    {
      "cell_type": "code",
      "execution_count": 19,
      "metadata": {
        "colab": {
          "base_uri": "https://localhost:8080/"
        },
        "id": "khgN1_oRHOhE",
        "outputId": "652fdd65-1aee-42a4-e6a7-48e7da61e10b"
      },
      "outputs": [
        {
          "name": "stdout",
          "output_type": "stream",
          "text": [
            "+--------------------+--------------------+--------------+--------------------+-------------------+-----+-----------+--------------------+-------------+-------------------+---------------------+-------------------------+--------------------+---------------------+--------------------+--------------------+-------------------------+------------------------+--------------+----------------------+-----------------+------------------+\n",
            "|          id_produto|           id_pedido|item_id_pedido|         id_vendedor|  data_limite_envio|preco|valor_frete|          id_cliente|status_pedido| data_compra_pedido|data_aprovacao_pedido|data_envio_transportadora|data_entrega_cliente|data_estimada_entrega|   categoria_produto|tamanho_nome_produto|tamanho_descricao_produto|quantidade_fotos_produto|peso_produto_g|comprimento_produto_cm|altura_produto_cm|largura_produto_cm|\n",
            "+--------------------+--------------------+--------------+--------------------+-------------------+-----+-----------+--------------------+-------------+-------------------+---------------------+-------------------------+--------------------+---------------------+--------------------+--------------------+-------------------------+------------------------+--------------+----------------------+-----------------+------------------+\n",
            "|4244733e06e7ecb49...|00010242fe8c5a6d1...|             1|48436dade18ac8b2b...|2017-09-19 09:45:35| 58.9|      13.29|3ce436f183e68e078...|    delivered|2017-09-13 08:59:02|  2017-09-13 09:45:35|      2017-09-19 18:34:16| 2017-09-20 23:43:48|  2017-09-29 00:00:00|          cool_stuff|                  58|                      598|                       4|           650|                    28|                9|                14|\n",
            "|ef92defde845ab845...|00048cc3ae777c65d...|             1|6426d21aca402a131...|2017-05-23 03:55:27| 21.9|      12.69|816cbea969fe5b689...|    delivered|2017-05-15 21:42:34|  2017-05-17 03:55:27|      2017-05-17 11:05:55| 2017-05-22 13:44:35|  2017-06-06 00:00:00|utilidades_domest...|                  36|                      558|                       1|           450|                    24|                8|                15|\n",
            "|557d850972a7d6f79...|000576fe39319847c...|             1|5996cddab893a4652...|2018-07-10 12:30:45|810.0|      70.75|9ed5e522dd9dd85b4...|    delivered|2018-07-04 12:08:27|  2018-07-05 16:35:48|      2018-07-05 12:15:00| 2018-07-09 14:04:07|  2018-07-25 00:00:00|  ferramentas_jardim|                  39|                     1310|                       3|         13805|                    35|               75|                45|\n",
            "|d63c1011f49d98b97...|00061f2a7bc09da83...|             1|cc419e0650a3c5ba7...|2018-03-29 22:28:09|59.99|       8.88|c6fc061d86fab1e2b...|    delivered|2018-03-24 22:16:10|  2018-03-24 22:28:09|      2018-03-27 05:26:55| 2018-03-29 00:04:19|  2018-04-09 00:00:00|        beleza_saude|                  57|                      614|                       1|           950|                    35|               25|                20|\n",
            "|3f27ac8e699df3d30...|0009c9a17f916a706...|             1|fcb5ace8bcc92f757...|2018-05-02 09:31:53|639.0|      11.34|8a250edc40ebc5c39...|    delivered|2018-04-25 09:10:41|  2018-04-25 09:33:19|      2018-04-27 15:14:00| 2018-04-30 17:54:25|  2018-05-09 00:00:00|      consoles_games|                  37|                     1172|                       2|           200|                    16|                5|                12|\n",
            "+--------------------+--------------------+--------------+--------------------+-------------------+-----+-----------+--------------------+-------------+-------------------+---------------------+-------------------------+--------------------+---------------------+--------------------+--------------------+-------------------------+------------------------+--------------+----------------------+-----------------+------------------+\n",
            "only showing top 5 rows\n",
            "\n"
          ]
        }
      ],
      "source": [
        "spark.read.option('header', 'true').parquet('/drive/MyDrive/Colab Notebooks/colab_ebac/spark_data/output/join_itens_pedido_parquet').show(5)"
      ]
    },
    {
      "cell_type": "code",
      "execution_count": 20,
      "metadata": {
        "id": "XUPhOTbhHeg0"
      },
      "outputs": [],
      "source": [
        "spark.stop()"
      ]
    }
  ],
  "metadata": {
    "colab": {
      "provenance": []
    },
    "kernelspec": {
      "display_name": "Python 3",
      "name": "python3"
    },
    "language_info": {
      "name": "python"
    }
  },
  "nbformat": 4,
  "nbformat_minor": 0
}
