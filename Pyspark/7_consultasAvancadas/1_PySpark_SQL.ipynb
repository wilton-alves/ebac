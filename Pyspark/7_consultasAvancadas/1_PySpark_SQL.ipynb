{
  "nbformat": 4,
  "nbformat_minor": 0,
  "metadata": {
    "colab": {
      "provenance": []
    },
    "kernelspec": {
      "name": "python3",
      "display_name": "Python 3"
    },
    "language_info": {
      "name": "python"
    }
  },
  "cells": [
    {
      "cell_type": "code",
      "execution_count": 1,
      "metadata": {
        "colab": {
          "base_uri": "https://localhost:8080/"
        },
        "id": "mmbn6y-qXN35",
        "outputId": "e1b02573-d04c-4931-a9d0-06c1801a1c77"
      },
      "outputs": [
        {
          "output_type": "stream",
          "name": "stdout",
          "text": [
            "Requirement already satisfied: pyspark in /usr/local/lib/python3.11/dist-packages (3.5.1)\n",
            "Requirement already satisfied: py4j==0.10.9.7 in /usr/local/lib/python3.11/dist-packages (from pyspark) (0.10.9.7)\n"
          ]
        }
      ],
      "source": [
        "!pip install pyspark"
      ]
    },
    {
      "cell_type": "code",
      "source": [
        "import pyspark\n",
        "from pyspark.sql import SparkSession\n",
        "from pyspark.sql.functions import *"
      ],
      "metadata": {
        "id": "9iqdDqm3X1fe"
      },
      "execution_count": 2,
      "outputs": []
    },
    {
      "cell_type": "code",
      "source": [
        "spark = SparkSession.builder.getOrCreate()"
      ],
      "metadata": {
        "id": "jH_CiJagYN1l"
      },
      "execution_count": 4,
      "outputs": []
    },
    {
      "cell_type": "code",
      "source": [
        "produtos = spark.read.csv('drive/MyDrive/Colab Notebooks/colab_ebac/spark_data/produtos.csv', header=True, inferSchema=True)\n",
        "vendedores = spark.read.csv('drive/MyDrive/Colab Notebooks/colab_ebac/spark_data/vendedores.csv', header=True, inferSchema=True)\n",
        "clientes = spark.read.csv('drive/MyDrive/Colab Notebooks/colab_ebac/spark_data/clientes.csv', header=True, inferSchema=True)\n",
        "itens_pedido = spark.read.csv('drive/MyDrive/Colab Notebooks/colab_ebac/spark_data/itens_pedido.csv', header=True, inferSchema=True)\n",
        "pagamentos_pedido = spark.read.csv('drive/MyDrive/Colab Notebooks/colab_ebac/spark_data/pagamentos_pedido.csv', header=True, inferSchema=True)\n",
        "avaliacoes_pedido = spark.read.csv('drive/MyDrive/Colab Notebooks/colab_ebac/spark_data/avaliacoes_pedido.csv', header=True, inferSchema=True)\n",
        "pedidos = spark.read.csv('drive/MyDrive/Colab Notebooks/colab_ebac/spark_data/pedidos.csv', header=True, inferSchema=True)"
      ],
      "metadata": {
        "id": "Ew4EQt03YCY8"
      },
      "execution_count": 5,
      "outputs": []
    },
    {
      "cell_type": "code",
      "source": [
        "# Obtendo uma visão geral das tabelas\n",
        "produtos.show(2)\n",
        "vendedores.show(2)\n",
        "clientes.show(2)\n",
        "itens_pedido.show(2)\n",
        "pagamentos_pedido.show(2)\n",
        "avaliacoes_pedido.show(2)\n",
        "pedidos.show(2)"
      ],
      "metadata": {
        "colab": {
          "base_uri": "https://localhost:8080/"
        },
        "id": "gjr40rNeYaU1",
        "outputId": "802d9210-4b5a-48e5-d217-447cd66f9940"
      },
      "execution_count": 6,
      "outputs": [
        {
          "output_type": "stream",
          "name": "stdout",
          "text": [
            "+--------------------+-----------------+--------------------+-------------------------+------------------------+--------------+----------------------+-----------------+------------------+\n",
            "|          id_produto|categoria_produto|tamanho_nome_produto|tamanho_descricao_produto|quantidade_fotos_produto|peso_produto_g|comprimento_produto_cm|altura_produto_cm|largura_produto_cm|\n",
            "+--------------------+-----------------+--------------------+-------------------------+------------------------+--------------+----------------------+-----------------+------------------+\n",
            "|1e9e8ef04dbcff454...|       perfumaria|                  40|                      287|                       1|           225|                    16|               10|                14|\n",
            "|3aa071139cb16b67c...|            artes|                  44|                      276|                       1|          1000|                    30|               18|                20|\n",
            "+--------------------+-----------------+--------------------+-------------------------+------------------------+--------------+----------------------+-----------------+------------------+\n",
            "only showing top 2 rows\n",
            "\n",
            "+--------------------+------------+---------------+---------------+\n",
            "|         id_vendedor|cep_vendedor|cidade_vendedor|estado_vendedor|\n",
            "+--------------------+------------+---------------+---------------+\n",
            "|3442f8959a84dea7e...|       13023|       campinas|             SP|\n",
            "|d1b65fc7debc3361e...|       13844|     mogi guacu|             SP|\n",
            "+--------------------+------------+---------------+---------------+\n",
            "only showing top 2 rows\n",
            "\n",
            "+--------------------+--------------------+-----------+--------------------+--------------+\n",
            "|          id_cliente|    id_unico_cliente|cep_cliente|      cidade_cliente|estado_cliente|\n",
            "+--------------------+--------------------+-----------+--------------------+--------------+\n",
            "|06b8999e2fba1a1fb...|861eff4711a542e4b...|      14409|              franca|            SP|\n",
            "|18955e83d337fd6b2...|290c77bc529b7ac93...|       9790|sao bernardo do c...|            SP|\n",
            "+--------------------+--------------------+-----------+--------------------+--------------+\n",
            "only showing top 2 rows\n",
            "\n",
            "+--------------------+--------------+--------------------+--------------------+-------------------+-----+-----------+\n",
            "|           id_pedido|item_id_pedido|          id_produto|         id_vendedor|  data_limite_envio|preco|valor_frete|\n",
            "+--------------------+--------------+--------------------+--------------------+-------------------+-----+-----------+\n",
            "|00010242fe8c5a6d1...|             1|4244733e06e7ecb49...|48436dade18ac8b2b...|2017-09-19 09:45:35| 58.9|      13.29|\n",
            "|00018f77f2f0320c5...|             1|e5f2d52b802189ee6...|dd7ddc04e1b6c2c61...|2017-05-03 11:05:13|239.9|      19.93|\n",
            "+--------------------+--------------+--------------------+--------------------+-------------------+-----+-----------+\n",
            "only showing top 2 rows\n",
            "\n",
            "+--------------------+-------------------+--------------+------------------+---------------+\n",
            "|           id_pedido|sequencia_pagamento|tipo_pagamento|parcelas_pagamento|valor_pagamento|\n",
            "+--------------------+-------------------+--------------+------------------+---------------+\n",
            "|b81ef226f3fe1789b...|                  1|   credit_card|                 8|          99.33|\n",
            "|a9810da82917af2d9...|                  1|   credit_card|                 1|          24.39|\n",
            "+--------------------+-------------------+--------------+------------------+---------------+\n",
            "only showing top 2 rows\n",
            "\n",
            "+--------------------+--------------------+--------------+-----------------+-------------------+----------------------+-----------------------+\n",
            "|        id_avaliacao|           id_pedido|nota_avaliacao|titulo_comentario|mensagem_comentario|data_criacao_avaliacao|data_resposta_avaliacao|\n",
            "+--------------------+--------------------+--------------+-----------------+-------------------+----------------------+-----------------------+\n",
            "|7bc2406110b926393...|73fc7af87114b3971...|             4|             NULL|               NULL|   2018-01-18 00:00:00|    2018-01-18 21:46:59|\n",
            "|80e641a11e56f04c1...|a548910a1c6147796...|             5|             NULL|               NULL|   2018-03-10 00:00:00|    2018-03-11 03:05:13|\n",
            "+--------------------+--------------------+--------------+-----------------+-------------------+----------------------+-----------------------+\n",
            "only showing top 2 rows\n",
            "\n",
            "+--------------------+--------------------+-------------+-------------------+---------------------+-------------------------+--------------------+---------------------+\n",
            "|           id_pedido|          id_cliente|status_pedido| data_compra_pedido|data_aprovacao_pedido|data_envio_transportadora|data_entrega_cliente|data_estimada_entrega|\n",
            "+--------------------+--------------------+-------------+-------------------+---------------------+-------------------------+--------------------+---------------------+\n",
            "|e481f51cbdc54678b...|9ef432eb625129730...|    delivered|2017-10-02 10:56:33|  2017-10-02 11:07:15|      2017-10-04 19:55:00| 2017-10-10 21:25:13|  2017-10-18 00:00:00|\n",
            "|53cdb2fc8bc7dce0b...|b0830fb4747a6c6d2...|    delivered|2018-07-24 20:41:37|  2018-07-26 03:24:27|      2018-07-26 14:31:00| 2018-08-07 15:27:45|  2018-08-13 00:00:00|\n",
            "+--------------------+--------------------+-------------+-------------------+---------------------+-------------------------+--------------------+---------------------+\n",
            "only showing top 2 rows\n",
            "\n"
          ]
        }
      ]
    },
    {
      "cell_type": "code",
      "source": [
        "# Criando tabelas temporárias para as manipulações sem alterar as tabelas originais\n",
        "produtos.createOrReplaceTempView('produtos_temp')\n",
        "vendedores.createOrReplaceTempView('vendedores_temp')\n",
        "clientes.createOrReplaceTempView('clientes_temp')\n",
        "itens_pedido.createOrReplaceTempView('itens_pedido_temp')\n",
        "pagamentos_pedido.createOrReplaceTempView('pagamentos_pedido_temp')\n",
        "avaliacoes_pedido.createOrReplaceTempView('avaliacoes_pedido_temp')\n",
        "pedidos.createOrReplaceTempView('pedidos_temp')"
      ],
      "metadata": {
        "id": "UhkF108fYsVc"
      },
      "execution_count": 7,
      "outputs": []
    },
    {
      "cell_type": "code",
      "source": [
        "spark.catalog.listDatabases()"
      ],
      "metadata": {
        "colab": {
          "base_uri": "https://localhost:8080/"
        },
        "id": "-4lThra5Y7u8",
        "outputId": "9c9a438d-2eff-4c62-8362-17ae9061b019"
      },
      "execution_count": 10,
      "outputs": [
        {
          "output_type": "execute_result",
          "data": {
            "text/plain": [
              "[Database(name='default', catalog='spark_catalog', description='default database', locationUri='file:/content/spark-warehouse')]"
            ]
          },
          "metadata": {},
          "execution_count": 10
        }
      ]
    },
    {
      "cell_type": "code",
      "source": [
        "spark.catalog.listTables()"
      ],
      "metadata": {
        "colab": {
          "base_uri": "https://localhost:8080/"
        },
        "id": "AcS7x2XKZOV0",
        "outputId": "12c218ee-32ab-4154-8f79-e405830a8230"
      },
      "execution_count": 11,
      "outputs": [
        {
          "output_type": "execute_result",
          "data": {
            "text/plain": [
              "[Table(name='avaliacoes_pedido_temp', catalog=None, namespace=[], description=None, tableType='TEMPORARY', isTemporary=True),\n",
              " Table(name='clientes_temp', catalog=None, namespace=[], description=None, tableType='TEMPORARY', isTemporary=True),\n",
              " Table(name='itens_pedido_temp', catalog=None, namespace=[], description=None, tableType='TEMPORARY', isTemporary=True),\n",
              " Table(name='pagamentos_pedido_temp', catalog=None, namespace=[], description=None, tableType='TEMPORARY', isTemporary=True),\n",
              " Table(name='pedidos_temp', catalog=None, namespace=[], description=None, tableType='TEMPORARY', isTemporary=True),\n",
              " Table(name='produtos_temp', catalog=None, namespace=[], description=None, tableType='TEMPORARY', isTemporary=True),\n",
              " Table(name='vendedores_temp', catalog=None, namespace=[], description=None, tableType='TEMPORARY', isTemporary=True)]"
            ]
          },
          "metadata": {},
          "execution_count": 11
        }
      ]
    },
    {
      "cell_type": "code",
      "source": [
        "# Criando um DataFrame a partir de uma query sql\n",
        "\n",
        "itens_pedido_produto_df = spark.sql(\"\"\"\n",
        "    SELECT pr.id_produto, pr.categoria_produto, ip.valor_frete, ip.preco\n",
        "    FROM itens_pedido_temp ip\n",
        "    JOIN produtos_temp pr ON ip.id_produto = pr.id_produto\n",
        "\"\"\")\n",
        "\n",
        "itens_pedido_produto_df.printSchema()\n",
        "itens_pedido_produto_df.show(5)"
      ],
      "metadata": {
        "colab": {
          "base_uri": "https://localhost:8080/"
        },
        "id": "H7vVQK7KZRfz",
        "outputId": "b6ef9e53-f65f-4be5-e1ab-c945db68eceb"
      },
      "execution_count": 12,
      "outputs": [
        {
          "output_type": "stream",
          "name": "stdout",
          "text": [
            "root\n",
            " |-- id_produto: string (nullable = true)\n",
            " |-- categoria_produto: string (nullable = true)\n",
            " |-- valor_frete: double (nullable = true)\n",
            " |-- preco: double (nullable = true)\n",
            "\n",
            "+--------------------+------------------+-----------+-----+\n",
            "|          id_produto| categoria_produto|valor_frete|preco|\n",
            "+--------------------+------------------+-----------+-----+\n",
            "|4244733e06e7ecb49...|        cool_stuff|      13.29| 58.9|\n",
            "|e5f2d52b802189ee6...|          pet_shop|      19.93|239.9|\n",
            "|c777355d18b72b67a...|  moveis_decoracao|      17.87|199.0|\n",
            "|7634da152a4610f15...|        perfumaria|      12.79|12.99|\n",
            "|ac6c3623068f30de0...|ferramentas_jardim|      18.14|199.9|\n",
            "+--------------------+------------------+-----------+-----+\n",
            "only showing top 5 rows\n",
            "\n"
          ]
        }
      ]
    },
    {
      "cell_type": "code",
      "source": [
        "# Também é possível passar a query para o PySpark como uma variável:\n",
        "\n",
        "query = \"\"\"\n",
        "    SELECT ip.id_produto, AVG(ap.nota_avaliacao) AS media_avaliacao\n",
        "    FROM avaliacoes_pedido_temp ap\n",
        "    JOIN itens_pedido_temp ip ON ap.id_pedido = ip.id_pedido\n",
        "    GROUP BY ip.id_produto\n",
        "\"\"\"\n",
        "\n",
        "avaliacao_produto_df = spark.sql(query)\n",
        "avaliacao_produto_df.printSchema()\n",
        "avaliacao_produto_df.show(5)"
      ],
      "metadata": {
        "colab": {
          "base_uri": "https://localhost:8080/"
        },
        "id": "brYHpoP_a77y",
        "outputId": "5b91ddb2-771a-44eb-80a6-a19b89627f16"
      },
      "execution_count": 13,
      "outputs": [
        {
          "output_type": "stream",
          "name": "stdout",
          "text": [
            "root\n",
            " |-- id_produto: string (nullable = true)\n",
            " |-- media_avaliacao: double (nullable = true)\n",
            "\n",
            "+--------------------+------------------+\n",
            "|          id_produto|   media_avaliacao|\n",
            "+--------------------+------------------+\n",
            "|0b0172eb0fd18479d...|             3.875|\n",
            "|42a2bd596fda1baef...|               4.0|\n",
            "|460a66fcc404a3d73...|3.8333333333333335|\n",
            "|30360c8b0b2ac6918...| 4.666666666666667|\n",
            "|13b4ff901d43edec6...|               5.0|\n",
            "+--------------------+------------------+\n",
            "only showing top 5 rows\n",
            "\n"
          ]
        }
      ]
    },
    {
      "cell_type": "code",
      "source": [
        "# é possível realizar o Join normalmente entre os novos DataFrames\n",
        "\n",
        "detalhe_produto_df = avaliacao_produto_df.join(itens_pedido_produto_df, 'id_produto')\n",
        "detalhe_produto_df.show()\n",
        "\n",
        "# isso é partucularmente útil pois é possível 'dividir a complexidade' entre o PySpark e a linguagem SQL conforme for mais conveniente"
      ],
      "metadata": {
        "colab": {
          "base_uri": "https://localhost:8080/"
        },
        "id": "cy_ghSOpcATJ",
        "outputId": "e090b8ee-8a2f-41b2-e80b-b78b21da901c"
      },
      "execution_count": 14,
      "outputs": [
        {
          "output_type": "stream",
          "name": "stdout",
          "text": [
            "+--------------------+---------------+-----------------+-----------+-----+\n",
            "|          id_produto|media_avaliacao|categoria_produto|valor_frete|preco|\n",
            "+--------------------+---------------+-----------------+-----------+-----+\n",
            "|0b0172eb0fd18479d...|          3.875|      eletronicos|      17.63|24.89|\n",
            "|0b0172eb0fd18479d...|          3.875|      eletronicos|      15.79|24.89|\n",
            "|0b0172eb0fd18479d...|          3.875|      eletronicos|      22.67| 28.9|\n",
            "|0b0172eb0fd18479d...|          3.875|      eletronicos|      16.92| 28.9|\n",
            "|0b0172eb0fd18479d...|          3.875|      eletronicos|      26.89| 28.9|\n",
            "|0b0172eb0fd18479d...|          3.875|      eletronicos|       8.11|24.89|\n",
            "|0b0172eb0fd18479d...|          3.875|      eletronicos|      15.79|24.89|\n",
            "|0b0172eb0fd18479d...|          3.875|      eletronicos|      15.79|24.89|\n",
            "|0b0172eb0fd18479d...|          3.875|      eletronicos|      16.11| 28.9|\n",
            "|0b0172eb0fd18479d...|          3.875|      eletronicos|      12.48|24.89|\n",
            "|0b0172eb0fd18479d...|          3.875|      eletronicos|      17.07|19.89|\n",
            "|0b0172eb0fd18479d...|          3.875|      eletronicos|      17.07|19.89|\n",
            "|0b0172eb0fd18479d...|          3.875|      eletronicos|       14.1|24.89|\n",
            "|0b0172eb0fd18479d...|          3.875|      eletronicos|      17.63|24.89|\n",
            "|0b0172eb0fd18479d...|          3.875|      eletronicos|      17.63|24.89|\n",
            "|0b0172eb0fd18479d...|          3.875|      eletronicos|      17.63|24.89|\n",
            "|42a2bd596fda1baef...|            4.0|  cama_mesa_banho|      17.88| 89.9|\n",
            "|42a2bd596fda1baef...|            4.0|  cama_mesa_banho|      40.12| 89.9|\n",
            "|42a2bd596fda1baef...|            4.0|  cama_mesa_banho|      17.14| 89.9|\n",
            "|42a2bd596fda1baef...|            4.0|  cama_mesa_banho|      13.65| 89.9|\n",
            "+--------------------+---------------+-----------------+-----------+-----+\n",
            "only showing top 20 rows\n",
            "\n"
          ]
        }
      ]
    },
    {
      "cell_type": "code",
      "source": [
        "# Salvar em diferentes formatos\n",
        "\n",
        "# Salvar no Google Drive indicando o formato (ex. parquet)\n",
        "detalhe_produto_df.write.mode('overwrite').option('header', 'true').parquet('drive/MyDrive/Colab Notebooks/colab_ebac/spark_data/output/detalhe_produto_parquet')\n",
        "\n",
        "# Salvar como tabela localmente no warehouse do Spark (file:/content/spark-warehouse)\n",
        "detalhe_produto_df.write.mode('overwrite').option('header', 'true').saveAsTable('detalhe_produto')\n",
        "\n",
        "# Salvar como tabela no Google Drive (Cuidado com o Path!)\n",
        "# Igual o anterior, mas precisa passar o parâmetro Path no .option\n",
        "detalhe_produto_df.write.mode('overwrite').option('path', '../drive/MyDrive/Colab Notebooks/colab_ebac/spark_data/output/table_produto').saveAsTable('detalhe_produto_table')"
      ],
      "metadata": {
        "id": "6EDCM3kAdi1w"
      },
      "execution_count": 15,
      "outputs": []
    },
    {
      "cell_type": "code",
      "source": [
        "# lendo a tabela que foi salva no Warehouse\n",
        "query = 'SELECT * FROM detalhe_produto'\n",
        "teste_detalhe_produto = spark.sql(query)\n",
        "teste_detalhe_produto.show()"
      ],
      "metadata": {
        "colab": {
          "base_uri": "https://localhost:8080/"
        },
        "id": "0uKq-iKakAd5",
        "outputId": "216d2250-e362-4ba5-ab50-799940b2a137"
      },
      "execution_count": 16,
      "outputs": [
        {
          "output_type": "stream",
          "name": "stdout",
          "text": [
            "+--------------------+---------------+-----------------+-----------+-----+\n",
            "|          id_produto|media_avaliacao|categoria_produto|valor_frete|preco|\n",
            "+--------------------+---------------+-----------------+-----------+-----+\n",
            "|0b0172eb0fd18479d...|          3.875|      eletronicos|      17.63|24.89|\n",
            "|0b0172eb0fd18479d...|          3.875|      eletronicos|      15.79|24.89|\n",
            "|0b0172eb0fd18479d...|          3.875|      eletronicos|      22.67| 28.9|\n",
            "|0b0172eb0fd18479d...|          3.875|      eletronicos|      16.92| 28.9|\n",
            "|0b0172eb0fd18479d...|          3.875|      eletronicos|      26.89| 28.9|\n",
            "|0b0172eb0fd18479d...|          3.875|      eletronicos|       8.11|24.89|\n",
            "|0b0172eb0fd18479d...|          3.875|      eletronicos|      15.79|24.89|\n",
            "|0b0172eb0fd18479d...|          3.875|      eletronicos|      15.79|24.89|\n",
            "|0b0172eb0fd18479d...|          3.875|      eletronicos|      16.11| 28.9|\n",
            "|0b0172eb0fd18479d...|          3.875|      eletronicos|      12.48|24.89|\n",
            "|0b0172eb0fd18479d...|          3.875|      eletronicos|      17.07|19.89|\n",
            "|0b0172eb0fd18479d...|          3.875|      eletronicos|      17.07|19.89|\n",
            "|0b0172eb0fd18479d...|          3.875|      eletronicos|       14.1|24.89|\n",
            "|0b0172eb0fd18479d...|          3.875|      eletronicos|      17.63|24.89|\n",
            "|0b0172eb0fd18479d...|          3.875|      eletronicos|      17.63|24.89|\n",
            "|0b0172eb0fd18479d...|          3.875|      eletronicos|      17.63|24.89|\n",
            "|42a2bd596fda1baef...|            4.0|  cama_mesa_banho|      17.88| 89.9|\n",
            "|42a2bd596fda1baef...|            4.0|  cama_mesa_banho|      40.12| 89.9|\n",
            "|42a2bd596fda1baef...|            4.0|  cama_mesa_banho|      17.14| 89.9|\n",
            "|42a2bd596fda1baef...|            4.0|  cama_mesa_banho|      13.65| 89.9|\n",
            "+--------------------+---------------+-----------------+-----------+-----+\n",
            "only showing top 20 rows\n",
            "\n"
          ]
        }
      ]
    },
    {
      "cell_type": "code",
      "source": [
        "# Lendo a tabela que foi salva no Google Drive\n",
        "detalhe_produto_table_df = spark.read.option('path', '../drive/MyDrive/Colab Notebooks/colab_ebac/spark_data/output/table_produto').table('detalhe_produto_table')\n",
        "detalhe_produto_table_df.show()"
      ],
      "metadata": {
        "colab": {
          "base_uri": "https://localhost:8080/"
        },
        "id": "lBw1CR_HkNUf",
        "outputId": "1c088114-2b29-4025-99d2-ac14323bc234"
      },
      "execution_count": 17,
      "outputs": [
        {
          "output_type": "stream",
          "name": "stdout",
          "text": [
            "+--------------------+---------------+-----------------+-----------+-----+\n",
            "|          id_produto|media_avaliacao|categoria_produto|valor_frete|preco|\n",
            "+--------------------+---------------+-----------------+-----------+-----+\n",
            "|0b0172eb0fd18479d...|          3.875|      eletronicos|      17.63|24.89|\n",
            "|0b0172eb0fd18479d...|          3.875|      eletronicos|      15.79|24.89|\n",
            "|0b0172eb0fd18479d...|          3.875|      eletronicos|      22.67| 28.9|\n",
            "|0b0172eb0fd18479d...|          3.875|      eletronicos|      16.92| 28.9|\n",
            "|0b0172eb0fd18479d...|          3.875|      eletronicos|      26.89| 28.9|\n",
            "|0b0172eb0fd18479d...|          3.875|      eletronicos|       8.11|24.89|\n",
            "|0b0172eb0fd18479d...|          3.875|      eletronicos|      15.79|24.89|\n",
            "|0b0172eb0fd18479d...|          3.875|      eletronicos|      15.79|24.89|\n",
            "|0b0172eb0fd18479d...|          3.875|      eletronicos|      16.11| 28.9|\n",
            "|0b0172eb0fd18479d...|          3.875|      eletronicos|      12.48|24.89|\n",
            "|0b0172eb0fd18479d...|          3.875|      eletronicos|      17.07|19.89|\n",
            "|0b0172eb0fd18479d...|          3.875|      eletronicos|      17.07|19.89|\n",
            "|0b0172eb0fd18479d...|          3.875|      eletronicos|       14.1|24.89|\n",
            "|0b0172eb0fd18479d...|          3.875|      eletronicos|      17.63|24.89|\n",
            "|0b0172eb0fd18479d...|          3.875|      eletronicos|      17.63|24.89|\n",
            "|0b0172eb0fd18479d...|          3.875|      eletronicos|      17.63|24.89|\n",
            "|42a2bd596fda1baef...|            4.0|  cama_mesa_banho|      17.88| 89.9|\n",
            "|42a2bd596fda1baef...|            4.0|  cama_mesa_banho|      40.12| 89.9|\n",
            "|42a2bd596fda1baef...|            4.0|  cama_mesa_banho|      17.14| 89.9|\n",
            "|42a2bd596fda1baef...|            4.0|  cama_mesa_banho|      13.65| 89.9|\n",
            "+--------------------+---------------+-----------------+-----------+-----+\n",
            "only showing top 20 rows\n",
            "\n"
          ]
        }
      ]
    },
    {
      "cell_type": "code",
      "source": [
        "# Fazendo uma consulta direta apenas para visualização\n",
        "\n",
        "spark.sql(\"\"\"\n",
        "    SELECT\n",
        "        YEAR(data_compra_pedido) AS compra_anual,\n",
        "        MONTH(data_compra_pedido) AS compra_mensal,\n",
        "        COUNT(*) AS count\n",
        "    FROM\n",
        "        pedidos_temp\n",
        "    GROUP BY\n",
        "        compra_anual,\n",
        "        compra_mensal\n",
        "    ORDER BY\n",
        "        compra_anual DESC,\n",
        "        compra_mensal\n",
        "\n",
        "\"\"\").show()"
      ],
      "metadata": {
        "colab": {
          "base_uri": "https://localhost:8080/"
        },
        "id": "kHfGeQqlkx6w",
        "outputId": "9e23f5a0-4747-4406-fce9-464c6b24bb96"
      },
      "execution_count": 18,
      "outputs": [
        {
          "output_type": "stream",
          "name": "stdout",
          "text": [
            "+------------+-------------+-----+\n",
            "|compra_anual|compra_mensal|count|\n",
            "+------------+-------------+-----+\n",
            "|        2018|            1| 7269|\n",
            "|        2018|            2| 6728|\n",
            "|        2018|            3| 7211|\n",
            "|        2018|            4| 6939|\n",
            "|        2018|            5| 6873|\n",
            "|        2018|            6| 6167|\n",
            "|        2018|            7| 6292|\n",
            "|        2018|            8| 6512|\n",
            "|        2018|            9|   16|\n",
            "|        2018|           10|    4|\n",
            "|        2017|            1|  800|\n",
            "|        2017|            2| 1780|\n",
            "|        2017|            3| 2682|\n",
            "|        2017|            4| 2404|\n",
            "|        2017|            5| 3700|\n",
            "|        2017|            6| 3245|\n",
            "|        2017|            7| 4026|\n",
            "|        2017|            8| 4331|\n",
            "|        2017|            9| 4285|\n",
            "|        2017|           10| 4631|\n",
            "+------------+-------------+-----+\n",
            "only showing top 20 rows\n",
            "\n"
          ]
        }
      ]
    },
    {
      "cell_type": "code",
      "source": [
        "spark.stop()"
      ],
      "metadata": {
        "id": "LUK6JD3SmKXX"
      },
      "execution_count": 19,
      "outputs": []
    }
  ]
}