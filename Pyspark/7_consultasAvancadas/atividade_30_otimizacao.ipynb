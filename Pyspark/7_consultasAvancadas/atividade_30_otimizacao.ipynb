{
  "nbformat": 4,
  "nbformat_minor": 0,
  "metadata": {
    "colab": {
      "provenance": []
    },
    "kernelspec": {
      "name": "python3",
      "display_name": "Python 3"
    },
    "language_info": {
      "name": "python"
    }
  },
  "cells": [
    {
      "cell_type": "code",
      "execution_count": 47,
      "metadata": {
        "colab": {
          "base_uri": "https://localhost:8080/"
        },
        "id": "H61IwvrObnYK",
        "outputId": "d3cdceb1-7002-4a7f-92bf-4d5fc442bdb5"
      },
      "outputs": [
        {
          "output_type": "stream",
          "name": "stdout",
          "text": [
            "Requirement already satisfied: pyspark in /usr/local/lib/python3.11/dist-packages (3.5.1)\n",
            "Requirement already satisfied: py4j==0.10.9.7 in /usr/local/lib/python3.11/dist-packages (from pyspark) (0.10.9.7)\n"
          ]
        }
      ],
      "source": [
        "! pip install pyspark"
      ]
    },
    {
      "cell_type": "code",
      "source": [
        "import pyspark\n",
        "from pyspark.sql import SparkSession\n",
        "from pyspark.sql.functions import *"
      ],
      "metadata": {
        "id": "JtpEZJYRcmxr"
      },
      "execution_count": 48,
      "outputs": []
    },
    {
      "cell_type": "code",
      "source": [
        "spark = SparkSession.builder.getOrCreate()"
      ],
      "metadata": {
        "id": "rkok4UEYdFHP"
      },
      "execution_count": 49,
      "outputs": []
    },
    {
      "cell_type": "markdown",
      "source": [
        "# 1 - Leia o arquivo 'videos-preparados.snappy.parquet' no dataframe 'df_video'"
      ],
      "metadata": {
        "id": "qofRrdhMbosK"
      }
    },
    {
      "cell_type": "code",
      "source": [
        "df_video = spark.read.parquet('/content/videos-preparados.snappy.parquet')\n",
        "df_video.show(5)"
      ],
      "metadata": {
        "colab": {
          "base_uri": "https://localhost:8080/"
        },
        "id": "n8GkgDI3dV-g",
        "outputId": "e08b2326-196c-4a14-97c2-dcf8ab0bacd8"
      },
      "execution_count": 50,
      "outputs": [
        {
          "output_type": "stream",
          "name": "stdout",
          "text": [
            "+--------------------+-----------+------------+-------+------+--------+--------+-----------+----+-----+-------------+--------------------+--------------------+--------------------+\n",
            "|               Title|   Video ID|Published At|Keyword| Likes|Comments|   Views|Interaction|Year|Month|Keyword Index|        Features PCA|     Features Normal|            Features|\n",
            "+--------------------+-----------+------------+-------+------+--------+--------+-----------+----+-----+-------------+--------------------+--------------------+--------------------+\n",
            "|ASMR MUKBANG DOUB...|--ZI0dSbbNU|  2020-04-18|mukbang|378858|   18860|17975269|   18372987|2020|    4|         30.0|[0.6985786560867407]|[0.02303716158264...|[378858.0,1.79752...|\n",
            "|Deadly car bomb d...|--hxd1CrOqg|  2022-08-22|   news|  6379|    4853|  808787|     820019|2022|    8|         37.0|[0.8936407990235931]|[3.87946679100418...|[6379.0,808787.0,...|\n",
            "|How Biden&#39;s s...|--ixiTypG8g|  2022-08-24|   news|  1029|    2347|   97434|     100810|2022|    8|         37.0| [0.893639694263814]|[6.26308901995973...|[1029.0,97434.0,2...|\n",
            "|Celebrating My 40...|-64r1hcxtV4|  2022-05-30|mukbang| 45628|   17264| 5283664|    5346556|2022|    5|         30.0|[0.6958642903220559]|[0.00277454843584...|[45628.0,5283664....|\n",
            "|Physics Review - ...|-6IgkG5yZfo|  2017-01-02|physics| 10959|     525|  844015|     855499|2017|    1|          7.0|[0.11987693683949...|[6.66441317075327...|[10959.0,844015.0...|\n",
            "+--------------------+-----------+------------+-------+------+--------+--------+-----------+----+-----+-------------+--------------------+--------------------+--------------------+\n",
            "only showing top 5 rows\n",
            "\n"
          ]
        }
      ]
    },
    {
      "cell_type": "markdown",
      "source": [
        "# 2 - Leia o arquivo ‘video-comments-tratados.snappy.parquet' no dataframe 'df_comments'"
      ],
      "metadata": {
        "id": "2J0bS8_EcDxl"
      }
    },
    {
      "cell_type": "code",
      "source": [
        "df_comments = spark.read.parquet('/content/videos-comments-tratados.snappy.parquet')\n",
        "df_comments.show(5)"
      ],
      "metadata": {
        "colab": {
          "base_uri": "https://localhost:8080/"
        },
        "id": "gPIZ6tOndvrd",
        "outputId": "1995eeb7-b23e-4c00-ba7d-dc81f86d8a96"
      },
      "execution_count": 51,
      "outputs": [
        {
          "output_type": "stream",
          "name": "stdout",
          "text": [
            "+-----------+--------------------+------------+-------+-----+--------+------+-----------+----+--------------------+---------+-------------+\n",
            "|   Video ID|               Title|Published At|Keyword|Likes|Comments| Views|Interaction|Year|             Comment|Sentiment|Likes Comment|\n",
            "+-----------+--------------------+------------+-------+-----+--------+------+-----------+----+--------------------+---------+-------------+\n",
            "|wAZZ-UWGVHI|Apple Pay Is Kill...|  2022-08-23|   tech| 3407|     672|135612|     139691|2022|Let's not forget ...|        1|           95|\n",
            "|wAZZ-UWGVHI|Apple Pay Is Kill...|  2022-08-23|   tech| 3407|     672|135612|     139691|2022|Here in NZ 50% of...|        0|           19|\n",
            "|wAZZ-UWGVHI|Apple Pay Is Kill...|  2022-08-23|   tech| 3407|     672|135612|     139691|2022|I will forever ac...|        2|          161|\n",
            "|wAZZ-UWGVHI|Apple Pay Is Kill...|  2022-08-23|   tech| 3407|     672|135612|     139691|2022|Whenever I go to ...|        0|            8|\n",
            "|wAZZ-UWGVHI|Apple Pay Is Kill...|  2022-08-23|   tech| 3407|     672|135612|     139691|2022|Apple Pay is so c...|        2|           34|\n",
            "+-----------+--------------------+------------+-------+-----+--------+------+-----------+----+--------------------+---------+-------------+\n",
            "only showing top 5 rows\n",
            "\n"
          ]
        }
      ]
    },
    {
      "cell_type": "markdown",
      "source": [
        "# 3 - Crie tabelas temporárias para ambos os dataframe"
      ],
      "metadata": {
        "id": "lu4qJROLb_O0"
      }
    },
    {
      "cell_type": "code",
      "source": [
        "df_video.createOrReplaceTempView(\"videos\")\n",
        "df_comments.createOrReplaceTempView(\"comments\")"
      ],
      "metadata": {
        "id": "BmSfbbYXd5Tl"
      },
      "execution_count": 52,
      "outputs": []
    },
    {
      "cell_type": "markdown",
      "source": [
        "# 4 - Faça um join das tabelas criadas anteriormente utilizando o spark.sql no dataframe ‘join_video_comments’"
      ],
      "metadata": {
        "id": "Ts655rF5b8Fr"
      }
    },
    {
      "cell_type": "code",
      "source": [
        "join_video_comments = spark.sql(\"\"\"\n",
        "  SELECT v.*, c.comment\n",
        "  FROM videos v\n",
        "  JOIN comments c ON v.`Video ID` = c.`Video ID`\n",
        "  \"\"\")\n",
        "\n",
        "join_video_comments.show(5)"
      ],
      "metadata": {
        "colab": {
          "base_uri": "https://localhost:8080/"
        },
        "id": "sdYBMkP9e8Hn",
        "outputId": "facadf15-7265-41fa-edd6-f38345d5460e"
      },
      "execution_count": 53,
      "outputs": [
        {
          "output_type": "stream",
          "name": "stdout",
          "text": [
            "+--------------------+-----------+------------+-------+-----+--------+------+-----------+----+-----+-------------+--------------------+--------------------+--------------------+--------------------+\n",
            "|               Title|   Video ID|Published At|Keyword|Likes|Comments| Views|Interaction|Year|Month|Keyword Index|        Features PCA|     Features Normal|            Features|             comment|\n",
            "+--------------------+-----------+------------+-------+-----+--------+------+-----------+----+-----+-------------+--------------------+--------------------+--------------------+--------------------+\n",
            "|Apple Pay Is Kill...|wAZZ-UWGVHI|  2022-08-23|   tech| 3407|     672|135612|     139691|2022|    8|         23.0|[0.5461641657286636]|[2.07229197864298...|[3407.0,135612.0,...|Let's not forget ...|\n",
            "|Apple Pay Is Kill...|wAZZ-UWGVHI|  2022-08-23|   tech| 3407|     672|135612|     139691|2022|    8|         23.0|[0.5461641657286636]|[2.07229197864298...|[3407.0,135612.0,...|Here in NZ 50% of...|\n",
            "|Apple Pay Is Kill...|wAZZ-UWGVHI|  2022-08-23|   tech| 3407|     672|135612|     139691|2022|    8|         23.0|[0.5461641657286636]|[2.07229197864298...|[3407.0,135612.0,...|I will forever ac...|\n",
            "|Apple Pay Is Kill...|wAZZ-UWGVHI|  2022-08-23|   tech| 3407|     672|135612|     139691|2022|    8|         23.0|[0.5461641657286636]|[2.07229197864298...|[3407.0,135612.0,...|Whenever I go to ...|\n",
            "|Apple Pay Is Kill...|wAZZ-UWGVHI|  2022-08-23|   tech| 3407|     672|135612|     139691|2022|    8|         23.0|[0.5461641657286636]|[2.07229197864298...|[3407.0,135612.0,...|Apple Pay is so c...|\n",
            "+--------------------+-----------+------------+-------+-----+--------+------+-----------+----+-----+-------------+--------------------+--------------------+--------------------+--------------------+\n",
            "only showing top 5 rows\n",
            "\n"
          ]
        }
      ]
    },
    {
      "cell_type": "markdown",
      "source": [
        "# 5 - Faça as mesmas etapas anteriores (1,2,3,4) utilizando repartition e coalesce\n"
      ],
      "metadata": {
        "id": "bfEQJxSLb5Al"
      }
    },
    {
      "cell_type": "code",
      "source": [
        "# (Usando o Repatition) 1 e 2 - Leitura utilizando o repartition\n",
        "rdd_df_video = spark.read.parquet('/content/videos-preparados.snappy.parquet').repartition(5)\n",
        "rdd_df_comments = spark.read.parquet('/content/videos-comments-tratados.snappy.parquet').repartition(5)\n",
        "\n",
        "print('Núm. de partições rdd_df_video: ', rdd_df_video.rdd.getNumPartitions())\n",
        "print('Núm. de partições rdd_df_comments: ', rdd_df_comments.rdd.getNumPartitions())\n",
        "\n",
        "# (Usando o Repatition) 3 - Criando as TempView\n",
        "rdd_df_video.createOrReplaceTempView('rdd_video')\n",
        "rdd_df_comments.createOrReplaceTempView('rdd_comments')\n",
        "\n",
        "# (Usando o Repatition) 4 - Realizando o JOIN usando o spark.sql\n",
        "join_rdd_video_comments = spark.sql(\"\"\"\n",
        "  SELECT v.*, c.comment\n",
        "  FROM rdd_video v\n",
        "  JOIN rdd_comments c ON v.`Video ID` = c.`Video ID`\n",
        "  \"\"\")\n",
        "\n",
        "join_rdd_video_comments.show(5)"
      ],
      "metadata": {
        "colab": {
          "base_uri": "https://localhost:8080/"
        },
        "id": "LqArzPdGf4lG",
        "outputId": "e33e5341-7c25-4c55-d580-54b5cc56ad8b"
      },
      "execution_count": 54,
      "outputs": [
        {
          "output_type": "stream",
          "name": "stdout",
          "text": [
            "Núm. de partições rdd_df_video:  5\n",
            "Núm. de partições rdd_df_comments:  5\n",
            "+--------------------+-----------+------------+------------+------+--------+-------+-----------+----+-----+-------------+--------------------+--------------------+--------------------+--------------------+\n",
            "|               Title|   Video ID|Published At|     Keyword| Likes|Comments|  Views|Interaction|Year|Month|Keyword Index|        Features PCA|     Features Normal|            Features|             comment|\n",
            "+--------------------+-----------+------------+------------+------+--------+-------+-----------+----+-----+-------------+--------------------+--------------------+--------------------+--------------------+\n",
            "|😱2/2 Cube Solved...|CkhgF-bP2cc|  2022-07-24|       cubes|205854|     338|4543326|    4749518|2022|    7|         11.0|[0.2402758308009996]|[0.01251736106993...|[205854.0,4543326...|            Nice bro|\n",
            "|John Legend - All...|RjI4c-QNt0s|  2022-08-24|       music|  5174|     238| 187956|     193368|2022|    8|         28.0|[0.6702621125741423]|[3.14674618235841...|[5174.0,187956.0,...|OMG This is the m...|\n",
            "|Intro to Data Sci...|N6BghzuFLIg|  2019-03-04|data science|  6386|     115| 122824|     129325|2019|    3|          2.0|[0.00103487360095...|[3.88372325927017...|[6386.0,122824.0,...|Amazing, amazing ...|\n",
            "| Please Stalemate Me|mhhJFWsAHlo|  2022-08-24|       chess|  1643|      59|  38688|      40390|2022|    8|         26.0|[0.6206232244208058]|[9.99661975612990...|[1643.0,38688.0,2...|That would have b...|\n",
            "|Ex-CIA director p...|GK8CFuXExLw|  2022-08-24|        news|  8526|    3934| 544884|     557344|2022|    8|         37.0|[0.8936393003815674]|[5.18498641487346...|[8526.0,544884.0,...|Something importa...|\n",
            "+--------------------+-----------+------------+------------+------+--------+-------+-----------+----+-----+-------------+--------------------+--------------------+--------------------+--------------------+\n",
            "only showing top 5 rows\n",
            "\n"
          ]
        }
      ]
    },
    {
      "cell_type": "code",
      "source": [
        "# (Usando o coalesce) 1 e 2 - Leitura utilizando o coalesce\n",
        "reduce_df_video = spark.read.parquet('/content/videos-preparados.snappy.parquet').coalesce(1)\n",
        "reduce_df_comments = spark.read.parquet('/content/videos-comments-tratados.snappy.parquet').coalesce(1)\n",
        "\n",
        "print('Núm. de partições reduce_df_video: ', reduce_df_video.rdd.getNumPartitions())\n",
        "print('Núm. de partições reduce_df_comments: ', reduce_df_comments.rdd.getNumPartitions())\n",
        "\n",
        "# (Usando o coalesce) 3 - Criando as TempView\n",
        "reduce_df_video.createOrReplaceTempView('reduce_video')\n",
        "reduce_df_comments.createOrReplaceTempView('reduce_comments')\n",
        "\n",
        "# (Usando o coalesce) 4 - Realizando o JOIN usando o spark.sql\n",
        "\n",
        "join_reduce_video_comments = spark.sql(\"\"\"\n",
        "  SELECT v.*, c.comment\n",
        "  FROM reduce_video v\n",
        "  JOIN reduce_comments c ON v.`Video ID` = c.`Video ID`\n",
        "  \"\"\")\n",
        "\n",
        "print('Núm. de partições: ', join_reduce_video_comments.rdd.getNumPartitions())\n",
        "\n",
        "join_reduce_video_comments.show(5)"
      ],
      "metadata": {
        "colab": {
          "base_uri": "https://localhost:8080/"
        },
        "id": "KCiPLmoWl3y1",
        "outputId": "88e02a50-4e2c-4d20-c539-be09e4af4744"
      },
      "execution_count": 55,
      "outputs": [
        {
          "output_type": "stream",
          "name": "stdout",
          "text": [
            "Núm. de partições reduce_df_video:  1\n",
            "Núm. de partições reduce_df_comments:  1\n",
            "Núm. de partições:  1\n",
            "+--------------------+-----------+------------+-------+-----+--------+------+-----------+----+-----+-------------+--------------------+--------------------+--------------------+--------------------+\n",
            "|               Title|   Video ID|Published At|Keyword|Likes|Comments| Views|Interaction|Year|Month|Keyword Index|        Features PCA|     Features Normal|            Features|             comment|\n",
            "+--------------------+-----------+------------+-------+-----+--------+------+-----------+----+-----+-------------+--------------------+--------------------+--------------------+--------------------+\n",
            "|Apple Pay Is Kill...|wAZZ-UWGVHI|  2022-08-23|   tech| 3407|     672|135612|     139691|2022|    8|         23.0|[0.5461641657286636]|[2.07229197864298...|[3407.0,135612.0,...|Let's not forget ...|\n",
            "|Apple Pay Is Kill...|wAZZ-UWGVHI|  2022-08-23|   tech| 3407|     672|135612|     139691|2022|    8|         23.0|[0.5461641657286636]|[2.07229197864298...|[3407.0,135612.0,...|Here in NZ 50% of...|\n",
            "|Apple Pay Is Kill...|wAZZ-UWGVHI|  2022-08-23|   tech| 3407|     672|135612|     139691|2022|    8|         23.0|[0.5461641657286636]|[2.07229197864298...|[3407.0,135612.0,...|I will forever ac...|\n",
            "|Apple Pay Is Kill...|wAZZ-UWGVHI|  2022-08-23|   tech| 3407|     672|135612|     139691|2022|    8|         23.0|[0.5461641657286636]|[2.07229197864298...|[3407.0,135612.0,...|Whenever I go to ...|\n",
            "|Apple Pay Is Kill...|wAZZ-UWGVHI|  2022-08-23|   tech| 3407|     672|135612|     139691|2022|    8|         23.0|[0.5461641657286636]|[2.07229197864298...|[3407.0,135612.0,...|Apple Pay is so c...|\n",
            "+--------------------+-----------+------------+-------+-----+--------+------+-----------+----+-----+-------------+--------------------+--------------------+--------------------+--------------------+\n",
            "only showing top 5 rows\n",
            "\n"
          ]
        }
      ]
    },
    {
      "cell_type": "markdown",
      "source": [
        "# 6 - Utilize o explain para entender melhor as duas formas de realizar as etapas e refaça novamente as etapas anteriores (1,2,3,4), utilizando tudo que você já aprendeu para realizar o join e filter apenas com os dados necessários."
      ],
      "metadata": {
        "id": "e3D4mdjYb2VP"
      }
    },
    {
      "cell_type": "code",
      "source": [
        "# (Utilizando o Repatition) 1 e 2 - Leitura dos arquivos\n",
        "rdd_df_video = spark.read.parquet('/content/videos-preparados.snappy.parquet').repartition(5)\n",
        "rdd_df_comments = spark.read.parquet('/content/videos-comments-tratados.snappy.parquet').repartition(5)\n",
        "\n",
        "# Utilizando o Explain para exibir o plano de execução físico e lógico da etapa da leitura\n",
        "print('Plano de execução da leitura dos arquivos com repartition')\n",
        "rdd_df_video.explain()\n",
        "rdd_df_comments.explain()\n",
        "\n",
        "# (Utilizando o Repatition) 3 - Criando as TempView\n",
        "rdd_df_video.createOrReplaceTempView('rdd_video')\n",
        "rdd_df_comments.createOrReplaceTempView('rdd_comments')\n",
        "\n",
        "# Utilizando o Explain para exibir o plano de execução físico e lógico da etapa de criação das TempView\n",
        "print('Plano de execução da Criação das TempViews')\n",
        "spark.table(\"rdd_video\").explain()\n",
        "spark.table(\"rdd_comments\").explain()\n",
        "\n",
        "# (Utilizando o Repatition) 4 - Realizando o JOIN usando o spark.sql\n",
        "join_rdd_video_comments = spark.sql(\"\"\"\n",
        "  SELECT v.*, c.comment\n",
        "  FROM rdd_video v\n",
        "  JOIN rdd_comments c ON v.`Video ID` = c.`Video ID`\n",
        "  \"\"\")\n",
        "\n",
        "# Utilizando o Explain para exibir o plano de execução físico e lógico da etapa etapa do Join\n",
        "print('Plano de execução do Join')\n",
        "join_rdd_video_comments.explain()"
      ],
      "metadata": {
        "colab": {
          "base_uri": "https://localhost:8080/"
        },
        "id": "FzZXS7tDrh4p",
        "outputId": "0ce12f45-6c8e-411a-8a6b-4967df5865e9"
      },
      "execution_count": 56,
      "outputs": [
        {
          "output_type": "stream",
          "name": "stdout",
          "text": [
            "Plano de execução da leitura dos arquivos com repartition\n",
            "== Physical Plan ==\n",
            "AdaptiveSparkPlan isFinalPlan=false\n",
            "+- Exchange RoundRobinPartitioning(5), REPARTITION_BY_NUM, [plan_id=2443]\n",
            "   +- InMemoryTableScan [Title#21682, Video ID#21683, Published At#21684, Keyword#21685, Likes#21686, Comments#21687, Views#21688, Interaction#21689, Year#21690, Month#21691, Keyword Index#21692, Features PCA#21693, Features Normal#21694, Features#21695]\n",
            "         +- InMemoryRelation [Title#21682, Video ID#21683, Published At#21684, Keyword#21685, Likes#21686, Comments#21687, Views#21688, Interaction#21689, Year#21690, Month#21691, Keyword Index#21692, Features PCA#21693, Features Normal#21694, Features#21695], StorageLevel(disk, memory, deserialized, 1 replicas)\n",
            "               +- *(1) ColumnarToRow\n",
            "                  +- FileScan parquet [Title#0,Video ID#1,Published At#2,Keyword#3,Likes#4,Comments#5,Views#6,Interaction#7,Year#8,Month#9,Keyword Index#10,Features PCA#11,Features Normal#12,Features#13] Batched: true, DataFilters: [], Format: Parquet, Location: InMemoryFileIndex(1 paths)[file:/content/videos-preparados.snappy.parquet], PartitionFilters: [], PushedFilters: [], ReadSchema: struct<Title:string,Video ID:string,Published At:date,Keyword:string,Likes:int,Comments:int,Views...\n",
            "\n",
            "\n",
            "== Physical Plan ==\n",
            "AdaptiveSparkPlan isFinalPlan=false\n",
            "+- Exchange RoundRobinPartitioning(5), REPARTITION_BY_NUM, [plan_id=2455]\n",
            "   +- InMemoryTableScan [Video ID#21710, Title#21711, Published At#21712, Keyword#21713, Likes#21714, Comments#21715, Views#21716, Interaction#21717, Year#21718, Comment#21719, Sentiment#21720, Likes Comment#21721]\n",
            "         +- InMemoryRelation [Video ID#21710, Title#21711, Published At#21712, Keyword#21713, Likes#21714, Comments#21715, Views#21716, Interaction#21717, Year#21718, Comment#21719, Sentiment#21720, Likes Comment#21721], StorageLevel(disk, memory, deserialized, 1 replicas)\n",
            "               +- *(1) ColumnarToRow\n",
            "                  +- FileScan parquet [Video ID#86,Title#87,Published At#88,Keyword#89,Likes#90,Comments#91,Views#92,Interaction#93,Year#94,Comment#95,Sentiment#96,Likes Comment#97] Batched: true, DataFilters: [], Format: Parquet, Location: InMemoryFileIndex(1 paths)[file:/content/videos-comments-tratados.snappy.parquet], PartitionFilters: [], PushedFilters: [], ReadSchema: struct<Video ID:string,Title:string,Published At:date,Keyword:string,Likes:int,Comments:int,Views...\n",
            "\n",
            "\n",
            "Plano de execução da Criação das TempViews\n",
            "== Physical Plan ==\n",
            "AdaptiveSparkPlan isFinalPlan=false\n",
            "+- Exchange RoundRobinPartitioning(5), REPARTITION_BY_NUM, [plan_id=2473]\n",
            "   +- InMemoryTableScan [Title#21682, Video ID#21683, Published At#21684, Keyword#21685, Likes#21686, Comments#21687, Views#21688, Interaction#21689, Year#21690, Month#21691, Keyword Index#21692, Features PCA#21693, Features Normal#21694, Features#21695]\n",
            "         +- InMemoryRelation [Title#21682, Video ID#21683, Published At#21684, Keyword#21685, Likes#21686, Comments#21687, Views#21688, Interaction#21689, Year#21690, Month#21691, Keyword Index#21692, Features PCA#21693, Features Normal#21694, Features#21695], StorageLevel(disk, memory, deserialized, 1 replicas)\n",
            "               +- *(1) ColumnarToRow\n",
            "                  +- FileScan parquet [Title#0,Video ID#1,Published At#2,Keyword#3,Likes#4,Comments#5,Views#6,Interaction#7,Year#8,Month#9,Keyword Index#10,Features PCA#11,Features Normal#12,Features#13] Batched: true, DataFilters: [], Format: Parquet, Location: InMemoryFileIndex(1 paths)[file:/content/videos-preparados.snappy.parquet], PartitionFilters: [], PushedFilters: [], ReadSchema: struct<Title:string,Video ID:string,Published At:date,Keyword:string,Likes:int,Comments:int,Views...\n",
            "\n",
            "\n",
            "== Physical Plan ==\n",
            "AdaptiveSparkPlan isFinalPlan=false\n",
            "+- Exchange RoundRobinPartitioning(5), REPARTITION_BY_NUM, [plan_id=2485]\n",
            "   +- InMemoryTableScan [Video ID#21710, Title#21711, Published At#21712, Keyword#21713, Likes#21714, Comments#21715, Views#21716, Interaction#21717, Year#21718, Comment#21719, Sentiment#21720, Likes Comment#21721]\n",
            "         +- InMemoryRelation [Video ID#21710, Title#21711, Published At#21712, Keyword#21713, Likes#21714, Comments#21715, Views#21716, Interaction#21717, Year#21718, Comment#21719, Sentiment#21720, Likes Comment#21721], StorageLevel(disk, memory, deserialized, 1 replicas)\n",
            "               +- *(1) ColumnarToRow\n",
            "                  +- FileScan parquet [Video ID#86,Title#87,Published At#88,Keyword#89,Likes#90,Comments#91,Views#92,Interaction#93,Year#94,Comment#95,Sentiment#96,Likes Comment#97] Batched: true, DataFilters: [], Format: Parquet, Location: InMemoryFileIndex(1 paths)[file:/content/videos-comments-tratados.snappy.parquet], PartitionFilters: [], PushedFilters: [], ReadSchema: struct<Video ID:string,Title:string,Published At:date,Keyword:string,Likes:int,Comments:int,Views...\n",
            "\n",
            "\n",
            "Plano de execução do Join\n",
            "== Physical Plan ==\n",
            "AdaptiveSparkPlan isFinalPlan=false\n",
            "+- Project [Title#21682, Video ID#21683, Published At#21684, Keyword#21685, Likes#21686, Comments#21687, Views#21688, Interaction#21689, Year#21690, Month#21691, Keyword Index#21692, Features PCA#21693, Features Normal#21694, Features#21695, comment#21719]\n",
            "   +- BroadcastHashJoin [Video ID#21683], [Video ID#21710], Inner, BuildLeft, false\n",
            "      :- BroadcastExchange HashedRelationBroadcastMode(List(input[1, string, false]),false), [plan_id=2519]\n",
            "      :  +- Exchange RoundRobinPartitioning(5), REPARTITION_BY_NUM, [plan_id=2512]\n",
            "      :     +- Filter isnotnull(Video ID#21683)\n",
            "      :        +- InMemoryTableScan [Title#21682, Video ID#21683, Published At#21684, Keyword#21685, Likes#21686, Comments#21687, Views#21688, Interaction#21689, Year#21690, Month#21691, Keyword Index#21692, Features PCA#21693, Features Normal#21694, Features#21695], [isnotnull(Video ID#21683)]\n",
            "      :              +- InMemoryRelation [Title#21682, Video ID#21683, Published At#21684, Keyword#21685, Likes#21686, Comments#21687, Views#21688, Interaction#21689, Year#21690, Month#21691, Keyword Index#21692, Features PCA#21693, Features Normal#21694, Features#21695], StorageLevel(disk, memory, deserialized, 1 replicas)\n",
            "      :                    +- *(1) ColumnarToRow\n",
            "      :                       +- FileScan parquet [Title#0,Video ID#1,Published At#2,Keyword#3,Likes#4,Comments#5,Views#6,Interaction#7,Year#8,Month#9,Keyword Index#10,Features PCA#11,Features Normal#12,Features#13] Batched: true, DataFilters: [], Format: Parquet, Location: InMemoryFileIndex(1 paths)[file:/content/videos-preparados.snappy.parquet], PartitionFilters: [], PushedFilters: [], ReadSchema: struct<Title:string,Video ID:string,Published At:date,Keyword:string,Likes:int,Comments:int,Views...\n",
            "      +- Exchange RoundRobinPartitioning(5), REPARTITION_BY_NUM, [plan_id=2515]\n",
            "         +- Filter isnotnull(Video ID#21710)\n",
            "            +- InMemoryTableScan [Video ID#21710, Comment#21719], [isnotnull(Video ID#21710)]\n",
            "                  +- InMemoryRelation [Video ID#21710, Title#21711, Published At#21712, Keyword#21713, Likes#21714, Comments#21715, Views#21716, Interaction#21717, Year#21718, Comment#21719, Sentiment#21720, Likes Comment#21721], StorageLevel(disk, memory, deserialized, 1 replicas)\n",
            "                        +- *(1) ColumnarToRow\n",
            "                           +- FileScan parquet [Video ID#86,Title#87,Published At#88,Keyword#89,Likes#90,Comments#91,Views#92,Interaction#93,Year#94,Comment#95,Sentiment#96,Likes Comment#97] Batched: true, DataFilters: [], Format: Parquet, Location: InMemoryFileIndex(1 paths)[file:/content/videos-comments-tratados.snappy.parquet], PartitionFilters: [], PushedFilters: [], ReadSchema: struct<Video ID:string,Title:string,Published At:date,Keyword:string,Likes:int,Comments:int,Views...\n",
            "\n",
            "\n"
          ]
        }
      ]
    },
    {
      "cell_type": "code",
      "source": [
        "# (Usando o coalesce) 1 e 2 - Leitura utilizando o coalesce\n",
        "reduce_df_video = spark.read.parquet('/content/videos-preparados.snappy.parquet').coalesce(1)\n",
        "reduce_df_comments = spark.read.parquet('/content/videos-comments-tratados.snappy.parquet').coalesce(1)\n",
        "\n",
        "# Utilizando o Explain para exibir o plano de execução físico e lógico da etapa de leitura\n",
        "print('Plano de execução da leitura dos arquivos com coalesce')\n",
        "reduce_df_video.explain()\n",
        "reduce_df_comments.explain()\n",
        "\n",
        "# (Usando o coalesce) 3 - Criando as TempView\n",
        "reduce_df_video.createOrReplaceTempView('reduce_video')\n",
        "reduce_df_comments.createOrReplaceTempView('reduce_comments')\n",
        "\n",
        "# Utilizando o Explain para exibir o plano de execução físico e lógico da etapa de criação das TempView\n",
        "print('Plano de execução da Criação das TempViews')\n",
        "spark.table(\"reduce_video\").explain()\n",
        "spark.table(\"reduce_comments\").explain()\n",
        "\n",
        "# (Usando o coalesce) 4 - Realizando o JOIN usando o spark.sql\n",
        "join_reduce_video_comments = spark.sql(\"\"\"\n",
        "  SELECT v.*, c.comment\n",
        "  FROM reduce_video v\n",
        "  JOIN reduce_comments c ON v.`Video ID` = c.`Video ID`\n",
        "  \"\"\")\n",
        "\n",
        "# Utilizando o Explain para exibir o plano de execução físico e lógico da etapa do Join\n",
        "print('Plano de execução do Join')\n",
        "join_reduce_video_comments.explain()"
      ],
      "metadata": {
        "colab": {
          "base_uri": "https://localhost:8080/"
        },
        "id": "LLy9hFU1nyvr",
        "outputId": "4dbb60c4-780c-461a-888a-356e981c737f"
      },
      "execution_count": 57,
      "outputs": [
        {
          "output_type": "stream",
          "name": "stdout",
          "text": [
            "Plano de execução da leitura dos arquivos com coalesce\n",
            "== Physical Plan ==\n",
            "AdaptiveSparkPlan isFinalPlan=false\n",
            "+- Coalesce 1\n",
            "   +- InMemoryTableScan [Title#22945, Video ID#22946, Published At#22947, Keyword#22948, Likes#22949, Comments#22950, Views#22951, Interaction#22952, Year#22953, Month#22954, Keyword Index#22955, Features PCA#22956, Features Normal#22957, Features#22958]\n",
            "         +- InMemoryRelation [Title#22945, Video ID#22946, Published At#22947, Keyword#22948, Likes#22949, Comments#22950, Views#22951, Interaction#22952, Year#22953, Month#22954, Keyword Index#22955, Features PCA#22956, Features Normal#22957, Features#22958], StorageLevel(disk, memory, deserialized, 1 replicas)\n",
            "               +- *(1) ColumnarToRow\n",
            "                  +- FileScan parquet [Title#0,Video ID#1,Published At#2,Keyword#3,Likes#4,Comments#5,Views#6,Interaction#7,Year#8,Month#9,Keyword Index#10,Features PCA#11,Features Normal#12,Features#13] Batched: true, DataFilters: [], Format: Parquet, Location: InMemoryFileIndex(1 paths)[file:/content/videos-preparados.snappy.parquet], PartitionFilters: [], PushedFilters: [], ReadSchema: struct<Title:string,Video ID:string,Published At:date,Keyword:string,Likes:int,Comments:int,Views...\n",
            "\n",
            "\n",
            "== Physical Plan ==\n",
            "AdaptiveSparkPlan isFinalPlan=false\n",
            "+- Coalesce 1\n",
            "   +- InMemoryTableScan [Video ID#22973, Title#22974, Published At#22975, Keyword#22976, Likes#22977, Comments#22978, Views#22979, Interaction#22980, Year#22981, Comment#22982, Sentiment#22983, Likes Comment#22984]\n",
            "         +- InMemoryRelation [Video ID#22973, Title#22974, Published At#22975, Keyword#22976, Likes#22977, Comments#22978, Views#22979, Interaction#22980, Year#22981, Comment#22982, Sentiment#22983, Likes Comment#22984], StorageLevel(disk, memory, deserialized, 1 replicas)\n",
            "               +- *(1) ColumnarToRow\n",
            "                  +- FileScan parquet [Video ID#86,Title#87,Published At#88,Keyword#89,Likes#90,Comments#91,Views#92,Interaction#93,Year#94,Comment#95,Sentiment#96,Likes Comment#97] Batched: true, DataFilters: [], Format: Parquet, Location: InMemoryFileIndex(1 paths)[file:/content/videos-comments-tratados.snappy.parquet], PartitionFilters: [], PushedFilters: [], ReadSchema: struct<Video ID:string,Title:string,Published At:date,Keyword:string,Likes:int,Comments:int,Views...\n",
            "\n",
            "\n",
            "Plano de execução da Criação das TempViews\n",
            "== Physical Plan ==\n",
            "AdaptiveSparkPlan isFinalPlan=false\n",
            "+- Coalesce 1\n",
            "   +- InMemoryTableScan [Title#22945, Video ID#22946, Published At#22947, Keyword#22948, Likes#22949, Comments#22950, Views#22951, Interaction#22952, Year#22953, Month#22954, Keyword Index#22955, Features PCA#22956, Features Normal#22957, Features#22958]\n",
            "         +- InMemoryRelation [Title#22945, Video ID#22946, Published At#22947, Keyword#22948, Likes#22949, Comments#22950, Views#22951, Interaction#22952, Year#22953, Month#22954, Keyword Index#22955, Features PCA#22956, Features Normal#22957, Features#22958], StorageLevel(disk, memory, deserialized, 1 replicas)\n",
            "               +- *(1) ColumnarToRow\n",
            "                  +- FileScan parquet [Title#0,Video ID#1,Published At#2,Keyword#3,Likes#4,Comments#5,Views#6,Interaction#7,Year#8,Month#9,Keyword Index#10,Features PCA#11,Features Normal#12,Features#13] Batched: true, DataFilters: [], Format: Parquet, Location: InMemoryFileIndex(1 paths)[file:/content/videos-preparados.snappy.parquet], PartitionFilters: [], PushedFilters: [], ReadSchema: struct<Title:string,Video ID:string,Published At:date,Keyword:string,Likes:int,Comments:int,Views...\n",
            "\n",
            "\n",
            "== Physical Plan ==\n",
            "AdaptiveSparkPlan isFinalPlan=false\n",
            "+- Coalesce 1\n",
            "   +- InMemoryTableScan [Video ID#22973, Title#22974, Published At#22975, Keyword#22976, Likes#22977, Comments#22978, Views#22979, Interaction#22980, Year#22981, Comment#22982, Sentiment#22983, Likes Comment#22984]\n",
            "         +- InMemoryRelation [Video ID#22973, Title#22974, Published At#22975, Keyword#22976, Likes#22977, Comments#22978, Views#22979, Interaction#22980, Year#22981, Comment#22982, Sentiment#22983, Likes Comment#22984], StorageLevel(disk, memory, deserialized, 1 replicas)\n",
            "               +- *(1) ColumnarToRow\n",
            "                  +- FileScan parquet [Video ID#86,Title#87,Published At#88,Keyword#89,Likes#90,Comments#91,Views#92,Interaction#93,Year#94,Comment#95,Sentiment#96,Likes Comment#97] Batched: true, DataFilters: [], Format: Parquet, Location: InMemoryFileIndex(1 paths)[file:/content/videos-comments-tratados.snappy.parquet], PartitionFilters: [], PushedFilters: [], ReadSchema: struct<Video ID:string,Title:string,Published At:date,Keyword:string,Likes:int,Comments:int,Views...\n",
            "\n",
            "\n",
            "Plano de execução do Join\n",
            "== Physical Plan ==\n",
            "AdaptiveSparkPlan isFinalPlan=false\n",
            "+- Project [Title#22945, Video ID#22946, Published At#22947, Keyword#22948, Likes#22949, Comments#22950, Views#22951, Interaction#22952, Year#22953, Month#22954, Keyword Index#22955, Features PCA#22956, Features Normal#22957, Features#22958, comment#22982]\n",
            "   +- BroadcastHashJoin [Video ID#22946], [Video ID#22973], Inner, BuildLeft, false\n",
            "      :- BroadcastExchange HashedRelationBroadcastMode(List(input[1, string, false]),false), [plan_id=2612]\n",
            "      :  +- Coalesce 1\n",
            "      :     +- Filter isnotnull(Video ID#22946)\n",
            "      :        +- InMemoryTableScan [Title#22945, Video ID#22946, Published At#22947, Keyword#22948, Likes#22949, Comments#22950, Views#22951, Interaction#22952, Year#22953, Month#22954, Keyword Index#22955, Features PCA#22956, Features Normal#22957, Features#22958], [isnotnull(Video ID#22946)]\n",
            "      :              +- InMemoryRelation [Title#22945, Video ID#22946, Published At#22947, Keyword#22948, Likes#22949, Comments#22950, Views#22951, Interaction#22952, Year#22953, Month#22954, Keyword Index#22955, Features PCA#22956, Features Normal#22957, Features#22958], StorageLevel(disk, memory, deserialized, 1 replicas)\n",
            "      :                    +- *(1) ColumnarToRow\n",
            "      :                       +- FileScan parquet [Title#0,Video ID#1,Published At#2,Keyword#3,Likes#4,Comments#5,Views#6,Interaction#7,Year#8,Month#9,Keyword Index#10,Features PCA#11,Features Normal#12,Features#13] Batched: true, DataFilters: [], Format: Parquet, Location: InMemoryFileIndex(1 paths)[file:/content/videos-preparados.snappy.parquet], PartitionFilters: [], PushedFilters: [], ReadSchema: struct<Title:string,Video ID:string,Published At:date,Keyword:string,Likes:int,Comments:int,Views...\n",
            "      +- Coalesce 1\n",
            "         +- Filter isnotnull(Video ID#22973)\n",
            "            +- InMemoryTableScan [Video ID#22973, Comment#22982], [isnotnull(Video ID#22973)]\n",
            "                  +- InMemoryRelation [Video ID#22973, Title#22974, Published At#22975, Keyword#22976, Likes#22977, Comments#22978, Views#22979, Interaction#22980, Year#22981, Comment#22982, Sentiment#22983, Likes Comment#22984], StorageLevel(disk, memory, deserialized, 1 replicas)\n",
            "                        +- *(1) ColumnarToRow\n",
            "                           +- FileScan parquet [Video ID#86,Title#87,Published At#88,Keyword#89,Likes#90,Comments#91,Views#92,Interaction#93,Year#94,Comment#95,Sentiment#96,Likes Comment#97] Batched: true, DataFilters: [], Format: Parquet, Location: InMemoryFileIndex(1 paths)[file:/content/videos-comments-tratados.snappy.parquet], PartitionFilters: [], PushedFilters: [], ReadSchema: struct<Video ID:string,Title:string,Published At:date,Keyword:string,Likes:int,Comments:int,Views...\n",
            "\n",
            "\n"
          ]
        }
      ]
    },
    {
      "cell_type": "markdown",
      "source": [
        "# 7 - Salve o seu join otimizado como 'join-videos-comments-otimizado' no formato parquet"
      ],
      "metadata": {
        "id": "1YjGZJvObz14"
      }
    },
    {
      "cell_type": "code",
      "source": [
        "# Salva o resultado otimizado em formato parquet para uma leitura mais eficiente\n",
        "join_reduce_video_comments.write.mode('overwrite').parquet('join-videos-comments-otimizado')"
      ],
      "metadata": {
        "id": "1KdJP0YZuSGh"
      },
      "execution_count": 58,
      "outputs": []
    },
    {
      "cell_type": "markdown",
      "source": [
        "# 8 - Comente todas as ações realizadas no código nas etapas 6 e 7"
      ],
      "metadata": {
        "id": "W005RR5Zbxx5"
      }
    }
  ]
}