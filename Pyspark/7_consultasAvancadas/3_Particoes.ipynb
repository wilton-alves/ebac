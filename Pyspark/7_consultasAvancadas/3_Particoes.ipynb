{
  "nbformat": 4,
  "nbformat_minor": 0,
  "metadata": {
    "colab": {
      "provenance": []
    },
    "kernelspec": {
      "name": "python3",
      "display_name": "Python 3"
    },
    "language_info": {
      "name": "python"
    }
  },
  "cells": [
    {
      "cell_type": "code",
      "execution_count": 1,
      "metadata": {
        "colab": {
          "base_uri": "https://localhost:8080/"
        },
        "id": "dMc5ANA9HROQ",
        "outputId": "a521f2ef-a982-4773-cec9-be8659c84c8d"
      },
      "outputs": [
        {
          "output_type": "stream",
          "name": "stdout",
          "text": [
            "Requirement already satisfied: pyspark in /usr/local/lib/python3.11/dist-packages (3.5.1)\n",
            "Requirement already satisfied: py4j==0.10.9.7 in /usr/local/lib/python3.11/dist-packages (from pyspark) (0.10.9.7)\n"
          ]
        }
      ],
      "source": [
        "! pip install pyspark"
      ]
    },
    {
      "cell_type": "code",
      "source": [
        "import pyspark\n",
        "from pyspark.sql import SparkSession"
      ],
      "metadata": {
        "id": "QjrHT4kmHtOw"
      },
      "execution_count": 2,
      "outputs": []
    },
    {
      "cell_type": "code",
      "source": [
        "spark = SparkSession.builder.getOrCreate()"
      ],
      "metadata": {
        "id": "rLbgmoGBH0rY"
      },
      "execution_count": 3,
      "outputs": []
    },
    {
      "cell_type": "code",
      "source": [
        "produtos = spark.read.csv('drive/MyDrive/Colab Notebooks/colab_ebac/spark_data/produtos.csv', header=True, inferSchema=True)\n",
        "vendedores = spark.read.csv('drive/MyDrive/Colab Notebooks/colab_ebac/spark_data/vendedores.csv', header=True, inferSchema=True)\n",
        "clientes = spark.read.csv('drive/MyDrive/Colab Notebooks/colab_ebac/spark_data/clientes.csv', header=True, inferSchema=True)\n",
        "itens_pedido = spark.read.csv('drive/MyDrive/Colab Notebooks/colab_ebac/spark_data/itens_pedido.csv', header=True, inferSchema=True)\n",
        "pagamentos_pedido = spark.read.csv('drive/MyDrive/Colab Notebooks/colab_ebac/spark_data/pagamentos_pedido.csv', header=True, inferSchema=True)\n",
        "avaliacoes_pedido = spark.read.csv('drive/MyDrive/Colab Notebooks/colab_ebac/spark_data/avaliacoes_pedido.csv', header=True, inferSchema=True)\n",
        "pedidos = spark.read.csv('drive/MyDrive/Colab Notebooks/colab_ebac/spark_data/pedidos.csv', header=True, inferSchema=True)"
      ],
      "metadata": {
        "id": "aE627VLiIEBr"
      },
      "execution_count": 4,
      "outputs": []
    },
    {
      "cell_type": "code",
      "source": [
        "rdd = spark.sparkContext.parallelize(range(100))\n",
        "print('Num. padrão de partições: ', rdd.getNumPartitions())"
      ],
      "metadata": {
        "colab": {
          "base_uri": "https://localhost:8080/"
        },
        "id": "NtPLWUbiIJOb",
        "outputId": "331beaf2-0941-4993-fa9f-893d8b6043eb"
      },
      "execution_count": 5,
      "outputs": [
        {
          "output_type": "stream",
          "name": "stdout",
          "text": [
            "Num. padrão de partições:  2\n"
          ]
        }
      ]
    },
    {
      "cell_type": "code",
      "source": [
        "rdd = spark.sparkContext.parallelize(range(100), 10)\n",
        "print('Num. de partições modificado: ', rdd.getNumPartitions())"
      ],
      "metadata": {
        "colab": {
          "base_uri": "https://localhost:8080/"
        },
        "id": "7DMmqNU7JYlf",
        "outputId": "5d6bf88b-7e63-45c6-fcbe-af6feddda49d"
      },
      "execution_count": 7,
      "outputs": [
        {
          "output_type": "stream",
          "name": "stdout",
          "text": [
            "Num. de partições modificado:  10\n"
          ]
        }
      ]
    },
    {
      "cell_type": "code",
      "source": [
        "reduce_rdd = rdd.coalesce(5)\n",
        "print('Num. de partições após coalesce: ', reduce_rdd.getNumPartitions())"
      ],
      "metadata": {
        "colab": {
          "base_uri": "https://localhost:8080/"
        },
        "id": "xNpKWAyaJk6-",
        "outputId": "638e9127-3dda-4c7d-9dd2-9812547a0ccf"
      },
      "execution_count": 10,
      "outputs": [
        {
          "output_type": "stream",
          "name": "stdout",
          "text": [
            "Num. de partições após coalesce:  5\n"
          ]
        }
      ]
    },
    {
      "cell_type": "code",
      "source": [
        "repartitioned_rdd = rdd.repartition(20)\n",
        "print('Num. de partições após repartition: ', repartitioned_rdd.getNumPartitions())"
      ],
      "metadata": {
        "colab": {
          "base_uri": "https://localhost:8080/"
        },
        "id": "nEeB9xonJuSO",
        "outputId": "dd8ffcb4-c85c-476f-8458-f795f3d473dd"
      },
      "execution_count": 11,
      "outputs": [
        {
          "output_type": "stream",
          "name": "stdout",
          "text": [
            "Num. de partições após repartition:  20\n"
          ]
        }
      ]
    },
    {
      "cell_type": "code",
      "source": [
        "print('Núm. de partições padrão da tabela Produtos: ', produtos.rdd.getNumPartitions())\n",
        "\n",
        "# Podemos definir a quantidade de partições já na leitura do arquivo:\n",
        "produtos = spark.read.csv('drive/MyDrive/Colab Notebooks/colab_ebac/spark_data/produtos.csv', header=True, inferSchema=True).repartition(5)\n",
        "print('Núm de partições definida na leitura: ', produtos.rdd.getNumPartitions())"
      ],
      "metadata": {
        "colab": {
          "base_uri": "https://localhost:8080/"
        },
        "id": "mxZQrRngKMQn",
        "outputId": "1425b475-e20a-4964-ee1f-3a402cb6e965"
      },
      "execution_count": 15,
      "outputs": [
        {
          "output_type": "stream",
          "name": "stdout",
          "text": [
            "Núm. de partições padrão da tabela Produtos:  5\n",
            "Núm de partições definida na leitura:  5\n"
          ]
        }
      ]
    },
    {
      "cell_type": "code",
      "source": [
        "# Ao analisar o DF, a depender da distribuição dos valores, pode ser interessante particioná-lo por um campo categórico específico\n",
        "print(produtos.select('categoria_produto').distinct().count())\n",
        "produtos.groupBy('categoria_produto').count().show()\n",
        "\n",
        "# Neste caso, não faz muito sentido particionar por categoria dado a discrepância da distribuição dos valores\n",
        "# mas apenas a título didático, poderíamos fazê-lo da seguinte forma:\n",
        "\n",
        "produtos_part_categoria = produtos.repartition('categoria_produto') # basta indicar o nome do campo na repartição\n",
        "print(produtos_part_categoria.rdd.getNumPartitions())\n",
        "# o catalyst é inteligente o suficiente para entender que essa repatição não faz sentido, então a tabela não será repartida"
      ],
      "metadata": {
        "colab": {
          "base_uri": "https://localhost:8080/"
        },
        "id": "DSjOtEaDK5Q2",
        "outputId": "9dc7b21a-cd63-4e31-e130-7d0cb94deb89"
      },
      "execution_count": 18,
      "outputs": [
        {
          "output_type": "stream",
          "name": "stdout",
          "text": [
            "74\n",
            "+--------------------+-----+\n",
            "|   categoria_produto|count|\n",
            "+--------------------+-----+\n",
            "|                 pcs|   30|\n",
            "|               bebes|  919|\n",
            "|           cine_foto|   28|\n",
            "|               artes|   55|\n",
            "|    moveis_decoracao| 2657|\n",
            "|construcao_ferram...|  400|\n",
            "|tablets_impressao...|    9|\n",
            "|   artigos_de_festas|   26|\n",
            "|fashion_roupa_mas...|   95|\n",
            "|    artigos_de_natal|   65|\n",
            "|          la_cuisine|   10|\n",
            "|              flores|   14|\n",
            "|     livros_tecnicos|  123|\n",
            "|                NULL|  610|\n",
            "|      telefonia_fixa|  116|\n",
            "|construcao_ferram...|   91|\n",
            "|          cool_stuff|  789|\n",
            "|    eletrodomesticos|  370|\n",
            "|   livros_importados|   31|\n",
            "|            pet_shop|  719|\n",
            "+--------------------+-----+\n",
            "only showing top 20 rows\n",
            "\n",
            "1\n"
          ]
        }
      ]
    },
    {
      "cell_type": "code",
      "source": [
        "# mesmo assim podemos 'forçar' a repartição atribuindo um valor arbitrário\n",
        "produtos_part_categoria = produtos.repartition(8, 'categoria_produto')\n",
        "print(produtos_part_categoria.rdd.getNumPartitions())\n",
        "\n",
        "# vamos ver a quantidade de registros que foi atribuída a cada partição:\n",
        "particoes = produtos_part_categoria.rdd.glom().map(len).collect()\n",
        "print('Número de registros por partição: ', particoes)"
      ],
      "metadata": {
        "colab": {
          "base_uri": "https://localhost:8080/"
        },
        "id": "8n1g6KcbNvxL",
        "outputId": "a8ef1105-df7a-4d15-c286-b68cd0c2ddc5"
      },
      "execution_count": 20,
      "outputs": [
        {
          "output_type": "stream",
          "name": "stdout",
          "text": [
            "8\n",
            "Número de registros por partição:  [6626, 1298, 5302, 6406, 5322, 3379, 692, 3926]\n"
          ]
        }
      ]
    },
    {
      "cell_type": "code",
      "source": [
        "# salvando com diferentes qtd de partições:"
      ],
      "metadata": {
        "id": "fAWytP2gO56q"
      },
      "execution_count": null,
      "outputs": []
    },
    {
      "cell_type": "code",
      "source": [
        "produtos.write.mode('overwrite').parquet('produtos_defaut_parquet')"
      ],
      "metadata": {
        "id": "R6-ToWX8PDNL"
      },
      "execution_count": 21,
      "outputs": []
    },
    {
      "cell_type": "code",
      "source": [
        "produtos.coalesce(1).write.mode('overwrite').parquet('produtos_coalesce_1')"
      ],
      "metadata": {
        "id": "Xgp9ndyJPOQr"
      },
      "execution_count": 22,
      "outputs": []
    },
    {
      "cell_type": "code",
      "source": [
        "produtos.repartition(10).write.mode('overwrite').parquet('produtos_repartition_10')"
      ],
      "metadata": {
        "id": "i0IJCxPkPnJb"
      },
      "execution_count": 23,
      "outputs": []
    },
    {
      "cell_type": "code",
      "source": [
        "produtos.write.mode('overwrite').partitionBy('categoria_produto').parquet('produtos_categoria_parquet')"
      ],
      "metadata": {
        "id": "-czGKxF_PmD6"
      },
      "execution_count": 24,
      "outputs": []
    },
    {
      "cell_type": "code",
      "source": [
        "spark.stop()"
      ],
      "metadata": {
        "id": "h0yEMl3mQKmr"
      },
      "execution_count": 25,
      "outputs": []
    }
  ]
}