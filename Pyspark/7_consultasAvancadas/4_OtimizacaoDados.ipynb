{
  "nbformat": 4,
  "nbformat_minor": 0,
  "metadata": {
    "colab": {
      "provenance": []
    },
    "kernelspec": {
      "name": "python3",
      "display_name": "Python 3"
    },
    "language_info": {
      "name": "python"
    }
  },
  "cells": [
    {
      "cell_type": "code",
      "execution_count": 1,
      "metadata": {
        "colab": {
          "base_uri": "https://localhost:8080/"
        },
        "id": "yztFG7W4roAL",
        "outputId": "20f37b9b-603f-4140-be1f-623173cc0412"
      },
      "outputs": [
        {
          "output_type": "stream",
          "name": "stdout",
          "text": [
            "Requirement already satisfied: pyspark in /usr/local/lib/python3.11/dist-packages (3.5.1)\n",
            "Requirement already satisfied: py4j==0.10.9.7 in /usr/local/lib/python3.11/dist-packages (from pyspark) (0.10.9.7)\n"
          ]
        }
      ],
      "source": [
        "! pip install pyspark"
      ]
    },
    {
      "cell_type": "code",
      "source": [
        "import pyspark\n",
        "import time\n",
        "\n",
        "from pyspark.sql import SparkSession\n",
        "from pyspark.sql.functions import *\n",
        "from pyspark.storagelevel import StorageLevel"
      ],
      "metadata": {
        "id": "HjyE0QPQsFQu"
      },
      "execution_count": 3,
      "outputs": []
    },
    {
      "cell_type": "code",
      "source": [
        "spark = SparkSession.builder.getOrCreate()"
      ],
      "metadata": {
        "id": "hxqeobuUsZxk"
      },
      "execution_count": 4,
      "outputs": []
    },
    {
      "cell_type": "code",
      "source": [
        "produtos = spark.read.csv('drive/MyDrive/Colab Notebooks/colab_ebac/spark_data/produtos.csv', header=True, inferSchema=True)\n",
        "vendedores = spark.read.csv('drive/MyDrive/Colab Notebooks/colab_ebac/spark_data/vendedores.csv', header=True, inferSchema=True)\n",
        "clientes = spark.read.csv('drive/MyDrive/Colab Notebooks/colab_ebac/spark_data/clientes.csv', header=True, inferSchema=True)\n",
        "itens_pedido = spark.read.csv('drive/MyDrive/Colab Notebooks/colab_ebac/spark_data/itens_pedido.csv', header=True, inferSchema=True)\n",
        "pagamentos_pedido = spark.read.csv('drive/MyDrive/Colab Notebooks/colab_ebac/spark_data/pagamentos_pedido.csv', header=True, inferSchema=True)\n",
        "avaliacoes_pedido = spark.read.csv('drive/MyDrive/Colab Notebooks/colab_ebac/spark_data/avaliacoes_pedido.csv', header=True, inferSchema=True)\n",
        "pedidos = spark.read.csv('drive/MyDrive/Colab Notebooks/colab_ebac/spark_data/pedidos.csv', header=True, inferSchema=True)"
      ],
      "metadata": {
        "id": "UvrFS3XqsgjU"
      },
      "execution_count": 5,
      "outputs": []
    },
    {
      "cell_type": "code",
      "source": [
        "clientes.show()\n",
        "pedidos.show()\n",
        "itens_pedido.show()\n",
        "pagamentos_pedido.show()"
      ],
      "metadata": {
        "colab": {
          "base_uri": "https://localhost:8080/"
        },
        "id": "D9VashGusnSL",
        "outputId": "4d2d8397-b136-4a82-e532-6860e3a865ab"
      },
      "execution_count": 6,
      "outputs": [
        {
          "output_type": "stream",
          "name": "stdout",
          "text": [
            "+--------------------+--------------------+-----------+--------------------+--------------+\n",
            "|          id_cliente|    id_unico_cliente|cep_cliente|      cidade_cliente|estado_cliente|\n",
            "+--------------------+--------------------+-----------+--------------------+--------------+\n",
            "|06b8999e2fba1a1fb...|861eff4711a542e4b...|      14409|              franca|            SP|\n",
            "|18955e83d337fd6b2...|290c77bc529b7ac93...|       9790|sao bernardo do c...|            SP|\n",
            "|4e7b3e00288586ebd...|060e732b5b29e8181...|       1151|           sao paulo|            SP|\n",
            "|b2b6027bc5c5109e5...|259dac757896d24d7...|       8775|     mogi das cruzes|            SP|\n",
            "|4f2d8ab171c80ec83...|345ecd01c38d18a90...|      13056|            campinas|            SP|\n",
            "|879864dab9bc30475...|4c93744516667ad3b...|      89254|      jaragua do sul|            SC|\n",
            "|fd826e7cf63160e53...|addec96d2e059c80c...|       4534|           sao paulo|            SP|\n",
            "|5e274e7a0c3809e14...|57b2a98a409812fe9...|      35182|             timoteo|            MG|\n",
            "|5adf08e34b2e99398...|1175e95fb47ddff9d...|      81560|            curitiba|            PR|\n",
            "|4b7139f34592b3a31...|9afe194fb833f79e3...|      30575|      belo horizonte|            MG|\n",
            "|9fb35e4ed6f0a14a4...|2a7745e1ed516b289...|      39400|       montes claros|            MG|\n",
            "|5aa9e4fdd4dfd2095...|2a46fb94aef5cbeeb...|      20231|      rio de janeiro|            RJ|\n",
            "|b2d1536598b73a9ab...|918dc87cd72cd9f6e...|      18682|    lencois paulista|            SP|\n",
            "|eabebad39a88bb6f5...|295c05e81917928d7...|       5704|           sao paulo|            SP|\n",
            "|1f1c7bf1c9b041b29...|3151a81801c838636...|      95110|       caxias do sul|            RS|\n",
            "|206f3129c0e4d7d0b...|21f748a16f4e1688a...|      13412|          piracicaba|            SP|\n",
            "|a7c125a0a07b75146...|5c2991dbd08bbf3cf...|      22750|      rio de janeiro|            RJ|\n",
            "|c5c61596a3b6bd0ce...|b6e99561fe6f34a55...|       7124|           guarulhos|            SP|\n",
            "|9b8ce803689b3562d...|7f3a72e8f988c6e73...|       5416|           sao paulo|            SP|\n",
            "|49d0ea0986edde72d...|3e6fd6b2f0d499456...|      68485|              pacaja|            PA|\n",
            "+--------------------+--------------------+-----------+--------------------+--------------+\n",
            "only showing top 20 rows\n",
            "\n",
            "+--------------------+--------------------+-------------+-------------------+---------------------+-------------------------+--------------------+---------------------+\n",
            "|           id_pedido|          id_cliente|status_pedido| data_compra_pedido|data_aprovacao_pedido|data_envio_transportadora|data_entrega_cliente|data_estimada_entrega|\n",
            "+--------------------+--------------------+-------------+-------------------+---------------------+-------------------------+--------------------+---------------------+\n",
            "|e481f51cbdc54678b...|9ef432eb625129730...|    delivered|2017-10-02 10:56:33|  2017-10-02 11:07:15|      2017-10-04 19:55:00| 2017-10-10 21:25:13|  2017-10-18 00:00:00|\n",
            "|53cdb2fc8bc7dce0b...|b0830fb4747a6c6d2...|    delivered|2018-07-24 20:41:37|  2018-07-26 03:24:27|      2018-07-26 14:31:00| 2018-08-07 15:27:45|  2018-08-13 00:00:00|\n",
            "|47770eb9100c2d0c4...|41ce2a54c0b03bf34...|    delivered|2018-08-08 08:38:49|  2018-08-08 08:55:23|      2018-08-08 13:50:00| 2018-08-17 18:06:29|  2018-09-04 00:00:00|\n",
            "|949d5b44dbf5de918...|f88197465ea7920ad...|    delivered|2017-11-18 19:28:06|  2017-11-18 19:45:59|      2017-11-22 13:39:59| 2017-12-02 00:28:42|  2017-12-15 00:00:00|\n",
            "|ad21c59c0840e6cb8...|8ab97904e6daea886...|    delivered|2018-02-13 21:18:39|  2018-02-13 22:20:29|      2018-02-14 19:46:34| 2018-02-16 18:17:02|  2018-02-26 00:00:00|\n",
            "|a4591c265e18cb1dc...|503740e9ca751ccdd...|    delivered|2017-07-09 21:57:05|  2017-07-09 22:10:13|      2017-07-11 14:58:04| 2017-07-26 10:57:55|  2017-08-01 00:00:00|\n",
            "|136cce7faa42fdb2c...|ed0271e0b7da060a3...|     invoiced|2017-04-11 12:22:08|  2017-04-13 13:25:17|                     NULL|                NULL|  2017-05-09 00:00:00|\n",
            "|6514b8ad8028c9f2c...|9bdf08b4b3b52b552...|    delivered|2017-05-16 13:10:30|  2017-05-16 13:22:11|      2017-05-22 10:07:46| 2017-05-26 12:55:51|  2017-06-07 00:00:00|\n",
            "|76c6e866289321a7c...|f54a9f0e6b351c431...|    delivered|2017-01-23 18:29:09|  2017-01-25 02:50:47|      2017-01-26 14:16:31| 2017-02-02 14:08:10|  2017-03-06 00:00:00|\n",
            "|e69bfb5eb88e0ed6a...|31ad1d1b63eb99624...|    delivered|2017-07-29 11:55:02|  2017-07-29 12:05:32|      2017-08-10 19:45:24| 2017-08-16 17:14:30|  2017-08-23 00:00:00|\n",
            "|e6ce16cb79ec1d90b...|494dded5b201313c6...|    delivered|2017-05-16 19:41:10|  2017-05-16 19:50:18|      2017-05-18 11:40:40| 2017-05-29 11:18:31|  2017-06-07 00:00:00|\n",
            "|34513ce0c4fab462a...|7711cf624183d843a...|    delivered|2017-07-13 19:58:11|  2017-07-13 20:10:08|      2017-07-14 18:43:29| 2017-07-19 14:04:48|  2017-08-08 00:00:00|\n",
            "|82566a660a982b15f...|d3e3b74c766bc6214...|    delivered|2018-06-07 10:06:19|  2018-06-09 03:13:12|      2018-06-11 13:29:00| 2018-06-19 12:05:52|  2018-07-18 00:00:00|\n",
            "|5ff96c15d0b717ac6...|19402a48fe860416a...|    delivered|2018-07-25 17:44:10|  2018-07-25 17:55:14|      2018-07-26 13:16:00| 2018-07-30 15:52:25|  2018-08-08 00:00:00|\n",
            "|432aaf21d85167c2c...|3df704f53d3f1d481...|    delivered|2018-03-01 14:14:28|  2018-03-01 15:10:47|      2018-03-02 21:09:20| 2018-03-12 23:36:26|  2018-03-21 00:00:00|\n",
            "|dcb36b511fcac050b...|3b6828a50ffe54694...|    delivered|2018-06-07 19:03:12|  2018-06-12 23:31:02|      2018-06-11 14:54:00| 2018-06-21 15:34:32|  2018-07-04 00:00:00|\n",
            "|403b97836b0c04a62...|738b086814c6fcc74...|    delivered|2018-01-02 19:00:43|  2018-01-02 19:09:04|      2018-01-03 18:19:09| 2018-01-20 01:38:59|  2018-02-06 00:00:00|\n",
            "|116f0b09343b49556...|3187789bec9909876...|    delivered|2017-12-26 23:41:31|  2017-12-26 23:50:22|      2017-12-28 18:33:05| 2018-01-08 22:36:36|  2018-01-29 00:00:00|\n",
            "|85ce859fd6dc634de...|059f7fc5719c7da6c...|    delivered|2017-11-21 00:03:41|  2017-11-21 00:14:22|      2017-11-23 21:32:26| 2017-11-27 18:28:00|  2017-12-11 00:00:00|\n",
            "|83018ec114eee8641...|7f8c8b9c2ae27bf33...|    delivered|2017-10-26 15:54:26|  2017-10-26 16:08:14|      2017-10-26 21:46:53| 2017-11-08 22:22:00|  2017-11-23 00:00:00|\n",
            "+--------------------+--------------------+-------------+-------------------+---------------------+-------------------------+--------------------+---------------------+\n",
            "only showing top 20 rows\n",
            "\n",
            "+--------------------+--------------+--------------------+--------------------+-------------------+------+-----------+\n",
            "|           id_pedido|item_id_pedido|          id_produto|         id_vendedor|  data_limite_envio| preco|valor_frete|\n",
            "+--------------------+--------------+--------------------+--------------------+-------------------+------+-----------+\n",
            "|00010242fe8c5a6d1...|             1|4244733e06e7ecb49...|48436dade18ac8b2b...|2017-09-19 09:45:35|  58.9|      13.29|\n",
            "|00018f77f2f0320c5...|             1|e5f2d52b802189ee6...|dd7ddc04e1b6c2c61...|2017-05-03 11:05:13| 239.9|      19.93|\n",
            "|000229ec398224ef6...|             1|c777355d18b72b67a...|5b51032eddd242adc...|2018-01-18 14:48:30| 199.0|      17.87|\n",
            "|00024acbcdf0a6daa...|             1|7634da152a4610f15...|9d7a1d34a50524090...|2018-08-15 10:10:18| 12.99|      12.79|\n",
            "|00042b26cf59d7ce6...|             1|ac6c3623068f30de0...|df560393f3a51e745...|2017-02-13 13:57:51| 199.9|      18.14|\n",
            "|00048cc3ae777c65d...|             1|ef92defde845ab845...|6426d21aca402a131...|2017-05-23 03:55:27|  21.9|      12.69|\n",
            "|00054e8431b9d7675...|             1|8d4f2bb7e93e6710a...|7040e82f899a04d1b...|2017-12-14 12:10:31|  19.9|      11.85|\n",
            "|000576fe39319847c...|             1|557d850972a7d6f79...|5996cddab893a4652...|2018-07-10 12:30:45| 810.0|      70.75|\n",
            "|0005a1a1728c9d785...|             1|310ae3c140ff94b03...|a416b6a846a117243...|2018-03-26 18:31:29|145.95|      11.65|\n",
            "|0005f50442cb953dc...|             1|4535b0e1091c278df...|ba143b05f0110f0dc...|2018-07-06 14:10:56| 53.99|       11.4|\n",
            "|00061f2a7bc09da83...|             1|d63c1011f49d98b97...|cc419e0650a3c5ba7...|2018-03-29 22:28:09| 59.99|       8.88|\n",
            "|00063b381e2406b52...|             1|f177554ea93259a5b...|8602a61d680a10a82...|2018-07-31 17:30:39|  45.0|      12.98|\n",
            "|0006ec9db01a64e59...|             1|99a4788cb24856965...|4a3ca9315b744ce9f...|2018-07-26 17:24:20|  74.0|      23.32|\n",
            "|0008288aa423d2a3f...|             1|368c6c730842d7801...|1f50f920176fa81da...|2018-02-21 02:55:52|  49.9|      13.37|\n",
            "|0008288aa423d2a3f...|             2|368c6c730842d7801...|1f50f920176fa81da...|2018-02-21 02:55:52|  49.9|      13.37|\n",
            "|0009792311464db53...|             1|8cab8abac59158715...|530ec6109d11eaaf8...|2018-08-17 12:15:10|  99.9|      27.65|\n",
            "|0009c9a17f916a706...|             1|3f27ac8e699df3d30...|fcb5ace8bcc92f757...|2018-05-02 09:31:53| 639.0|      11.34|\n",
            "|000aed2e25dbad2f9...|             1|4fa33915031a8cde0...|fe2032dab1a61af87...|2018-05-16 20:57:03| 144.0|       8.77|\n",
            "|000c3e6612759851c...|             1|b50c950aba0dcead2...|218d46b86c1881d02...|2017-08-21 03:33:13|  99.0|      13.71|\n",
            "|000e562887b1f2006...|             1|5ed9eaf534f6936b5...|8cbac7e12637ed9cf...|2018-02-28 12:08:37|  25.0|      16.11|\n",
            "+--------------------+--------------+--------------------+--------------------+-------------------+------+-----------+\n",
            "only showing top 20 rows\n",
            "\n",
            "+--------------------+-------------------+--------------+------------------+---------------+\n",
            "|           id_pedido|sequencia_pagamento|tipo_pagamento|parcelas_pagamento|valor_pagamento|\n",
            "+--------------------+-------------------+--------------+------------------+---------------+\n",
            "|b81ef226f3fe1789b...|                  1|   credit_card|                 8|          99.33|\n",
            "|a9810da82917af2d9...|                  1|   credit_card|                 1|          24.39|\n",
            "|25e8ea4e93396b6fa...|                  1|   credit_card|                 1|          65.71|\n",
            "|ba78997921bbcdc13...|                  1|   credit_card|                 8|         107.78|\n",
            "|42fdf880ba16b47b5...|                  1|   credit_card|                 2|         128.45|\n",
            "|298fcdf1f73eb413e...|                  1|   credit_card|                 2|          96.12|\n",
            "|771ee386b001f0620...|                  1|   credit_card|                 1|          81.16|\n",
            "|3d7239c394a212faa...|                  1|   credit_card|                 3|          51.84|\n",
            "|1f78449c87a54faf9...|                  1|   credit_card|                 6|         341.09|\n",
            "|0573b5e23cbd79800...|                  1|        boleto|                 1|          51.95|\n",
            "|d88e0d5fa41661ce0...|                  1|   credit_card|                 8|         188.73|\n",
            "|2480f727e869fdeb3...|                  1|   credit_card|                 1|          141.9|\n",
            "|616105c9352a9668c...|                  1|   credit_card|                 1|          75.78|\n",
            "|cf95215a722f3ebf2...|                  1|   credit_card|                 5|         102.66|\n",
            "|769214176682788a9...|                  1|   credit_card|                 4|         105.28|\n",
            "|12e5cfe0e4716b59a...|                  1|   credit_card|                10|         157.45|\n",
            "|61059985a6fc0ad64...|                  1|   credit_card|                 1|         132.04|\n",
            "|79da3f5fe31ad1e45...|                  1|   credit_card|                 1|          98.94|\n",
            "|8ac09207f415d55ac...|                  1|   credit_card|                 4|         244.15|\n",
            "|b2349a3f20dfbeef6...|                  1|   credit_card|                 3|         136.71|\n",
            "+--------------------+-------------------+--------------+------------------+---------------+\n",
            "only showing top 20 rows\n",
            "\n"
          ]
        }
      ]
    },
    {
      "cell_type": "code",
      "source": [
        "clientes.createOrReplaceTempView('clientes')\n",
        "spark.sql('CACHE TABLE clientes')\n",
        "spark.sql('SELECT COUNT(*) FROM clientes').show()\n",
        "spark.sql('UNCACHE TABLE clientes')"
      ],
      "metadata": {
        "colab": {
          "base_uri": "https://localhost:8080/"
        },
        "id": "WHiis80Rs0Kr",
        "outputId": "0865ef88-4c5b-4121-d5bb-c0ef01c6e2da"
      },
      "execution_count": 7,
      "outputs": [
        {
          "output_type": "stream",
          "name": "stdout",
          "text": [
            "+--------+\n",
            "|count(1)|\n",
            "+--------+\n",
            "|   99441|\n",
            "+--------+\n",
            "\n"
          ]
        },
        {
          "output_type": "execute_result",
          "data": {
            "text/plain": [
              "DataFrame[]"
            ]
          },
          "metadata": {},
          "execution_count": 7
        }
      ]
    },
    {
      "cell_type": "code",
      "source": [
        "clientes.cache() # = persist(StorageLevel.MEMORY_AND_DISK)\n",
        "\n",
        "clientes_estado_sp_df = clientes.filter(clientes.estado_cliente == 'SP')\n",
        "clientes_estado_sp_df.show()\n",
        "\n",
        "clientes.unpersist()"
      ],
      "metadata": {
        "colab": {
          "base_uri": "https://localhost:8080/"
        },
        "id": "YLSVR6BvttM5",
        "outputId": "a4be11f7-b1de-41a9-a2e7-90650a58cb7e"
      },
      "execution_count": 8,
      "outputs": [
        {
          "output_type": "stream",
          "name": "stdout",
          "text": [
            "+--------------------+--------------------+-----------+--------------------+--------------+\n",
            "|          id_cliente|    id_unico_cliente|cep_cliente|      cidade_cliente|estado_cliente|\n",
            "+--------------------+--------------------+-----------+--------------------+--------------+\n",
            "|06b8999e2fba1a1fb...|861eff4711a542e4b...|      14409|              franca|            SP|\n",
            "|18955e83d337fd6b2...|290c77bc529b7ac93...|       9790|sao bernardo do c...|            SP|\n",
            "|4e7b3e00288586ebd...|060e732b5b29e8181...|       1151|           sao paulo|            SP|\n",
            "|b2b6027bc5c5109e5...|259dac757896d24d7...|       8775|     mogi das cruzes|            SP|\n",
            "|4f2d8ab171c80ec83...|345ecd01c38d18a90...|      13056|            campinas|            SP|\n",
            "|fd826e7cf63160e53...|addec96d2e059c80c...|       4534|           sao paulo|            SP|\n",
            "|b2d1536598b73a9ab...|918dc87cd72cd9f6e...|      18682|    lencois paulista|            SP|\n",
            "|eabebad39a88bb6f5...|295c05e81917928d7...|       5704|           sao paulo|            SP|\n",
            "|206f3129c0e4d7d0b...|21f748a16f4e1688a...|      13412|          piracicaba|            SP|\n",
            "|c5c61596a3b6bd0ce...|b6e99561fe6f34a55...|       7124|           guarulhos|            SP|\n",
            "|9b8ce803689b3562d...|7f3a72e8f988c6e73...|       5416|           sao paulo|            SP|\n",
            "|2938121a40a20953c...|482441ea6a06b1f72...|       5713|           sao paulo|            SP|\n",
            "|cb721d7b4f271fd87...|a5844ba4bfc8d0cc6...|       8225|           sao paulo|            SP|\n",
            "|f681356046d9fde60...|5f102dd37243f152a...|       9121|         santo andre|            SP|\n",
            "|6e359a57a91f84095...|2e6a42a9b5cbb0da6...|       4571|           sao paulo|            SP|\n",
            "|e3109970a3fe8021d...|a8654e2af5da6bb72...|       5528|           sao paulo|            SP|\n",
            "|261cb4f92498ca05d...|424aca6872c5bab80...|      12235| sao jose dos campos|            SP|\n",
            "|6f92779347724b67e...|bf4862777db128507...|      18130|           sao roque|            SP|\n",
            "|df0aa5b8586495e0d...|85d234692f7bee8d6...|      13175|              sumare|            SP|\n",
            "|41c8f4b5708697913...|fe3634ccefbcdb053...|       7170|           guarulhos|            SP|\n",
            "+--------------------+--------------------+-----------+--------------------+--------------+\n",
            "only showing top 20 rows\n",
            "\n"
          ]
        },
        {
          "output_type": "execute_result",
          "data": {
            "text/plain": [
              "DataFrame[id_cliente: string, id_unico_cliente: string, cep_cliente: int, cidade_cliente: string, estado_cliente: string]"
            ]
          },
          "metadata": {},
          "execution_count": 8
        }
      ]
    },
    {
      "cell_type": "code",
      "source": [
        "'''\n",
        "Utilizar o broadcast somente quando se deseja compartilhar uma variável pequena\n",
        "e imutável (como um DataFrame ou dicionário pequeno) com todos os nós de trabalho (workers)\n",
        "de forma eficiente. Isso evita que o Spark envie essa variável repetidamente a cada tarefa,\n",
        "economizando largura de banda e tempo de execução.\n",
        "'''\n",
        "\n",
        "print(itens_pedido.count())\n",
        "print(pedidos.count())\n",
        "\n",
        "small_pedidos_df = broadcast(pedidos)\n",
        "\n",
        "broadcast_data = itens_pedido.join(small_pedidos_df, on='id_pedido')\n",
        "broadcast_data.show()"
      ],
      "metadata": {
        "colab": {
          "base_uri": "https://localhost:8080/"
        },
        "id": "dk8ap1py5p5v",
        "outputId": "0c407b49-51fb-44db-af81-edd89839e400"
      },
      "execution_count": 9,
      "outputs": [
        {
          "output_type": "stream",
          "name": "stdout",
          "text": [
            "112650\n",
            "99441\n",
            "+--------------------+--------------+--------------------+--------------------+-------------------+------+-----------+--------------------+-------------+-------------------+---------------------+-------------------------+--------------------+---------------------+\n",
            "|           id_pedido|item_id_pedido|          id_produto|         id_vendedor|  data_limite_envio| preco|valor_frete|          id_cliente|status_pedido| data_compra_pedido|data_aprovacao_pedido|data_envio_transportadora|data_entrega_cliente|data_estimada_entrega|\n",
            "+--------------------+--------------+--------------------+--------------------+-------------------+------+-----------+--------------------+-------------+-------------------+---------------------+-------------------------+--------------------+---------------------+\n",
            "|00010242fe8c5a6d1...|             1|4244733e06e7ecb49...|48436dade18ac8b2b...|2017-09-19 09:45:35|  58.9|      13.29|3ce436f183e68e078...|    delivered|2017-09-13 08:59:02|  2017-09-13 09:45:35|      2017-09-19 18:34:16| 2017-09-20 23:43:48|  2017-09-29 00:00:00|\n",
            "|00018f77f2f0320c5...|             1|e5f2d52b802189ee6...|dd7ddc04e1b6c2c61...|2017-05-03 11:05:13| 239.9|      19.93|f6dd3ec061db4e398...|    delivered|2017-04-26 10:53:06|  2017-04-26 11:05:13|      2017-05-04 14:35:00| 2017-05-12 16:04:24|  2017-05-15 00:00:00|\n",
            "|000229ec398224ef6...|             1|c777355d18b72b67a...|5b51032eddd242adc...|2018-01-18 14:48:30| 199.0|      17.87|6489ae5e4333f3693...|    delivered|2018-01-14 14:33:31|  2018-01-14 14:48:30|      2018-01-16 12:36:48| 2018-01-22 13:19:16|  2018-02-05 00:00:00|\n",
            "|00024acbcdf0a6daa...|             1|7634da152a4610f15...|9d7a1d34a50524090...|2018-08-15 10:10:18| 12.99|      12.79|d4eb9395c8c0431ee...|    delivered|2018-08-08 10:00:35|  2018-08-08 10:10:18|      2018-08-10 13:28:00| 2018-08-14 13:32:39|  2018-08-20 00:00:00|\n",
            "|00042b26cf59d7ce6...|             1|ac6c3623068f30de0...|df560393f3a51e745...|2017-02-13 13:57:51| 199.9|      18.14|58dbd0b2d70206bf4...|    delivered|2017-02-04 13:57:51|  2017-02-04 14:10:13|      2017-02-16 09:46:09| 2017-03-01 16:42:31|  2017-03-17 00:00:00|\n",
            "|00048cc3ae777c65d...|             1|ef92defde845ab845...|6426d21aca402a131...|2017-05-23 03:55:27|  21.9|      12.69|816cbea969fe5b689...|    delivered|2017-05-15 21:42:34|  2017-05-17 03:55:27|      2017-05-17 11:05:55| 2017-05-22 13:44:35|  2017-06-06 00:00:00|\n",
            "|00054e8431b9d7675...|             1|8d4f2bb7e93e6710a...|7040e82f899a04d1b...|2017-12-14 12:10:31|  19.9|      11.85|32e2e6ab09e778d99...|    delivered|2017-12-10 11:53:48|  2017-12-10 12:10:31|      2017-12-12 01:07:48| 2017-12-18 22:03:38|  2018-01-04 00:00:00|\n",
            "|000576fe39319847c...|             1|557d850972a7d6f79...|5996cddab893a4652...|2018-07-10 12:30:45| 810.0|      70.75|9ed5e522dd9dd85b4...|    delivered|2018-07-04 12:08:27|  2018-07-05 16:35:48|      2018-07-05 12:15:00| 2018-07-09 14:04:07|  2018-07-25 00:00:00|\n",
            "|0005a1a1728c9d785...|             1|310ae3c140ff94b03...|a416b6a846a117243...|2018-03-26 18:31:29|145.95|      11.65|16150771dfd477626...|    delivered|2018-03-19 18:40:33|  2018-03-20 18:35:21|      2018-03-28 00:37:42| 2018-03-29 18:17:31|  2018-03-29 00:00:00|\n",
            "|0005f50442cb953dc...|             1|4535b0e1091c278df...|ba143b05f0110f0dc...|2018-07-06 14:10:56| 53.99|       11.4|351d3cb2cee3c7fd0...|    delivered|2018-07-02 13:59:39|  2018-07-02 14:10:56|      2018-07-03 14:25:00| 2018-07-04 17:28:31|  2018-07-23 00:00:00|\n",
            "|00061f2a7bc09da83...|             1|d63c1011f49d98b97...|cc419e0650a3c5ba7...|2018-03-29 22:28:09| 59.99|       8.88|c6fc061d86fab1e2b...|    delivered|2018-03-24 22:16:10|  2018-03-24 22:28:09|      2018-03-27 05:26:55| 2018-03-29 00:04:19|  2018-04-09 00:00:00|\n",
            "|00063b381e2406b52...|             1|f177554ea93259a5b...|8602a61d680a10a82...|2018-07-31 17:30:39|  45.0|      12.98|6a899e55865de6549...|    delivered|2018-07-27 17:21:27|  2018-07-27 18:00:06|      2018-07-30 14:52:00| 2018-08-07 13:56:52|  2018-08-07 00:00:00|\n",
            "|0006ec9db01a64e59...|             1|99a4788cb24856965...|4a3ca9315b744ce9f...|2018-07-26 17:24:20|  74.0|      23.32|5d178120c29c61748...|    delivered|2018-07-24 17:04:17|  2018-07-24 17:24:20|      2018-07-25 11:02:00| 2018-07-31 01:04:15|  2018-08-22 00:00:00|\n",
            "|0008288aa423d2a3f...|             1|368c6c730842d7801...|1f50f920176fa81da...|2018-02-21 02:55:52|  49.9|      13.37|2355af7c75e7c98b4...|    delivered|2018-02-13 22:10:21|  2018-02-15 03:55:52|      2018-02-20 18:23:28| 2018-02-26 13:55:22|  2018-03-06 00:00:00|\n",
            "|0008288aa423d2a3f...|             2|368c6c730842d7801...|1f50f920176fa81da...|2018-02-21 02:55:52|  49.9|      13.37|2355af7c75e7c98b4...|    delivered|2018-02-13 22:10:21|  2018-02-15 03:55:52|      2018-02-20 18:23:28| 2018-02-26 13:55:22|  2018-03-06 00:00:00|\n",
            "|0009792311464db53...|             1|8cab8abac59158715...|530ec6109d11eaaf8...|2018-08-17 12:15:10|  99.9|      27.65|2a30c97668e81df7c...|    delivered|2018-08-14 20:43:09|  2018-08-15 12:15:10|      2018-08-15 15:28:00| 2018-08-22 12:02:27|  2018-08-28 00:00:00|\n",
            "|0009c9a17f916a706...|             1|3f27ac8e699df3d30...|fcb5ace8bcc92f757...|2018-05-02 09:31:53| 639.0|      11.34|8a250edc40ebc5c39...|    delivered|2018-04-25 09:10:41|  2018-04-25 09:33:19|      2018-04-27 15:14:00| 2018-04-30 17:54:25|  2018-05-09 00:00:00|\n",
            "|000aed2e25dbad2f9...|             1|4fa33915031a8cde0...|fe2032dab1a61af87...|2018-05-16 20:57:03| 144.0|       8.77|fff5169e583fd07fa...|    delivered|2018-05-11 20:33:38|  2018-05-11 20:57:03|      2018-05-16 14:26:00| 2018-05-18 16:46:31|  2018-05-22 00:00:00|\n",
            "|000c3e6612759851c...|             1|b50c950aba0dcead2...|218d46b86c1881d02...|2017-08-21 03:33:13|  99.0|      13.71|3773bcf1a6fbd2923...|    delivered|2017-08-12 10:08:57|  2017-08-15 03:35:32|      2017-08-15 15:32:51| 2017-08-19 15:22:17|  2017-09-01 00:00:00|\n",
            "|000e562887b1f2006...|             1|5ed9eaf534f6936b5...|8cbac7e12637ed9cf...|2018-02-28 12:08:37|  25.0|      16.11|2b01d668726fb0b75...|    delivered|2018-02-22 11:54:42|  2018-02-22 12:08:37|      2018-02-26 14:18:32| 2018-03-12 18:46:34|  2018-03-19 00:00:00|\n",
            "+--------------------+--------------+--------------------+--------------------+-------------------+------+-----------+--------------------+-------------+-------------------+---------------------+-------------------------+--------------------+---------------------+\n",
            "only showing top 20 rows\n",
            "\n"
          ]
        }
      ]
    },
    {
      "cell_type": "code",
      "source": [
        "pagamento_medio_valor = pagamentos_pedido.agg(avg('valor_pagamento').alias('pagamento_medio')).collect()[0][0]\n",
        "pedidos_filtrados_df = pagamentos_pedido.filter(pagamentos_pedido.valor_pagamento > pagamento_medio_valor)\n",
        "\n",
        "pagamento_medio_df = pagamentos_pedido.select(avg('valor_pagamento').alias('pagamento_medio'))\n",
        "pedidos_filtrados_join_df = pagamentos_pedido.join(\n",
        "    pagamento_medio_df,\n",
        "    pagamentos_pedido.valor_pagamento > pagamento_medio_df.pagamento_medio\n",
        ").select(pagamentos_pedido['*'])\n",
        "\n",
        "pagamento_medio_df.show()\n",
        "pedidos_filtrados_join_df.show()"
      ],
      "metadata": {
        "colab": {
          "base_uri": "https://localhost:8080/"
        },
        "id": "D0UiKh337xGp",
        "outputId": "59ebbb83-f0f0-4a60-b3d5-de45d5bc802d"
      },
      "execution_count": 10,
      "outputs": [
        {
          "output_type": "stream",
          "name": "stdout",
          "text": [
            "+------------------+\n",
            "|   pagamento_medio|\n",
            "+------------------+\n",
            "|154.10038041698573|\n",
            "+------------------+\n",
            "\n",
            "+--------------------+-------------------+--------------+------------------+---------------+\n",
            "|           id_pedido|sequencia_pagamento|tipo_pagamento|parcelas_pagamento|valor_pagamento|\n",
            "+--------------------+-------------------+--------------+------------------+---------------+\n",
            "|1f78449c87a54faf9...|                  1|   credit_card|                 6|         341.09|\n",
            "|d88e0d5fa41661ce0...|                  1|   credit_card|                 8|         188.73|\n",
            "|12e5cfe0e4716b59a...|                  1|   credit_card|                10|         157.45|\n",
            "|8ac09207f415d55ac...|                  1|   credit_card|                 4|         244.15|\n",
            "|4214cda550ece8ee6...|                  1|   credit_card|                 2|         170.57|\n",
            "|4d680edbaa7d3d9be...|                  1|   credit_card|                10|         353.09|\n",
            "|8cd68144cdb62dc0d...|                  1|        boleto|                 1|         330.66|\n",
            "|d0a945f85ba1074b6...|                  1|   credit_card|                 2|          541.0|\n",
            "|5d9c5817e278892b7...|                  1|   credit_card|                 2|         290.16|\n",
            "|b69b9260e79a0da00...|                  1|        boleto|                 1|         283.34|\n",
            "|b2bb080b6bc860118...|                  1|   credit_card|                 1|         173.84|\n",
            "|1dcf0c8cd36ffaf57...|                  1|   credit_card|                 3|         157.15|\n",
            "|c10d412026c4077b8...|                  1|   credit_card|                 1|         266.16|\n",
            "|d574338f566ca28dd...|                  1|   credit_card|                 4|         278.22|\n",
            "|2e2c60b99754ae1e4...|                  1|   credit_card|                 4|         542.66|\n",
            "|1ffb3c1929b16d9c1...|                  1|        boleto|                 1|         166.04|\n",
            "|95442deb81a5d91c9...|                  1|        boleto|                 1|         368.98|\n",
            "|3ab4eea6776259ae8...|                  1|   credit_card|                 8|          387.8|\n",
            "|c108072ab31ec90a7...|                  1|   credit_card|                 4|         210.82|\n",
            "|110d9355d6338eab0...|                  1|   credit_card|                 5|          566.4|\n",
            "+--------------------+-------------------+--------------+------------------+---------------+\n",
            "only showing top 20 rows\n",
            "\n"
          ]
        }
      ]
    },
    {
      "cell_type": "code",
      "source": [
        "# utilizando o Explain para entender as diferenças nas etapas de execução entre os dois métodos:\n",
        "\n",
        "pagamento_medio_valor = pagamentos_pedido.agg(avg('valor_pagamento').alias('pagamento_medio')).collect()[0][0]\n",
        "pedidos_filtrados_df = pagamentos_pedido.filter(pagamentos_pedido.valor_pagamento > pagamento_medio_valor)\n",
        "\n",
        "print('Plano de Execução - Collect')\n",
        "pedidos_filtrados_df.explain()\n",
        "\n",
        "pagamento_medio_df = pagamentos_pedido.select(avg('valor_pagamento').alias('pagamento_medio'))\n",
        "pedidos_filtrados_join_df = pagamentos_pedido.join(\n",
        "    pagamento_medio_df,\n",
        "    pagamentos_pedido.valor_pagamento > pagamento_medio_df.pagamento_medio\n",
        ").select(pagamentos_pedido['*'])\n",
        "\n",
        "print('Plano de Execução - Join')\n",
        "pedidos_filtrados_join_df.explain()"
      ],
      "metadata": {
        "colab": {
          "base_uri": "https://localhost:8080/"
        },
        "id": "i95OYqXN-HbJ",
        "outputId": "86d69d6e-aa93-4492-9fbb-e621de514ffb"
      },
      "execution_count": 12,
      "outputs": [
        {
          "output_type": "stream",
          "name": "stdout",
          "text": [
            "Plano de Execução - Collect\n",
            "== Physical Plan ==\n",
            "*(1) Filter (isnotnull(valor_pagamento#139) AND (valor_pagamento#139 > 154.10038041698573))\n",
            "+- FileScan csv [id_pedido#135,sequencia_pagamento#136,tipo_pagamento#137,parcelas_pagamento#138,valor_pagamento#139] Batched: false, DataFilters: [isnotnull(valor_pagamento#139), (valor_pagamento#139 > 154.10038041698573)], Format: CSV, Location: InMemoryFileIndex(1 paths)[file:/content/drive/MyDrive/Colab Notebooks/colab_ebac/spark_data/paga..., PartitionFilters: [], PushedFilters: [IsNotNull(valor_pagamento), GreaterThan(valor_pagamento,154.10038041698573)], ReadSchema: struct<id_pedido:string,sequencia_pagamento:int,tipo_pagamento:string,parcelas_pagamento:int,valo...\n",
            "\n",
            "\n",
            "Plano de Execução - Join\n",
            "== Physical Plan ==\n",
            "AdaptiveSparkPlan isFinalPlan=false\n",
            "+- Project [id_pedido#135, sequencia_pagamento#136, tipo_pagamento#137, parcelas_pagamento#138, valor_pagamento#139]\n",
            "   +- BroadcastNestedLoopJoin BuildRight, Inner, (valor_pagamento#139 > pagamento_medio#1119)\n",
            "      :- Filter isnotnull(valor_pagamento#139)\n",
            "      :  +- FileScan csv [id_pedido#135,sequencia_pagamento#136,tipo_pagamento#137,parcelas_pagamento#138,valor_pagamento#139] Batched: false, DataFilters: [isnotnull(valor_pagamento#139)], Format: CSV, Location: InMemoryFileIndex(1 paths)[file:/content/drive/MyDrive/Colab Notebooks/colab_ebac/spark_data/paga..., PartitionFilters: [], PushedFilters: [IsNotNull(valor_pagamento)], ReadSchema: struct<id_pedido:string,sequencia_pagamento:int,tipo_pagamento:string,parcelas_pagamento:int,valo...\n",
            "      +- BroadcastExchange IdentityBroadcastMode, [plan_id=984]\n",
            "         +- Filter isnotnull(pagamento_medio#1119)\n",
            "            +- HashAggregate(keys=[], functions=[avg(valor_pagamento#1125)])\n",
            "               +- Exchange SinglePartition, ENSURE_REQUIREMENTS, [plan_id=980]\n",
            "                  +- HashAggregate(keys=[], functions=[partial_avg(valor_pagamento#1125)])\n",
            "                     +- FileScan csv [valor_pagamento#1125] Batched: false, DataFilters: [], Format: CSV, Location: InMemoryFileIndex(1 paths)[file:/content/drive/MyDrive/Colab Notebooks/colab_ebac/spark_data/paga..., PartitionFilters: [], PushedFilters: [], ReadSchema: struct<valor_pagamento:double>\n",
            "\n",
            "\n"
          ]
        }
      ]
    },
    {
      "cell_type": "code",
      "source": [
        "# Comparando a performance utilizando a função time:\n",
        "\n",
        "start_time = time.time()\n",
        "\n",
        "pagamento_medio_valor = pagamentos_pedido.agg(avg('valor_pagamento').alias('pagamento_medio')).collect()[0][0]\n",
        "pedidos_filtrados_df = pagamentos_pedido.filter(pagamentos_pedido.valor_pagamento > pagamento_medio_valor)\n",
        "\n",
        "end_time = time.time()\n",
        "print(f'Collect: {end_time - start_time}')\n",
        "\n",
        "start_time = time.time()\n",
        "\n",
        "pagamento_medio_df = pagamentos_pedido.select(avg('valor_pagamento').alias('pagamento_medio'))\n",
        "pedidos_filtrados_join_df = pagamentos_pedido.join(\n",
        "    pagamento_medio_df,\n",
        "    pagamentos_pedido.valor_pagamento > pagamento_medio_df.pagamento_medio\n",
        ").select(pagamentos_pedido['*'])\n",
        "\n",
        "end_time = time.time()\n",
        "print(f'Join: {end_time - start_time}')"
      ],
      "metadata": {
        "colab": {
          "base_uri": "https://localhost:8080/"
        },
        "id": "bhJ69xe7AE8U",
        "outputId": "e95bea23-5f52-41a7-e978-f17fdbf5c2bc"
      },
      "execution_count": 16,
      "outputs": [
        {
          "output_type": "stream",
          "name": "stdout",
          "text": [
            "Collect: 0.37997913360595703\n",
            "Join: 0.03263139724731445\n"
          ]
        }
      ]
    },
    {
      "cell_type": "code",
      "source": [
        "spark.stop()"
      ],
      "metadata": {
        "id": "5z2lNuLdD6Eh"
      },
      "execution_count": 17,
      "outputs": []
    }
  ]
}